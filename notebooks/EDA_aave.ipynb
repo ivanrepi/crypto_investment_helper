{
 "cells": [
  {
   "cell_type": "code",
   "execution_count": 36,
   "source": [
    "import pandas as pd\n",
    "import numpy as np\n",
    "import matplotlib.pyplot as plt\n",
    "import plotly.express as px\n",
    "import seaborn as sns"
   ],
   "outputs": [],
   "metadata": {}
  },
  {
   "cell_type": "code",
   "execution_count": 18,
   "source": [
    "import sqlite3\n",
    "conn = sqlite3.connect('../data/hist_prices.db')\n",
    "c = conn.cursor()"
   ],
   "outputs": [],
   "metadata": {}
  },
  {
   "cell_type": "code",
   "execution_count": 19,
   "source": [
    "data = pd.read_sql('''SELECT * FROM aave''', conn)\n",
    "data.head()"
   ],
   "outputs": [
    {
     "output_type": "execute_result",
     "data": {
      "text/html": [
       "<div>\n",
       "<style scoped>\n",
       "    .dataframe tbody tr th:only-of-type {\n",
       "        vertical-align: middle;\n",
       "    }\n",
       "\n",
       "    .dataframe tbody tr th {\n",
       "        vertical-align: top;\n",
       "    }\n",
       "\n",
       "    .dataframe thead th {\n",
       "        text-align: right;\n",
       "    }\n",
       "</style>\n",
       "<table border=\"1\" class=\"dataframe\">\n",
       "  <thead>\n",
       "    <tr style=\"text-align: right;\">\n",
       "      <th></th>\n",
       "      <th>SNo</th>\n",
       "      <th>Name</th>\n",
       "      <th>Symbol</th>\n",
       "      <th>Date</th>\n",
       "      <th>High</th>\n",
       "      <th>Low</th>\n",
       "      <th>Open</th>\n",
       "      <th>Close</th>\n",
       "      <th>Volume</th>\n",
       "      <th>Marketcap</th>\n",
       "    </tr>\n",
       "  </thead>\n",
       "  <tbody>\n",
       "    <tr>\n",
       "      <th>0</th>\n",
       "      <td>1</td>\n",
       "      <td>Aave</td>\n",
       "      <td>AAVE</td>\n",
       "      <td>2020-10-05 23:59:59</td>\n",
       "      <td>55.112358</td>\n",
       "      <td>49.787900</td>\n",
       "      <td>52.675035</td>\n",
       "      <td>53.219243</td>\n",
       "      <td>0.000000e+00</td>\n",
       "      <td>8.912813e+07</td>\n",
       "    </tr>\n",
       "    <tr>\n",
       "      <th>1</th>\n",
       "      <td>2</td>\n",
       "      <td>Aave</td>\n",
       "      <td>AAVE</td>\n",
       "      <td>2020-10-06 23:59:59</td>\n",
       "      <td>53.402270</td>\n",
       "      <td>40.734578</td>\n",
       "      <td>53.291969</td>\n",
       "      <td>42.401599</td>\n",
       "      <td>5.830915e+05</td>\n",
       "      <td>7.101144e+07</td>\n",
       "    </tr>\n",
       "    <tr>\n",
       "      <th>2</th>\n",
       "      <td>3</td>\n",
       "      <td>Aave</td>\n",
       "      <td>AAVE</td>\n",
       "      <td>2020-10-07 23:59:59</td>\n",
       "      <td>42.408314</td>\n",
       "      <td>35.970690</td>\n",
       "      <td>42.399947</td>\n",
       "      <td>40.083976</td>\n",
       "      <td>6.828342e+05</td>\n",
       "      <td>6.713004e+07</td>\n",
       "    </tr>\n",
       "    <tr>\n",
       "      <th>3</th>\n",
       "      <td>4</td>\n",
       "      <td>Aave</td>\n",
       "      <td>AAVE</td>\n",
       "      <td>2020-10-08 23:59:59</td>\n",
       "      <td>44.902511</td>\n",
       "      <td>36.696057</td>\n",
       "      <td>39.885262</td>\n",
       "      <td>43.764463</td>\n",
       "      <td>1.658817e+06</td>\n",
       "      <td>2.202651e+08</td>\n",
       "    </tr>\n",
       "    <tr>\n",
       "      <th>4</th>\n",
       "      <td>5</td>\n",
       "      <td>Aave</td>\n",
       "      <td>AAVE</td>\n",
       "      <td>2020-10-09 23:59:59</td>\n",
       "      <td>47.569533</td>\n",
       "      <td>43.291776</td>\n",
       "      <td>43.764463</td>\n",
       "      <td>46.817744</td>\n",
       "      <td>8.155377e+05</td>\n",
       "      <td>2.356322e+08</td>\n",
       "    </tr>\n",
       "  </tbody>\n",
       "</table>\n",
       "</div>"
      ],
      "text/plain": [
       "   SNo  Name Symbol                 Date       High        Low       Open  \\\n",
       "0    1  Aave   AAVE  2020-10-05 23:59:59  55.112358  49.787900  52.675035   \n",
       "1    2  Aave   AAVE  2020-10-06 23:59:59  53.402270  40.734578  53.291969   \n",
       "2    3  Aave   AAVE  2020-10-07 23:59:59  42.408314  35.970690  42.399947   \n",
       "3    4  Aave   AAVE  2020-10-08 23:59:59  44.902511  36.696057  39.885262   \n",
       "4    5  Aave   AAVE  2020-10-09 23:59:59  47.569533  43.291776  43.764463   \n",
       "\n",
       "       Close        Volume     Marketcap  \n",
       "0  53.219243  0.000000e+00  8.912813e+07  \n",
       "1  42.401599  5.830915e+05  7.101144e+07  \n",
       "2  40.083976  6.828342e+05  6.713004e+07  \n",
       "3  43.764463  1.658817e+06  2.202651e+08  \n",
       "4  46.817744  8.155377e+05  2.356322e+08  "
      ]
     },
     "metadata": {},
     "execution_count": 19
    }
   ],
   "metadata": {}
  },
  {
   "cell_type": "code",
   "execution_count": 20,
   "source": [
    "# Add some more features derived from the exiting ones\n",
    "data['Range'] = data.High - data.Low\n",
    "data['Difference'] = data.Close - data.Open"
   ],
   "outputs": [],
   "metadata": {}
  },
  {
   "cell_type": "code",
   "execution_count": 21,
   "source": [
    "data.drop(labels='SNo', axis=1, inplace=True)\n",
    "data.info()"
   ],
   "outputs": [
    {
     "output_type": "stream",
     "name": "stdout",
     "text": [
      "<class 'pandas.core.frame.DataFrame'>\n",
      "RangeIndex: 275 entries, 0 to 274\n",
      "Data columns (total 11 columns):\n",
      " #   Column      Non-Null Count  Dtype  \n",
      "---  ------      --------------  -----  \n",
      " 0   Name        275 non-null    object \n",
      " 1   Symbol      275 non-null    object \n",
      " 2   Date        275 non-null    object \n",
      " 3   High        275 non-null    float64\n",
      " 4   Low         275 non-null    float64\n",
      " 5   Open        275 non-null    float64\n",
      " 6   Close       275 non-null    float64\n",
      " 7   Volume      275 non-null    float64\n",
      " 8   Marketcap   275 non-null    float64\n",
      " 9   Range       275 non-null    float64\n",
      " 10  Difference  275 non-null    float64\n",
      "dtypes: float64(8), object(3)\n",
      "memory usage: 23.8+ KB\n"
     ]
    }
   ],
   "metadata": {}
  },
  {
   "cell_type": "code",
   "execution_count": 22,
   "source": [
    "#Converting Date column to Datetime\n",
    "data['Date'] = pd.to_datetime(data['Date'])"
   ],
   "outputs": [],
   "metadata": {}
  },
  {
   "cell_type": "code",
   "execution_count": 23,
   "source": [
    "data.info()"
   ],
   "outputs": [
    {
     "output_type": "stream",
     "name": "stdout",
     "text": [
      "<class 'pandas.core.frame.DataFrame'>\n",
      "RangeIndex: 275 entries, 0 to 274\n",
      "Data columns (total 11 columns):\n",
      " #   Column      Non-Null Count  Dtype         \n",
      "---  ------      --------------  -----         \n",
      " 0   Name        275 non-null    object        \n",
      " 1   Symbol      275 non-null    object        \n",
      " 2   Date        275 non-null    datetime64[ns]\n",
      " 3   High        275 non-null    float64       \n",
      " 4   Low         275 non-null    float64       \n",
      " 5   Open        275 non-null    float64       \n",
      " 6   Close       275 non-null    float64       \n",
      " 7   Volume      275 non-null    float64       \n",
      " 8   Marketcap   275 non-null    float64       \n",
      " 9   Range       275 non-null    float64       \n",
      " 10  Difference  275 non-null    float64       \n",
      "dtypes: datetime64[ns](1), float64(8), object(2)\n",
      "memory usage: 23.8+ KB\n"
     ]
    }
   ],
   "metadata": {}
  },
  {
   "cell_type": "code",
   "execution_count": 24,
   "source": [
    "data.describe()"
   ],
   "outputs": [
    {
     "output_type": "execute_result",
     "data": {
      "text/html": [
       "<div>\n",
       "<style scoped>\n",
       "    .dataframe tbody tr th:only-of-type {\n",
       "        vertical-align: middle;\n",
       "    }\n",
       "\n",
       "    .dataframe tbody tr th {\n",
       "        vertical-align: top;\n",
       "    }\n",
       "\n",
       "    .dataframe thead th {\n",
       "        text-align: right;\n",
       "    }\n",
       "</style>\n",
       "<table border=\"1\" class=\"dataframe\">\n",
       "  <thead>\n",
       "    <tr style=\"text-align: right;\">\n",
       "      <th></th>\n",
       "      <th>High</th>\n",
       "      <th>Low</th>\n",
       "      <th>Open</th>\n",
       "      <th>Close</th>\n",
       "      <th>Volume</th>\n",
       "      <th>Marketcap</th>\n",
       "      <th>Range</th>\n",
       "      <th>Difference</th>\n",
       "    </tr>\n",
       "  </thead>\n",
       "  <tbody>\n",
       "    <tr>\n",
       "      <th>count</th>\n",
       "      <td>275.000000</td>\n",
       "      <td>275.000000</td>\n",
       "      <td>275.000000</td>\n",
       "      <td>275.000000</td>\n",
       "      <td>2.750000e+02</td>\n",
       "      <td>2.750000e+02</td>\n",
       "      <td>275.000000</td>\n",
       "      <td>275.000000</td>\n",
       "    </tr>\n",
       "    <tr>\n",
       "      <th>mean</th>\n",
       "      <td>271.306751</td>\n",
       "      <td>237.736035</td>\n",
       "      <td>254.506688</td>\n",
       "      <td>255.525845</td>\n",
       "      <td>5.023421e+08</td>\n",
       "      <td>3.168639e+09</td>\n",
       "      <td>33.570716</td>\n",
       "      <td>1.019157</td>\n",
       "    </tr>\n",
       "    <tr>\n",
       "      <th>std</th>\n",
       "      <td>173.030432</td>\n",
       "      <td>151.302431</td>\n",
       "      <td>162.067209</td>\n",
       "      <td>161.649917</td>\n",
       "      <td>4.527200e+08</td>\n",
       "      <td>2.066558e+09</td>\n",
       "      <td>34.189610</td>\n",
       "      <td>26.688754</td>\n",
       "    </tr>\n",
       "    <tr>\n",
       "      <th>min</th>\n",
       "      <td>28.433069</td>\n",
       "      <td>25.966155</td>\n",
       "      <td>27.715080</td>\n",
       "      <td>27.715084</td>\n",
       "      <td>0.000000e+00</td>\n",
       "      <td>6.713004e+07</td>\n",
       "      <td>2.217901</td>\n",
       "      <td>-210.862344</td>\n",
       "    </tr>\n",
       "    <tr>\n",
       "      <th>25%</th>\n",
       "      <td>85.078206</td>\n",
       "      <td>76.038104</td>\n",
       "      <td>80.557436</td>\n",
       "      <td>81.100120</td>\n",
       "      <td>2.400042e+08</td>\n",
       "      <td>9.736814e+08</td>\n",
       "      <td>10.527752</td>\n",
       "      <td>-7.193558</td>\n",
       "    </tr>\n",
       "    <tr>\n",
       "      <th>50%</th>\n",
       "      <td>306.990536</td>\n",
       "      <td>274.746278</td>\n",
       "      <td>292.268571</td>\n",
       "      <td>295.089229</td>\n",
       "      <td>3.693558e+08</td>\n",
       "      <td>3.697227e+09</td>\n",
       "      <td>24.657198</td>\n",
       "      <td>1.137126</td>\n",
       "    </tr>\n",
       "    <tr>\n",
       "      <th>75%</th>\n",
       "      <td>407.518278</td>\n",
       "      <td>361.685763</td>\n",
       "      <td>382.275163</td>\n",
       "      <td>382.579255</td>\n",
       "      <td>6.204643e+08</td>\n",
       "      <td>4.784464e+09</td>\n",
       "      <td>41.957311</td>\n",
       "      <td>10.417993</td>\n",
       "    </tr>\n",
       "    <tr>\n",
       "      <th>max</th>\n",
       "      <td>666.864979</td>\n",
       "      <td>565.749887</td>\n",
       "      <td>629.231665</td>\n",
       "      <td>632.266488</td>\n",
       "      <td>2.838573e+09</td>\n",
       "      <td>8.063210e+09</td>\n",
       "      <td>294.592343</td>\n",
       "      <td>100.145209</td>\n",
       "    </tr>\n",
       "  </tbody>\n",
       "</table>\n",
       "</div>"
      ],
      "text/plain": [
       "             High         Low        Open       Close        Volume  \\\n",
       "count  275.000000  275.000000  275.000000  275.000000  2.750000e+02   \n",
       "mean   271.306751  237.736035  254.506688  255.525845  5.023421e+08   \n",
       "std    173.030432  151.302431  162.067209  161.649917  4.527200e+08   \n",
       "min     28.433069   25.966155   27.715080   27.715084  0.000000e+00   \n",
       "25%     85.078206   76.038104   80.557436   81.100120  2.400042e+08   \n",
       "50%    306.990536  274.746278  292.268571  295.089229  3.693558e+08   \n",
       "75%    407.518278  361.685763  382.275163  382.579255  6.204643e+08   \n",
       "max    666.864979  565.749887  629.231665  632.266488  2.838573e+09   \n",
       "\n",
       "          Marketcap       Range  Difference  \n",
       "count  2.750000e+02  275.000000  275.000000  \n",
       "mean   3.168639e+09   33.570716    1.019157  \n",
       "std    2.066558e+09   34.189610   26.688754  \n",
       "min    6.713004e+07    2.217901 -210.862344  \n",
       "25%    9.736814e+08   10.527752   -7.193558  \n",
       "50%    3.697227e+09   24.657198    1.137126  \n",
       "75%    4.784464e+09   41.957311   10.417993  \n",
       "max    8.063210e+09  294.592343  100.145209  "
      ]
     },
     "metadata": {},
     "execution_count": 24
    }
   ],
   "metadata": {}
  },
  {
   "cell_type": "code",
   "execution_count": 25,
   "source": [
    "data[['High','Low','Open','Close','Volume','Marketcap','Range','Difference']].hist(bins=50, figsize = (20, 15))\n",
    "plt.show();"
   ],
   "outputs": [
    {
     "output_type": "display_data",
     "data": {
      "image/png": "[encoded data removed]",
      "text/plain": [
       "<Figure size 1440x1080 with 9 Axes>"
      ]
     },
     "metadata": {
      "needs_background": "light"
     }
    }
   ],
   "metadata": {}
  },
  {
   "cell_type": "code",
   "execution_count": 26,
   "source": [
    "#Days with the biggest price loss\n",
    "data[['Date', 'Difference']].sort_values(by='Difference').head(10).T"
   ],
   "outputs": [
    {
     "output_type": "execute_result",
     "data": {
      "text/html": [
       "<div>\n",
       "<style scoped>\n",
       "    .dataframe tbody tr th:only-of-type {\n",
       "        vertical-align: middle;\n",
       "    }\n",
       "\n",
       "    .dataframe tbody tr th {\n",
       "        vertical-align: top;\n",
       "    }\n",
       "\n",
       "    .dataframe thead th {\n",
       "        text-align: right;\n",
       "    }\n",
       "</style>\n",
       "<table border=\"1\" class=\"dataframe\">\n",
       "  <thead>\n",
       "    <tr style=\"text-align: right;\">\n",
       "      <th></th>\n",
       "      <th>226</th>\n",
       "      <th>228</th>\n",
       "      <th>222</th>\n",
       "      <th>211</th>\n",
       "      <th>259</th>\n",
       "      <th>235</th>\n",
       "      <th>195</th>\n",
       "      <th>234</th>\n",
       "      <th>141</th>\n",
       "      <th>230</th>\n",
       "    </tr>\n",
       "  </thead>\n",
       "  <tbody>\n",
       "    <tr>\n",
       "      <th>Date</th>\n",
       "      <td>2021-05-19 23:59:59</td>\n",
       "      <td>2021-05-21 23:59:59</td>\n",
       "      <td>2021-05-15 23:59:59</td>\n",
       "      <td>2021-05-04 23:59:59</td>\n",
       "      <td>2021-06-21 23:59:59</td>\n",
       "      <td>2021-05-28 23:59:59</td>\n",
       "      <td>2021-04-18 23:59:59</td>\n",
       "      <td>2021-05-27 23:59:59</td>\n",
       "      <td>2021-02-23 23:59:59</td>\n",
       "      <td>2021-05-23 23:59:59</td>\n",
       "    </tr>\n",
       "    <tr>\n",
       "      <th>Difference</th>\n",
       "      <td>-210.862344</td>\n",
       "      <td>-94.107846</td>\n",
       "      <td>-78.266219</td>\n",
       "      <td>-65.990885</td>\n",
       "      <td>-59.927101</td>\n",
       "      <td>-51.226486</td>\n",
       "      <td>-48.1064</td>\n",
       "      <td>-45.219897</td>\n",
       "      <td>-41.287456</td>\n",
       "      <td>-40.29916</td>\n",
       "    </tr>\n",
       "  </tbody>\n",
       "</table>\n",
       "</div>"
      ],
      "text/plain": [
       "                            226                  228                  222  \\\n",
       "Date        2021-05-19 23:59:59  2021-05-21 23:59:59  2021-05-15 23:59:59   \n",
       "Difference          -210.862344           -94.107846           -78.266219   \n",
       "\n",
       "                            211                  259                  235  \\\n",
       "Date        2021-05-04 23:59:59  2021-06-21 23:59:59  2021-05-28 23:59:59   \n",
       "Difference           -65.990885           -59.927101           -51.226486   \n",
       "\n",
       "                            195                  234                  141  \\\n",
       "Date        2021-04-18 23:59:59  2021-05-27 23:59:59  2021-02-23 23:59:59   \n",
       "Difference             -48.1064           -45.219897           -41.287456   \n",
       "\n",
       "                            230  \n",
       "Date        2021-05-23 23:59:59  \n",
       "Difference            -40.29916  "
      ]
     },
     "metadata": {},
     "execution_count": 26
    }
   ],
   "metadata": {}
  },
  {
   "cell_type": "code",
   "execution_count": 27,
   "source": [
    "# Days with the biggest price gain\n",
    "data[['Date', 'Difference']].sort_values(by='Difference', ascending=False).head(10).T"
   ],
   "outputs": [
    {
     "output_type": "execute_result",
     "data": {
      "text/html": [
       "<div>\n",
       "<style scoped>\n",
       "    .dataframe tbody tr th:only-of-type {\n",
       "        vertical-align: middle;\n",
       "    }\n",
       "\n",
       "    .dataframe tbody tr th {\n",
       "        vertical-align: top;\n",
       "    }\n",
       "\n",
       "    .dataframe thead th {\n",
       "        text-align: right;\n",
       "    }\n",
       "</style>\n",
       "<table border=\"1\" class=\"dataframe\">\n",
       "  <thead>\n",
       "    <tr style=\"text-align: right;\">\n",
       "      <th></th>\n",
       "      <th>122</th>\n",
       "      <th>231</th>\n",
       "      <th>221</th>\n",
       "      <th>121</th>\n",
       "      <th>225</th>\n",
       "      <th>208</th>\n",
       "      <th>238</th>\n",
       "      <th>203</th>\n",
       "      <th>227</th>\n",
       "      <th>111</th>\n",
       "    </tr>\n",
       "  </thead>\n",
       "  <tbody>\n",
       "    <tr>\n",
       "      <th>Date</th>\n",
       "      <td>2021-02-04 23:59:59</td>\n",
       "      <td>2021-05-24 23:59:59</td>\n",
       "      <td>2021-05-14 23:59:59</td>\n",
       "      <td>2021-02-03 23:59:59</td>\n",
       "      <td>2021-05-18 23:59:59</td>\n",
       "      <td>2021-05-01 23:59:59</td>\n",
       "      <td>2021-05-31 23:59:59</td>\n",
       "      <td>2021-04-26 23:59:59</td>\n",
       "      <td>2021-05-20 23:59:59</td>\n",
       "      <td>2021-01-24 23:59:59</td>\n",
       "    </tr>\n",
       "    <tr>\n",
       "      <th>Difference</th>\n",
       "      <td>100.145209</td>\n",
       "      <td>91.254019</td>\n",
       "      <td>85.640269</td>\n",
       "      <td>64.502407</td>\n",
       "      <td>60.048459</td>\n",
       "      <td>59.000155</td>\n",
       "      <td>58.501616</td>\n",
       "      <td>57.513653</td>\n",
       "      <td>55.93584</td>\n",
       "      <td>54.236209</td>\n",
       "    </tr>\n",
       "  </tbody>\n",
       "</table>\n",
       "</div>"
      ],
      "text/plain": [
       "                            122                  231                  221  \\\n",
       "Date        2021-02-04 23:59:59  2021-05-24 23:59:59  2021-05-14 23:59:59   \n",
       "Difference           100.145209            91.254019            85.640269   \n",
       "\n",
       "                            121                  225                  208  \\\n",
       "Date        2021-02-03 23:59:59  2021-05-18 23:59:59  2021-05-01 23:59:59   \n",
       "Difference            64.502407            60.048459            59.000155   \n",
       "\n",
       "                            238                  203                  227  \\\n",
       "Date        2021-05-31 23:59:59  2021-04-26 23:59:59  2021-05-20 23:59:59   \n",
       "Difference            58.501616            57.513653             55.93584   \n",
       "\n",
       "                            111  \n",
       "Date        2021-01-24 23:59:59  \n",
       "Difference            54.236209  "
      ]
     },
     "metadata": {},
     "execution_count": 27
    }
   ],
   "metadata": {}
  },
  {
   "cell_type": "code",
   "execution_count": 28,
   "source": [
    "fig = px.line(data, x='Date', y=\"Close\")\n",
    "fig.show();"
   ],
   "outputs": [
    {
     "output_type": "display_data",
     "data": {
      "application/vnd.plotly.v1+json": {
       "data": [
        {
         "hovertemplate": "Date=%{x}<br>Close=%{y}<extra></extra>",
         "legendgroup": "",
         "line": {
          "color": "#636efa",
          "dash": "solid"
         },
         "marker": {
          "symbol": "circle"
         },
         "mode": "lines",
         "name": "",
         "orientation": "v",
         "showlegend": false,
         "x": [
          "2020-10-05T23:59:59",
          "2020-10-06T23:59:59",
          "2020-10-07T23:59:59",
          "2020-10-08T23:59:59",
          "2020-10-09T23:59:59",
          "2020-10-10T23:59:59",
          "2020-10-11T23:59:59",
          "2020-10-12T23:59:59",
          "2020-10-13T23:59:59",
          "2020-10-14T23:59:59",
          "2020-10-15T23:59:59",
          "2020-10-16T23:59:59",
          "2020-10-17T23:59:59",
          "2020-10-18T23:59:59",
          "2020-10-19T23:59:59",
          "2020-10-20T23:59:59",
          "2020-10-21T23:59:59",
          "2020-10-22T23:59:59",
          "2020-10-23T23:59:59",
          "2020-10-24T23:59:59",
          "2020-10-25T23:59:59",
          "2020-10-26T23:59:59",
          "2020-10-27T23:59:59",
          "2020-10-28T23:59:59",
          "2020-10-29T23:59:59",
          "2020-10-30T23:59:59",
          "2020-10-31T23:59:59",
          "2020-11-01T23:59:59",
          "2020-11-02T23:59:59",
          "2020-11-03T23:59:59",
          "2020-11-04T23:59:59",
          "2020-11-05T23:59:59",
          "2020-11-06T23:59:59",
          "2020-11-07T23:59:59",
          "2020-11-08T23:59:59",
          "2020-11-09T23:59:59",
          "2020-11-10T23:59:59",
          "2020-11-11T23:59:59",
          "2020-11-12T23:59:59",
          "2020-11-13T23:59:59",
          "2020-11-14T23:59:59",
          "2020-11-15T23:59:59",
          "2020-11-16T23:59:59",
          "2020-11-17T23:59:59",
          "2020-11-18T23:59:59",
          "2020-11-19T23:59:59",
          "2020-11-20T23:59:59",
          "2020-11-21T23:59:59",
          "2020-11-22T23:59:59",
          "2020-11-23T23:59:59",
          "2020-11-24T23:59:59",
          "2020-11-25T23:59:59",
          "2020-11-26T23:59:59",
          "2020-11-27T23:59:59",
          "2020-11-28T23:59:59",
          "2020-11-29T23:59:59",
          "2020-11-30T23:59:59",
          "2020-12-01T23:59:59",
          "2020-12-02T23:59:59",
          "2020-12-03T23:59:59",
          "2020-12-04T23:59:59",
          "2020-12-05T23:59:59",
          "2020-12-06T23:59:59",
          "2020-12-07T23:59:59",
          "2020-12-08T23:59:59",
          "2020-12-09T23:59:59",
          "2020-12-10T23:59:59",
          "2020-12-11T23:59:59",
          "2020-12-12T23:59:59",
          "2020-12-13T23:59:59",
          "2020-12-14T23:59:59",
          "2020-12-15T23:59:59",
          "2020-12-16T23:59:59",
          "2020-12-17T23:59:59",
          "2020-12-18T23:59:59",
          "2020-12-19T23:59:59",
          "2020-12-20T23:59:59",
          "2020-12-21T23:59:59",
          "2020-12-22T23:59:59",
          "2020-12-23T23:59:59",
          "2020-12-24T23:59:59",
          "2020-12-25T23:59:59",
          "2020-12-26T23:59:59",
          "2020-12-27T23:59:59",
          "2020-12-28T23:59:59",
          "2020-12-29T23:59:59",
          "2020-12-30T23:59:59",
          "2020-12-31T23:59:59",
          "2021-01-01T23:59:59",
          "2021-01-02T23:59:59",
          "2021-01-03T23:59:59",
          "2021-01-04T23:59:59",
          "2021-01-05T23:59:59",
          "2021-01-06T23:59:59",
          "2021-01-07T23:59:59",
          "2021-01-08T23:59:59",
          "2021-01-09T23:59:59",
          "2021-01-10T23:59:59",
          "2021-01-11T23:59:59",
          "2021-01-12T23:59:59",
          "2021-01-13T23:59:59",
          "2021-01-14T23:59:59",
          "2021-01-15T23:59:59",
          "2021-01-16T23:59:59",
          "2021-01-17T23:59:59",
          "2021-01-18T23:59:59",
          "2021-01-19T23:59:59",
          "2021-01-20T23:59:59",
          "2021-01-21T23:59:59",
          "2021-01-22T23:59:59",
          "2021-01-23T23:59:59",
          "2021-01-24T23:59:59",
          "2021-01-25T23:59:59",
          "2021-01-26T23:59:59",
          "2021-01-27T23:59:59",
          "2021-01-28T23:59:59",
          "2021-01-29T23:59:59",
          "2021-01-30T23:59:59",
          "2021-01-31T23:59:59",
          "2021-02-01T23:59:59",
          "2021-02-02T23:59:59",
          "2021-02-03T23:59:59",
          "2021-02-04T23:59:59",
          "2021-02-05T23:59:59",
          "2021-02-06T23:59:59",
          "2021-02-07T23:59:59",
          "2021-02-08T23:59:59",
          "2021-02-09T23:59:59",
          "2021-02-10T23:59:59",
          "2021-02-11T23:59:59",
          "2021-02-12T23:59:59",
          "2021-02-13T23:59:59",
          "2021-02-14T23:59:59",
          "2021-02-15T23:59:59",
          "2021-02-16T23:59:59",
          "2021-02-17T23:59:59",
          "2021-02-18T23:59:59",
          "2021-02-19T23:59:59",
          "2021-02-20T23:59:59",
          "2021-02-21T23:59:59",
          "2021-02-22T23:59:59",
          "2021-02-23T23:59:59",
          "2021-02-24T23:59:59",
          "2021-02-25T23:59:59",
          "2021-02-26T23:59:59",
          "2021-02-27T23:59:59",
          "2021-02-28T23:59:59",
          "2021-03-01T23:59:59",
          "2021-03-02T23:59:59",
          "2021-03-03T23:59:59",
          "2021-03-04T23:59:59",
          "2021-03-05T23:59:59",
          "2021-03-06T23:59:59",
          "2021-03-07T23:59:59",
          "2021-03-08T23:59:59",
          "2021-03-09T23:59:59",
          "2021-03-10T23:59:59",
          "2021-03-11T23:59:59",
          "2021-03-12T23:59:59",
          "2021-03-13T23:59:59",
          "2021-03-14T23:59:59",
          "2021-03-15T23:59:59",
          "2021-03-16T23:59:59",
          "2021-03-17T23:59:59",
          "2021-03-18T23:59:59",
          "2021-03-19T23:59:59",
          "2021-03-20T23:59:59",
          "2021-03-21T23:59:59",
          "2021-03-22T23:59:59",
          "2021-03-23T23:59:59",
          "2021-03-24T23:59:59",
          "2021-03-25T23:59:59",
          "2021-03-26T23:59:59",
          "2021-03-27T23:59:59",
          "2021-03-28T23:59:59",
          "2021-03-29T23:59:59",
          "2021-03-30T23:59:59",
          "2021-03-31T23:59:59",
          "2021-04-01T23:59:59",
          "2021-04-02T23:59:59",
          "2021-04-03T23:59:59",
          "2021-04-04T23:59:59",
          "2021-04-05T23:59:59",
          "2021-04-06T23:59:59",
          "2021-04-07T23:59:59",
          "2021-04-08T23:59:59",
          "2021-04-09T23:59:59",
          "2021-04-10T23:59:59",
          "2021-04-11T23:59:59",
          "2021-04-12T23:59:59",
          "2021-04-13T23:59:59",
          "2021-04-14T23:59:59",
          "2021-04-15T23:59:59",
          "2021-04-16T23:59:59",
          "2021-04-17T23:59:59",
          "2021-04-18T23:59:59",
          "2021-04-19T23:59:59",
          "2021-04-20T23:59:59",
          "2021-04-21T23:59:59",
          "2021-04-22T23:59:59",
          "2021-04-23T23:59:59",
          "2021-04-24T23:59:59",
          "2021-04-25T23:59:59",
          "2021-04-26T23:59:59",
          "2021-04-27T23:59:59",
          "2021-04-28T23:59:59",
          "2021-04-29T23:59:59",
          "2021-04-30T23:59:59",
          "2021-05-01T23:59:59",
          "2021-05-02T23:59:59",
          "2021-05-03T23:59:59",
          "2021-05-04T23:59:59",
          "2021-05-05T23:59:59",
          "2021-05-06T23:59:59",
          "2021-05-07T23:59:59",
          "2021-05-08T23:59:59",
          "2021-05-09T23:59:59",
          "2021-05-10T23:59:59",
          "2021-05-11T23:59:59",
          "2021-05-12T23:59:59",
          "2021-05-13T23:59:59",
          "2021-05-14T23:59:59",
          "2021-05-15T23:59:59",
          "2021-05-16T23:59:59",
          "2021-05-17T23:59:59",
          "2021-05-18T23:59:59",
          "2021-05-19T23:59:59",
          "2021-05-20T23:59:59",
          "2021-05-21T23:59:59",
          "2021-05-22T23:59:59",
          "2021-05-23T23:59:59",
          "2021-05-24T23:59:59",
          "2021-05-25T23:59:59",
          "2021-05-26T23:59:59",
          "2021-05-27T23:59:59",
          "2021-05-28T23:59:59",
          "2021-05-29T23:59:59",
          "2021-05-30T23:59:59",
          "2021-05-31T23:59:59",
          "2021-06-01T23:59:59",
          "2021-06-02T23:59:59",
          "2021-06-03T23:59:59",
          "2021-06-04T23:59:59",
          "2021-06-05T23:59:59",
          "2021-06-06T23:59:59",
          "2021-06-07T23:59:59",
          "2021-06-08T23:59:59",
          "2021-06-09T23:59:59",
          "2021-06-10T23:59:59",
          "2021-06-11T23:59:59",
          "2021-06-12T23:59:59",
          "2021-06-13T23:59:59",
          "2021-06-14T23:59:59",
          "2021-06-15T23:59:59",
          "2021-06-16T23:59:59",
          "2021-06-17T23:59:59",
          "2021-06-18T23:59:59",
          "2021-06-19T23:59:59",
          "2021-06-20T23:59:59",
          "2021-06-21T23:59:59",
          "2021-06-22T23:59:59",
          "2021-06-23T23:59:59",
          "2021-06-24T23:59:59",
          "2021-06-25T23:59:59",
          "2021-06-26T23:59:59",
          "2021-06-27T23:59:59",
          "2021-06-28T23:59:59",
          "2021-06-29T23:59:59",
          "2021-06-30T23:59:59",
          "2021-07-01T23:59:59",
          "2021-07-02T23:59:59",
          "2021-07-03T23:59:59",
          "2021-07-04T23:59:59",
          "2021-07-05T23:59:59",
          "2021-07-06T23:59:59"
         ],
         "xaxis": "x",
         "y": [
          53.21924296,
          42.40159861,
          40.08397561,
          43.76446306,
          46.81774415,
          49.13371767,
          49.66072573,
          52.23869222,
          51.12431679,
          51.31651791,
          44.01918294,
          39.49584426,
          41.36699325,
          40.74697166,
          36.01231739,
          32.18001748,
          35.16035652,
          38.03165056,
          41.68663736,
          39.45502214,
          37.90476078,
          36.03392191,
          34.87153083,
          32.39408292,
          29.09833402,
          31.21782294,
          29.70751775,
          30.65727643,
          29.73152358,
          28.04280321,
          27.71508436,
          30.95562668,
          38.45744081,
          44.60489962,
          53.74937894,
          54.88649964,
          67.00111098,
          54.69964668,
          51.63241804,
          63.39907168,
          67.01611273,
          64.23729542,
          71.76639355,
          78.44328478,
          75.23227405,
          75.85718351,
          75.06539972,
          70.42424685,
          68.42477869,
          71.83861244,
          66.73867871,
          61.80533895,
          63.99345248,
          60.73871861,
          63.94728703,
          68.85312443,
          76.41953515,
          74.86836458,
          86.32324982,
          91.67564477,
          81.6418197,
          91.92059987,
          87.95642649,
          90.9602979,
          79.94619074,
          82.11372218,
          76.64575648,
          74.72982934,
          77.55488043,
          83.42745942,
          86.14011813,
          87.25809436,
          87.23005839,
          85.08382773,
          89.77007385,
          89.01304208,
          85.96947236,
          81.31193717,
          84.10955202,
          75.21556665,
          80.25657151,
          79.79518007,
          74.868333,
          76.96798485,
          81.88362359,
          77.90199883,
          80.88830364,
          87.5274822,
          90.34967103,
          85.71284343,
          91.09664966,
          111.13203789,
          116.45382785,
          115.00081244,
          114.94044678,
          111.70277995,
          117.66696294,
          126.20067343,
          115.60195207,
          126.05295916,
          147.4692885,
          147.2622138,
          162.5793443,
          182.93181721,
          186.2648519,
          197.65705672,
          187.50846827,
          193.3356448,
          159.99185659,
          188.27962871,
          210.36705841,
          264.85014401,
          249.74367963,
          272.3576004,
          282.44377082,
          297.41404299,
          286.89914533,
          313.08732974,
          300.06256418,
          295.66131353,
          301.11819132,
          365.5988563,
          466.4799454,
          506.77264181,
          472.32853192,
          461.5083374,
          490.34201617,
          488.00188063,
          517.96825685,
          518.07254013,
          529.89617535,
          494.55965157,
          471.6146565,
          455.61472533,
          431.5302847,
          449.60051733,
          440.5109236,
          422.2425337,
          442.02387644,
          435.85377271,
          400.88243658,
          359.49751981,
          367.23089964,
          337.50146351,
          323.10817521,
          334.36448095,
          344.87000758,
          385.41968876,
          390.92626057,
          396.30827717,
          374.56693032,
          367.12553589,
          382.01959117,
          407.15247143,
          430.6251097,
          439.32953693,
          408.26351907,
          403.50932755,
          374.71471052,
          405.39340121,
          381.08260484,
          369.02280205,
          371.21927385,
          379.1245646,
          363.10073433,
          369.37732538,
          372.47784121,
          370.15155996,
          344.32445841,
          337.71448352,
          322.38054762,
          328.21590435,
          355.60626394,
          348.59236933,
          346.18989982,
          360.31627991,
          373.64082623,
          377.00814257,
          377.61179926,
          406.69230308,
          385.42057192,
          404.30973507,
          397.92455936,
          383.98994248,
          350.995831,
          377.93119268,
          359.48357425,
          367.26334069,
          373.37874338,
          396.53613746,
          398.28391889,
          430.41622827,
          466.16483587,
          442.19440065,
          430.1746817,
          382.07509899,
          346.81257565,
          361.60819853,
          354.13844062,
          362.2285832,
          345.65529566,
          317.49933002,
          346.99324847,
          405.15672313,
          440.22324594,
          460.35151028,
          438.70997496,
          444.72879905,
          503.86568384,
          483.41444421,
          519.06942055,
          453.35241136,
          480.03080165,
          452.40875669,
          445.22238064,
          466.31755388,
          459.58723356,
          433.0535672,
          457.17806873,
          490.57903135,
          508.62279907,
          594.55687732,
          516.16936703,
          526.2147085,
          574.25943504,
          632.26648755,
          418.369321,
          468.81267809,
          373.41851052,
          334.48069393,
          295.08922914,
          385.57160812,
          371.38023972,
          414.93294547,
          369.97811139,
          320.3811519,
          297.89964198,
          325.1483991,
          383.08341024,
          372.8724613,
          384.40269091,
          397.49794841,
          373.88263034,
          356.66771648,
          365.66003352,
          333.88496551,
          331.01690893,
          338.5967323,
          310.14837954,
          285.08174445,
          278.51403806,
          317.12916788,
          317.90136333,
          319.75729172,
          290.26850308,
          292.91462583,
          264.35209385,
          256.35608875,
          273.49936021,
          212.98946504,
          205.75170322,
          214.09076815,
          210.85982427,
          187.16875432,
          186.97187502,
          202.67640068,
          226.37249247,
          236.76587081,
          250.38549399,
          231.62636199,
          233.94843657,
          259.65522529,
          277.03879166,
          307.8290792,
          316.89850739
         ],
         "yaxis": "y",
         "type": "scatter"
        }
       ],
       "layout": {
        "template": {
         "data": {
          "histogram2dcontour": [
           {
            "type": "histogram2dcontour",
            "colorbar": {
             "outlinewidth": 0,
             "ticks": ""
            },
            "colorscale": [
             [
              0,
              "#0d0887"
             ],
             [
              0.1111111111111111,
              "#46039f"
             ],
             [
              0.2222222222222222,
              "#7201a8"
             ],
             [
              0.3333333333333333,
              "#9c179e"
             ],
             [
              0.4444444444444444,
              "#bd3786"
             ],
             [
              0.5555555555555556,
              "#d8576b"
             ],
             [
              0.6666666666666666,
              "#ed7953"
             ],
             [
              0.7777777777777778,
              "#fb9f3a"
             ],
             [
              0.8888888888888888,
              "#fdca26"
             ],
             [
              1,
              "#f0f921"
             ]
            ]
           }
          ],
          "choropleth": [
           {
            "type": "choropleth",
            "colorbar": {
             "outlinewidth": 0,
             "ticks": ""
            }
           }
          ],
          "histogram2d": [
           {
            "type": "histogram2d",
            "colorbar": {
             "outlinewidth": 0,
             "ticks": ""
            },
            "colorscale": [
             [
              0,
              "#0d0887"
             ],
             [
              0.1111111111111111,
              "#46039f"
             ],
             [
              0.2222222222222222,
              "#7201a8"
             ],
             [
              0.3333333333333333,
              "#9c179e"
             ],
             [
              0.4444444444444444,
              "#bd3786"
             ],
             [
              0.5555555555555556,
              "#d8576b"
             ],
             [
              0.6666666666666666,
              "#ed7953"
             ],
             [
              0.7777777777777778,
              "#fb9f3a"
             ],
             [
              0.8888888888888888,
              "#fdca26"
             ],
             [
              1,
              "#f0f921"
             ]
            ]
           }
          ],
          "heatmap": [
           {
            "type": "heatmap",
            "colorbar": {
             "outlinewidth": 0,
             "ticks": ""
            },
            "colorscale": [
             [
              0,
              "#0d0887"
             ],
             [
              0.1111111111111111,
              "#46039f"
             ],
             [
              0.2222222222222222,
              "#7201a8"
             ],
             [
              0.3333333333333333,
              "#9c179e"
             ],
             [
              0.4444444444444444,
              "#bd3786"
             ],
             [
              0.5555555555555556,
              "#d8576b"
             ],
             [
              0.6666666666666666,
              "#ed7953"
             ],
             [
              0.7777777777777778,
              "#fb9f3a"
             ],
             [
              0.8888888888888888,
              "#fdca26"
             ],
             [
              1,
              "#f0f921"
             ]
            ]
           }
          ],
          "heatmapgl": [
           {
            "type": "heatmapgl",
            "colorbar": {
             "outlinewidth": 0,
             "ticks": ""
            },
            "colorscale": [
             [
              0,
              "#0d0887"
             ],
             [
              0.1111111111111111,
              "#46039f"
             ],
             [
              0.2222222222222222,
              "#7201a8"
             ],
             [
              0.3333333333333333,
              "#9c179e"
             ],
             [
              0.4444444444444444,
              "#bd3786"
             ],
             [
              0.5555555555555556,
              "#d8576b"
             ],
             [
              0.6666666666666666,
              "#ed7953"
             ],
             [
              0.7777777777777778,
              "#fb9f3a"
             ],
             [
              0.8888888888888888,
              "#fdca26"
             ],
             [
              1,
              "#f0f921"
             ]
            ]
           }
          ],
          "contourcarpet": [
           {
            "type": "contourcarpet",
            "colorbar": {
             "outlinewidth": 0,
             "ticks": ""
            }
           }
          ],
          "contour": [
           {
            "type": "contour",
            "colorbar": {
             "outlinewidth": 0,
             "ticks": ""
            },
            "colorscale": [
             [
              0,
              "#0d0887"
             ],
             [
              0.1111111111111111,
              "#46039f"
             ],
             [
              0.2222222222222222,
              "#7201a8"
             ],
             [
              0.3333333333333333,
              "#9c179e"
             ],
             [
              0.4444444444444444,
              "#bd3786"
             ],
             [
              0.5555555555555556,
              "#d8576b"
             ],
             [
              0.6666666666666666,
              "#ed7953"
             ],
             [
              0.7777777777777778,
              "#fb9f3a"
             ],
             [
              0.8888888888888888,
              "#fdca26"
             ],
             [
              1,
              "#f0f921"
             ]
            ]
           }
          ],
          "surface": [
           {
            "type": "surface",
            "colorbar": {
             "outlinewidth": 0,
             "ticks": ""
            },
            "colorscale": [
             [
              0,
              "#0d0887"
             ],
             [
              0.1111111111111111,
              "#46039f"
             ],
             [
              0.2222222222222222,
              "#7201a8"
             ],
             [
              0.3333333333333333,
              "#9c179e"
             ],
             [
              0.4444444444444444,
              "#bd3786"
             ],
             [
              0.5555555555555556,
              "#d8576b"
             ],
             [
              0.6666666666666666,
              "#ed7953"
             ],
             [
              0.7777777777777778,
              "#fb9f3a"
             ],
             [
              0.8888888888888888,
              "#fdca26"
             ],
             [
              1,
              "#f0f921"
             ]
            ]
           }
          ],
          "mesh3d": [
           {
            "type": "mesh3d",
            "colorbar": {
             "outlinewidth": 0,
             "ticks": ""
            }
           }
          ],
          "scatter": [
           {
            "fillpattern": {
             "fillmode": "overlay",
             "size": 10,
             "solidity": 0.2
            },
            "type": "scatter"
           }
          ],
          "parcoords": [
           {
            "type": "parcoords",
            "line": {
             "colorbar": {
              "outlinewidth": 0,
              "ticks": ""
             }
            }
           }
          ],
          "scatterpolargl": [
           {
            "type": "scatterpolargl",
            "marker": {
             "colorbar": {
              "outlinewidth": 0,
              "ticks": ""
             }
            }
           }
          ],
          "bar": [
           {
            "error_x": {
             "color": "#2a3f5f"
            },
            "error_y": {
             "color": "#2a3f5f"
            },
            "marker": {
             "line": {
              "color": "#E5ECF6",
              "width": 0.5
             },
             "pattern": {
              "fillmode": "overlay",
              "size": 10,
              "solidity": 0.2
             }
            },
            "type": "bar"
           }
          ],
          "scattergeo": [
           {
            "type": "scattergeo",
            "marker": {
             "colorbar": {
              "outlinewidth": 0,
              "ticks": ""
             }
            }
           }
          ],
          "scatterpolar": [
           {
            "type": "scatterpolar",
            "marker": {
             "colorbar": {
              "outlinewidth": 0,
              "ticks": ""
             }
            }
           }
          ],
          "histogram": [
           {
            "marker": {
             "pattern": {
              "fillmode": "overlay",
              "size": 10,
              "solidity": 0.2
             }
            },
            "type": "histogram"
           }
          ],
          "scattergl": [
           {
            "type": "scattergl",
            "marker": {
             "colorbar": {
              "outlinewidth": 0,
              "ticks": ""
             }
            }
           }
          ],
          "scatter3d": [
           {
            "type": "scatter3d",
            "line": {
             "colorbar": {
              "outlinewidth": 0,
              "ticks": ""
             }
            },
            "marker": {
             "colorbar": {
              "outlinewidth": 0,
              "ticks": ""
             }
            }
           }
          ],
          "scattermapbox": [
           {
            "type": "scattermapbox",
            "marker": {
             "colorbar": {
              "outlinewidth": 0,
              "ticks": ""
             }
            }
           }
          ],
          "scatterternary": [
           {
            "type": "scatterternary",
            "marker": {
             "colorbar": {
              "outlinewidth": 0,
              "ticks": ""
             }
            }
           }
          ],
          "scattercarpet": [
           {
            "type": "scattercarpet",
            "marker": {
             "colorbar": {
              "outlinewidth": 0,
              "ticks": ""
             }
            }
           }
          ],
          "carpet": [
           {
            "aaxis": {
             "endlinecolor": "#2a3f5f",
             "gridcolor": "white",
             "linecolor": "white",
             "minorgridcolor": "white",
             "startlinecolor": "#2a3f5f"
            },
            "baxis": {
             "endlinecolor": "#2a3f5f",
             "gridcolor": "white",
             "linecolor": "white",
             "minorgridcolor": "white",
             "startlinecolor": "#2a3f5f"
            },
            "type": "carpet"
           }
          ],
          "table": [
           {
            "cells": {
             "fill": {
              "color": "#EBF0F8"
             },
             "line": {
              "color": "white"
             }
            },
            "header": {
             "fill": {
              "color": "#C8D4E3"
             },
             "line": {
              "color": "white"
             }
            },
            "type": "table"
           }
          ],
          "barpolar": [
           {
            "marker": {
             "line": {
              "color": "#E5ECF6",
              "width": 0.5
             },
             "pattern": {
              "fillmode": "overlay",
              "size": 10,
              "solidity": 0.2
             }
            },
            "type": "barpolar"
           }
          ],
          "pie": [
           {
            "automargin": true,
            "type": "pie"
           }
          ]
         },
         "layout": {
          "autotypenumbers": "strict",
          "colorway": [
           "#636efa",
           "#EF553B",
           "#00cc96",
           "#ab63fa",
           "#FFA15A",
           "#19d3f3",
           "#FF6692",
           "#B6E880",
           "#FF97FF",
           "#FECB52"
          ],
          "font": {
           "color": "#2a3f5f"
          },
          "hovermode": "closest",
          "hoverlabel": {
           "align": "left"
          },
          "paper_bgcolor": "white",
          "plot_bgcolor": "#E5ECF6",
          "polar": {
           "bgcolor": "#E5ECF6",
           "angularaxis": {
            "gridcolor": "white",
            "linecolor": "white",
            "ticks": ""
           },
           "radialaxis": {
            "gridcolor": "white",
            "linecolor": "white",
            "ticks": ""
           }
          },
          "ternary": {
           "bgcolor": "#E5ECF6",
           "aaxis": {
            "gridcolor": "white",
            "linecolor": "white",
            "ticks": ""
           },
           "baxis": {
            "gridcolor": "white",
            "linecolor": "white",
            "ticks": ""
           },
           "caxis": {
            "gridcolor": "white",
            "linecolor": "white",
            "ticks": ""
           }
          },
          "coloraxis": {
           "colorbar": {
            "outlinewidth": 0,
            "ticks": ""
           }
          },
          "colorscale": {
           "sequential": [
            [
             0,
             "#0d0887"
            ],
            [
             0.1111111111111111,
             "#46039f"
            ],
            [
             0.2222222222222222,
             "#7201a8"
            ],
            [
             0.3333333333333333,
             "#9c179e"
            ],
            [
             0.4444444444444444,
             "#bd3786"
            ],
            [
             0.5555555555555556,
             "#d8576b"
            ],
            [
             0.6666666666666666,
             "#ed7953"
            ],
            [
             0.7777777777777778,
             "#fb9f3a"
            ],
            [
             0.8888888888888888,
             "#fdca26"
            ],
            [
             1,
             "#f0f921"
            ]
           ],
           "sequentialminus": [
            [
             0,
             "#0d0887"
            ],
            [
             0.1111111111111111,
             "#46039f"
            ],
            [
             0.2222222222222222,
             "#7201a8"
            ],
            [
             0.3333333333333333,
             "#9c179e"
            ],
            [
             0.4444444444444444,
             "#bd3786"
            ],
            [
             0.5555555555555556,
             "#d8576b"
            ],
            [
             0.6666666666666666,
             "#ed7953"
            ],
            [
             0.7777777777777778,
             "#fb9f3a"
            ],
            [
             0.8888888888888888,
             "#fdca26"
            ],
            [
             1,
             "#f0f921"
            ]
           ],
           "diverging": [
            [
             0,
             "#8e0152"
            ],
            [
             0.1,
             "#c51b7d"
            ],
            [
             0.2,
             "#de77ae"
            ],
            [
             0.3,
             "#f1b6da"
            ],
            [
             0.4,
             "#fde0ef"
            ],
            [
             0.5,
             "#f7f7f7"
            ],
            [
             0.6,
             "#e6f5d0"
            ],
            [
             0.7,
             "#b8e186"
            ],
            [
             0.8,
             "#7fbc41"
            ],
            [
             0.9,
             "#4d9221"
            ],
            [
             1,
             "#276419"
            ]
           ]
          },
          "xaxis": {
           "gridcolor": "white",
           "linecolor": "white",
           "ticks": "",
           "title": {
            "standoff": 15
           },
           "zerolinecolor": "white",
           "automargin": true,
           "zerolinewidth": 2
          },
          "yaxis": {
           "gridcolor": "white",
           "linecolor": "white",
           "ticks": "",
           "title": {
            "standoff": 15
           },
           "zerolinecolor": "white",
           "automargin": true,
           "zerolinewidth": 2
          },
          "scene": {
           "xaxis": {
            "backgroundcolor": "#E5ECF6",
            "gridcolor": "white",
            "linecolor": "white",
            "showbackground": true,
            "ticks": "",
            "zerolinecolor": "white",
            "gridwidth": 2
           },
           "yaxis": {
            "backgroundcolor": "#E5ECF6",
            "gridcolor": "white",
            "linecolor": "white",
            "showbackground": true,
            "ticks": "",
            "zerolinecolor": "white",
            "gridwidth": 2
           },
           "zaxis": {
            "backgroundcolor": "#E5ECF6",
            "gridcolor": "white",
            "linecolor": "white",
            "showbackground": true,
            "ticks": "",
            "zerolinecolor": "white",
            "gridwidth": 2
           }
          },
          "shapedefaults": {
           "line": {
            "color": "#2a3f5f"
           }
          },
          "annotationdefaults": {
           "arrowcolor": "#2a3f5f",
           "arrowhead": 0,
           "arrowwidth": 1
          },
          "geo": {
           "bgcolor": "white",
           "landcolor": "#E5ECF6",
           "subunitcolor": "white",
           "showland": true,
           "showlakes": true,
           "lakecolor": "white"
          },
          "title": {
           "x": 0.05
          },
          "mapbox": {
           "style": "light"
          }
         }
        },
        "xaxis": {
         "anchor": "y",
         "domain": [
          0,
          1
         ],
         "title": {
          "text": "Date"
         }
        },
        "yaxis": {
         "anchor": "x",
         "domain": [
          0,
          1
         ],
         "title": {
          "text": "Close"
         }
        },
        "legend": {
         "tracegroupgap": 0
        },
        "margin": {
         "t": 60
        }
       },
       "config": {
        "plotlyServerURL": "https://plot.ly"
       }
      }
     },
     "metadata": {}
    }
   ],
   "metadata": {}
  },
  {
   "cell_type": "code",
   "execution_count": 31,
   "source": [
    "fig = px.line(data, x='Date', y=\"Marketcap\")\n",
    "fig.show();"
   ],
   "outputs": [
    {
     "output_type": "display_data",
     "data": {
      "application/vnd.plotly.v1+json": {
       "data": [
        {
         "hovertemplate": "Date=%{x}<br>Marketcap=%{y}<extra></extra>",
         "legendgroup": "",
         "line": {
          "color": "#636efa",
          "dash": "solid"
         },
         "marker": {
          "symbol": "circle"
         },
         "mode": "lines",
         "name": "",
         "orientation": "v",
         "showlegend": false,
         "x": [
          "2020-10-05T23:59:59",
          "2020-10-06T23:59:59",
          "2020-10-07T23:59:59",
          "2020-10-08T23:59:59",
          "2020-10-09T23:59:59",
          "2020-10-10T23:59:59",
          "2020-10-11T23:59:59",
          "2020-10-12T23:59:59",
          "2020-10-13T23:59:59",
          "2020-10-14T23:59:59",
          "2020-10-15T23:59:59",
          "2020-10-16T23:59:59",
          "2020-10-17T23:59:59",
          "2020-10-18T23:59:59",
          "2020-10-19T23:59:59",
          "2020-10-20T23:59:59",
          "2020-10-21T23:59:59",
          "2020-10-22T23:59:59",
          "2020-10-23T23:59:59",
          "2020-10-24T23:59:59",
          "2020-10-25T23:59:59",
          "2020-10-26T23:59:59",
          "2020-10-27T23:59:59",
          "2020-10-28T23:59:59",
          "2020-10-29T23:59:59",
          "2020-10-30T23:59:59",
          "2020-10-31T23:59:59",
          "2020-11-01T23:59:59",
          "2020-11-02T23:59:59",
          "2020-11-03T23:59:59",
          "2020-11-04T23:59:59",
          "2020-11-05T23:59:59",
          "2020-11-06T23:59:59",
          "2020-11-07T23:59:59",
          "2020-11-08T23:59:59",
          "2020-11-09T23:59:59",
          "2020-11-10T23:59:59",
          "2020-11-11T23:59:59",
          "2020-11-12T23:59:59",
          "2020-11-13T23:59:59",
          "2020-11-14T23:59:59",
          "2020-11-15T23:59:59",
          "2020-11-16T23:59:59",
          "2020-11-17T23:59:59",
          "2020-11-18T23:59:59",
          "2020-11-19T23:59:59",
          "2020-11-20T23:59:59",
          "2020-11-21T23:59:59",
          "2020-11-22T23:59:59",
          "2020-11-23T23:59:59",
          "2020-11-24T23:59:59",
          "2020-11-25T23:59:59",
          "2020-11-26T23:59:59",
          "2020-11-27T23:59:59",
          "2020-11-28T23:59:59",
          "2020-11-29T23:59:59",
          "2020-11-30T23:59:59",
          "2020-12-01T23:59:59",
          "2020-12-02T23:59:59",
          "2020-12-03T23:59:59",
          "2020-12-04T23:59:59",
          "2020-12-05T23:59:59",
          "2020-12-06T23:59:59",
          "2020-12-07T23:59:59",
          "2020-12-08T23:59:59",
          "2020-12-09T23:59:59",
          "2020-12-10T23:59:59",
          "2020-12-11T23:59:59",
          "2020-12-12T23:59:59",
          "2020-12-13T23:59:59",
          "2020-12-14T23:59:59",
          "2020-12-15T23:59:59",
          "2020-12-16T23:59:59",
          "2020-12-17T23:59:59",
          "2020-12-18T23:59:59",
          "2020-12-19T23:59:59",
          "2020-12-20T23:59:59",
          "2020-12-21T23:59:59",
          "2020-12-22T23:59:59",
          "2020-12-23T23:59:59",
          "2020-12-24T23:59:59",
          "2020-12-25T23:59:59",
          "2020-12-26T23:59:59",
          "2020-12-27T23:59:59",
          "2020-12-28T23:59:59",
          "2020-12-29T23:59:59",
          "2020-12-30T23:59:59",
          "2020-12-31T23:59:59",
          "2021-01-01T23:59:59",
          "2021-01-02T23:59:59",
          "2021-01-03T23:59:59",
          "2021-01-04T23:59:59",
          "2021-01-05T23:59:59",
          "2021-01-06T23:59:59",
          "2021-01-07T23:59:59",
          "2021-01-08T23:59:59",
          "2021-01-09T23:59:59",
          "2021-01-10T23:59:59",
          "2021-01-11T23:59:59",
          "2021-01-12T23:59:59",
          "2021-01-13T23:59:59",
          "2021-01-14T23:59:59",
          "2021-01-15T23:59:59",
          "2021-01-16T23:59:59",
          "2021-01-17T23:59:59",
          "2021-01-18T23:59:59",
          "2021-01-19T23:59:59",
          "2021-01-20T23:59:59",
          "2021-01-21T23:59:59",
          "2021-01-22T23:59:59",
          "2021-01-23T23:59:59",
          "2021-01-24T23:59:59",
          "2021-01-25T23:59:59",
          "2021-01-26T23:59:59",
          "2021-01-27T23:59:59",
          "2021-01-28T23:59:59",
          "2021-01-29T23:59:59",
          "2021-01-30T23:59:59",
          "2021-01-31T23:59:59",
          "2021-02-01T23:59:59",
          "2021-02-02T23:59:59",
          "2021-02-03T23:59:59",
          "2021-02-04T23:59:59",
          "2021-02-05T23:59:59",
          "2021-02-06T23:59:59",
          "2021-02-07T23:59:59",
          "2021-02-08T23:59:59",
          "2021-02-09T23:59:59",
          "2021-02-10T23:59:59",
          "2021-02-11T23:59:59",
          "2021-02-12T23:59:59",
          "2021-02-13T23:59:59",
          "2021-02-14T23:59:59",
          "2021-02-15T23:59:59",
          "2021-02-16T23:59:59",
          "2021-02-17T23:59:59",
          "2021-02-18T23:59:59",
          "2021-02-19T23:59:59",
          "2021-02-20T23:59:59",
          "2021-02-21T23:59:59",
          "2021-02-22T23:59:59",
          "2021-02-23T23:59:59",
          "2021-02-24T23:59:59",
          "2021-02-25T23:59:59",
          "2021-02-26T23:59:59",
          "2021-02-27T23:59:59",
          "2021-02-28T23:59:59",
          "2021-03-01T23:59:59",
          "2021-03-02T23:59:59",
          "2021-03-03T23:59:59",
          "2021-03-04T23:59:59",
          "2021-03-05T23:59:59",
          "2021-03-06T23:59:59",
          "2021-03-07T23:59:59",
          "2021-03-08T23:59:59",
          "2021-03-09T23:59:59",
          "2021-03-10T23:59:59",
          "2021-03-11T23:59:59",
          "2021-03-12T23:59:59",
          "2021-03-13T23:59:59",
          "2021-03-14T23:59:59",
          "2021-03-15T23:59:59",
          "2021-03-16T23:59:59",
          "2021-03-17T23:59:59",
          "2021-03-18T23:59:59",
          "2021-03-19T23:59:59",
          "2021-03-20T23:59:59",
          "2021-03-21T23:59:59",
          "2021-03-22T23:59:59",
          "2021-03-23T23:59:59",
          "2021-03-24T23:59:59",
          "2021-03-25T23:59:59",
          "2021-03-26T23:59:59",
          "2021-03-27T23:59:59",
          "2021-03-28T23:59:59",
          "2021-03-29T23:59:59",
          "2021-03-30T23:59:59",
          "2021-03-31T23:59:59",
          "2021-04-01T23:59:59",
          "2021-04-02T23:59:59",
          "2021-04-03T23:59:59",
          "2021-04-04T23:59:59",
          "2021-04-05T23:59:59",
          "2021-04-06T23:59:59",
          "2021-04-07T23:59:59",
          "2021-04-08T23:59:59",
          "2021-04-09T23:59:59",
          "2021-04-10T23:59:59",
          "2021-04-11T23:59:59",
          "2021-04-12T23:59:59",
          "2021-04-13T23:59:59",
          "2021-04-14T23:59:59",
          "2021-04-15T23:59:59",
          "2021-04-16T23:59:59",
          "2021-04-17T23:59:59",
          "2021-04-18T23:59:59",
          "2021-04-19T23:59:59",
          "2021-04-20T23:59:59",
          "2021-04-21T23:59:59",
          "2021-04-22T23:59:59",
          "2021-04-23T23:59:59",
          "2021-04-24T23:59:59",
          "2021-04-25T23:59:59",
          "2021-04-26T23:59:59",
          "2021-04-27T23:59:59",
          "2021-04-28T23:59:59",
          "2021-04-29T23:59:59",
          "2021-04-30T23:59:59",
          "2021-05-01T23:59:59",
          "2021-05-02T23:59:59",
          "2021-05-03T23:59:59",
          "2021-05-04T23:59:59",
          "2021-05-05T23:59:59",
          "2021-05-06T23:59:59",
          "2021-05-07T23:59:59",
          "2021-05-08T23:59:59",
          "2021-05-09T23:59:59",
          "2021-05-10T23:59:59",
          "2021-05-11T23:59:59",
          "2021-05-12T23:59:59",
          "2021-05-13T23:59:59",
          "2021-05-14T23:59:59",
          "2021-05-15T23:59:59",
          "2021-05-16T23:59:59",
          "2021-05-17T23:59:59",
          "2021-05-18T23:59:59",
          "2021-05-19T23:59:59",
          "2021-05-20T23:59:59",
          "2021-05-21T23:59:59",
          "2021-05-22T23:59:59",
          "2021-05-23T23:59:59",
          "2021-05-24T23:59:59",
          "2021-05-25T23:59:59",
          "2021-05-26T23:59:59",
          "2021-05-27T23:59:59",
          "2021-05-28T23:59:59",
          "2021-05-29T23:59:59",
          "2021-05-30T23:59:59",
          "2021-05-31T23:59:59",
          "2021-06-01T23:59:59",
          "2021-06-02T23:59:59",
          "2021-06-03T23:59:59",
          "2021-06-04T23:59:59",
          "2021-06-05T23:59:59",
          "2021-06-06T23:59:59",
          "2021-06-07T23:59:59",
          "2021-06-08T23:59:59",
          "2021-06-09T23:59:59",
          "2021-06-10T23:59:59",
          "2021-06-11T23:59:59",
          "2021-06-12T23:59:59",
          "2021-06-13T23:59:59",
          "2021-06-14T23:59:59",
          "2021-06-15T23:59:59",
          "2021-06-16T23:59:59",
          "2021-06-17T23:59:59",
          "2021-06-18T23:59:59",
          "2021-06-19T23:59:59",
          "2021-06-20T23:59:59",
          "2021-06-21T23:59:59",
          "2021-06-22T23:59:59",
          "2021-06-23T23:59:59",
          "2021-06-24T23:59:59",
          "2021-06-25T23:59:59",
          "2021-06-26T23:59:59",
          "2021-06-27T23:59:59",
          "2021-06-28T23:59:59",
          "2021-06-29T23:59:59",
          "2021-06-30T23:59:59",
          "2021-07-01T23:59:59",
          "2021-07-02T23:59:59",
          "2021-07-03T23:59:59",
          "2021-07-04T23:59:59",
          "2021-07-05T23:59:59",
          "2021-07-06T23:59:59"
         ],
         "xaxis": "x",
         "y": [
          89128128.86084658,
          71011441.25451232,
          67130036.89981823,
          220265142.10956785,
          235632208.16269895,
          247288428.7561697,
          249940843.43242228,
          262915666.29307267,
          257307050.4308017,
          258274392.50811112,
          221547139.10727772,
          365071463.27992666,
          382367032.26402897,
          376635994.1363743,
          332872221.1838187,
          297449169.45201,
          324997301.45456576,
          402396251.49084926,
          445257057.9715303,
          421421064.2790179,
          404862645.1741443,
          384880121.63162833,
          372464564.3579749,
          346002819.346564,
          310800760.62242234,
          350090548.37008536,
          333516029.29639417,
          345465544.0019291,
          335349717.5105502,
          316455541.5979732,
          313021334.56848735,
          350205472.9254519,
          435876358.2493624,
          507707213.1975601,
          613014913.9174644,
          626843328.1215719,
          780700254.0603075,
          638025534.6074319,
          603421827.5595561,
          743396746.1819518,
          786814070.8942633,
          754769242.984942,
          843863117.2246927,
          923384720.0462722,
          887327038.570436,
          895838057.7896098,
          888309702.5449907,
          833647262.7056857,
          811198457.4282078,
          852034424.5073861,
          792032288.2378324,
          733874939.2967753,
          760506808.6507189,
          722139363.7789521,
          760508853.1865296,
          819035970.4519866,
          909941093.0031154,
          891921515.9888393,
          1029525776.0385628,
          1093762156.9254584,
          974344644.041474,
          1097810892.1516194,
          1051203168.980594,
          1087477655.8333125,
          956117556.491354,
          982942929.9949716,
          917596922.5460534,
          894777251.8971121,
          928807400.9458116,
          999380433.358915,
          1032112150.701743,
          1045770157.8973216,
          1045506379.575309,
          1019961551.3521832,
          1076525471.5506575,
          1067684335.4318194,
          1031344697.275862,
          975723269.0679436,
          1009442760.1055428,
          902812157.557945,
          963409600.2909256,
          958013751.496413,
          898979377.0145285,
          924546580.8374872,
          984160252.9022946,
          936493441.5518984,
          973018228.8535388,
          1053210331.410881,
          1087592822.2173798,
          1032020483.2481196,
          1097389994.1441915,
          1339476346.339024,
          1404342547.249715,
          1389419870.2162387,
          1391148360.454535,
          1352221085.0091486,
          1424946042.5667017,
          1528930605.940942,
          1402127902.577836,
          1529400855.541191,
          1799950317.2789989,
          1797974219.3641748,
          1988529819.238264,
          2238510904.062113,
          2280831100.500596,
          2421614478.2345505,
          2298257565.7471347,
          2370382680.144542,
          1961810810.2293148,
          2309153719.5381904,
          2581064745.640444,
          3251074103.9558263,
          3066479750.692207,
          3345908147.025244,
          3473257310.8946924,
          3658821334.13,
          3530265420.3,
          3854426676.67,
          3697226540.33,
          3643317247.54,
          3711117723.85,
          4506679200.81,
          5754281218.82,
          6253059939.33,
          5832334571.25,
          5700023386.8,
          6057557720.36,
          6030579943.23,
          6404109768.83,
          6409555495.12,
          6558682803.75,
          6124959579.25,
          5841937064.85,
          5643744346.22,
          5345408014.9,
          5569245761.06,
          5456652070.81,
          5230359731.15,
          5482898402.56,
          5407627356.65,
          4974530206.13,
          4461394530.87,
          4557746908.16,
          4189244710.34,
          4011295609.12,
          4151558855.57,
          4282630707.73,
          4787397636.72,
          4855921767.78,
          4923743148.88,
          4653772702.49,
          4562190922.56,
          4747498176.4,
          5060997597.21,
          5353291199.64,
          5461756100.94,
          5076097240.69,
          5017241956.56,
          4659635360.2,
          5041674558.43,
          4739457975.83,
          4590010352.57,
          4617763704.8,
          4716940794.82,
          4517656907.39,
          4595860814.8,
          4635091730.5,
          4606283845.85,
          4284996869.58,
          4203178634.82,
          4015946929.12,
          4088868432.99,
          4430363919.94,
          4343943724.09,
          4314382589.25,
          4490531522.37,
          4656864364.11,
          4698903088.6,
          4706655285.76,
          5069254861.38,
          4806154259.95,
          5042122934.79,
          4962595819.1,
          4788997765.1,
          4378934904.69,
          4715193942.12,
          4485870791.61,
          4583145058.71,
          4660263686.21,
          4950915627.32,
          4973077447,
          5374639326.94,
          5821565277.9,
          5522217402.2,
          5372112604.27,
          4771434820.21,
          4331068954.6,
          4515839829.21,
          4422555909.18,
          4523527204.3,
          4316559227.28,
          3964946233.63,
          4333267643.55,
          5059615789.74,
          5497528139.23,
          5748890829.87,
          5478630341.58,
          5553793693.58,
          6292297830.28,
          6036901809.32,
          6482162793.55,
          5661485760.68,
          5994646725.41,
          5649701357.76,
          5559957563.2,
          5823395056.67,
          5739346507.09,
          5407992861.34,
          5709260745.88,
          6251969445.3,
          6482732644.44,
          7580234638.55,
          6581333238.58,
          6709766021.94,
          7323113977.48,
          8063209781.54,
          5336170728.82,
          5980158843.65,
          4764076256.81,
          4267652851.7,
          3765386794.92,
          4920347743.33,
          4739642739.47,
          5295741939.71,
          4722695575.04,
          4094856434.92,
          3807889683.09,
          4156839152.74,
          4897954880.81,
          4767779049.31,
          4915404364.2,
          5082959562.31,
          4781530086.14,
          4561449065.93,
          4676895920.27,
          4270986921.64,
          4234703558.26,
          4332127856.58,
          3968314481.01,
          3647643402.16,
          3563847177.88,
          4058132278.98,
          4068123033.37,
          4091958380.19,
          3714910783.79,
          3748867972.37,
          3383440911.19,
          3281227060.66,
          3500727704.2,
          2726354239.2,
          2633899991.85,
          2740670233.57,
          2699309497.69,
          2400468190.85,
          2397984006.42,
          2599445021.94,
          2903823686.72,
          3037272383.02,
          3212200185.37,
          2971685384.78,
          3001542331.19,
          3331546057.4,
          3555054096.37,
          3950268561.44,
          4066775915.02
         ],
         "yaxis": "y",
         "type": "scatter"
        }
       ],
       "layout": {
        "template": {
         "data": {
          "histogram2dcontour": [
           {
            "type": "histogram2dcontour",
            "colorbar": {
             "outlinewidth": 0,
             "ticks": ""
            },
            "colorscale": [
             [
              0,
              "#0d0887"
             ],
             [
              0.1111111111111111,
              "#46039f"
             ],
             [
              0.2222222222222222,
              "#7201a8"
             ],
             [
              0.3333333333333333,
              "#9c179e"
             ],
             [
              0.4444444444444444,
              "#bd3786"
             ],
             [
              0.5555555555555556,
              "#d8576b"
             ],
             [
              0.6666666666666666,
              "#ed7953"
             ],
             [
              0.7777777777777778,
              "#fb9f3a"
             ],
             [
              0.8888888888888888,
              "#fdca26"
             ],
             [
              1,
              "#f0f921"
             ]
            ]
           }
          ],
          "choropleth": [
           {
            "type": "choropleth",
            "colorbar": {
             "outlinewidth": 0,
             "ticks": ""
            }
           }
          ],
          "histogram2d": [
           {
            "type": "histogram2d",
            "colorbar": {
             "outlinewidth": 0,
             "ticks": ""
            },
            "colorscale": [
             [
              0,
              "#0d0887"
             ],
             [
              0.1111111111111111,
              "#46039f"
             ],
             [
              0.2222222222222222,
              "#7201a8"
             ],
             [
              0.3333333333333333,
              "#9c179e"
             ],
             [
              0.4444444444444444,
              "#bd3786"
             ],
             [
              0.5555555555555556,
              "#d8576b"
             ],
             [
              0.6666666666666666,
              "#ed7953"
             ],
             [
              0.7777777777777778,
              "#fb9f3a"
             ],
             [
              0.8888888888888888,
              "#fdca26"
             ],
             [
              1,
              "#f0f921"
             ]
            ]
           }
          ],
          "heatmap": [
           {
            "type": "heatmap",
            "colorbar": {
             "outlinewidth": 0,
             "ticks": ""
            },
            "colorscale": [
             [
              0,
              "#0d0887"
             ],
             [
              0.1111111111111111,
              "#46039f"
             ],
             [
              0.2222222222222222,
              "#7201a8"
             ],
             [
              0.3333333333333333,
              "#9c179e"
             ],
             [
              0.4444444444444444,
              "#bd3786"
             ],
             [
              0.5555555555555556,
              "#d8576b"
             ],
             [
              0.6666666666666666,
              "#ed7953"
             ],
             [
              0.7777777777777778,
              "#fb9f3a"
             ],
             [
              0.8888888888888888,
              "#fdca26"
             ],
             [
              1,
              "#f0f921"
             ]
            ]
           }
          ],
          "heatmapgl": [
           {
            "type": "heatmapgl",
            "colorbar": {
             "outlinewidth": 0,
             "ticks": ""
            },
            "colorscale": [
             [
              0,
              "#0d0887"
             ],
             [
              0.1111111111111111,
              "#46039f"
             ],
             [
              0.2222222222222222,
              "#7201a8"
             ],
             [
              0.3333333333333333,
              "#9c179e"
             ],
             [
              0.4444444444444444,
              "#bd3786"
             ],
             [
              0.5555555555555556,
              "#d8576b"
             ],
             [
              0.6666666666666666,
              "#ed7953"
             ],
             [
              0.7777777777777778,
              "#fb9f3a"
             ],
             [
              0.8888888888888888,
              "#fdca26"
             ],
             [
              1,
              "#f0f921"
             ]
            ]
           }
          ],
          "contourcarpet": [
           {
            "type": "contourcarpet",
            "colorbar": {
             "outlinewidth": 0,
             "ticks": ""
            }
           }
          ],
          "contour": [
           {
            "type": "contour",
            "colorbar": {
             "outlinewidth": 0,
             "ticks": ""
            },
            "colorscale": [
             [
              0,
              "#0d0887"
             ],
             [
              0.1111111111111111,
              "#46039f"
             ],
             [
              0.2222222222222222,
              "#7201a8"
             ],
             [
              0.3333333333333333,
              "#9c179e"
             ],
             [
              0.4444444444444444,
              "#bd3786"
             ],
             [
              0.5555555555555556,
              "#d8576b"
             ],
             [
              0.6666666666666666,
              "#ed7953"
             ],
             [
              0.7777777777777778,
              "#fb9f3a"
             ],
             [
              0.8888888888888888,
              "#fdca26"
             ],
             [
              1,
              "#f0f921"
             ]
            ]
           }
          ],
          "surface": [
           {
            "type": "surface",
            "colorbar": {
             "outlinewidth": 0,
             "ticks": ""
            },
            "colorscale": [
             [
              0,
              "#0d0887"
             ],
             [
              0.1111111111111111,
              "#46039f"
             ],
             [
              0.2222222222222222,
              "#7201a8"
             ],
             [
              0.3333333333333333,
              "#9c179e"
             ],
             [
              0.4444444444444444,
              "#bd3786"
             ],
             [
              0.5555555555555556,
              "#d8576b"
             ],
             [
              0.6666666666666666,
              "#ed7953"
             ],
             [
              0.7777777777777778,
              "#fb9f3a"
             ],
             [
              0.8888888888888888,
              "#fdca26"
             ],
             [
              1,
              "#f0f921"
             ]
            ]
           }
          ],
          "mesh3d": [
           {
            "type": "mesh3d",
            "colorbar": {
             "outlinewidth": 0,
             "ticks": ""
            }
           }
          ],
          "scatter": [
           {
            "fillpattern": {
             "fillmode": "overlay",
             "size": 10,
             "solidity": 0.2
            },
            "type": "scatter"
           }
          ],
          "parcoords": [
           {
            "type": "parcoords",
            "line": {
             "colorbar": {
              "outlinewidth": 0,
              "ticks": ""
             }
            }
           }
          ],
          "scatterpolargl": [
           {
            "type": "scatterpolargl",
            "marker": {
             "colorbar": {
              "outlinewidth": 0,
              "ticks": ""
             }
            }
           }
          ],
          "bar": [
           {
            "error_x": {
             "color": "#2a3f5f"
            },
            "error_y": {
             "color": "#2a3f5f"
            },
            "marker": {
             "line": {
              "color": "#E5ECF6",
              "width": 0.5
             },
             "pattern": {
              "fillmode": "overlay",
              "size": 10,
              "solidity": 0.2
             }
            },
            "type": "bar"
           }
          ],
          "scattergeo": [
           {
            "type": "scattergeo",
            "marker": {
             "colorbar": {
              "outlinewidth": 0,
              "ticks": ""
             }
            }
           }
          ],
          "scatterpolar": [
           {
            "type": "scatterpolar",
            "marker": {
             "colorbar": {
              "outlinewidth": 0,
              "ticks": ""
             }
            }
           }
          ],
          "histogram": [
           {
            "marker": {
             "pattern": {
              "fillmode": "overlay",
              "size": 10,
              "solidity": 0.2
             }
            },
            "type": "histogram"
           }
          ],
          "scattergl": [
           {
            "type": "scattergl",
            "marker": {
             "colorbar": {
              "outlinewidth": 0,
              "ticks": ""
             }
            }
           }
          ],
          "scatter3d": [
           {
            "type": "scatter3d",
            "line": {
             "colorbar": {
              "outlinewidth": 0,
              "ticks": ""
             }
            },
            "marker": {
             "colorbar": {
              "outlinewidth": 0,
              "ticks": ""
             }
            }
           }
          ],
          "scattermapbox": [
           {
            "type": "scattermapbox",
            "marker": {
             "colorbar": {
              "outlinewidth": 0,
              "ticks": ""
             }
            }
           }
          ],
          "scatterternary": [
           {
            "type": "scatterternary",
            "marker": {
             "colorbar": {
              "outlinewidth": 0,
              "ticks": ""
             }
            }
           }
          ],
          "scattercarpet": [
           {
            "type": "scattercarpet",
            "marker": {
             "colorbar": {
              "outlinewidth": 0,
              "ticks": ""
             }
            }
           }
          ],
          "carpet": [
           {
            "aaxis": {
             "endlinecolor": "#2a3f5f",
             "gridcolor": "white",
             "linecolor": "white",
             "minorgridcolor": "white",
             "startlinecolor": "#2a3f5f"
            },
            "baxis": {
             "endlinecolor": "#2a3f5f",
             "gridcolor": "white",
             "linecolor": "white",
             "minorgridcolor": "white",
             "startlinecolor": "#2a3f5f"
            },
            "type": "carpet"
           }
          ],
          "table": [
           {
            "cells": {
             "fill": {
              "color": "#EBF0F8"
             },
             "line": {
              "color": "white"
             }
            },
            "header": {
             "fill": {
              "color": "#C8D4E3"
             },
             "line": {
              "color": "white"
             }
            },
            "type": "table"
           }
          ],
          "barpolar": [
           {
            "marker": {
             "line": {
              "color": "#E5ECF6",
              "width": 0.5
             },
             "pattern": {
              "fillmode": "overlay",
              "size": 10,
              "solidity": 0.2
             }
            },
            "type": "barpolar"
           }
          ],
          "pie": [
           {
            "automargin": true,
            "type": "pie"
           }
          ]
         },
         "layout": {
          "autotypenumbers": "strict",
          "colorway": [
           "#636efa",
           "#EF553B",
           "#00cc96",
           "#ab63fa",
           "#FFA15A",
           "#19d3f3",
           "#FF6692",
           "#B6E880",
           "#FF97FF",
           "#FECB52"
          ],
          "font": {
           "color": "#2a3f5f"
          },
          "hovermode": "closest",
          "hoverlabel": {
           "align": "left"
          },
          "paper_bgcolor": "white",
          "plot_bgcolor": "#E5ECF6",
          "polar": {
           "bgcolor": "#E5ECF6",
           "angularaxis": {
            "gridcolor": "white",
            "linecolor": "white",
            "ticks": ""
           },
           "radialaxis": {
            "gridcolor": "white",
            "linecolor": "white",
            "ticks": ""
           }
          },
          "ternary": {
           "bgcolor": "#E5ECF6",
           "aaxis": {
            "gridcolor": "white",
            "linecolor": "white",
            "ticks": ""
           },
           "baxis": {
            "gridcolor": "white",
            "linecolor": "white",
            "ticks": ""
           },
           "caxis": {
            "gridcolor": "white",
            "linecolor": "white",
            "ticks": ""
           }
          },
          "coloraxis": {
           "colorbar": {
            "outlinewidth": 0,
            "ticks": ""
           }
          },
          "colorscale": {
           "sequential": [
            [
             0,
             "#0d0887"
            ],
            [
             0.1111111111111111,
             "#46039f"
            ],
            [
             0.2222222222222222,
             "#7201a8"
            ],
            [
             0.3333333333333333,
             "#9c179e"
            ],
            [
             0.4444444444444444,
             "#bd3786"
            ],
            [
             0.5555555555555556,
             "#d8576b"
            ],
            [
             0.6666666666666666,
             "#ed7953"
            ],
            [
             0.7777777777777778,
             "#fb9f3a"
            ],
            [
             0.8888888888888888,
             "#fdca26"
            ],
            [
             1,
             "#f0f921"
            ]
           ],
           "sequentialminus": [
            [
             0,
             "#0d0887"
            ],
            [
             0.1111111111111111,
             "#46039f"
            ],
            [
             0.2222222222222222,
             "#7201a8"
            ],
            [
             0.3333333333333333,
             "#9c179e"
            ],
            [
             0.4444444444444444,
             "#bd3786"
            ],
            [
             0.5555555555555556,
             "#d8576b"
            ],
            [
             0.6666666666666666,
             "#ed7953"
            ],
            [
             0.7777777777777778,
             "#fb9f3a"
            ],
            [
             0.8888888888888888,
             "#fdca26"
            ],
            [
             1,
             "#f0f921"
            ]
           ],
           "diverging": [
            [
             0,
             "#8e0152"
            ],
            [
             0.1,
             "#c51b7d"
            ],
            [
             0.2,
             "#de77ae"
            ],
            [
             0.3,
             "#f1b6da"
            ],
            [
             0.4,
             "#fde0ef"
            ],
            [
             0.5,
             "#f7f7f7"
            ],
            [
             0.6,
             "#e6f5d0"
            ],
            [
             0.7,
             "#b8e186"
            ],
            [
             0.8,
             "#7fbc41"
            ],
            [
             0.9,
             "#4d9221"
            ],
            [
             1,
             "#276419"
            ]
           ]
          },
          "xaxis": {
           "gridcolor": "white",
           "linecolor": "white",
           "ticks": "",
           "title": {
            "standoff": 15
           },
           "zerolinecolor": "white",
           "automargin": true,
           "zerolinewidth": 2
          },
          "yaxis": {
           "gridcolor": "white",
           "linecolor": "white",
           "ticks": "",
           "title": {
            "standoff": 15
           },
           "zerolinecolor": "white",
           "automargin": true,
           "zerolinewidth": 2
          },
          "scene": {
           "xaxis": {
            "backgroundcolor": "#E5ECF6",
            "gridcolor": "white",
            "linecolor": "white",
            "showbackground": true,
            "ticks": "",
            "zerolinecolor": "white",
            "gridwidth": 2
           },
           "yaxis": {
            "backgroundcolor": "#E5ECF6",
            "gridcolor": "white",
            "linecolor": "white",
            "showbackground": true,
            "ticks": "",
            "zerolinecolor": "white",
            "gridwidth": 2
           },
           "zaxis": {
            "backgroundcolor": "#E5ECF6",
            "gridcolor": "white",
            "linecolor": "white",
            "showbackground": true,
            "ticks": "",
            "zerolinecolor": "white",
            "gridwidth": 2
           }
          },
          "shapedefaults": {
           "line": {
            "color": "#2a3f5f"
           }
          },
          "annotationdefaults": {
           "arrowcolor": "#2a3f5f",
           "arrowhead": 0,
           "arrowwidth": 1
          },
          "geo": {
           "bgcolor": "white",
           "landcolor": "#E5ECF6",
           "subunitcolor": "white",
           "showland": true,
           "showlakes": true,
           "lakecolor": "white"
          },
          "title": {
           "x": 0.05
          },
          "mapbox": {
           "style": "light"
          }
         }
        },
        "xaxis": {
         "anchor": "y",
         "domain": [
          0,
          1
         ],
         "title": {
          "text": "Date"
         }
        },
        "yaxis": {
         "anchor": "x",
         "domain": [
          0,
          1
         ],
         "title": {
          "text": "Marketcap"
         }
        },
        "legend": {
         "tracegroupgap": 0
        },
        "margin": {
         "t": 60
        }
       },
       "config": {
        "plotlyServerURL": "https://plot.ly"
       }
      }
     },
     "metadata": {}
    }
   ],
   "metadata": {}
  },
  {
   "cell_type": "code",
   "execution_count": 32,
   "source": [
    "fig = px.line(data, x='Date', y=\"Difference\")\n",
    "fig.show();"
   ],
   "outputs": [
    {
     "output_type": "display_data",
     "data": {
      "application/vnd.plotly.v1+json": {
       "data": [
        {
         "hovertemplate": "Date=%{x}<br>Difference=%{y}<extra></extra>",
         "legendgroup": "",
         "line": {
          "color": "#636efa",
          "dash": "solid"
         },
         "marker": {
          "symbol": "circle"
         },
         "mode": "lines",
         "name": "",
         "orientation": "v",
         "showlegend": false,
         "x": [
          "2020-10-05T23:59:59",
          "2020-10-06T23:59:59",
          "2020-10-07T23:59:59",
          "2020-10-08T23:59:59",
          "2020-10-09T23:59:59",
          "2020-10-10T23:59:59",
          "2020-10-11T23:59:59",
          "2020-10-12T23:59:59",
          "2020-10-13T23:59:59",
          "2020-10-14T23:59:59",
          "2020-10-15T23:59:59",
          "2020-10-16T23:59:59",
          "2020-10-17T23:59:59",
          "2020-10-18T23:59:59",
          "2020-10-19T23:59:59",
          "2020-10-20T23:59:59",
          "2020-10-21T23:59:59",
          "2020-10-22T23:59:59",
          "2020-10-23T23:59:59",
          "2020-10-24T23:59:59",
          "2020-10-25T23:59:59",
          "2020-10-26T23:59:59",
          "2020-10-27T23:59:59",
          "2020-10-28T23:59:59",
          "2020-10-29T23:59:59",
          "2020-10-30T23:59:59",
          "2020-10-31T23:59:59",
          "2020-11-01T23:59:59",
          "2020-11-02T23:59:59",
          "2020-11-03T23:59:59",
          "2020-11-04T23:59:59",
          "2020-11-05T23:59:59",
          "2020-11-06T23:59:59",
          "2020-11-07T23:59:59",
          "2020-11-08T23:59:59",
          "2020-11-09T23:59:59",
          "2020-11-10T23:59:59",
          "2020-11-11T23:59:59",
          "2020-11-12T23:59:59",
          "2020-11-13T23:59:59",
          "2020-11-14T23:59:59",
          "2020-11-15T23:59:59",
          "2020-11-16T23:59:59",
          "2020-11-17T23:59:59",
          "2020-11-18T23:59:59",
          "2020-11-19T23:59:59",
          "2020-11-20T23:59:59",
          "2020-11-21T23:59:59",
          "2020-11-22T23:59:59",
          "2020-11-23T23:59:59",
          "2020-11-24T23:59:59",
          "2020-11-25T23:59:59",
          "2020-11-26T23:59:59",
          "2020-11-27T23:59:59",
          "2020-11-28T23:59:59",
          "2020-11-29T23:59:59",
          "2020-11-30T23:59:59",
          "2020-12-01T23:59:59",
          "2020-12-02T23:59:59",
          "2020-12-03T23:59:59",
          "2020-12-04T23:59:59",
          "2020-12-05T23:59:59",
          "2020-12-06T23:59:59",
          "2020-12-07T23:59:59",
          "2020-12-08T23:59:59",
          "2020-12-09T23:59:59",
          "2020-12-10T23:59:59",
          "2020-12-11T23:59:59",
          "2020-12-12T23:59:59",
          "2020-12-13T23:59:59",
          "2020-12-14T23:59:59",
          "2020-12-15T23:59:59",
          "2020-12-16T23:59:59",
          "2020-12-17T23:59:59",
          "2020-12-18T23:59:59",
          "2020-12-19T23:59:59",
          "2020-12-20T23:59:59",
          "2020-12-21T23:59:59",
          "2020-12-22T23:59:59",
          "2020-12-23T23:59:59",
          "2020-12-24T23:59:59",
          "2020-12-25T23:59:59",
          "2020-12-26T23:59:59",
          "2020-12-27T23:59:59",
          "2020-12-28T23:59:59",
          "2020-12-29T23:59:59",
          "2020-12-30T23:59:59",
          "2020-12-31T23:59:59",
          "2021-01-01T23:59:59",
          "2021-01-02T23:59:59",
          "2021-01-03T23:59:59",
          "2021-01-04T23:59:59",
          "2021-01-05T23:59:59",
          "2021-01-06T23:59:59",
          "2021-01-07T23:59:59",
          "2021-01-08T23:59:59",
          "2021-01-09T23:59:59",
          "2021-01-10T23:59:59",
          "2021-01-11T23:59:59",
          "2021-01-12T23:59:59",
          "2021-01-13T23:59:59",
          "2021-01-14T23:59:59",
          "2021-01-15T23:59:59",
          "2021-01-16T23:59:59",
          "2021-01-17T23:59:59",
          "2021-01-18T23:59:59",
          "2021-01-19T23:59:59",
          "2021-01-20T23:59:59",
          "2021-01-21T23:59:59",
          "2021-01-22T23:59:59",
          "2021-01-23T23:59:59",
          "2021-01-24T23:59:59",
          "2021-01-25T23:59:59",
          "2021-01-26T23:59:59",
          "2021-01-27T23:59:59",
          "2021-01-28T23:59:59",
          "2021-01-29T23:59:59",
          "2021-01-30T23:59:59",
          "2021-01-31T23:59:59",
          "2021-02-01T23:59:59",
          "2021-02-02T23:59:59",
          "2021-02-03T23:59:59",
          "2021-02-04T23:59:59",
          "2021-02-05T23:59:59",
          "2021-02-06T23:59:59",
          "2021-02-07T23:59:59",
          "2021-02-08T23:59:59",
          "2021-02-09T23:59:59",
          "2021-02-10T23:59:59",
          "2021-02-11T23:59:59",
          "2021-02-12T23:59:59",
          "2021-02-13T23:59:59",
          "2021-02-14T23:59:59",
          "2021-02-15T23:59:59",
          "2021-02-16T23:59:59",
          "2021-02-17T23:59:59",
          "2021-02-18T23:59:59",
          "2021-02-19T23:59:59",
          "2021-02-20T23:59:59",
          "2021-02-21T23:59:59",
          "2021-02-22T23:59:59",
          "2021-02-23T23:59:59",
          "2021-02-24T23:59:59",
          "2021-02-25T23:59:59",
          "2021-02-26T23:59:59",
          "2021-02-27T23:59:59",
          "2021-02-28T23:59:59",
          "2021-03-01T23:59:59",
          "2021-03-02T23:59:59",
          "2021-03-03T23:59:59",
          "2021-03-04T23:59:59",
          "2021-03-05T23:59:59",
          "2021-03-06T23:59:59",
          "2021-03-07T23:59:59",
          "2021-03-08T23:59:59",
          "2021-03-09T23:59:59",
          "2021-03-10T23:59:59",
          "2021-03-11T23:59:59",
          "2021-03-12T23:59:59",
          "2021-03-13T23:59:59",
          "2021-03-14T23:59:59",
          "2021-03-15T23:59:59",
          "2021-03-16T23:59:59",
          "2021-03-17T23:59:59",
          "2021-03-18T23:59:59",
          "2021-03-19T23:59:59",
          "2021-03-20T23:59:59",
          "2021-03-21T23:59:59",
          "2021-03-22T23:59:59",
          "2021-03-23T23:59:59",
          "2021-03-24T23:59:59",
          "2021-03-25T23:59:59",
          "2021-03-26T23:59:59",
          "2021-03-27T23:59:59",
          "2021-03-28T23:59:59",
          "2021-03-29T23:59:59",
          "2021-03-30T23:59:59",
          "2021-03-31T23:59:59",
          "2021-04-01T23:59:59",
          "2021-04-02T23:59:59",
          "2021-04-03T23:59:59",
          "2021-04-04T23:59:59",
          "2021-04-05T23:59:59",
          "2021-04-06T23:59:59",
          "2021-04-07T23:59:59",
          "2021-04-08T23:59:59",
          "2021-04-09T23:59:59",
          "2021-04-10T23:59:59",
          "2021-04-11T23:59:59",
          "2021-04-12T23:59:59",
          "2021-04-13T23:59:59",
          "2021-04-14T23:59:59",
          "2021-04-15T23:59:59",
          "2021-04-16T23:59:59",
          "2021-04-17T23:59:59",
          "2021-04-18T23:59:59",
          "2021-04-19T23:59:59",
          "2021-04-20T23:59:59",
          "2021-04-21T23:59:59",
          "2021-04-22T23:59:59",
          "2021-04-23T23:59:59",
          "2021-04-24T23:59:59",
          "2021-04-25T23:59:59",
          "2021-04-26T23:59:59",
          "2021-04-27T23:59:59",
          "2021-04-28T23:59:59",
          "2021-04-29T23:59:59",
          "2021-04-30T23:59:59",
          "2021-05-01T23:59:59",
          "2021-05-02T23:59:59",
          "2021-05-03T23:59:59",
          "2021-05-04T23:59:59",
          "2021-05-05T23:59:59",
          "2021-05-06T23:59:59",
          "2021-05-07T23:59:59",
          "2021-05-08T23:59:59",
          "2021-05-09T23:59:59",
          "2021-05-10T23:59:59",
          "2021-05-11T23:59:59",
          "2021-05-12T23:59:59",
          "2021-05-13T23:59:59",
          "2021-05-14T23:59:59",
          "2021-05-15T23:59:59",
          "2021-05-16T23:59:59",
          "2021-05-17T23:59:59",
          "2021-05-18T23:59:59",
          "2021-05-19T23:59:59",
          "2021-05-20T23:59:59",
          "2021-05-21T23:59:59",
          "2021-05-22T23:59:59",
          "2021-05-23T23:59:59",
          "2021-05-24T23:59:59",
          "2021-05-25T23:59:59",
          "2021-05-26T23:59:59",
          "2021-05-27T23:59:59",
          "2021-05-28T23:59:59",
          "2021-05-29T23:59:59",
          "2021-05-30T23:59:59",
          "2021-05-31T23:59:59",
          "2021-06-01T23:59:59",
          "2021-06-02T23:59:59",
          "2021-06-03T23:59:59",
          "2021-06-04T23:59:59",
          "2021-06-05T23:59:59",
          "2021-06-06T23:59:59",
          "2021-06-07T23:59:59",
          "2021-06-08T23:59:59",
          "2021-06-09T23:59:59",
          "2021-06-10T23:59:59",
          "2021-06-11T23:59:59",
          "2021-06-12T23:59:59",
          "2021-06-13T23:59:59",
          "2021-06-14T23:59:59",
          "2021-06-15T23:59:59",
          "2021-06-16T23:59:59",
          "2021-06-17T23:59:59",
          "2021-06-18T23:59:59",
          "2021-06-19T23:59:59",
          "2021-06-20T23:59:59",
          "2021-06-21T23:59:59",
          "2021-06-22T23:59:59",
          "2021-06-23T23:59:59",
          "2021-06-24T23:59:59",
          "2021-06-25T23:59:59",
          "2021-06-26T23:59:59",
          "2021-06-27T23:59:59",
          "2021-06-28T23:59:59",
          "2021-06-29T23:59:59",
          "2021-06-30T23:59:59",
          "2021-07-01T23:59:59",
          "2021-07-02T23:59:59",
          "2021-07-03T23:59:59",
          "2021-07-04T23:59:59",
          "2021-07-05T23:59:59",
          "2021-07-06T23:59:59"
         ],
         "xaxis": "x",
         "y": [
          0.5442080000000047,
          -10.890370699999998,
          -2.3159714999999963,
          3.87920072,
          3.053281090000006,
          2.3155721299999996,
          0.5275962199999995,
          2.5771189299999975,
          -1.114075629999995,
          -0.0563807799999978,
          -7.368426679999999,
          -3.394762270000001,
          1.8808016400000014,
          -0.642626049999997,
          -4.8244393599999995,
          -3.86376774,
          2.906866810000004,
          2.9341631400000026,
          3.9560429799999994,
          -2.2316151900000065,
          -1.5502613600000004,
          -1.8708406300000036,
          -1.1623827700000007,
          -2.4774534700000004,
          -3.295747870000003,
          2.11948147,
          -1.5103051900000004,
          0.9497586699999978,
          -0.9257586899999986,
          -1.688722330000001,
          -0.3278863300000019,
          3.24054688,
          7.502322360000001,
          6.147458809999996,
          9.144479330000003,
          1.1371257999999997,
          12.11460566000001,
          -12.3014644,
          -3.067204520000004,
          11.766637339999996,
          3.6170410500000045,
          -2.778817260000011,
          7.529099639999998,
          5.190219380000002,
          -3.2104834900000014,
          0.6244091800000007,
          -0.7917846900000001,
          -4.641152829999996,
          -1.9994682100000034,
          3.413828010000003,
          -5.116993019999995,
          -4.910224410000005,
          2.1767556900000002,
          -3.267067570000002,
          3.198062969999995,
          4.904367309999991,
          7.563090760000009,
          -1.5563574799999884,
          11.462095419999997,
          5.294817450000011,
          -10.042708919999995,
          10.330710750000009,
          -3.990237559999997,
          3.0037572399999988,
          -11.00413408,
          2.190903469999995,
          -5.5370664000000005,
          -1.8954033899999985,
          2.873246850000001,
          5.838986370000001,
          2.6851956800000067,
          1.1035138999999958,
          0.005047149999995781,
          -2.1491613800000096,
          4.676703140000001,
          -0.8182550399999968,
          -3.005970579999996,
          -4.6571621200000095,
          2.8836561399999994,
          -8.887301179999994,
          4.939807040000005,
          -0.46444682000000626,
          -4.953760669999994,
          2.0920688199999944,
          4.971881060000001,
          -3.9646017299999983,
          2.9821455400000048,
          6.672236859999998,
          2.8063653899999963,
          -4.6719845599999985,
          5.383660699999993,
          19.901541690000002,
          5.302754030000003,
          -1.5006858599999902,
          -0.04400470999999584,
          -3.1815304300000093,
          5.964333320000009,
          8.530494050000001,
          -10.546047110000003,
          10.613655010000002,
          21.35965128000001,
          0.08389563000000066,
          15.252894730000008,
          20.23819266999999,
          3.892179580000004,
          11.46685697000001,
          -10.20893959999998,
          6.206703300000015,
          -33.3298221,
          28.399270709999996,
          22.398117719999988,
          54.23620888000002,
          -14.51518065000002,
          23.159436700000015,
          9.768660189999991,
          15.227811099999997,
          -5.369425509999985,
          26.114169669999967,
          -13.830079290000015,
          -4.375296410000033,
          5.370203650000008,
          64.50240735,
          100.14520852000004,
          41.565683269999965,
          -34.057618590000004,
          -11.093126369999993,
          28.545880100000034,
          -2.0095325300000013,
          30.26870194999998,
          1.7461378599999762,
          11.989918920000036,
          -35.27006506999999,
          -23.099130959999968,
          -15.307851340000013,
          -23.18142204000003,
          18.183625940000013,
          -8.542958090000013,
          -18.258747719999974,
          20.192426399999988,
          -5.428326389999995,
          -34.99596457000001,
          -41.28745577000001,
          7.019914330000006,
          -29.71775365000002,
          -15.169000349999976,
          10.988364659999945,
          10.505434199999968,
          40.23040431999999,
          5.337071649999984,
          5.3930208900000025,
          -21.450236390000043,
          -7.19843086000003,
          15.203585550000014,
          25.033878570000013,
          23.379674000000023,
          8.54746449999999,
          -30.868658820000007,
          -3.89592472999999,
          -28.87515289999999,
          30.598725959999967,
          -24.28069885000002,
          -11.67814186999999,
          2.2182503699999643,
          7.793742169999973,
          -15.830360179999957,
          6.365309640000021,
          3.295944669999983,
          -2.362568300000021,
          -25.920327840000027,
          -6.456606459999989,
          -15.11512455999997,
          6.090038990000039,
          27.46028782000002,
          -6.879997390000028,
          -2.2757816900000307,
          14.35757092,
          13.397990600000014,
          3.181057650000014,
          0.4281126999999856,
          29.177642030000015,
          -21.46301908999999,
          18.782764240000006,
          -6.468393320000018,
          -14.235440179999955,
          -33.01882796000001,
          26.543516210000007,
          -18.448613739999985,
          7.89012194999998,
          5.889643630000023,
          24.080114620000018,
          0.9989320999999904,
          32.20603034999999,
          37.228773320000016,
          -24.07753653000003,
          -11.139272360000007,
          -48.10640022999996,
          -35.00990122000002,
          15.492890240000008,
          -7.443093250000004,
          8.765712380000025,
          -16.074908350000044,
          -28.267187690000014,
          29.3223122,
          57.51365274,
          34.68559768,
          19.747212380000008,
          -22.37157559999997,
          5.430643920000023,
          59.00015454999999,
          -20.297400130000028,
          37.00296947000004,
          -65.99088466,
          27.37374582000001,
          -27.362478049999993,
          -7.188684600000045,
          21.093513359999974,
          -6.987114879999979,
          -26.245446360000017,
          24.019161020000013,
          33.177987470000005,
          -0.46663667000001396,
          85.64026862000003,
          -78.26621926999997,
          10.505275400000073,
          46.994934820000026,
          60.048459349999916,
          -210.86234449999995,
          55.93584043999999,
          -94.10784638000001,
          -39.322306870000034,
          -40.299160150000034,
          91.25401915999998,
          -15.593773010000007,
          44.12256536000001,
          -45.219897040000035,
          -51.22648583,
          -22.061788129999968,
          27.397949429999983,
          58.50161553999999,
          -9.559272280000016,
          11.493593559999965,
          13.055317150000008,
          -24.66359146000002,
          -16.73008471999998,
          8.863355520000027,
          -31.58947458,
          -3.926429770000027,
          8.586943729999973,
          -28.861864519999983,
          -25.16937776000003,
          -6.924108599999954,
          38.39047837999999,
          1.616551759999993,
          0.35669580000001133,
          -21.659709929999963,
          2.6182357299999808,
          -29.181825869999955,
          -9.04859307999999,
          18.262206940000027,
          -59.92710127000001,
          -6.805953820000013,
          8.063626720000002,
          3.199686779999979,
          -24.02630565999999,
          -0.09595896999999809,
          15.36739836999999,
          23.611178599999988,
          9.768102309999989,
          12.26636744999999,
          -19.08407577,
          3.1343180200000234,
          25.44674716999998,
          17.639365630000043,
          30.718545740000025,
          8.900982069999998
         ],
         "yaxis": "y",
         "type": "scatter"
        }
       ],
       "layout": {
        "template": {
         "data": {
          "histogram2dcontour": [
           {
            "type": "histogram2dcontour",
            "colorbar": {
             "outlinewidth": 0,
             "ticks": ""
            },
            "colorscale": [
             [
              0,
              "#0d0887"
             ],
             [
              0.1111111111111111,
              "#46039f"
             ],
             [
              0.2222222222222222,
              "#7201a8"
             ],
             [
              0.3333333333333333,
              "#9c179e"
             ],
             [
              0.4444444444444444,
              "#bd3786"
             ],
             [
              0.5555555555555556,
              "#d8576b"
             ],
             [
              0.6666666666666666,
              "#ed7953"
             ],
             [
              0.7777777777777778,
              "#fb9f3a"
             ],
             [
              0.8888888888888888,
              "#fdca26"
             ],
             [
              1,
              "#f0f921"
             ]
            ]
           }
          ],
          "choropleth": [
           {
            "type": "choropleth",
            "colorbar": {
             "outlinewidth": 0,
             "ticks": ""
            }
           }
          ],
          "histogram2d": [
           {
            "type": "histogram2d",
            "colorbar": {
             "outlinewidth": 0,
             "ticks": ""
            },
            "colorscale": [
             [
              0,
              "#0d0887"
             ],
             [
              0.1111111111111111,
              "#46039f"
             ],
             [
              0.2222222222222222,
              "#7201a8"
             ],
             [
              0.3333333333333333,
              "#9c179e"
             ],
             [
              0.4444444444444444,
              "#bd3786"
             ],
             [
              0.5555555555555556,
              "#d8576b"
             ],
             [
              0.6666666666666666,
              "#ed7953"
             ],
             [
              0.7777777777777778,
              "#fb9f3a"
             ],
             [
              0.8888888888888888,
              "#fdca26"
             ],
             [
              1,
              "#f0f921"
             ]
            ]
           }
          ],
          "heatmap": [
           {
            "type": "heatmap",
            "colorbar": {
             "outlinewidth": 0,
             "ticks": ""
            },
            "colorscale": [
             [
              0,
              "#0d0887"
             ],
             [
              0.1111111111111111,
              "#46039f"
             ],
             [
              0.2222222222222222,
              "#7201a8"
             ],
             [
              0.3333333333333333,
              "#9c179e"
             ],
             [
              0.4444444444444444,
              "#bd3786"
             ],
             [
              0.5555555555555556,
              "#d8576b"
             ],
             [
              0.6666666666666666,
              "#ed7953"
             ],
             [
              0.7777777777777778,
              "#fb9f3a"
             ],
             [
              0.8888888888888888,
              "#fdca26"
             ],
             [
              1,
              "#f0f921"
             ]
            ]
           }
          ],
          "heatmapgl": [
           {
            "type": "heatmapgl",
            "colorbar": {
             "outlinewidth": 0,
             "ticks": ""
            },
            "colorscale": [
             [
              0,
              "#0d0887"
             ],
             [
              0.1111111111111111,
              "#46039f"
             ],
             [
              0.2222222222222222,
              "#7201a8"
             ],
             [
              0.3333333333333333,
              "#9c179e"
             ],
             [
              0.4444444444444444,
              "#bd3786"
             ],
             [
              0.5555555555555556,
              "#d8576b"
             ],
             [
              0.6666666666666666,
              "#ed7953"
             ],
             [
              0.7777777777777778,
              "#fb9f3a"
             ],
             [
              0.8888888888888888,
              "#fdca26"
             ],
             [
              1,
              "#f0f921"
             ]
            ]
           }
          ],
          "contourcarpet": [
           {
            "type": "contourcarpet",
            "colorbar": {
             "outlinewidth": 0,
             "ticks": ""
            }
           }
          ],
          "contour": [
           {
            "type": "contour",
            "colorbar": {
             "outlinewidth": 0,
             "ticks": ""
            },
            "colorscale": [
             [
              0,
              "#0d0887"
             ],
             [
              0.1111111111111111,
              "#46039f"
             ],
             [
              0.2222222222222222,
              "#7201a8"
             ],
             [
              0.3333333333333333,
              "#9c179e"
             ],
             [
              0.4444444444444444,
              "#bd3786"
             ],
             [
              0.5555555555555556,
              "#d8576b"
             ],
             [
              0.6666666666666666,
              "#ed7953"
             ],
             [
              0.7777777777777778,
              "#fb9f3a"
             ],
             [
              0.8888888888888888,
              "#fdca26"
             ],
             [
              1,
              "#f0f921"
             ]
            ]
           }
          ],
          "surface": [
           {
            "type": "surface",
            "colorbar": {
             "outlinewidth": 0,
             "ticks": ""
            },
            "colorscale": [
             [
              0,
              "#0d0887"
             ],
             [
              0.1111111111111111,
              "#46039f"
             ],
             [
              0.2222222222222222,
              "#7201a8"
             ],
             [
              0.3333333333333333,
              "#9c179e"
             ],
             [
              0.4444444444444444,
              "#bd3786"
             ],
             [
              0.5555555555555556,
              "#d8576b"
             ],
             [
              0.6666666666666666,
              "#ed7953"
             ],
             [
              0.7777777777777778,
              "#fb9f3a"
             ],
             [
              0.8888888888888888,
              "#fdca26"
             ],
             [
              1,
              "#f0f921"
             ]
            ]
           }
          ],
          "mesh3d": [
           {
            "type": "mesh3d",
            "colorbar": {
             "outlinewidth": 0,
             "ticks": ""
            }
           }
          ],
          "scatter": [
           {
            "fillpattern": {
             "fillmode": "overlay",
             "size": 10,
             "solidity": 0.2
            },
            "type": "scatter"
           }
          ],
          "parcoords": [
           {
            "type": "parcoords",
            "line": {
             "colorbar": {
              "outlinewidth": 0,
              "ticks": ""
             }
            }
           }
          ],
          "scatterpolargl": [
           {
            "type": "scatterpolargl",
            "marker": {
             "colorbar": {
              "outlinewidth": 0,
              "ticks": ""
             }
            }
           }
          ],
          "bar": [
           {
            "error_x": {
             "color": "#2a3f5f"
            },
            "error_y": {
             "color": "#2a3f5f"
            },
            "marker": {
             "line": {
              "color": "#E5ECF6",
              "width": 0.5
             },
             "pattern": {
              "fillmode": "overlay",
              "size": 10,
              "solidity": 0.2
             }
            },
            "type": "bar"
           }
          ],
          "scattergeo": [
           {
            "type": "scattergeo",
            "marker": {
             "colorbar": {
              "outlinewidth": 0,
              "ticks": ""
             }
            }
           }
          ],
          "scatterpolar": [
           {
            "type": "scatterpolar",
            "marker": {
             "colorbar": {
              "outlinewidth": 0,
              "ticks": ""
             }
            }
           }
          ],
          "histogram": [
           {
            "marker": {
             "pattern": {
              "fillmode": "overlay",
              "size": 10,
              "solidity": 0.2
             }
            },
            "type": "histogram"
           }
          ],
          "scattergl": [
           {
            "type": "scattergl",
            "marker": {
             "colorbar": {
              "outlinewidth": 0,
              "ticks": ""
             }
            }
           }
          ],
          "scatter3d": [
           {
            "type": "scatter3d",
            "line": {
             "colorbar": {
              "outlinewidth": 0,
              "ticks": ""
             }
            },
            "marker": {
             "colorbar": {
              "outlinewidth": 0,
              "ticks": ""
             }
            }
           }
          ],
          "scattermapbox": [
           {
            "type": "scattermapbox",
            "marker": {
             "colorbar": {
              "outlinewidth": 0,
              "ticks": ""
             }
            }
           }
          ],
          "scatterternary": [
           {
            "type": "scatterternary",
            "marker": {
             "colorbar": {
              "outlinewidth": 0,
              "ticks": ""
             }
            }
           }
          ],
          "scattercarpet": [
           {
            "type": "scattercarpet",
            "marker": {
             "colorbar": {
              "outlinewidth": 0,
              "ticks": ""
             }
            }
           }
          ],
          "carpet": [
           {
            "aaxis": {
             "endlinecolor": "#2a3f5f",
             "gridcolor": "white",
             "linecolor": "white",
             "minorgridcolor": "white",
             "startlinecolor": "#2a3f5f"
            },
            "baxis": {
             "endlinecolor": "#2a3f5f",
             "gridcolor": "white",
             "linecolor": "white",
             "minorgridcolor": "white",
             "startlinecolor": "#2a3f5f"
            },
            "type": "carpet"
           }
          ],
          "table": [
           {
            "cells": {
             "fill": {
              "color": "#EBF0F8"
             },
             "line": {
              "color": "white"
             }
            },
            "header": {
             "fill": {
              "color": "#C8D4E3"
             },
             "line": {
              "color": "white"
             }
            },
            "type": "table"
           }
          ],
          "barpolar": [
           {
            "marker": {
             "line": {
              "color": "#E5ECF6",
              "width": 0.5
             },
             "pattern": {
              "fillmode": "overlay",
              "size": 10,
              "solidity": 0.2
             }
            },
            "type": "barpolar"
           }
          ],
          "pie": [
           {
            "automargin": true,
            "type": "pie"
           }
          ]
         },
         "layout": {
          "autotypenumbers": "strict",
          "colorway": [
           "#636efa",
           "#EF553B",
           "#00cc96",
           "#ab63fa",
           "#FFA15A",
           "#19d3f3",
           "#FF6692",
           "#B6E880",
           "#FF97FF",
           "#FECB52"
          ],
          "font": {
           "color": "#2a3f5f"
          },
          "hovermode": "closest",
          "hoverlabel": {
           "align": "left"
          },
          "paper_bgcolor": "white",
          "plot_bgcolor": "#E5ECF6",
          "polar": {
           "bgcolor": "#E5ECF6",
           "angularaxis": {
            "gridcolor": "white",
            "linecolor": "white",
            "ticks": ""
           },
           "radialaxis": {
            "gridcolor": "white",
            "linecolor": "white",
            "ticks": ""
           }
          },
          "ternary": {
           "bgcolor": "#E5ECF6",
           "aaxis": {
            "gridcolor": "white",
            "linecolor": "white",
            "ticks": ""
           },
           "baxis": {
            "gridcolor": "white",
            "linecolor": "white",
            "ticks": ""
           },
           "caxis": {
            "gridcolor": "white",
            "linecolor": "white",
            "ticks": ""
           }
          },
          "coloraxis": {
           "colorbar": {
            "outlinewidth": 0,
            "ticks": ""
           }
          },
          "colorscale": {
           "sequential": [
            [
             0,
             "#0d0887"
            ],
            [
             0.1111111111111111,
             "#46039f"
            ],
            [
             0.2222222222222222,
             "#7201a8"
            ],
            [
             0.3333333333333333,
             "#9c179e"
            ],
            [
             0.4444444444444444,
             "#bd3786"
            ],
            [
             0.5555555555555556,
             "#d8576b"
            ],
            [
             0.6666666666666666,
             "#ed7953"
            ],
            [
             0.7777777777777778,
             "#fb9f3a"
            ],
            [
             0.8888888888888888,
             "#fdca26"
            ],
            [
             1,
             "#f0f921"
            ]
           ],
           "sequentialminus": [
            [
             0,
             "#0d0887"
            ],
            [
             0.1111111111111111,
             "#46039f"
            ],
            [
             0.2222222222222222,
             "#7201a8"
            ],
            [
             0.3333333333333333,
             "#9c179e"
            ],
            [
             0.4444444444444444,
             "#bd3786"
            ],
            [
             0.5555555555555556,
             "#d8576b"
            ],
            [
             0.6666666666666666,
             "#ed7953"
            ],
            [
             0.7777777777777778,
             "#fb9f3a"
            ],
            [
             0.8888888888888888,
             "#fdca26"
            ],
            [
             1,
             "#f0f921"
            ]
           ],
           "diverging": [
            [
             0,
             "#8e0152"
            ],
            [
             0.1,
             "#c51b7d"
            ],
            [
             0.2,
             "#de77ae"
            ],
            [
             0.3,
             "#f1b6da"
            ],
            [
             0.4,
             "#fde0ef"
            ],
            [
             0.5,
             "#f7f7f7"
            ],
            [
             0.6,
             "#e6f5d0"
            ],
            [
             0.7,
             "#b8e186"
            ],
            [
             0.8,
             "#7fbc41"
            ],
            [
             0.9,
             "#4d9221"
            ],
            [
             1,
             "#276419"
            ]
           ]
          },
          "xaxis": {
           "gridcolor": "white",
           "linecolor": "white",
           "ticks": "",
           "title": {
            "standoff": 15
           },
           "zerolinecolor": "white",
           "automargin": true,
           "zerolinewidth": 2
          },
          "yaxis": {
           "gridcolor": "white",
           "linecolor": "white",
           "ticks": "",
           "title": {
            "standoff": 15
           },
           "zerolinecolor": "white",
           "automargin": true,
           "zerolinewidth": 2
          },
          "scene": {
           "xaxis": {
            "backgroundcolor": "#E5ECF6",
            "gridcolor": "white",
            "linecolor": "white",
            "showbackground": true,
            "ticks": "",
            "zerolinecolor": "white",
            "gridwidth": 2
           },
           "yaxis": {
            "backgroundcolor": "#E5ECF6",
            "gridcolor": "white",
            "linecolor": "white",
            "showbackground": true,
            "ticks": "",
            "zerolinecolor": "white",
            "gridwidth": 2
           },
           "zaxis": {
            "backgroundcolor": "#E5ECF6",
            "gridcolor": "white",
            "linecolor": "white",
            "showbackground": true,
            "ticks": "",
            "zerolinecolor": "white",
            "gridwidth": 2
           }
          },
          "shapedefaults": {
           "line": {
            "color": "#2a3f5f"
           }
          },
          "annotationdefaults": {
           "arrowcolor": "#2a3f5f",
           "arrowhead": 0,
           "arrowwidth": 1
          },
          "geo": {
           "bgcolor": "white",
           "landcolor": "#E5ECF6",
           "subunitcolor": "white",
           "showland": true,
           "showlakes": true,
           "lakecolor": "white"
          },
          "title": {
           "x": 0.05
          },
          "mapbox": {
           "style": "light"
          }
         }
        },
        "xaxis": {
         "anchor": "y",
         "domain": [
          0,
          1
         ],
         "title": {
          "text": "Date"
         }
        },
        "yaxis": {
         "anchor": "x",
         "domain": [
          0,
          1
         ],
         "title": {
          "text": "Difference"
         }
        },
        "legend": {
         "tracegroupgap": 0
        },
        "margin": {
         "t": 60
        }
       },
       "config": {
        "plotlyServerURL": "https://plot.ly"
       }
      }
     },
     "metadata": {}
    }
   ],
   "metadata": {}
  },
  {
   "cell_type": "code",
   "execution_count": 35,
   "source": [
    "sns.pairplot(data,height=4);\n"
   ],
   "outputs": [
    {
     "output_type": "display_data",
     "data": {
      "image/png": "[encoded data removed]",
      "text/plain": [
       "<Figure size 2304x2304 with 72 Axes>"
      ]
     },
     "metadata": {
      "needs_background": "light"
     }
    }
   ],
   "metadata": {}
  },
  {
   "cell_type": "code",
   "execution_count": null,
   "source": [],
   "outputs": [],
   "metadata": {}
  }
 ],
 "metadata": {
  "orig_nbformat": 4,
  "language_info": {
   "name": "python",
   "version": "3.7.11",
   "mimetype": "text/x-python",
   "codemirror_mode": {
    "name": "ipython",
    "version": 3
   },
   "pygments_lexer": "ipython3",
   "nbconvert_exporter": "python",
   "file_extension": ".py"
  },
  "kernelspec": {
   "name": "python3",
   "display_name": "Python 3.7.11 64-bit ('ih_final_project': conda)"
  },
  "interpreter": {
   "hash": "e1d7778ce60d21d945d58d36373d70956fd987987f0ca548e053d2a38b9d8628"
  }
 },
 "nbformat": 4,
 "nbformat_minor": 2
}