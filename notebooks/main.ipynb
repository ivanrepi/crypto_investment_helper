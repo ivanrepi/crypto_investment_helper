{
 "cells": [
  {
   "cell_type": "code",
   "execution_count": 7,
   "source": [
    "import yfinance as yf\n",
    "from datetime import date\n",
    "cryptocurrencies = ['BTC-USD','ETH-USD', 'USDT-USD', 'BNB-USD','USDC-USD','SOL-USD','XRP-USD','LUNA-USD','ADA-USD','AVAX-USD','DOGE-USD','UST-USD','BUSD-USD','DOT-USD','SHIB-USD']\n",
    "data = yf.download(cryptocurrencies, start='2020-01-01',\n",
    "                end=date.today())\n",
    "data.info()\n"
   ],
   "outputs": [
    {
     "output_type": "stream",
     "name": "stdout",
     "text": [
      "[*********************100%***********************]  15 of 15 completed\n",
      "<class 'pandas.core.frame.DataFrame'>\n",
      "DatetimeIndex: 846 entries, 2019-12-31 to 2022-04-24\n",
      "Freq: D\n",
      "Data columns (total 90 columns):\n",
      " #   Column                 Non-Null Count  Dtype  \n",
      "---  ------                 --------------  -----  \n",
      " 0   (Adj Close, ADA-USD)   846 non-null    float64\n",
      " 1   (Adj Close, AVAX-USD)  582 non-null    float64\n",
      " 2   (Adj Close, BNB-USD)   846 non-null    float64\n",
      " 3   (Adj Close, BTC-USD)   846 non-null    float64\n",
      " 4   (Adj Close, BUSD-USD)  846 non-null    float64\n",
      " 5   (Adj Close, DOGE-USD)  846 non-null    float64\n",
      " 6   (Adj Close, DOT-USD)   540 non-null    float64\n",
      " 7   (Adj Close, ETH-USD)   846 non-null    float64\n",
      " 8   (Adj Close, LUNA-USD)  846 non-null    float64\n",
      " 9   (Adj Close, SHIB-USD)  632 non-null    float64\n",
      " 10  (Adj Close, SOL-USD)   745 non-null    float64\n",
      " 11  (Adj Close, USDC-USD)  846 non-null    float64\n",
      " 12  (Adj Close, USDT-USD)  846 non-null    float64\n",
      " 13  (Adj Close, UST-USD)   516 non-null    float64\n",
      " 14  (Adj Close, XRP-USD)   846 non-null    float64\n",
      " 15  (Close, ADA-USD)       846 non-null    float64\n",
      " 16  (Close, AVAX-USD)      582 non-null    float64\n",
      " 17  (Close, BNB-USD)       846 non-null    float64\n",
      " 18  (Close, BTC-USD)       846 non-null    float64\n",
      " 19  (Close, BUSD-USD)      846 non-null    float64\n",
      " 20  (Close, DOGE-USD)      846 non-null    float64\n",
      " 21  (Close, DOT-USD)       540 non-null    float64\n",
      " 22  (Close, ETH-USD)       846 non-null    float64\n",
      " 23  (Close, LUNA-USD)      846 non-null    float64\n",
      " 24  (Close, SHIB-USD)      632 non-null    float64\n",
      " 25  (Close, SOL-USD)       745 non-null    float64\n",
      " 26  (Close, USDC-USD)      846 non-null    float64\n",
      " 27  (Close, USDT-USD)      846 non-null    float64\n",
      " 28  (Close, UST-USD)       516 non-null    float64\n",
      " 29  (Close, XRP-USD)       846 non-null    float64\n",
      " 30  (High, ADA-USD)        846 non-null    float64\n",
      " 31  (High, AVAX-USD)       582 non-null    float64\n",
      " 32  (High, BNB-USD)        846 non-null    float64\n",
      " 33  (High, BTC-USD)        846 non-null    float64\n",
      " 34  (High, BUSD-USD)       846 non-null    float64\n",
      " 35  (High, DOGE-USD)       846 non-null    float64\n",
      " 36  (High, DOT-USD)        540 non-null    float64\n",
      " 37  (High, ETH-USD)        846 non-null    float64\n",
      " 38  (High, LUNA-USD)       846 non-null    float64\n",
      " 39  (High, SHIB-USD)       632 non-null    float64\n",
      " 40  (High, SOL-USD)        745 non-null    float64\n",
      " 41  (High, USDC-USD)       846 non-null    float64\n",
      " 42  (High, USDT-USD)       846 non-null    float64\n",
      " 43  (High, UST-USD)        516 non-null    float64\n",
      " 44  (High, XRP-USD)        846 non-null    float64\n",
      " 45  (Low, ADA-USD)         846 non-null    float64\n",
      " 46  (Low, AVAX-USD)        582 non-null    float64\n",
      " 47  (Low, BNB-USD)         846 non-null    float64\n",
      " 48  (Low, BTC-USD)         846 non-null    float64\n",
      " 49  (Low, BUSD-USD)        846 non-null    float64\n",
      " 50  (Low, DOGE-USD)        846 non-null    float64\n",
      " 51  (Low, DOT-USD)         540 non-null    float64\n",
      " 52  (Low, ETH-USD)         846 non-null    float64\n",
      " 53  (Low, LUNA-USD)        846 non-null    float64\n",
      " 54  (Low, SHIB-USD)        632 non-null    float64\n",
      " 55  (Low, SOL-USD)         745 non-null    float64\n",
      " 56  (Low, USDC-USD)        846 non-null    float64\n",
      " 57  (Low, USDT-USD)        846 non-null    float64\n",
      " 58  (Low, UST-USD)         516 non-null    float64\n",
      " 59  (Low, XRP-USD)         846 non-null    float64\n",
      " 60  (Open, ADA-USD)        846 non-null    float64\n",
      " 61  (Open, AVAX-USD)       582 non-null    float64\n",
      " 62  (Open, BNB-USD)        846 non-null    float64\n",
      " 63  (Open, BTC-USD)        846 non-null    float64\n",
      " 64  (Open, BUSD-USD)       846 non-null    float64\n",
      " 65  (Open, DOGE-USD)       846 non-null    float64\n",
      " 66  (Open, DOT-USD)        540 non-null    float64\n",
      " 67  (Open, ETH-USD)        846 non-null    float64\n",
      " 68  (Open, LUNA-USD)       846 non-null    float64\n",
      " 69  (Open, SHIB-USD)       632 non-null    float64\n",
      " 70  (Open, SOL-USD)        745 non-null    float64\n",
      " 71  (Open, USDC-USD)       846 non-null    float64\n",
      " 72  (Open, USDT-USD)       846 non-null    float64\n",
      " 73  (Open, UST-USD)        516 non-null    float64\n",
      " 74  (Open, XRP-USD)        846 non-null    float64\n",
      " 75  (Volume, ADA-USD)      846 non-null    int64  \n",
      " 76  (Volume, AVAX-USD)     582 non-null    float64\n",
      " 77  (Volume, BNB-USD)      846 non-null    int64  \n",
      " 78  (Volume, BTC-USD)      846 non-null    int64  \n",
      " 79  (Volume, BUSD-USD)     846 non-null    int64  \n",
      " 80  (Volume, DOGE-USD)     846 non-null    int64  \n",
      " 81  (Volume, DOT-USD)      540 non-null    float64\n",
      " 82  (Volume, ETH-USD)      846 non-null    int64  \n",
      " 83  (Volume, LUNA-USD)     846 non-null    int64  \n",
      " 84  (Volume, SHIB-USD)     632 non-null    float64\n",
      " 85  (Volume, SOL-USD)      745 non-null    float64\n",
      " 86  (Volume, USDC-USD)     846 non-null    int64  \n",
      " 87  (Volume, USDT-USD)     846 non-null    int64  \n",
      " 88  (Volume, UST-USD)      516 non-null    float64\n",
      " 89  (Volume, XRP-USD)      846 non-null    int64  \n",
      "dtypes: float64(80), int64(10)\n",
      "memory usage: 601.5 KB\n"
     ]
    }
   ],
   "metadata": {}
  },
  {
   "cell_type": "code",
   "execution_count": 27,
   "source": [
    "import requests\n",
    "from bs4 import BeautifulSoup\n",
    "url = 'https://coinmarketcap.com/currencies/bitcoin'\n",
    "\n",
    "html_response = requests.get(url).content\n",
    "soup = BeautifulSoup(html_response, \"html.parser\") \n"
   ],
   "outputs": [],
   "metadata": {}
  },
  {
   "cell_type": "code",
   "execution_count": 34,
   "source": [
    "soup.find_all(\"main\")"
   ],
   "outputs": [
    {
     "output_type": "execute_result",
     "data": {
      "text/plain": [
       "[]"
      ]
     },
     "metadata": {},
     "execution_count": 34
    }
   ],
   "metadata": {}
  },
  {
   "cell_type": "code",
   "execution_count": 38,
   "source": [
    "import pandas as pd\n",
    "df = pd.read_csv('../data/test_description.csv')\n",
    "crypto_mapping = {\"Bitcoin\": \"BTC-USD\", \n",
    "                \"Ethereum\": \"ETH-USD\", \n",
    "                \"Tether\": \"USDT-USD\", \n",
    "                \"BNB\": \"BNB-USD\", \n",
    "                \"USD Coin\": \"USDC-USD\", \n",
    "                \"Solana\": \"SOL-USD\", \n",
    "                \"XRP\": \"XRP-USD\", \n",
    "                \"Terra\": \"LUNA-USD\", \n",
    "                \"Cardano\": \"ADA-USD\", \n",
    "                \"Avalanche\": \"AVAX-USD\", \n",
    "                \"Dogecoin\": \"DOGE-USD\", \n",
    "                \"TerraUSD\": \"UST-USD\", \n",
    "                \"Binance USD\": \"BUSD-USD\", \n",
    "                \"Polkadot\": \"DOT-USD\", \n",
    "                \"Shiba Inu\": \"SHIB-USD\"}"
   ],
   "outputs": [],
   "metadata": {}
  },
  {
   "cell_type": "code",
   "execution_count": null,
   "source": [
    "df"
   ],
   "outputs": [],
   "metadata": {}
  },
  {
   "cell_type": "code",
   "execution_count": 48,
   "source": [
    "cc = 'Ethereum'\n",
    "description = df [df['Name']==cc]['Description'][0]\n",
    "description"
   ],
   "outputs": [
    {
     "output_type": "error",
     "ename": "KeyError",
     "evalue": "0",
     "traceback": [
      "\u001b[0;31m---------------------------------------------------------------------------\u001b[0m",
      "\u001b[0;31mKeyError\u001b[0m                                  Traceback (most recent call last)",
      "\u001b[0;32m~/miniconda3/envs/ih_final_project/lib/python3.7/site-packages/pandas/core/indexes/base.py\u001b[0m in \u001b[0;36mget_loc\u001b[0;34m(self, key, method, tolerance)\u001b[0m\n\u001b[1;32m   3360\u001b[0m             \u001b[0;32mtry\u001b[0m\u001b[0;34m:\u001b[0m\u001b[0;34m\u001b[0m\u001b[0;34m\u001b[0m\u001b[0m\n\u001b[0;32m-> 3361\u001b[0;31m                 \u001b[0;32mreturn\u001b[0m \u001b[0mself\u001b[0m\u001b[0;34m.\u001b[0m\u001b[0m_engine\u001b[0m\u001b[0;34m.\u001b[0m\u001b[0mget_loc\u001b[0m\u001b[0;34m(\u001b[0m\u001b[0mcasted_key\u001b[0m\u001b[0;34m)\u001b[0m\u001b[0;34m\u001b[0m\u001b[0;34m\u001b[0m\u001b[0m\n\u001b[0m\u001b[1;32m   3362\u001b[0m             \u001b[0;32mexcept\u001b[0m \u001b[0mKeyError\u001b[0m \u001b[0;32mas\u001b[0m \u001b[0merr\u001b[0m\u001b[0;34m:\u001b[0m\u001b[0;34m\u001b[0m\u001b[0;34m\u001b[0m\u001b[0m\n",
      "\u001b[0;32m~/miniconda3/envs/ih_final_project/lib/python3.7/site-packages/pandas/_libs/index.pyx\u001b[0m in \u001b[0;36mpandas._libs.index.IndexEngine.get_loc\u001b[0;34m()\u001b[0m\n",
      "\u001b[0;32m~/miniconda3/envs/ih_final_project/lib/python3.7/site-packages/pandas/_libs/index.pyx\u001b[0m in \u001b[0;36mpandas._libs.index.IndexEngine.get_loc\u001b[0;34m()\u001b[0m\n",
      "\u001b[0;32mpandas/_libs/hashtable_class_helper.pxi\u001b[0m in \u001b[0;36mpandas._libs.hashtable.Int64HashTable.get_item\u001b[0;34m()\u001b[0m\n",
      "\u001b[0;32mpandas/_libs/hashtable_class_helper.pxi\u001b[0m in \u001b[0;36mpandas._libs.hashtable.Int64HashTable.get_item\u001b[0;34m()\u001b[0m\n",
      "\u001b[0;31mKeyError\u001b[0m: 0",
      "\nThe above exception was the direct cause of the following exception:\n",
      "\u001b[0;31mKeyError\u001b[0m                                  Traceback (most recent call last)",
      "\u001b[0;32m/var/folders/40/fyg8xwn57w35xfgkjf6frjkr0000gn/T/ipykernel_41513/1624693314.py\u001b[0m in \u001b[0;36m<module>\u001b[0;34m\u001b[0m\n\u001b[1;32m      1\u001b[0m \u001b[0mcc\u001b[0m \u001b[0;34m=\u001b[0m \u001b[0;34m'Ethereum'\u001b[0m\u001b[0;34m\u001b[0m\u001b[0;34m\u001b[0m\u001b[0m\n\u001b[0;32m----> 2\u001b[0;31m \u001b[0mdescription\u001b[0m \u001b[0;34m=\u001b[0m \u001b[0mdf\u001b[0m \u001b[0;34m[\u001b[0m\u001b[0mdf\u001b[0m\u001b[0;34m[\u001b[0m\u001b[0;34m'Name'\u001b[0m\u001b[0;34m]\u001b[0m\u001b[0;34m==\u001b[0m\u001b[0mcc\u001b[0m\u001b[0;34m]\u001b[0m\u001b[0;34m[\u001b[0m\u001b[0;34m'Description'\u001b[0m\u001b[0;34m]\u001b[0m\u001b[0;34m[\u001b[0m\u001b[0;36m0\u001b[0m\u001b[0;34m]\u001b[0m\u001b[0;34m\u001b[0m\u001b[0;34m\u001b[0m\u001b[0m\n\u001b[0m\u001b[1;32m      3\u001b[0m \u001b[0mdescription\u001b[0m\u001b[0;34m\u001b[0m\u001b[0;34m\u001b[0m\u001b[0m\n",
      "\u001b[0;32m~/miniconda3/envs/ih_final_project/lib/python3.7/site-packages/pandas/core/series.py\u001b[0m in \u001b[0;36m__getitem__\u001b[0;34m(self, key)\u001b[0m\n\u001b[1;32m    940\u001b[0m \u001b[0;34m\u001b[0m\u001b[0m\n\u001b[1;32m    941\u001b[0m         \u001b[0;32melif\u001b[0m \u001b[0mkey_is_scalar\u001b[0m\u001b[0;34m:\u001b[0m\u001b[0;34m\u001b[0m\u001b[0;34m\u001b[0m\u001b[0m\n\u001b[0;32m--> 942\u001b[0;31m             \u001b[0;32mreturn\u001b[0m \u001b[0mself\u001b[0m\u001b[0;34m.\u001b[0m\u001b[0m_get_value\u001b[0m\u001b[0;34m(\u001b[0m\u001b[0mkey\u001b[0m\u001b[0;34m)\u001b[0m\u001b[0;34m\u001b[0m\u001b[0;34m\u001b[0m\u001b[0m\n\u001b[0m\u001b[1;32m    943\u001b[0m \u001b[0;34m\u001b[0m\u001b[0m\n\u001b[1;32m    944\u001b[0m         \u001b[0;32mif\u001b[0m \u001b[0mis_hashable\u001b[0m\u001b[0;34m(\u001b[0m\u001b[0mkey\u001b[0m\u001b[0;34m)\u001b[0m\u001b[0;34m:\u001b[0m\u001b[0;34m\u001b[0m\u001b[0;34m\u001b[0m\u001b[0m\n",
      "\u001b[0;32m~/miniconda3/envs/ih_final_project/lib/python3.7/site-packages/pandas/core/series.py\u001b[0m in \u001b[0;36m_get_value\u001b[0;34m(self, label, takeable)\u001b[0m\n\u001b[1;32m   1049\u001b[0m \u001b[0;34m\u001b[0m\u001b[0m\n\u001b[1;32m   1050\u001b[0m         \u001b[0;31m# Similar to Index.get_value, but we do not fall back to positional\u001b[0m\u001b[0;34m\u001b[0m\u001b[0;34m\u001b[0m\u001b[0;34m\u001b[0m\u001b[0m\n\u001b[0;32m-> 1051\u001b[0;31m         \u001b[0mloc\u001b[0m \u001b[0;34m=\u001b[0m \u001b[0mself\u001b[0m\u001b[0;34m.\u001b[0m\u001b[0mindex\u001b[0m\u001b[0;34m.\u001b[0m\u001b[0mget_loc\u001b[0m\u001b[0;34m(\u001b[0m\u001b[0mlabel\u001b[0m\u001b[0;34m)\u001b[0m\u001b[0;34m\u001b[0m\u001b[0;34m\u001b[0m\u001b[0m\n\u001b[0m\u001b[1;32m   1052\u001b[0m         \u001b[0;32mreturn\u001b[0m \u001b[0mself\u001b[0m\u001b[0;34m.\u001b[0m\u001b[0mindex\u001b[0m\u001b[0;34m.\u001b[0m\u001b[0m_get_values_for_loc\u001b[0m\u001b[0;34m(\u001b[0m\u001b[0mself\u001b[0m\u001b[0;34m,\u001b[0m \u001b[0mloc\u001b[0m\u001b[0;34m,\u001b[0m \u001b[0mlabel\u001b[0m\u001b[0;34m)\u001b[0m\u001b[0;34m\u001b[0m\u001b[0;34m\u001b[0m\u001b[0m\n\u001b[1;32m   1053\u001b[0m \u001b[0;34m\u001b[0m\u001b[0m\n",
      "\u001b[0;32m~/miniconda3/envs/ih_final_project/lib/python3.7/site-packages/pandas/core/indexes/base.py\u001b[0m in \u001b[0;36mget_loc\u001b[0;34m(self, key, method, tolerance)\u001b[0m\n\u001b[1;32m   3361\u001b[0m                 \u001b[0;32mreturn\u001b[0m \u001b[0mself\u001b[0m\u001b[0;34m.\u001b[0m\u001b[0m_engine\u001b[0m\u001b[0;34m.\u001b[0m\u001b[0mget_loc\u001b[0m\u001b[0;34m(\u001b[0m\u001b[0mcasted_key\u001b[0m\u001b[0;34m)\u001b[0m\u001b[0;34m\u001b[0m\u001b[0;34m\u001b[0m\u001b[0m\n\u001b[1;32m   3362\u001b[0m             \u001b[0;32mexcept\u001b[0m \u001b[0mKeyError\u001b[0m \u001b[0;32mas\u001b[0m \u001b[0merr\u001b[0m\u001b[0;34m:\u001b[0m\u001b[0;34m\u001b[0m\u001b[0;34m\u001b[0m\u001b[0m\n\u001b[0;32m-> 3363\u001b[0;31m                 \u001b[0;32mraise\u001b[0m \u001b[0mKeyError\u001b[0m\u001b[0;34m(\u001b[0m\u001b[0mkey\u001b[0m\u001b[0;34m)\u001b[0m \u001b[0;32mfrom\u001b[0m \u001b[0merr\u001b[0m\u001b[0;34m\u001b[0m\u001b[0;34m\u001b[0m\u001b[0m\n\u001b[0m\u001b[1;32m   3364\u001b[0m \u001b[0;34m\u001b[0m\u001b[0m\n\u001b[1;32m   3365\u001b[0m         \u001b[0;32mif\u001b[0m \u001b[0mis_scalar\u001b[0m\u001b[0;34m(\u001b[0m\u001b[0mkey\u001b[0m\u001b[0;34m)\u001b[0m \u001b[0;32mand\u001b[0m \u001b[0misna\u001b[0m\u001b[0;34m(\u001b[0m\u001b[0mkey\u001b[0m\u001b[0;34m)\u001b[0m \u001b[0;32mand\u001b[0m \u001b[0;32mnot\u001b[0m \u001b[0mself\u001b[0m\u001b[0;34m.\u001b[0m\u001b[0mhasnans\u001b[0m\u001b[0;34m:\u001b[0m\u001b[0;34m\u001b[0m\u001b[0;34m\u001b[0m\u001b[0m\n",
      "\u001b[0;31mKeyError\u001b[0m: 0"
     ]
    }
   ],
   "metadata": {}
  }
 ],
 "metadata": {
  "orig_nbformat": 4,
  "language_info": {
   "name": "python",
   "version": "3.7.11",
   "mimetype": "text/x-python",
   "codemirror_mode": {
    "name": "ipython",
    "version": 3
   },
   "pygments_lexer": "ipython3",
   "nbconvert_exporter": "python",
   "file_extension": ".py"
  },
  "kernelspec": {
   "name": "python3",
   "display_name": "Python 3.7.11 64-bit ('ih_final_project': conda)"
  },
  "interpreter": {
   "hash": "e1d7778ce60d21d945d58d36373d70956fd987987f0ca548e053d2a38b9d8628"
  }
 },
 "nbformat": 4,
 "nbformat_minor": 2
}