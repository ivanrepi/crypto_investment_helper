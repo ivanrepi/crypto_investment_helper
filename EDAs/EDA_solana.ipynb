{
 "cells": [
  {
   "cell_type": "code",
   "execution_count": 1,
   "source": [
    "import pandas as pd\n",
    "import numpy as np\n",
    "import matplotlib.pyplot as plt\n",
    "import plotly.express as px\n",
    "import seaborn as sns\n"
   ],
   "outputs": [],
   "metadata": {}
  },
  {
   "cell_type": "code",
   "execution_count": 2,
   "source": [
    "import sqlite3\n",
    "conn = sqlite3.connect('../data/hist_prices.db')\n",
    "c = conn.cursor()"
   ],
   "outputs": [],
   "metadata": {}
  },
  {
   "cell_type": "code",
   "execution_count": 3,
   "source": [
    "data = pd.read_sql('''SELECT * FROM solana''', conn)\n",
    "data.head()"
   ],
   "outputs": [
    {
     "output_type": "execute_result",
     "data": {
      "text/html": [
       "<div>\n",
       "<style scoped>\n",
       "    .dataframe tbody tr th:only-of-type {\n",
       "        vertical-align: middle;\n",
       "    }\n",
       "\n",
       "    .dataframe tbody tr th {\n",
       "        vertical-align: top;\n",
       "    }\n",
       "\n",
       "    .dataframe thead th {\n",
       "        text-align: right;\n",
       "    }\n",
       "</style>\n",
       "<table border=\"1\" class=\"dataframe\">\n",
       "  <thead>\n",
       "    <tr style=\"text-align: right;\">\n",
       "      <th></th>\n",
       "      <th>SNo</th>\n",
       "      <th>Name</th>\n",
       "      <th>Symbol</th>\n",
       "      <th>Date</th>\n",
       "      <th>High</th>\n",
       "      <th>Low</th>\n",
       "      <th>Open</th>\n",
       "      <th>Close</th>\n",
       "      <th>Volume</th>\n",
       "      <th>Marketcap</th>\n",
       "    </tr>\n",
       "  </thead>\n",
       "  <tbody>\n",
       "    <tr>\n",
       "      <th>0</th>\n",
       "      <td>1</td>\n",
       "      <td>Solana</td>\n",
       "      <td>SOL</td>\n",
       "      <td>2020-04-11 23:59:59</td>\n",
       "      <td>1.049073</td>\n",
       "      <td>0.765020</td>\n",
       "      <td>0.951054</td>\n",
       "      <td>0.776819</td>\n",
       "      <td>4.386244e+07</td>\n",
       "      <td>0.0</td>\n",
       "    </tr>\n",
       "    <tr>\n",
       "      <th>1</th>\n",
       "      <td>2</td>\n",
       "      <td>Solana</td>\n",
       "      <td>SOL</td>\n",
       "      <td>2020-04-12 23:59:59</td>\n",
       "      <td>0.956670</td>\n",
       "      <td>0.762426</td>\n",
       "      <td>0.785448</td>\n",
       "      <td>0.882507</td>\n",
       "      <td>3.873690e+07</td>\n",
       "      <td>0.0</td>\n",
       "    </tr>\n",
       "    <tr>\n",
       "      <th>2</th>\n",
       "      <td>3</td>\n",
       "      <td>Solana</td>\n",
       "      <td>SOL</td>\n",
       "      <td>2020-04-13 23:59:59</td>\n",
       "      <td>0.891603</td>\n",
       "      <td>0.773976</td>\n",
       "      <td>0.890760</td>\n",
       "      <td>0.777832</td>\n",
       "      <td>1.821129e+07</td>\n",
       "      <td>0.0</td>\n",
       "    </tr>\n",
       "    <tr>\n",
       "      <th>3</th>\n",
       "      <td>4</td>\n",
       "      <td>Solana</td>\n",
       "      <td>SOL</td>\n",
       "      <td>2020-04-14 23:59:59</td>\n",
       "      <td>0.796472</td>\n",
       "      <td>0.628169</td>\n",
       "      <td>0.777832</td>\n",
       "      <td>0.661925</td>\n",
       "      <td>1.674761e+07</td>\n",
       "      <td>0.0</td>\n",
       "    </tr>\n",
       "    <tr>\n",
       "      <th>4</th>\n",
       "      <td>5</td>\n",
       "      <td>Solana</td>\n",
       "      <td>SOL</td>\n",
       "      <td>2020-04-15 23:59:59</td>\n",
       "      <td>0.704964</td>\n",
       "      <td>0.621531</td>\n",
       "      <td>0.669289</td>\n",
       "      <td>0.646651</td>\n",
       "      <td>1.307528e+07</td>\n",
       "      <td>0.0</td>\n",
       "    </tr>\n",
       "  </tbody>\n",
       "</table>\n",
       "</div>"
      ],
      "text/plain": [
       "   SNo    Name Symbol                 Date      High       Low      Open  \\\n",
       "0    1  Solana    SOL  2020-04-11 23:59:59  1.049073  0.765020  0.951054   \n",
       "1    2  Solana    SOL  2020-04-12 23:59:59  0.956670  0.762426  0.785448   \n",
       "2    3  Solana    SOL  2020-04-13 23:59:59  0.891603  0.773976  0.890760   \n",
       "3    4  Solana    SOL  2020-04-14 23:59:59  0.796472  0.628169  0.777832   \n",
       "4    5  Solana    SOL  2020-04-15 23:59:59  0.704964  0.621531  0.669289   \n",
       "\n",
       "      Close        Volume  Marketcap  \n",
       "0  0.776819  4.386244e+07        0.0  \n",
       "1  0.882507  3.873690e+07        0.0  \n",
       "2  0.777832  1.821129e+07        0.0  \n",
       "3  0.661925  1.674761e+07        0.0  \n",
       "4  0.646651  1.307528e+07        0.0  "
      ]
     },
     "metadata": {},
     "execution_count": 3
    }
   ],
   "metadata": {}
  },
  {
   "cell_type": "code",
   "execution_count": 4,
   "source": [
    "# Add some more features derived from the exiting ones\n",
    "data['Range'] = data.High - data.Low\n",
    "data['Difference'] = data.Close - data.Open"
   ],
   "outputs": [],
   "metadata": {}
  },
  {
   "cell_type": "code",
   "execution_count": 5,
   "source": [
    "data.drop(labels='SNo', axis=1, inplace=True)\n",
    "data.info()"
   ],
   "outputs": [
    {
     "output_type": "stream",
     "name": "stdout",
     "text": [
      "<class 'pandas.core.frame.DataFrame'>\n",
      "RangeIndex: 452 entries, 0 to 451\n",
      "Data columns (total 11 columns):\n",
      " #   Column      Non-Null Count  Dtype  \n",
      "---  ------      --------------  -----  \n",
      " 0   Name        452 non-null    object \n",
      " 1   Symbol      452 non-null    object \n",
      " 2   Date        452 non-null    object \n",
      " 3   High        452 non-null    float64\n",
      " 4   Low         452 non-null    float64\n",
      " 5   Open        452 non-null    float64\n",
      " 6   Close       452 non-null    float64\n",
      " 7   Volume      452 non-null    float64\n",
      " 8   Marketcap   452 non-null    float64\n",
      " 9   Range       452 non-null    float64\n",
      " 10  Difference  452 non-null    float64\n",
      "dtypes: float64(8), object(3)\n",
      "memory usage: 39.0+ KB\n"
     ]
    }
   ],
   "metadata": {}
  },
  {
   "cell_type": "code",
   "execution_count": 6,
   "source": [
    "#Converting Date column to Datetime\n",
    "data['Date'] = pd.to_datetime(data['Date'])"
   ],
   "outputs": [],
   "metadata": {}
  },
  {
   "cell_type": "code",
   "execution_count": 7,
   "source": [
    "data.info()"
   ],
   "outputs": [
    {
     "output_type": "stream",
     "name": "stdout",
     "text": [
      "<class 'pandas.core.frame.DataFrame'>\n",
      "RangeIndex: 452 entries, 0 to 451\n",
      "Data columns (total 11 columns):\n",
      " #   Column      Non-Null Count  Dtype         \n",
      "---  ------      --------------  -----         \n",
      " 0   Name        452 non-null    object        \n",
      " 1   Symbol      452 non-null    object        \n",
      " 2   Date        452 non-null    datetime64[ns]\n",
      " 3   High        452 non-null    float64       \n",
      " 4   Low         452 non-null    float64       \n",
      " 5   Open        452 non-null    float64       \n",
      " 6   Close       452 non-null    float64       \n",
      " 7   Volume      452 non-null    float64       \n",
      " 8   Marketcap   452 non-null    float64       \n",
      " 9   Range       452 non-null    float64       \n",
      " 10  Difference  452 non-null    float64       \n",
      "dtypes: datetime64[ns](1), float64(8), object(2)\n",
      "memory usage: 39.0+ KB\n"
     ]
    }
   ],
   "metadata": {}
  },
  {
   "cell_type": "code",
   "execution_count": 8,
   "source": [
    "data.describe()"
   ],
   "outputs": [
    {
     "output_type": "execute_result",
     "data": {
      "text/html": [
       "<div>\n",
       "<style scoped>\n",
       "    .dataframe tbody tr th:only-of-type {\n",
       "        vertical-align: middle;\n",
       "    }\n",
       "\n",
       "    .dataframe tbody tr th {\n",
       "        vertical-align: top;\n",
       "    }\n",
       "\n",
       "    .dataframe thead th {\n",
       "        text-align: right;\n",
       "    }\n",
       "</style>\n",
       "<table border=\"1\" class=\"dataframe\">\n",
       "  <thead>\n",
       "    <tr style=\"text-align: right;\">\n",
       "      <th></th>\n",
       "      <th>High</th>\n",
       "      <th>Low</th>\n",
       "      <th>Open</th>\n",
       "      <th>Close</th>\n",
       "      <th>Volume</th>\n",
       "      <th>Marketcap</th>\n",
       "      <th>Range</th>\n",
       "      <th>Difference</th>\n",
       "    </tr>\n",
       "  </thead>\n",
       "  <tbody>\n",
       "    <tr>\n",
       "      <th>count</th>\n",
       "      <td>452.000000</td>\n",
       "      <td>452.000000</td>\n",
       "      <td>452.000000</td>\n",
       "      <td>452.000000</td>\n",
       "      <td>4.520000e+02</td>\n",
       "      <td>4.520000e+02</td>\n",
       "      <td>452.000000</td>\n",
       "      <td>452.000000</td>\n",
       "    </tr>\n",
       "    <tr>\n",
       "      <th>mean</th>\n",
       "      <td>11.190482</td>\n",
       "      <td>9.647555</td>\n",
       "      <td>10.400225</td>\n",
       "      <td>10.471388</td>\n",
       "      <td>1.956751e+08</td>\n",
       "      <td>2.588164e+09</td>\n",
       "      <td>1.542927</td>\n",
       "      <td>0.071164</td>\n",
       "    </tr>\n",
       "    <tr>\n",
       "      <th>std</th>\n",
       "      <td>15.148788</td>\n",
       "      <td>13.006301</td>\n",
       "      <td>14.082328</td>\n",
       "      <td>14.114444</td>\n",
       "      <td>3.906998e+08</td>\n",
       "      <td>3.985932e+09</td>\n",
       "      <td>2.749351</td>\n",
       "      <td>1.826989</td>\n",
       "    </tr>\n",
       "    <tr>\n",
       "      <th>min</th>\n",
       "      <td>0.559759</td>\n",
       "      <td>0.505194</td>\n",
       "      <td>0.513391</td>\n",
       "      <td>0.515273</td>\n",
       "      <td>6.520201e+05</td>\n",
       "      <td>0.000000e+00</td>\n",
       "      <td>0.020491</td>\n",
       "      <td>-20.982073</td>\n",
       "    </tr>\n",
       "    <tr>\n",
       "      <th>25%</th>\n",
       "      <td>1.484753</td>\n",
       "      <td>1.311024</td>\n",
       "      <td>1.410480</td>\n",
       "      <td>1.424761</td>\n",
       "      <td>7.851473e+06</td>\n",
       "      <td>3.056948e+07</td>\n",
       "      <td>0.131354</td>\n",
       "      <td>-0.114904</td>\n",
       "    </tr>\n",
       "    <tr>\n",
       "      <th>50%</th>\n",
       "      <td>3.018518</td>\n",
       "      <td>2.483870</td>\n",
       "      <td>2.867550</td>\n",
       "      <td>2.881389</td>\n",
       "      <td>1.858893e+07</td>\n",
       "      <td>1.042625e+08</td>\n",
       "      <td>0.397257</td>\n",
       "      <td>0.009377</td>\n",
       "    </tr>\n",
       "    <tr>\n",
       "      <th>75%</th>\n",
       "      <td>15.270240</td>\n",
       "      <td>13.774265</td>\n",
       "      <td>14.262057</td>\n",
       "      <td>14.362851</td>\n",
       "      <td>1.802343e+08</td>\n",
       "      <td>3.811371e+09</td>\n",
       "      <td>1.712573</td>\n",
       "      <td>0.203108</td>\n",
       "    </tr>\n",
       "    <tr>\n",
       "      <th>max</th>\n",
       "      <td>58.302927</td>\n",
       "      <td>46.187557</td>\n",
       "      <td>56.089257</td>\n",
       "      <td>55.910960</td>\n",
       "      <td>2.772225e+09</td>\n",
       "      <td>1.524342e+10</td>\n",
       "      <td>28.095912</td>\n",
       "      <td>9.699702</td>\n",
       "    </tr>\n",
       "  </tbody>\n",
       "</table>\n",
       "</div>"
      ],
      "text/plain": [
       "             High         Low        Open       Close        Volume  \\\n",
       "count  452.000000  452.000000  452.000000  452.000000  4.520000e+02   \n",
       "mean    11.190482    9.647555   10.400225   10.471388  1.956751e+08   \n",
       "std     15.148788   13.006301   14.082328   14.114444  3.906998e+08   \n",
       "min      0.559759    0.505194    0.513391    0.515273  6.520201e+05   \n",
       "25%      1.484753    1.311024    1.410480    1.424761  7.851473e+06   \n",
       "50%      3.018518    2.483870    2.867550    2.881389  1.858893e+07   \n",
       "75%     15.270240   13.774265   14.262057   14.362851  1.802343e+08   \n",
       "max     58.302927   46.187557   56.089257   55.910960  2.772225e+09   \n",
       "\n",
       "          Marketcap       Range  Difference  \n",
       "count  4.520000e+02  452.000000  452.000000  \n",
       "mean   2.588164e+09    1.542927    0.071164  \n",
       "std    3.985932e+09    2.749351    1.826989  \n",
       "min    0.000000e+00    0.020491  -20.982073  \n",
       "25%    3.056948e+07    0.131354   -0.114904  \n",
       "50%    1.042625e+08    0.397257    0.009377  \n",
       "75%    3.811371e+09    1.712573    0.203108  \n",
       "max    1.524342e+10   28.095912    9.699702  "
      ]
     },
     "metadata": {},
     "execution_count": 8
    }
   ],
   "metadata": {}
  },
  {
   "cell_type": "code",
   "execution_count": 9,
   "source": [
    "data[['High','Low','Open','Close','Volume','Marketcap','Range','Difference']].hist(bins=50, figsize = (20, 15))\n",
    "plt.show();"
   ],
   "outputs": [
    {
     "output_type": "display_data",
     "data": {
      "image/png": "[encoded data removed]",
      "text/plain": [
       "<Figure size 1440x1080 with 9 Axes>"
      ]
     },
     "metadata": {
      "needs_background": "light"
     }
    }
   ],
   "metadata": {}
  },
  {
   "cell_type": "code",
   "execution_count": 10,
   "source": [
    "#Days with the biggest price loss\n",
    "data[['Date', 'Difference']].sort_values(by='Difference').head(10).T"
   ],
   "outputs": [
    {
     "output_type": "execute_result",
     "data": {
      "text/html": [
       "<div>\n",
       "<style scoped>\n",
       "    .dataframe tbody tr th:only-of-type {\n",
       "        vertical-align: middle;\n",
       "    }\n",
       "\n",
       "    .dataframe tbody tr th {\n",
       "        vertical-align: top;\n",
       "    }\n",
       "\n",
       "    .dataframe thead th {\n",
       "        text-align: right;\n",
       "    }\n",
       "</style>\n",
       "<table border=\"1\" class=\"dataframe\">\n",
       "  <thead>\n",
       "    <tr style=\"text-align: right;\">\n",
       "      <th></th>\n",
       "      <th>403</th>\n",
       "      <th>436</th>\n",
       "      <th>406</th>\n",
       "      <th>407</th>\n",
       "      <th>405</th>\n",
       "      <th>426</th>\n",
       "      <th>412</th>\n",
       "      <th>422</th>\n",
       "      <th>380</th>\n",
       "      <th>320</th>\n",
       "    </tr>\n",
       "  </thead>\n",
       "  <tbody>\n",
       "    <tr>\n",
       "      <th>Date</th>\n",
       "      <td>2021-05-19 23:59:59</td>\n",
       "      <td>2021-06-21 23:59:59</td>\n",
       "      <td>2021-05-22 23:59:59</td>\n",
       "      <td>2021-05-23 23:59:59</td>\n",
       "      <td>2021-05-21 23:59:59</td>\n",
       "      <td>2021-06-11 23:59:59</td>\n",
       "      <td>2021-05-28 23:59:59</td>\n",
       "      <td>2021-06-07 23:59:59</td>\n",
       "      <td>2021-04-26 23:59:59</td>\n",
       "      <td>2021-02-25 23:59:59</td>\n",
       "    </tr>\n",
       "    <tr>\n",
       "      <th>Difference</th>\n",
       "      <td>-20.982073</td>\n",
       "      <td>-8.604035</td>\n",
       "      <td>-7.672796</td>\n",
       "      <td>-6.537019</td>\n",
       "      <td>-5.634401</td>\n",
       "      <td>-5.064068</td>\n",
       "      <td>-4.636248</td>\n",
       "      <td>-3.991346</td>\n",
       "      <td>-3.56534</td>\n",
       "      <td>-3.414169</td>\n",
       "    </tr>\n",
       "  </tbody>\n",
       "</table>\n",
       "</div>"
      ],
      "text/plain": [
       "                            403                  436                  406  \\\n",
       "Date        2021-05-19 23:59:59  2021-06-21 23:59:59  2021-05-22 23:59:59   \n",
       "Difference           -20.982073            -8.604035            -7.672796   \n",
       "\n",
       "                            407                  405                  426  \\\n",
       "Date        2021-05-23 23:59:59  2021-05-21 23:59:59  2021-06-11 23:59:59   \n",
       "Difference            -6.537019            -5.634401            -5.064068   \n",
       "\n",
       "                            412                  422                  380  \\\n",
       "Date        2021-05-28 23:59:59  2021-06-07 23:59:59  2021-04-26 23:59:59   \n",
       "Difference            -4.636248            -3.991346             -3.56534   \n",
       "\n",
       "                            320  \n",
       "Date        2021-02-25 23:59:59  \n",
       "Difference            -3.414169  "
      ]
     },
     "metadata": {},
     "execution_count": 10
    }
   ],
   "metadata": {}
  },
  {
   "cell_type": "code",
   "execution_count": 11,
   "source": [
    "# Days with the biggest price gain\n",
    "data[['Date', 'Difference']].sort_values(by='Difference', ascending=False).head(10).T"
   ],
   "outputs": [
    {
     "output_type": "execute_result",
     "data": {
      "text/html": [
       "<div>\n",
       "<style scoped>\n",
       "    .dataframe tbody tr th:only-of-type {\n",
       "        vertical-align: middle;\n",
       "    }\n",
       "\n",
       "    .dataframe tbody tr th {\n",
       "        vertical-align: top;\n",
       "    }\n",
       "\n",
       "    .dataframe thead th {\n",
       "        text-align: right;\n",
       "    }\n",
       "</style>\n",
       "<table border=\"1\" class=\"dataframe\">\n",
       "  <thead>\n",
       "    <tr style=\"text-align: right;\">\n",
       "      <th></th>\n",
       "      <th>404</th>\n",
       "      <th>402</th>\n",
       "      <th>372</th>\n",
       "      <th>408</th>\n",
       "      <th>385</th>\n",
       "      <th>379</th>\n",
       "      <th>376</th>\n",
       "      <th>410</th>\n",
       "      <th>418</th>\n",
       "      <th>415</th>\n",
       "    </tr>\n",
       "  </thead>\n",
       "  <tbody>\n",
       "    <tr>\n",
       "      <th>Date</th>\n",
       "      <td>2021-05-20 23:59:59</td>\n",
       "      <td>2021-05-18 23:59:59</td>\n",
       "      <td>2021-04-18 23:59:59</td>\n",
       "      <td>2021-05-24 23:59:59</td>\n",
       "      <td>2021-05-01 23:59:59</td>\n",
       "      <td>2021-04-25 23:59:59</td>\n",
       "      <td>2021-04-22 23:59:59</td>\n",
       "      <td>2021-05-26 23:59:59</td>\n",
       "      <td>2021-06-03 23:59:59</td>\n",
       "      <td>2021-05-31 23:59:59</td>\n",
       "    </tr>\n",
       "    <tr>\n",
       "      <th>Difference</th>\n",
       "      <td>9.699702</td>\n",
       "      <td>9.250543</td>\n",
       "      <td>7.167417</td>\n",
       "      <td>6.785251</td>\n",
       "      <td>6.614684</td>\n",
       "      <td>6.522156</td>\n",
       "      <td>6.196329</td>\n",
       "      <td>5.491825</td>\n",
       "      <td>5.452191</td>\n",
       "      <td>4.212004</td>\n",
       "    </tr>\n",
       "  </tbody>\n",
       "</table>\n",
       "</div>"
      ],
      "text/plain": [
       "                            404                  402                  372  \\\n",
       "Date        2021-05-20 23:59:59  2021-05-18 23:59:59  2021-04-18 23:59:59   \n",
       "Difference             9.699702             9.250543             7.167417   \n",
       "\n",
       "                            408                  385                  379  \\\n",
       "Date        2021-05-24 23:59:59  2021-05-01 23:59:59  2021-04-25 23:59:59   \n",
       "Difference             6.785251             6.614684             6.522156   \n",
       "\n",
       "                            376                  410                  418  \\\n",
       "Date        2021-04-22 23:59:59  2021-05-26 23:59:59  2021-06-03 23:59:59   \n",
       "Difference             6.196329             5.491825             5.452191   \n",
       "\n",
       "                            415  \n",
       "Date        2021-05-31 23:59:59  \n",
       "Difference             4.212004  "
      ]
     },
     "metadata": {},
     "execution_count": 11
    }
   ],
   "metadata": {}
  },
  {
   "cell_type": "code",
   "execution_count": 12,
   "source": [
    "fig = px.line(data, x='Date', y=\"Close\")\n",
    "fig.show();"
   ],
   "outputs": [
    {
     "output_type": "display_data",
     "data": {
      "application/vnd.plotly.v1+json": {
       "data": [
        {
         "hovertemplate": "Date=%{x}<br>Close=%{y}<extra></extra>",
         "legendgroup": "",
         "line": {
          "color": "#636efa",
          "dash": "solid"
         },
         "marker": {
          "symbol": "circle"
         },
         "mode": "lines",
         "name": "",
         "orientation": "v",
         "showlegend": false,
         "x": [
          "2020-04-11T23:59:59",
          "2020-04-12T23:59:59",
          "2020-04-13T23:59:59",
          "2020-04-14T23:59:59",
          "2020-04-15T23:59:59",
          "2020-04-16T23:59:59",
          "2020-04-17T23:59:59",
          "2020-04-18T23:59:59",
          "2020-04-19T23:59:59",
          "2020-04-20T23:59:59",
          "2020-04-21T23:59:59",
          "2020-04-22T23:59:59",
          "2020-04-23T23:59:59",
          "2020-04-24T23:59:59",
          "2020-04-25T23:59:59",
          "2020-04-26T23:59:59",
          "2020-04-27T23:59:59",
          "2020-04-28T23:59:59",
          "2020-04-29T23:59:59",
          "2020-04-30T23:59:59",
          "2020-05-01T23:59:59",
          "2020-05-02T23:59:59",
          "2020-05-03T23:59:59",
          "2020-05-04T23:59:59",
          "2020-05-05T23:59:59",
          "2020-05-06T23:59:59",
          "2020-05-07T23:59:59",
          "2020-05-08T23:59:59",
          "2020-05-09T23:59:59",
          "2020-05-10T23:59:59",
          "2020-05-11T23:59:59",
          "2020-05-12T23:59:59",
          "2020-05-13T23:59:59",
          "2020-05-14T23:59:59",
          "2020-05-15T23:59:59",
          "2020-05-16T23:59:59",
          "2020-05-17T23:59:59",
          "2020-05-18T23:59:59",
          "2020-05-19T23:59:59",
          "2020-05-20T23:59:59",
          "2020-05-21T23:59:59",
          "2020-05-22T23:59:59",
          "2020-05-23T23:59:59",
          "2020-05-24T23:59:59",
          "2020-05-25T23:59:59",
          "2020-05-26T23:59:59",
          "2020-05-27T23:59:59",
          "2020-05-28T23:59:59",
          "2020-05-29T23:59:59",
          "2020-05-30T23:59:59",
          "2020-05-31T23:59:59",
          "2020-06-01T23:59:59",
          "2020-06-02T23:59:59",
          "2020-06-03T23:59:59",
          "2020-06-04T23:59:59",
          "2020-06-05T23:59:59",
          "2020-06-06T23:59:59",
          "2020-06-07T23:59:59",
          "2020-06-08T23:59:59",
          "2020-06-09T23:59:59",
          "2020-06-10T23:59:59",
          "2020-06-11T23:59:59",
          "2020-06-12T23:59:59",
          "2020-06-13T23:59:59",
          "2020-06-14T23:59:59",
          "2020-06-15T23:59:59",
          "2020-06-16T23:59:59",
          "2020-06-17T23:59:59",
          "2020-06-18T23:59:59",
          "2020-06-19T23:59:59",
          "2020-06-20T23:59:59",
          "2020-06-21T23:59:59",
          "2020-06-22T23:59:59",
          "2020-06-23T23:59:59",
          "2020-06-24T23:59:59",
          "2020-06-25T23:59:59",
          "2020-06-26T23:59:59",
          "2020-06-27T23:59:59",
          "2020-06-28T23:59:59",
          "2020-06-29T23:59:59",
          "2020-06-30T23:59:59",
          "2020-07-01T23:59:59",
          "2020-07-02T23:59:59",
          "2020-07-03T23:59:59",
          "2020-07-04T23:59:59",
          "2020-07-05T23:59:59",
          "2020-07-06T23:59:59",
          "2020-07-07T23:59:59",
          "2020-07-08T23:59:59",
          "2020-07-09T23:59:59",
          "2020-07-10T23:59:59",
          "2020-07-11T23:59:59",
          "2020-07-12T23:59:59",
          "2020-07-13T23:59:59",
          "2020-07-14T23:59:59",
          "2020-07-15T23:59:59",
          "2020-07-16T23:59:59",
          "2020-07-17T23:59:59",
          "2020-07-18T23:59:59",
          "2020-07-19T23:59:59",
          "2020-07-20T23:59:59",
          "2020-07-21T23:59:59",
          "2020-07-22T23:59:59",
          "2020-07-23T23:59:59",
          "2020-07-24T23:59:59",
          "2020-07-25T23:59:59",
          "2020-07-26T23:59:59",
          "2020-07-27T23:59:59",
          "2020-07-28T23:59:59",
          "2020-07-29T23:59:59",
          "2020-07-30T23:59:59",
          "2020-07-31T23:59:59",
          "2020-08-01T23:59:59",
          "2020-08-02T23:59:59",
          "2020-08-03T23:59:59",
          "2020-08-04T23:59:59",
          "2020-08-05T23:59:59",
          "2020-08-06T23:59:59",
          "2020-08-07T23:59:59",
          "2020-08-08T23:59:59",
          "2020-08-09T23:59:59",
          "2020-08-10T23:59:59",
          "2020-08-11T23:59:59",
          "2020-08-12T23:59:59",
          "2020-08-13T23:59:59",
          "2020-08-14T23:59:59",
          "2020-08-15T23:59:59",
          "2020-08-16T23:59:59",
          "2020-08-17T23:59:59",
          "2020-08-18T23:59:59",
          "2020-08-19T23:59:59",
          "2020-08-20T23:59:59",
          "2020-08-21T23:59:59",
          "2020-08-22T23:59:59",
          "2020-08-23T23:59:59",
          "2020-08-24T23:59:59",
          "2020-08-25T23:59:59",
          "2020-08-26T23:59:59",
          "2020-08-27T23:59:59",
          "2020-08-28T23:59:59",
          "2020-08-29T23:59:59",
          "2020-08-30T23:59:59",
          "2020-08-31T23:59:59",
          "2020-09-01T23:59:59",
          "2020-09-02T23:59:59",
          "2020-09-03T23:59:59",
          "2020-09-04T23:59:59",
          "2020-09-05T23:59:59",
          "2020-09-06T23:59:59",
          "2020-09-07T23:59:59",
          "2020-09-08T23:59:59",
          "2020-09-09T23:59:59",
          "2020-09-10T23:59:59",
          "2020-09-11T23:59:59",
          "2020-09-12T23:59:59",
          "2020-09-13T23:59:59",
          "2020-09-14T23:59:59",
          "2020-09-15T23:59:59",
          "2020-09-16T23:59:59",
          "2020-09-17T23:59:59",
          "2020-09-18T23:59:59",
          "2020-09-19T23:59:59",
          "2020-09-20T23:59:59",
          "2020-09-21T23:59:59",
          "2020-09-22T23:59:59",
          "2020-09-23T23:59:59",
          "2020-09-24T23:59:59",
          "2020-09-25T23:59:59",
          "2020-09-26T23:59:59",
          "2020-09-27T23:59:59",
          "2020-09-28T23:59:59",
          "2020-09-29T23:59:59",
          "2020-09-30T23:59:59",
          "2020-10-01T23:59:59",
          "2020-10-02T23:59:59",
          "2020-10-03T23:59:59",
          "2020-10-04T23:59:59",
          "2020-10-05T23:59:59",
          "2020-10-06T23:59:59",
          "2020-10-07T23:59:59",
          "2020-10-08T23:59:59",
          "2020-10-09T23:59:59",
          "2020-10-10T23:59:59",
          "2020-10-11T23:59:59",
          "2020-10-12T23:59:59",
          "2020-10-13T23:59:59",
          "2020-10-14T23:59:59",
          "2020-10-15T23:59:59",
          "2020-10-16T23:59:59",
          "2020-10-17T23:59:59",
          "2020-10-18T23:59:59",
          "2020-10-19T23:59:59",
          "2020-10-20T23:59:59",
          "2020-10-21T23:59:59",
          "2020-10-22T23:59:59",
          "2020-10-23T23:59:59",
          "2020-10-24T23:59:59",
          "2020-10-25T23:59:59",
          "2020-10-26T23:59:59",
          "2020-10-27T23:59:59",
          "2020-10-28T23:59:59",
          "2020-10-29T23:59:59",
          "2020-10-30T23:59:59",
          "2020-10-31T23:59:59",
          "2020-11-01T23:59:59",
          "2020-11-02T23:59:59",
          "2020-11-03T23:59:59",
          "2020-11-04T23:59:59",
          "2020-11-05T23:59:59",
          "2020-11-06T23:59:59",
          "2020-11-07T23:59:59",
          "2020-11-08T23:59:59",
          "2020-11-09T23:59:59",
          "2020-11-10T23:59:59",
          "2020-11-11T23:59:59",
          "2020-11-12T23:59:59",
          "2020-11-13T23:59:59",
          "2020-11-14T23:59:59",
          "2020-11-15T23:59:59",
          "2020-11-16T23:59:59",
          "2020-11-17T23:59:59",
          "2020-11-18T23:59:59",
          "2020-11-19T23:59:59",
          "2020-11-20T23:59:59",
          "2020-11-21T23:59:59",
          "2020-11-22T23:59:59",
          "2020-11-23T23:59:59",
          "2020-11-24T23:59:59",
          "2020-11-25T23:59:59",
          "2020-11-26T23:59:59",
          "2020-11-27T23:59:59",
          "2020-11-28T23:59:59",
          "2020-11-29T23:59:59",
          "2020-11-30T23:59:59",
          "2020-12-01T23:59:59",
          "2020-12-02T23:59:59",
          "2020-12-03T23:59:59",
          "2020-12-04T23:59:59",
          "2020-12-05T23:59:59",
          "2020-12-06T23:59:59",
          "2020-12-07T23:59:59",
          "2020-12-08T23:59:59",
          "2020-12-09T23:59:59",
          "2020-12-10T23:59:59",
          "2020-12-11T23:59:59",
          "2020-12-12T23:59:59",
          "2020-12-13T23:59:59",
          "2020-12-14T23:59:59",
          "2020-12-15T23:59:59",
          "2020-12-16T23:59:59",
          "2020-12-17T23:59:59",
          "2020-12-18T23:59:59",
          "2020-12-19T23:59:59",
          "2020-12-20T23:59:59",
          "2020-12-21T23:59:59",
          "2020-12-22T23:59:59",
          "2020-12-23T23:59:59",
          "2020-12-24T23:59:59",
          "2020-12-25T23:59:59",
          "2020-12-26T23:59:59",
          "2020-12-27T23:59:59",
          "2020-12-28T23:59:59",
          "2020-12-29T23:59:59",
          "2020-12-30T23:59:59",
          "2020-12-31T23:59:59",
          "2021-01-01T23:59:59",
          "2021-01-02T23:59:59",
          "2021-01-03T23:59:59",
          "2021-01-04T23:59:59",
          "2021-01-05T23:59:59",
          "2021-01-06T23:59:59",
          "2021-01-07T23:59:59",
          "2021-01-08T23:59:59",
          "2021-01-09T23:59:59",
          "2021-01-10T23:59:59",
          "2021-01-11T23:59:59",
          "2021-01-12T23:59:59",
          "2021-01-13T23:59:59",
          "2021-01-14T23:59:59",
          "2021-01-15T23:59:59",
          "2021-01-16T23:59:59",
          "2021-01-17T23:59:59",
          "2021-01-18T23:59:59",
          "2021-01-19T23:59:59",
          "2021-01-20T23:59:59",
          "2021-01-21T23:59:59",
          "2021-01-22T23:59:59",
          "2021-01-23T23:59:59",
          "2021-01-24T23:59:59",
          "2021-01-25T23:59:59",
          "2021-01-26T23:59:59",
          "2021-01-27T23:59:59",
          "2021-01-28T23:59:59",
          "2021-01-29T23:59:59",
          "2021-01-30T23:59:59",
          "2021-01-31T23:59:59",
          "2021-02-01T23:59:59",
          "2021-02-02T23:59:59",
          "2021-02-03T23:59:59",
          "2021-02-04T23:59:59",
          "2021-02-05T23:59:59",
          "2021-02-06T23:59:59",
          "2021-02-07T23:59:59",
          "2021-02-08T23:59:59",
          "2021-02-09T23:59:59",
          "2021-02-10T23:59:59",
          "2021-02-11T23:59:59",
          "2021-02-12T23:59:59",
          "2021-02-13T23:59:59",
          "2021-02-14T23:59:59",
          "2021-02-15T23:59:59",
          "2021-02-16T23:59:59",
          "2021-02-17T23:59:59",
          "2021-02-18T23:59:59",
          "2021-02-19T23:59:59",
          "2021-02-20T23:59:59",
          "2021-02-21T23:59:59",
          "2021-02-22T23:59:59",
          "2021-02-23T23:59:59",
          "2021-02-24T23:59:59",
          "2021-02-25T23:59:59",
          "2021-02-26T23:59:59",
          "2021-02-27T23:59:59",
          "2021-02-28T23:59:59",
          "2021-03-01T23:59:59",
          "2021-03-02T23:59:59",
          "2021-03-03T23:59:59",
          "2021-03-04T23:59:59",
          "2021-03-05T23:59:59",
          "2021-03-06T23:59:59",
          "2021-03-07T23:59:59",
          "2021-03-08T23:59:59",
          "2021-03-09T23:59:59",
          "2021-03-10T23:59:59",
          "2021-03-11T23:59:59",
          "2021-03-12T23:59:59",
          "2021-03-13T23:59:59",
          "2021-03-14T23:59:59",
          "2021-03-15T23:59:59",
          "2021-03-16T23:59:59",
          "2021-03-17T23:59:59",
          "2021-03-18T23:59:59",
          "2021-03-19T23:59:59",
          "2021-03-20T23:59:59",
          "2021-03-21T23:59:59",
          "2021-03-22T23:59:59",
          "2021-03-23T23:59:59",
          "2021-03-24T23:59:59",
          "2021-03-25T23:59:59",
          "2021-03-26T23:59:59",
          "2021-03-27T23:59:59",
          "2021-03-28T23:59:59",
          "2021-03-29T23:59:59",
          "2021-03-30T23:59:59",
          "2021-03-31T23:59:59",
          "2021-04-01T23:59:59",
          "2021-04-02T23:59:59",
          "2021-04-03T23:59:59",
          "2021-04-04T23:59:59",
          "2021-04-05T23:59:59",
          "2021-04-06T23:59:59",
          "2021-04-07T23:59:59",
          "2021-04-08T23:59:59",
          "2021-04-09T23:59:59",
          "2021-04-10T23:59:59",
          "2021-04-11T23:59:59",
          "2021-04-12T23:59:59",
          "2021-04-13T23:59:59",
          "2021-04-14T23:59:59",
          "2021-04-15T23:59:59",
          "2021-04-16T23:59:59",
          "2021-04-17T23:59:59",
          "2021-04-18T23:59:59",
          "2021-04-19T23:59:59",
          "2021-04-20T23:59:59",
          "2021-04-21T23:59:59",
          "2021-04-22T23:59:59",
          "2021-04-23T23:59:59",
          "2021-04-24T23:59:59",
          "2021-04-25T23:59:59",
          "2021-04-26T23:59:59",
          "2021-04-27T23:59:59",
          "2021-04-28T23:59:59",
          "2021-04-29T23:59:59",
          "2021-04-30T23:59:59",
          "2021-05-01T23:59:59",
          "2021-05-02T23:59:59",
          "2021-05-03T23:59:59",
          "2021-05-04T23:59:59",
          "2021-05-05T23:59:59",
          "2021-05-06T23:59:59",
          "2021-05-07T23:59:59",
          "2021-05-08T23:59:59",
          "2021-05-09T23:59:59",
          "2021-05-10T23:59:59",
          "2021-05-11T23:59:59",
          "2021-05-12T23:59:59",
          "2021-05-13T23:59:59",
          "2021-05-14T23:59:59",
          "2021-05-15T23:59:59",
          "2021-05-16T23:59:59",
          "2021-05-17T23:59:59",
          "2021-05-18T23:59:59",
          "2021-05-19T23:59:59",
          "2021-05-20T23:59:59",
          "2021-05-21T23:59:59",
          "2021-05-22T23:59:59",
          "2021-05-23T23:59:59",
          "2021-05-24T23:59:59",
          "2021-05-25T23:59:59",
          "2021-05-26T23:59:59",
          "2021-05-27T23:59:59",
          "2021-05-28T23:59:59",
          "2021-05-29T23:59:59",
          "2021-05-30T23:59:59",
          "2021-05-31T23:59:59",
          "2021-06-01T23:59:59",
          "2021-06-02T23:59:59",
          "2021-06-03T23:59:59",
          "2021-06-04T23:59:59",
          "2021-06-05T23:59:59",
          "2021-06-06T23:59:59",
          "2021-06-07T23:59:59",
          "2021-06-08T23:59:59",
          "2021-06-09T23:59:59",
          "2021-06-10T23:59:59",
          "2021-06-11T23:59:59",
          "2021-06-12T23:59:59",
          "2021-06-13T23:59:59",
          "2021-06-14T23:59:59",
          "2021-06-15T23:59:59",
          "2021-06-16T23:59:59",
          "2021-06-17T23:59:59",
          "2021-06-18T23:59:59",
          "2021-06-19T23:59:59",
          "2021-06-20T23:59:59",
          "2021-06-21T23:59:59",
          "2021-06-22T23:59:59",
          "2021-06-23T23:59:59",
          "2021-06-24T23:59:59",
          "2021-06-25T23:59:59",
          "2021-06-26T23:59:59",
          "2021-06-27T23:59:59",
          "2021-06-28T23:59:59",
          "2021-06-29T23:59:59",
          "2021-06-30T23:59:59",
          "2021-07-01T23:59:59",
          "2021-07-02T23:59:59",
          "2021-07-03T23:59:59",
          "2021-07-04T23:59:59",
          "2021-07-05T23:59:59",
          "2021-07-06T23:59:59"
         ],
         "xaxis": "x",
         "y": [
          0.776818582977,
          0.882506928259,
          0.777831565037,
          0.661924824696,
          0.646650901989,
          0.690815875441,
          0.660727970818,
          0.681096334559,
          0.606969175324,
          0.538812129578,
          0.587659155744,
          0.691600915883,
          0.627457179792,
          0.634242220589,
          0.643329301446,
          0.635506343577,
          0.572371895062,
          0.661292515173,
          0.74584040982,
          0.691045421015,
          0.728793969447,
          0.715876411879,
          0.679534571126,
          0.667490770432,
          0.641837362998,
          0.622583598868,
          0.612977957268,
          0.604922121097,
          0.604527391264,
          0.53703391162,
          0.515272785293,
          0.538575650335,
          0.550531657365,
          0.569117610116,
          0.559752024505,
          0.599120273328,
          0.612988807183,
          0.652670169702,
          0.624454265112,
          0.579155667218,
          0.608915324064,
          0.638875070548,
          0.613031410499,
          0.549053085284,
          0.600857275438,
          0.573306660293,
          0.590984626967,
          0.57515546338,
          0.579415408223,
          0.587932797998,
          0.570022020054,
          0.577495156711,
          0.56466943316,
          0.586620621665,
          0.587299493452,
          0.66115464236,
          0.622442695244,
          0.616577854377,
          0.668313065708,
          0.658002498205,
          0.644866658992,
          0.573741595726,
          0.593868974009,
          0.608943286609,
          0.587076584953,
          0.570639136151,
          0.58557626277,
          0.581561970806,
          0.620956096312,
          0.684331738563,
          0.643591290368,
          0.67314920063,
          0.726847851963,
          0.708296754877,
          0.736993876923,
          0.713193588341,
          0.741144336305,
          0.713548036244,
          0.798495268854,
          0.852454240319,
          0.860093981011,
          0.832641570072,
          0.78021901831,
          0.768093046309,
          0.7803716825,
          0.691663563023,
          0.707908010158,
          0.753047992993,
          0.796713400012,
          0.853453047328,
          0.913559592712,
          0.924624245478,
          1.01671595852,
          1.17573410198,
          1.14807454207,
          1.28959809685,
          0.872441377367,
          0.977837416041,
          0.966583495614,
          0.920349487609,
          0.87308942899,
          0.977165717243,
          1.04408725245,
          1.04984357893,
          0.995345503195,
          1.25222285418,
          1.5651096946,
          1.77863550182,
          1.78406723276,
          1.65828948188,
          1.68680710334,
          1.53817765536,
          1.52660964025,
          1.74281034979,
          1.80261098364,
          1.87163885812,
          1.75454981586,
          2.20634832732,
          2.08590263527,
          2.47362485486,
          2.6652275038,
          3.13179330211,
          3.30341929739,
          3.76975091301,
          3.75597115712,
          3.40938766083,
          3.18379488714,
          3.38565277366,
          3.09860770861,
          3.32997591802,
          2.89904061061,
          3.20826704334,
          2.94366836633,
          3.02088644284,
          3.32243106353,
          3.34498605269,
          3.26484998089,
          3.55837531339,
          3.44506033395,
          4.0113925268,
          3.96880938889,
          4.43582255875,
          4.78204551788,
          4.34451591286,
          4.16447184085,
          3.52733985495,
          3.54579448415,
          2.59791636472,
          3.08604269295,
          2.9285280901,
          2.4689767582,
          3.63637779652,
          3.4698368119,
          3.42742826316,
          3.3326599913,
          3.22583906019,
          3.26913320415,
          2.93912067127,
          2.54539877265,
          2.89187378323,
          3.10794006412,
          3.02889117957,
          2.8709033938,
          2.78250941483,
          2.915519109,
          2.83675707,
          3.13271463,
          3.18861239,
          3.13470267,
          3.15294678,
          2.95667817,
          2.94643322,
          2.89787636,
          2.86102773,
          2.62608296,
          2.5473028,
          2.51599459,
          2.65764391,
          2.17625031,
          2.29179581,
          2.36522028,
          2.53985887,
          2.40608988,
          2.42657824,
          2.58707246,
          2.40491019,
          2.31463525,
          2.26643616,
          2.1493861,
          2.20184324,
          2.21426738,
          2.05807954,
          1.88867176,
          1.89037825,
          1.95565252,
          1.96003515,
          1.91182801,
          1.78745942,
          1.68546625,
          1.71023239,
          1.49005343,
          1.42893639,
          1.44133589,
          1.54069959,
          1.5998403,
          1.47407225,
          1.41223396,
          1.39225494,
          1.40521805,
          1.91374,
          2.03196386,
          2.15659813,
          2.02865216,
          2.247987,
          2.0021245,
          1.89913759,
          2.02079216,
          1.91701557,
          2.04323394,
          2.25535545,
          2.20218147,
          2.11502872,
          2.07676865,
          2.09539164,
          2.38220531,
          2.14484477,
          2.27637688,
          2.26796698,
          2.27003407,
          1.90303693,
          1.85794881,
          1.88893452,
          1.9151547,
          1.96689116,
          1.97630826,
          2.11540134,
          2.10037052,
          1.85595318,
          1.9787738,
          1.85424895,
          1.83117262,
          1.66535169,
          1.6623035,
          1.57415052,
          1.44458505,
          1.4909121,
          1.56545586,
          1.5916455,
          1.76067126,
          1.78359783,
          1.67863414,
          1.69879993,
          1.66865052,
          1.56357617,
          1.5419152,
          1.49028596,
          1.20569231,
          1.3624084,
          1.44540315,
          1.3242381,
          1.30304194,
          1.5156849,
          1.67434488,
          1.53545722,
          1.51089796,
          1.84208404,
          1.79927479,
          2.16175192,
          2.48509738,
          2.15721704,
          1.92921661,
          2.37274497,
          3.21988746,
          3.38538175,
          3.46611077,
          3.10808978,
          3.61339822,
          3.51378151,
          3.27816427,
          3.25016139,
          3.44705468,
          3.8181391,
          3.79551495,
          3.64186566,
          3.72357809,
          2.9905359,
          3.34622852,
          3.50411155,
          3.63441116,
          3.69998081,
          4.04734996,
          3.69058715,
          3.82207194,
          3.83467598,
          4.22427558,
          4.26414404,
          4.61160184,
          5.2675076,
          5.71598986,
          6.42606479,
          6.6817203,
          6.11080668,
          6.70046276,
          7.8832496,
          7.81679279,
          9.07221406,
          9.21535212,
          9.24701198,
          8.73245491,
          8.73889575,
          8.8617388,
          8.29786719,
          8.22257719,
          8.98045215,
          11.46565287,
          10.00266398,
          11.08551283,
          14.45478487,
          15.20153822,
          17.30270709,
          13.81601413,
          13.58794089,
          13.20116764,
          13.08924694,
          14.95558764,
          13.95892139,
          14.11559058,
          13.09798332,
          12.61044281,
          13.03645795,
          13.87773227,
          13.60218776,
          14.84631098,
          14.23108356,
          15.99227934,
          14.552142,
          15.30880274,
          14.50826599,
          14.18666194,
          13.62277289,
          14.22020281,
          14.23002516,
          14.20479642,
          14.21198148,
          14.33220593,
          14.91929305,
          14.20483076,
          13.66129764,
          13.02508469,
          14.77942113,
          16.50832188,
          18.01623371,
          18.85480803,
          19.2339251,
          19.46522941,
          19.08490113,
          19.81022269,
          22.55227712,
          24.06132316,
          22.98428282,
          24.95714641,
          26.47807994,
          27.03398715,
          27.77827443,
          26.84140371,
          27.9318899,
          28.51212449,
          27.43555345,
          26.47511075,
          27.81831384,
          25.39736605,
          25.09987446,
          32.30291905,
          31.67589453,
          31.77005352,
          32.5130438,
          38.87975927,
          36.97842065,
          40.73731561,
          47.3676269,
          43.97651543,
          43.2390029,
          44.82598502,
          42.46054046,
          42.95600088,
          49.50802136,
          46.89098709,
          45.93368941,
          42.7295562,
          44.92357516,
          43.45567555,
          43.15501855,
          45.56153042,
          44.33019564,
          42.9096342,
          44.57746773,
          42.45731054,
          40.99785093,
          42.71786492,
          43.46130814,
          47.20082674,
          46.86320579,
          55.91096029,
          35.10718335,
          44.74274669,
          38.81285182,
          31.31558234,
          24.6887481,
          31.28357082,
          29.99707775,
          35.53981588,
          33.58459127,
          29.0392767,
          27.37642132,
          28.60265892,
          32.81624582,
          30.9852604,
          33.95631637,
          39.47090699,
          37.41507138,
          39.58540119,
          42.30837824,
          38.2623335,
          41.51781354,
          42.03177788,
          41.09867281,
          36.0460873,
          36.44168945,
          38.77043536,
          38.71305293,
          41.15364704,
          39.70361677,
          39.26459349,
          36.64879726,
          35.35343464,
          35.32201165,
          26.65740024,
          26.77185571,
          30.04888728,
          31.18103477,
          28.69886234,
          29.7128554,
          31.92939059,
          32.92778164,
          33.86680149,
          35.55640607,
          33.40403357,
          34.02048201,
          34.47881569,
          34.31060133,
          32.98458751,
          34.26913971
         ],
         "yaxis": "y",
         "type": "scatter"
        }
       ],
       "layout": {
        "template": {
         "data": {
          "histogram2dcontour": [
           {
            "type": "histogram2dcontour",
            "colorbar": {
             "outlinewidth": 0,
             "ticks": ""
            },
            "colorscale": [
             [
              0,
              "#0d0887"
             ],
             [
              0.1111111111111111,
              "#46039f"
             ],
             [
              0.2222222222222222,
              "#7201a8"
             ],
             [
              0.3333333333333333,
              "#9c179e"
             ],
             [
              0.4444444444444444,
              "#bd3786"
             ],
             [
              0.5555555555555556,
              "#d8576b"
             ],
             [
              0.6666666666666666,
              "#ed7953"
             ],
             [
              0.7777777777777778,
              "#fb9f3a"
             ],
             [
              0.8888888888888888,
              "#fdca26"
             ],
             [
              1,
              "#f0f921"
             ]
            ]
           }
          ],
          "choropleth": [
           {
            "type": "choropleth",
            "colorbar": {
             "outlinewidth": 0,
             "ticks": ""
            }
           }
          ],
          "histogram2d": [
           {
            "type": "histogram2d",
            "colorbar": {
             "outlinewidth": 0,
             "ticks": ""
            },
            "colorscale": [
             [
              0,
              "#0d0887"
             ],
             [
              0.1111111111111111,
              "#46039f"
             ],
             [
              0.2222222222222222,
              "#7201a8"
             ],
             [
              0.3333333333333333,
              "#9c179e"
             ],
             [
              0.4444444444444444,
              "#bd3786"
             ],
             [
              0.5555555555555556,
              "#d8576b"
             ],
             [
              0.6666666666666666,
              "#ed7953"
             ],
             [
              0.7777777777777778,
              "#fb9f3a"
             ],
             [
              0.8888888888888888,
              "#fdca26"
             ],
             [
              1,
              "#f0f921"
             ]
            ]
           }
          ],
          "heatmap": [
           {
            "type": "heatmap",
            "colorbar": {
             "outlinewidth": 0,
             "ticks": ""
            },
            "colorscale": [
             [
              0,
              "#0d0887"
             ],
             [
              0.1111111111111111,
              "#46039f"
             ],
             [
              0.2222222222222222,
              "#7201a8"
             ],
             [
              0.3333333333333333,
              "#9c179e"
             ],
             [
              0.4444444444444444,
              "#bd3786"
             ],
             [
              0.5555555555555556,
              "#d8576b"
             ],
             [
              0.6666666666666666,
              "#ed7953"
             ],
             [
              0.7777777777777778,
              "#fb9f3a"
             ],
             [
              0.8888888888888888,
              "#fdca26"
             ],
             [
              1,
              "#f0f921"
             ]
            ]
           }
          ],
          "heatmapgl": [
           {
            "type": "heatmapgl",
            "colorbar": {
             "outlinewidth": 0,
             "ticks": ""
            },
            "colorscale": [
             [
              0,
              "#0d0887"
             ],
             [
              0.1111111111111111,
              "#46039f"
             ],
             [
              0.2222222222222222,
              "#7201a8"
             ],
             [
              0.3333333333333333,
              "#9c179e"
             ],
             [
              0.4444444444444444,
              "#bd3786"
             ],
             [
              0.5555555555555556,
              "#d8576b"
             ],
             [
              0.6666666666666666,
              "#ed7953"
             ],
             [
              0.7777777777777778,
              "#fb9f3a"
             ],
             [
              0.8888888888888888,
              "#fdca26"
             ],
             [
              1,
              "#f0f921"
             ]
            ]
           }
          ],
          "contourcarpet": [
           {
            "type": "contourcarpet",
            "colorbar": {
             "outlinewidth": 0,
             "ticks": ""
            }
           }
          ],
          "contour": [
           {
            "type": "contour",
            "colorbar": {
             "outlinewidth": 0,
             "ticks": ""
            },
            "colorscale": [
             [
              0,
              "#0d0887"
             ],
             [
              0.1111111111111111,
              "#46039f"
             ],
             [
              0.2222222222222222,
              "#7201a8"
             ],
             [
              0.3333333333333333,
              "#9c179e"
             ],
             [
              0.4444444444444444,
              "#bd3786"
             ],
             [
              0.5555555555555556,
              "#d8576b"
             ],
             [
              0.6666666666666666,
              "#ed7953"
             ],
             [
              0.7777777777777778,
              "#fb9f3a"
             ],
             [
              0.8888888888888888,
              "#fdca26"
             ],
             [
              1,
              "#f0f921"
             ]
            ]
           }
          ],
          "surface": [
           {
            "type": "surface",
            "colorbar": {
             "outlinewidth": 0,
             "ticks": ""
            },
            "colorscale": [
             [
              0,
              "#0d0887"
             ],
             [
              0.1111111111111111,
              "#46039f"
             ],
             [
              0.2222222222222222,
              "#7201a8"
             ],
             [
              0.3333333333333333,
              "#9c179e"
             ],
             [
              0.4444444444444444,
              "#bd3786"
             ],
             [
              0.5555555555555556,
              "#d8576b"
             ],
             [
              0.6666666666666666,
              "#ed7953"
             ],
             [
              0.7777777777777778,
              "#fb9f3a"
             ],
             [
              0.8888888888888888,
              "#fdca26"
             ],
             [
              1,
              "#f0f921"
             ]
            ]
           }
          ],
          "mesh3d": [
           {
            "type": "mesh3d",
            "colorbar": {
             "outlinewidth": 0,
             "ticks": ""
            }
           }
          ],
          "scatter": [
           {
            "fillpattern": {
             "fillmode": "overlay",
             "size": 10,
             "solidity": 0.2
            },
            "type": "scatter"
           }
          ],
          "parcoords": [
           {
            "type": "parcoords",
            "line": {
             "colorbar": {
              "outlinewidth": 0,
              "ticks": ""
             }
            }
           }
          ],
          "scatterpolargl": [
           {
            "type": "scatterpolargl",
            "marker": {
             "colorbar": {
              "outlinewidth": 0,
              "ticks": ""
             }
            }
           }
          ],
          "bar": [
           {
            "error_x": {
             "color": "#2a3f5f"
            },
            "error_y": {
             "color": "#2a3f5f"
            },
            "marker": {
             "line": {
              "color": "#E5ECF6",
              "width": 0.5
             },
             "pattern": {
              "fillmode": "overlay",
              "size": 10,
              "solidity": 0.2
             }
            },
            "type": "bar"
           }
          ],
          "scattergeo": [
           {
            "type": "scattergeo",
            "marker": {
             "colorbar": {
              "outlinewidth": 0,
              "ticks": ""
             }
            }
           }
          ],
          "scatterpolar": [
           {
            "type": "scatterpolar",
            "marker": {
             "colorbar": {
              "outlinewidth": 0,
              "ticks": ""
             }
            }
           }
          ],
          "histogram": [
           {
            "marker": {
             "pattern": {
              "fillmode": "overlay",
              "size": 10,
              "solidity": 0.2
             }
            },
            "type": "histogram"
           }
          ],
          "scattergl": [
           {
            "type": "scattergl",
            "marker": {
             "colorbar": {
              "outlinewidth": 0,
              "ticks": ""
             }
            }
           }
          ],
          "scatter3d": [
           {
            "type": "scatter3d",
            "line": {
             "colorbar": {
              "outlinewidth": 0,
              "ticks": ""
             }
            },
            "marker": {
             "colorbar": {
              "outlinewidth": 0,
              "ticks": ""
             }
            }
           }
          ],
          "scattermapbox": [
           {
            "type": "scattermapbox",
            "marker": {
             "colorbar": {
              "outlinewidth": 0,
              "ticks": ""
             }
            }
           }
          ],
          "scatterternary": [
           {
            "type": "scatterternary",
            "marker": {
             "colorbar": {
              "outlinewidth": 0,
              "ticks": ""
             }
            }
           }
          ],
          "scattercarpet": [
           {
            "type": "scattercarpet",
            "marker": {
             "colorbar": {
              "outlinewidth": 0,
              "ticks": ""
             }
            }
           }
          ],
          "carpet": [
           {
            "aaxis": {
             "endlinecolor": "#2a3f5f",
             "gridcolor": "white",
             "linecolor": "white",
             "minorgridcolor": "white",
             "startlinecolor": "#2a3f5f"
            },
            "baxis": {
             "endlinecolor": "#2a3f5f",
             "gridcolor": "white",
             "linecolor": "white",
             "minorgridcolor": "white",
             "startlinecolor": "#2a3f5f"
            },
            "type": "carpet"
           }
          ],
          "table": [
           {
            "cells": {
             "fill": {
              "color": "#EBF0F8"
             },
             "line": {
              "color": "white"
             }
            },
            "header": {
             "fill": {
              "color": "#C8D4E3"
             },
             "line": {
              "color": "white"
             }
            },
            "type": "table"
           }
          ],
          "barpolar": [
           {
            "marker": {
             "line": {
              "color": "#E5ECF6",
              "width": 0.5
             },
             "pattern": {
              "fillmode": "overlay",
              "size": 10,
              "solidity": 0.2
             }
            },
            "type": "barpolar"
           }
          ],
          "pie": [
           {
            "automargin": true,
            "type": "pie"
           }
          ]
         },
         "layout": {
          "autotypenumbers": "strict",
          "colorway": [
           "#636efa",
           "#EF553B",
           "#00cc96",
           "#ab63fa",
           "#FFA15A",
           "#19d3f3",
           "#FF6692",
           "#B6E880",
           "#FF97FF",
           "#FECB52"
          ],
          "font": {
           "color": "#2a3f5f"
          },
          "hovermode": "closest",
          "hoverlabel": {
           "align": "left"
          },
          "paper_bgcolor": "white",
          "plot_bgcolor": "#E5ECF6",
          "polar": {
           "bgcolor": "#E5ECF6",
           "angularaxis": {
            "gridcolor": "white",
            "linecolor": "white",
            "ticks": ""
           },
           "radialaxis": {
            "gridcolor": "white",
            "linecolor": "white",
            "ticks": ""
           }
          },
          "ternary": {
           "bgcolor": "#E5ECF6",
           "aaxis": {
            "gridcolor": "white",
            "linecolor": "white",
            "ticks": ""
           },
           "baxis": {
            "gridcolor": "white",
            "linecolor": "white",
            "ticks": ""
           },
           "caxis": {
            "gridcolor": "white",
            "linecolor": "white",
            "ticks": ""
           }
          },
          "coloraxis": {
           "colorbar": {
            "outlinewidth": 0,
            "ticks": ""
           }
          },
          "colorscale": {
           "sequential": [
            [
             0,
             "#0d0887"
            ],
            [
             0.1111111111111111,
             "#46039f"
            ],
            [
             0.2222222222222222,
             "#7201a8"
            ],
            [
             0.3333333333333333,
             "#9c179e"
            ],
            [
             0.4444444444444444,
             "#bd3786"
            ],
            [
             0.5555555555555556,
             "#d8576b"
            ],
            [
             0.6666666666666666,
             "#ed7953"
            ],
            [
             0.7777777777777778,
             "#fb9f3a"
            ],
            [
             0.8888888888888888,
             "#fdca26"
            ],
            [
             1,
             "#f0f921"
            ]
           ],
           "sequentialminus": [
            [
             0,
             "#0d0887"
            ],
            [
             0.1111111111111111,
             "#46039f"
            ],
            [
             0.2222222222222222,
             "#7201a8"
            ],
            [
             0.3333333333333333,
             "#9c179e"
            ],
            [
             0.4444444444444444,
             "#bd3786"
            ],
            [
             0.5555555555555556,
             "#d8576b"
            ],
            [
             0.6666666666666666,
             "#ed7953"
            ],
            [
             0.7777777777777778,
             "#fb9f3a"
            ],
            [
             0.8888888888888888,
             "#fdca26"
            ],
            [
             1,
             "#f0f921"
            ]
           ],
           "diverging": [
            [
             0,
             "#8e0152"
            ],
            [
             0.1,
             "#c51b7d"
            ],
            [
             0.2,
             "#de77ae"
            ],
            [
             0.3,
             "#f1b6da"
            ],
            [
             0.4,
             "#fde0ef"
            ],
            [
             0.5,
             "#f7f7f7"
            ],
            [
             0.6,
             "#e6f5d0"
            ],
            [
             0.7,
             "#b8e186"
            ],
            [
             0.8,
             "#7fbc41"
            ],
            [
             0.9,
             "#4d9221"
            ],
            [
             1,
             "#276419"
            ]
           ]
          },
          "xaxis": {
           "gridcolor": "white",
           "linecolor": "white",
           "ticks": "",
           "title": {
            "standoff": 15
           },
           "zerolinecolor": "white",
           "automargin": true,
           "zerolinewidth": 2
          },
          "yaxis": {
           "gridcolor": "white",
           "linecolor": "white",
           "ticks": "",
           "title": {
            "standoff": 15
           },
           "zerolinecolor": "white",
           "automargin": true,
           "zerolinewidth": 2
          },
          "scene": {
           "xaxis": {
            "backgroundcolor": "#E5ECF6",
            "gridcolor": "white",
            "linecolor": "white",
            "showbackground": true,
            "ticks": "",
            "zerolinecolor": "white",
            "gridwidth": 2
           },
           "yaxis": {
            "backgroundcolor": "#E5ECF6",
            "gridcolor": "white",
            "linecolor": "white",
            "showbackground": true,
            "ticks": "",
            "zerolinecolor": "white",
            "gridwidth": 2
           },
           "zaxis": {
            "backgroundcolor": "#E5ECF6",
            "gridcolor": "white",
            "linecolor": "white",
            "showbackground": true,
            "ticks": "",
            "zerolinecolor": "white",
            "gridwidth": 2
           }
          },
          "shapedefaults": {
           "line": {
            "color": "#2a3f5f"
           }
          },
          "annotationdefaults": {
           "arrowcolor": "#2a3f5f",
           "arrowhead": 0,
           "arrowwidth": 1
          },
          "geo": {
           "bgcolor": "white",
           "landcolor": "#E5ECF6",
           "subunitcolor": "white",
           "showland": true,
           "showlakes": true,
           "lakecolor": "white"
          },
          "title": {
           "x": 0.05
          },
          "mapbox": {
           "style": "light"
          }
         }
        },
        "xaxis": {
         "anchor": "y",
         "domain": [
          0,
          1
         ],
         "title": {
          "text": "Date"
         }
        },
        "yaxis": {
         "anchor": "x",
         "domain": [
          0,
          1
         ],
         "title": {
          "text": "Close"
         }
        },
        "legend": {
         "tracegroupgap": 0
        },
        "margin": {
         "t": 60
        }
       },
       "config": {
        "plotlyServerURL": "https://plot.ly"
       }
      }
     },
     "metadata": {}
    }
   ],
   "metadata": {}
  },
  {
   "cell_type": "code",
   "execution_count": 13,
   "source": [
    "fig = px.line(data, x='Date', y=\"Marketcap\")\n",
    "fig.show();"
   ],
   "outputs": [
    {
     "output_type": "display_data",
     "data": {
      "application/vnd.plotly.v1+json": {
       "data": [
        {
         "hovertemplate": "Date=%{x}<br>Marketcap=%{y}<extra></extra>",
         "legendgroup": "",
         "line": {
          "color": "#636efa",
          "dash": "solid"
         },
         "marker": {
          "symbol": "circle"
         },
         "mode": "lines",
         "name": "",
         "orientation": "v",
         "showlegend": false,
         "x": [
          "2020-04-11T23:59:59",
          "2020-04-12T23:59:59",
          "2020-04-13T23:59:59",
          "2020-04-14T23:59:59",
          "2020-04-15T23:59:59",
          "2020-04-16T23:59:59",
          "2020-04-17T23:59:59",
          "2020-04-18T23:59:59",
          "2020-04-19T23:59:59",
          "2020-04-20T23:59:59",
          "2020-04-21T23:59:59",
          "2020-04-22T23:59:59",
          "2020-04-23T23:59:59",
          "2020-04-24T23:59:59",
          "2020-04-25T23:59:59",
          "2020-04-26T23:59:59",
          "2020-04-27T23:59:59",
          "2020-04-28T23:59:59",
          "2020-04-29T23:59:59",
          "2020-04-30T23:59:59",
          "2020-05-01T23:59:59",
          "2020-05-02T23:59:59",
          "2020-05-03T23:59:59",
          "2020-05-04T23:59:59",
          "2020-05-05T23:59:59",
          "2020-05-06T23:59:59",
          "2020-05-07T23:59:59",
          "2020-05-08T23:59:59",
          "2020-05-09T23:59:59",
          "2020-05-10T23:59:59",
          "2020-05-11T23:59:59",
          "2020-05-12T23:59:59",
          "2020-05-13T23:59:59",
          "2020-05-14T23:59:59",
          "2020-05-15T23:59:59",
          "2020-05-16T23:59:59",
          "2020-05-17T23:59:59",
          "2020-05-18T23:59:59",
          "2020-05-19T23:59:59",
          "2020-05-20T23:59:59",
          "2020-05-21T23:59:59",
          "2020-05-22T23:59:59",
          "2020-05-23T23:59:59",
          "2020-05-24T23:59:59",
          "2020-05-25T23:59:59",
          "2020-05-26T23:59:59",
          "2020-05-27T23:59:59",
          "2020-05-28T23:59:59",
          "2020-05-29T23:59:59",
          "2020-05-30T23:59:59",
          "2020-05-31T23:59:59",
          "2020-06-01T23:59:59",
          "2020-06-02T23:59:59",
          "2020-06-03T23:59:59",
          "2020-06-04T23:59:59",
          "2020-06-05T23:59:59",
          "2020-06-06T23:59:59",
          "2020-06-07T23:59:59",
          "2020-06-08T23:59:59",
          "2020-06-09T23:59:59",
          "2020-06-10T23:59:59",
          "2020-06-11T23:59:59",
          "2020-06-12T23:59:59",
          "2020-06-13T23:59:59",
          "2020-06-14T23:59:59",
          "2020-06-15T23:59:59",
          "2020-06-16T23:59:59",
          "2020-06-17T23:59:59",
          "2020-06-18T23:59:59",
          "2020-06-19T23:59:59",
          "2020-06-20T23:59:59",
          "2020-06-21T23:59:59",
          "2020-06-22T23:59:59",
          "2020-06-23T23:59:59",
          "2020-06-24T23:59:59",
          "2020-06-25T23:59:59",
          "2020-06-26T23:59:59",
          "2020-06-27T23:59:59",
          "2020-06-28T23:59:59",
          "2020-06-29T23:59:59",
          "2020-06-30T23:59:59",
          "2020-07-01T23:59:59",
          "2020-07-02T23:59:59",
          "2020-07-03T23:59:59",
          "2020-07-04T23:59:59",
          "2020-07-05T23:59:59",
          "2020-07-06T23:59:59",
          "2020-07-07T23:59:59",
          "2020-07-08T23:59:59",
          "2020-07-09T23:59:59",
          "2020-07-10T23:59:59",
          "2020-07-11T23:59:59",
          "2020-07-12T23:59:59",
          "2020-07-13T23:59:59",
          "2020-07-14T23:59:59",
          "2020-07-15T23:59:59",
          "2020-07-16T23:59:59",
          "2020-07-17T23:59:59",
          "2020-07-18T23:59:59",
          "2020-07-19T23:59:59",
          "2020-07-20T23:59:59",
          "2020-07-21T23:59:59",
          "2020-07-22T23:59:59",
          "2020-07-23T23:59:59",
          "2020-07-24T23:59:59",
          "2020-07-25T23:59:59",
          "2020-07-26T23:59:59",
          "2020-07-27T23:59:59",
          "2020-07-28T23:59:59",
          "2020-07-29T23:59:59",
          "2020-07-30T23:59:59",
          "2020-07-31T23:59:59",
          "2020-08-01T23:59:59",
          "2020-08-02T23:59:59",
          "2020-08-03T23:59:59",
          "2020-08-04T23:59:59",
          "2020-08-05T23:59:59",
          "2020-08-06T23:59:59",
          "2020-08-07T23:59:59",
          "2020-08-08T23:59:59",
          "2020-08-09T23:59:59",
          "2020-08-10T23:59:59",
          "2020-08-11T23:59:59",
          "2020-08-12T23:59:59",
          "2020-08-13T23:59:59",
          "2020-08-14T23:59:59",
          "2020-08-15T23:59:59",
          "2020-08-16T23:59:59",
          "2020-08-17T23:59:59",
          "2020-08-18T23:59:59",
          "2020-08-19T23:59:59",
          "2020-08-20T23:59:59",
          "2020-08-21T23:59:59",
          "2020-08-22T23:59:59",
          "2020-08-23T23:59:59",
          "2020-08-24T23:59:59",
          "2020-08-25T23:59:59",
          "2020-08-26T23:59:59",
          "2020-08-27T23:59:59",
          "2020-08-28T23:59:59",
          "2020-08-29T23:59:59",
          "2020-08-30T23:59:59",
          "2020-08-31T23:59:59",
          "2020-09-01T23:59:59",
          "2020-09-02T23:59:59",
          "2020-09-03T23:59:59",
          "2020-09-04T23:59:59",
          "2020-09-05T23:59:59",
          "2020-09-06T23:59:59",
          "2020-09-07T23:59:59",
          "2020-09-08T23:59:59",
          "2020-09-09T23:59:59",
          "2020-09-10T23:59:59",
          "2020-09-11T23:59:59",
          "2020-09-12T23:59:59",
          "2020-09-13T23:59:59",
          "2020-09-14T23:59:59",
          "2020-09-15T23:59:59",
          "2020-09-16T23:59:59",
          "2020-09-17T23:59:59",
          "2020-09-18T23:59:59",
          "2020-09-19T23:59:59",
          "2020-09-20T23:59:59",
          "2020-09-21T23:59:59",
          "2020-09-22T23:59:59",
          "2020-09-23T23:59:59",
          "2020-09-24T23:59:59",
          "2020-09-25T23:59:59",
          "2020-09-26T23:59:59",
          "2020-09-27T23:59:59",
          "2020-09-28T23:59:59",
          "2020-09-29T23:59:59",
          "2020-09-30T23:59:59",
          "2020-10-01T23:59:59",
          "2020-10-02T23:59:59",
          "2020-10-03T23:59:59",
          "2020-10-04T23:59:59",
          "2020-10-05T23:59:59",
          "2020-10-06T23:59:59",
          "2020-10-07T23:59:59",
          "2020-10-08T23:59:59",
          "2020-10-09T23:59:59",
          "2020-10-10T23:59:59",
          "2020-10-11T23:59:59",
          "2020-10-12T23:59:59",
          "2020-10-13T23:59:59",
          "2020-10-14T23:59:59",
          "2020-10-15T23:59:59",
          "2020-10-16T23:59:59",
          "2020-10-17T23:59:59",
          "2020-10-18T23:59:59",
          "2020-10-19T23:59:59",
          "2020-10-20T23:59:59",
          "2020-10-21T23:59:59",
          "2020-10-22T23:59:59",
          "2020-10-23T23:59:59",
          "2020-10-24T23:59:59",
          "2020-10-25T23:59:59",
          "2020-10-26T23:59:59",
          "2020-10-27T23:59:59",
          "2020-10-28T23:59:59",
          "2020-10-29T23:59:59",
          "2020-10-30T23:59:59",
          "2020-10-31T23:59:59",
          "2020-11-01T23:59:59",
          "2020-11-02T23:59:59",
          "2020-11-03T23:59:59",
          "2020-11-04T23:59:59",
          "2020-11-05T23:59:59",
          "2020-11-06T23:59:59",
          "2020-11-07T23:59:59",
          "2020-11-08T23:59:59",
          "2020-11-09T23:59:59",
          "2020-11-10T23:59:59",
          "2020-11-11T23:59:59",
          "2020-11-12T23:59:59",
          "2020-11-13T23:59:59",
          "2020-11-14T23:59:59",
          "2020-11-15T23:59:59",
          "2020-11-16T23:59:59",
          "2020-11-17T23:59:59",
          "2020-11-18T23:59:59",
          "2020-11-19T23:59:59",
          "2020-11-20T23:59:59",
          "2020-11-21T23:59:59",
          "2020-11-22T23:59:59",
          "2020-11-23T23:59:59",
          "2020-11-24T23:59:59",
          "2020-11-25T23:59:59",
          "2020-11-26T23:59:59",
          "2020-11-27T23:59:59",
          "2020-11-28T23:59:59",
          "2020-11-29T23:59:59",
          "2020-11-30T23:59:59",
          "2020-12-01T23:59:59",
          "2020-12-02T23:59:59",
          "2020-12-03T23:59:59",
          "2020-12-04T23:59:59",
          "2020-12-05T23:59:59",
          "2020-12-06T23:59:59",
          "2020-12-07T23:59:59",
          "2020-12-08T23:59:59",
          "2020-12-09T23:59:59",
          "2020-12-10T23:59:59",
          "2020-12-11T23:59:59",
          "2020-12-12T23:59:59",
          "2020-12-13T23:59:59",
          "2020-12-14T23:59:59",
          "2020-12-15T23:59:59",
          "2020-12-16T23:59:59",
          "2020-12-17T23:59:59",
          "2020-12-18T23:59:59",
          "2020-12-19T23:59:59",
          "2020-12-20T23:59:59",
          "2020-12-21T23:59:59",
          "2020-12-22T23:59:59",
          "2020-12-23T23:59:59",
          "2020-12-24T23:59:59",
          "2020-12-25T23:59:59",
          "2020-12-26T23:59:59",
          "2020-12-27T23:59:59",
          "2020-12-28T23:59:59",
          "2020-12-29T23:59:59",
          "2020-12-30T23:59:59",
          "2020-12-31T23:59:59",
          "2021-01-01T23:59:59",
          "2021-01-02T23:59:59",
          "2021-01-03T23:59:59",
          "2021-01-04T23:59:59",
          "2021-01-05T23:59:59",
          "2021-01-06T23:59:59",
          "2021-01-07T23:59:59",
          "2021-01-08T23:59:59",
          "2021-01-09T23:59:59",
          "2021-01-10T23:59:59",
          "2021-01-11T23:59:59",
          "2021-01-12T23:59:59",
          "2021-01-13T23:59:59",
          "2021-01-14T23:59:59",
          "2021-01-15T23:59:59",
          "2021-01-16T23:59:59",
          "2021-01-17T23:59:59",
          "2021-01-18T23:59:59",
          "2021-01-19T23:59:59",
          "2021-01-20T23:59:59",
          "2021-01-21T23:59:59",
          "2021-01-22T23:59:59",
          "2021-01-23T23:59:59",
          "2021-01-24T23:59:59",
          "2021-01-25T23:59:59",
          "2021-01-26T23:59:59",
          "2021-01-27T23:59:59",
          "2021-01-28T23:59:59",
          "2021-01-29T23:59:59",
          "2021-01-30T23:59:59",
          "2021-01-31T23:59:59",
          "2021-02-01T23:59:59",
          "2021-02-02T23:59:59",
          "2021-02-03T23:59:59",
          "2021-02-04T23:59:59",
          "2021-02-05T23:59:59",
          "2021-02-06T23:59:59",
          "2021-02-07T23:59:59",
          "2021-02-08T23:59:59",
          "2021-02-09T23:59:59",
          "2021-02-10T23:59:59",
          "2021-02-11T23:59:59",
          "2021-02-12T23:59:59",
          "2021-02-13T23:59:59",
          "2021-02-14T23:59:59",
          "2021-02-15T23:59:59",
          "2021-02-16T23:59:59",
          "2021-02-17T23:59:59",
          "2021-02-18T23:59:59",
          "2021-02-19T23:59:59",
          "2021-02-20T23:59:59",
          "2021-02-21T23:59:59",
          "2021-02-22T23:59:59",
          "2021-02-23T23:59:59",
          "2021-02-24T23:59:59",
          "2021-02-25T23:59:59",
          "2021-02-26T23:59:59",
          "2021-02-27T23:59:59",
          "2021-02-28T23:59:59",
          "2021-03-01T23:59:59",
          "2021-03-02T23:59:59",
          "2021-03-03T23:59:59",
          "2021-03-04T23:59:59",
          "2021-03-05T23:59:59",
          "2021-03-06T23:59:59",
          "2021-03-07T23:59:59",
          "2021-03-08T23:59:59",
          "2021-03-09T23:59:59",
          "2021-03-10T23:59:59",
          "2021-03-11T23:59:59",
          "2021-03-12T23:59:59",
          "2021-03-13T23:59:59",
          "2021-03-14T23:59:59",
          "2021-03-15T23:59:59",
          "2021-03-16T23:59:59",
          "2021-03-17T23:59:59",
          "2021-03-18T23:59:59",
          "2021-03-19T23:59:59",
          "2021-03-20T23:59:59",
          "2021-03-21T23:59:59",
          "2021-03-22T23:59:59",
          "2021-03-23T23:59:59",
          "2021-03-24T23:59:59",
          "2021-03-25T23:59:59",
          "2021-03-26T23:59:59",
          "2021-03-27T23:59:59",
          "2021-03-28T23:59:59",
          "2021-03-29T23:59:59",
          "2021-03-30T23:59:59",
          "2021-03-31T23:59:59",
          "2021-04-01T23:59:59",
          "2021-04-02T23:59:59",
          "2021-04-03T23:59:59",
          "2021-04-04T23:59:59",
          "2021-04-05T23:59:59",
          "2021-04-06T23:59:59",
          "2021-04-07T23:59:59",
          "2021-04-08T23:59:59",
          "2021-04-09T23:59:59",
          "2021-04-10T23:59:59",
          "2021-04-11T23:59:59",
          "2021-04-12T23:59:59",
          "2021-04-13T23:59:59",
          "2021-04-14T23:59:59",
          "2021-04-15T23:59:59",
          "2021-04-16T23:59:59",
          "2021-04-17T23:59:59",
          "2021-04-18T23:59:59",
          "2021-04-19T23:59:59",
          "2021-04-20T23:59:59",
          "2021-04-21T23:59:59",
          "2021-04-22T23:59:59",
          "2021-04-23T23:59:59",
          "2021-04-24T23:59:59",
          "2021-04-25T23:59:59",
          "2021-04-26T23:59:59",
          "2021-04-27T23:59:59",
          "2021-04-28T23:59:59",
          "2021-04-29T23:59:59",
          "2021-04-30T23:59:59",
          "2021-05-01T23:59:59",
          "2021-05-02T23:59:59",
          "2021-05-03T23:59:59",
          "2021-05-04T23:59:59",
          "2021-05-05T23:59:59",
          "2021-05-06T23:59:59",
          "2021-05-07T23:59:59",
          "2021-05-08T23:59:59",
          "2021-05-09T23:59:59",
          "2021-05-10T23:59:59",
          "2021-05-11T23:59:59",
          "2021-05-12T23:59:59",
          "2021-05-13T23:59:59",
          "2021-05-14T23:59:59",
          "2021-05-15T23:59:59",
          "2021-05-16T23:59:59",
          "2021-05-17T23:59:59",
          "2021-05-18T23:59:59",
          "2021-05-19T23:59:59",
          "2021-05-20T23:59:59",
          "2021-05-21T23:59:59",
          "2021-05-22T23:59:59",
          "2021-05-23T23:59:59",
          "2021-05-24T23:59:59",
          "2021-05-25T23:59:59",
          "2021-05-26T23:59:59",
          "2021-05-27T23:59:59",
          "2021-05-28T23:59:59",
          "2021-05-29T23:59:59",
          "2021-05-30T23:59:59",
          "2021-05-31T23:59:59",
          "2021-06-01T23:59:59",
          "2021-06-02T23:59:59",
          "2021-06-03T23:59:59",
          "2021-06-04T23:59:59",
          "2021-06-05T23:59:59",
          "2021-06-06T23:59:59",
          "2021-06-07T23:59:59",
          "2021-06-08T23:59:59",
          "2021-06-09T23:59:59",
          "2021-06-10T23:59:59",
          "2021-06-11T23:59:59",
          "2021-06-12T23:59:59",
          "2021-06-13T23:59:59",
          "2021-06-14T23:59:59",
          "2021-06-15T23:59:59",
          "2021-06-16T23:59:59",
          "2021-06-17T23:59:59",
          "2021-06-18T23:59:59",
          "2021-06-19T23:59:59",
          "2021-06-20T23:59:59",
          "2021-06-21T23:59:59",
          "2021-06-22T23:59:59",
          "2021-06-23T23:59:59",
          "2021-06-24T23:59:59",
          "2021-06-25T23:59:59",
          "2021-06-26T23:59:59",
          "2021-06-27T23:59:59",
          "2021-06-28T23:59:59",
          "2021-06-29T23:59:59",
          "2021-06-30T23:59:59",
          "2021-07-01T23:59:59",
          "2021-07-02T23:59:59",
          "2021-07-03T23:59:59",
          "2021-07-04T23:59:59",
          "2021-07-05T23:59:59",
          "2021-07-06T23:59:59"
         ],
         "xaxis": "x",
         "y": [
          0,
          0,
          0,
          0,
          0,
          0,
          0,
          0,
          0,
          0,
          0,
          0,
          0,
          0,
          0,
          0,
          0,
          0,
          0,
          0,
          0,
          0,
          0,
          0,
          0,
          0,
          0,
          0,
          0,
          0,
          0,
          0,
          0,
          0,
          0,
          0,
          0,
          0,
          0,
          0,
          0,
          0,
          0,
          0,
          0,
          0,
          0,
          0,
          0,
          0,
          0,
          0,
          9741011.2562594,
          10119647.9354345,
          10131321.1400611,
          11405328.7385824,
          10737481.2006963,
          10636269.8312904,
          11528696.0984937,
          11350793.5069779,
          11124151.4035966,
          9897183.58341088,
          10244352.3859345,
          10504345.5146756,
          10127117.7365674,
          9843524.99494113,
          10101141.4390675,
          10031846.4524466,
          10711334.8299096,
          11804490.7995105,
          11101677.8613918,
          11611481.9990937,
          12537695.5906935,
          12217638.9889378,
          12712583.3849433,
          12301987.5415512,
          12784052.9001166,
          12307979.1957079,
          13773165.2227317,
          14703824.7067831,
          14835525.1298039,
          14361930.621951,
          13457643.8789028,
          13248409.5564903,
          13460110.8038221,
          11929965.7302922,
          12210072.8690639,
          12988566.0151594,
          13741613.2737162,
          14720152.3853897,
          15756747.8792219,
          15947475.7511162,
          17535715.8229986,
          20278237.5664092,
          19801055.4914822,
          22241796.9042963,
          15046966.0262034,
          16864618.7937719,
          16670417.2869211,
          15872927.8675157,
          15057755.3103182,
          16852602.2014576,
          18006642.2008208,
          18105795.7974271,
          17165794.8003885,
          21595764.5736461,
          26991607.0561782,
          30673811.3399836,
          30767254.4661293,
          28597942.6143557,
          29089539.6606279,
          26526190.853226,
          26326510.4083857,
          30054693.6113815,
          31085735.0137577,
          32275884.1492363,
          30256505.6597196,
          38047323.8161723,
          35970036.8564279,
          42655747.4961301,
          45959454.0071939,
          54004593.6510801,
          56963799.6073747,
          65004787.9204578,
          64766752.6195916,
          99684620.8277296,
          93088676.8213831,
          98990653.6220894,
          90597950.4986745,
          103607422.825354,
          91286346.3844131,
          101023083.037279,
          92690989.2578399,
          95122114.0144119,
          104616816.094793,
          106162865.723266,
          103619131.980434,
          113824141.563725,
          111060306.36774,
          130085569.491252,
          128704139.655732,
          143848364.09318,
          155135267.461776,
          142029235.639603,
          137185056.897479,
          117631513.488068,
          119132915.465114,
          87285369.2146955,
          103685156.764957,
          99856838.0760455,
          84805195.3148526,
          125895646.215421,
          120996908.90366,
          120434613.072138,
          117103942.771464,
          113349810.373631,
          118987736.46406,
          107710516.414547,
          93917562.6875188,
          107424214.43618,
          116227097.944417,
          113270346.303239,
          107361555.128177,
          104757856.3029,
          110493813.334531,
          107545200.18238471,
          118764707.79699808,
          122206478.07352892,
          121440587.25937828,
          123455190.65342164,
          116996606.06382903,
          117872307.03014542,
          117178459.57132548,
          116403066.95333204,
          107500110.50109476,
          104274635.61227962,
          104250459.1504476,
          110119117.58235022,
          90716350.09490736,
          96678235.2477901,
          100368606.7828738,
          107778851.91582131,
          102101819.79891624,
          102970675.76628862,
          109780567.40641768,
          104488549.19119288,
          100565804.44055878,
          98642537.6274252,
          93547686.544544,
          95830287.75166796,
          96370525.3833067,
          89572373.35173108,
          82671092.68542057,
          82745351.05974524,
          86579897.07269996,
          87263476.2003648,
          85116777.84839806,
          80026191.61112621,
          76302194.43703932,
          78274491.4004513,
          68228554.8641858,
          65429707.3741233,
          65997124.65947093,
          70546511.16326353,
          73254104.4517357,
          67496510.0918503,
          64772687.2743289,
          63882412.77078965,
          64476759.51742544,
          87809005.86384876,
          93232781.91859987,
          98950578.49222584,
          93091959.13931832,
          103163301.09022862,
          91879509.07207444,
          87162760.83472751,
          92772231.89432384,
          88007184.07888201,
          93803903.71451163,
          103541326.05497044,
          101100127.91945642,
          97099240.81477468,
          95341921.8742907,
          96196099.98011884,
          109362384.71981557,
          98697801.14056186,
          104749492.89621204,
          104362814.6368328,
          104457114.39952429,
          87568856.71760666,
          85493469.70235132,
          86918647.19802547,
          88124520.17567424,
          90995987.14086118,
          91432079.46291864,
          97869064.60978007,
          97172886.1917887,
          85864512.07327235,
          91545972.56905606,
          85784205.38624497,
          84715589.08777982,
          77043677.15978801,
          76902163.1339451,
          72823506.21677381,
          66829092.5972278,
          68971785.3475111,
          72419789.50182986,
          74028444.08998717,
          81994577.6015241,
          83062058.57573813,
          78173905.05369893,
          79113024.8625208,
          77708968.04744972,
          72815661.41874595,
          71806910.82416688,
          69402539.96365425,
          56149028.28607881,
          63447288.3597502,
          67312349.7325568,
          61669699.53591306,
          60682595.60513945,
          70585367.3110688,
          77974154.25075531,
          71506163.4013444,
          70362439.69813043,
          85785758.3765321,
          83792133.53884292,
          100672674.81180388,
          115730856.18599205,
          100461485.67073816,
          89843517.7485024,
          621424746.010265,
          843292264.8894571,
          886634795.6661285,
          907777180.2929409,
          814011024.9712354,
          946351027.8924448,
          920261107.1923414,
          858551672.4562432,
          851217713.3260541,
          902784093.585214,
          999971153.1283689,
          994045884.346998,
          953805116.1144048,
          975205611.5935848,
          783221762.9250783,
          876377707.1253955,
          917727296.3438644,
          951852779.9072752,
          969025482.0935647,
          1060001508.1579952,
          966565279.876813,
          1001001163.69,
          1004302164.53,
          1106338354.04,
          1116779908.67,
          1207779152.91,
          1379560961.34,
          1497018527.39,
          1682987249.18,
          1749943462.85,
          1600421106.69,
          1754852114.11,
          2064624150.36,
          2047219103.37,
          2376014106,
          2413501984.01,
          2421793705.08,
          2287031137.29,
          2288717994.71,
          2320890605.34,
          2173212553.93,
          2153494092.55,
          2351981649.26,
          3002856056.82,
          2619699067.57,
          2903297329.61,
          3785710139.32,
          3981284942.91,
          4531581356.7,
          3618415994.75,
          3558683580.88,
          3457387613.23,
          3428075566.66,
          3916870452.47,
          3655843423.75,
          3696875106.78,
          3430363626.99,
          3302676699.19,
          3414250123.37,
          3634579982.53,
          3562414837.47,
          3948141942.62,
          3792593486.06,
          4270242447.66,
          3887447694.38,
          4089578510.15,
          3875721099.27,
          3791467510.82,
          3640763691.35,
          3799767226.99,
          3804064053.67,
          3797317088.79,
          3801139605.26,
          3833292242.99,
          3990311752.96,
          3801136715.71,
          3649871266.4,
          3479892566.63,
          3950586428.46,
          4425303443.32,
          4829519370.48,
          5056832100.48,
          5158507265.85,
          5220539301.49,
          5121089267.43,
          5312121531.63,
          6047400068.45,
          6455269614.1,
          6166314086.86,
          6695596353.77,
          7107155850.83,
          7256370566.76,
          7456149619.5,
          7247692203.54,
          7542139623.2,
          7698811332.92,
          7408116848.38,
          7148779204.5,
          7511469370.13,
          6857767811.72,
          6777439470.22,
          8722397354.82,
          8553088910.08,
          8578513611.25,
          8779134999.57,
          10498268248.37,
          9984870962.27,
          10993246510.76,
          12782467830.77,
          11867353941.86,
          11674627043.11,
          12103108334.92,
          11470583798.14,
          11604419645.43,
          13490574630.96,
          12784244033.41,
          12523242921.18,
          11649676283.04,
          12247847970.24,
          11847643595.56,
          11765673243.42,
          12421778450.87,
          12086070502,
          11698772287.18,
          12153486129.98,
          11575451927.3,
          11177548615.05,
          11646488803.58,
          11849179250.7,
          12868711981.4,
          12776663874.1,
          15243420387.39,
          9571532158.07,
          12198547360.64,
          10581836075.92,
          8537799811.16,
          6731076772.71,
          8529072274.79,
          8178326112.58,
          9689483978.48,
          9156416571.33,
          7917193696.93,
          7463837084.79,
          7798155350.85,
          8946936842.81,
          8447741686.96,
          9257762745.02,
          10761246544.92,
          10200748812.85,
          10792461951.31,
          11534847407.96,
          10431744177.47,
          11319309882.19,
          11459435796.76,
          11205036430.93,
          9827512516.02,
          9935368468.58,
          10570271763.77,
          10554627165.2,
          11220024464.76,
          10824691940.44,
          10704997763.63,
          9991833808.98,
          9638669476.32,
          9630102393.55,
          7267805027.63,
          7299009872.97,
          8192451330.05,
          8501117109.74,
          7824384002.14,
          8100836462.86,
          8705146914.45,
          8977345683.28,
          9233357637.53,
          9694007086.14,
          9107189782.04,
          9275256700.08,
          9400215615.43,
          9354354086.58,
          8992833088.02,
          9343050096.63
         ],
         "yaxis": "y",
         "type": "scatter"
        }
       ],
       "layout": {
        "template": {
         "data": {
          "histogram2dcontour": [
           {
            "type": "histogram2dcontour",
            "colorbar": {
             "outlinewidth": 0,
             "ticks": ""
            },
            "colorscale": [
             [
              0,
              "#0d0887"
             ],
             [
              0.1111111111111111,
              "#46039f"
             ],
             [
              0.2222222222222222,
              "#7201a8"
             ],
             [
              0.3333333333333333,
              "#9c179e"
             ],
             [
              0.4444444444444444,
              "#bd3786"
             ],
             [
              0.5555555555555556,
              "#d8576b"
             ],
             [
              0.6666666666666666,
              "#ed7953"
             ],
             [
              0.7777777777777778,
              "#fb9f3a"
             ],
             [
              0.8888888888888888,
              "#fdca26"
             ],
             [
              1,
              "#f0f921"
             ]
            ]
           }
          ],
          "choropleth": [
           {
            "type": "choropleth",
            "colorbar": {
             "outlinewidth": 0,
             "ticks": ""
            }
           }
          ],
          "histogram2d": [
           {
            "type": "histogram2d",
            "colorbar": {
             "outlinewidth": 0,
             "ticks": ""
            },
            "colorscale": [
             [
              0,
              "#0d0887"
             ],
             [
              0.1111111111111111,
              "#46039f"
             ],
             [
              0.2222222222222222,
              "#7201a8"
             ],
             [
              0.3333333333333333,
              "#9c179e"
             ],
             [
              0.4444444444444444,
              "#bd3786"
             ],
             [
              0.5555555555555556,
              "#d8576b"
             ],
             [
              0.6666666666666666,
              "#ed7953"
             ],
             [
              0.7777777777777778,
              "#fb9f3a"
             ],
             [
              0.8888888888888888,
              "#fdca26"
             ],
             [
              1,
              "#f0f921"
             ]
            ]
           }
          ],
          "heatmap": [
           {
            "type": "heatmap",
            "colorbar": {
             "outlinewidth": 0,
             "ticks": ""
            },
            "colorscale": [
             [
              0,
              "#0d0887"
             ],
             [
              0.1111111111111111,
              "#46039f"
             ],
             [
              0.2222222222222222,
              "#7201a8"
             ],
             [
              0.3333333333333333,
              "#9c179e"
             ],
             [
              0.4444444444444444,
              "#bd3786"
             ],
             [
              0.5555555555555556,
              "#d8576b"
             ],
             [
              0.6666666666666666,
              "#ed7953"
             ],
             [
              0.7777777777777778,
              "#fb9f3a"
             ],
             [
              0.8888888888888888,
              "#fdca26"
             ],
             [
              1,
              "#f0f921"
             ]
            ]
           }
          ],
          "heatmapgl": [
           {
            "type": "heatmapgl",
            "colorbar": {
             "outlinewidth": 0,
             "ticks": ""
            },
            "colorscale": [
             [
              0,
              "#0d0887"
             ],
             [
              0.1111111111111111,
              "#46039f"
             ],
             [
              0.2222222222222222,
              "#7201a8"
             ],
             [
              0.3333333333333333,
              "#9c179e"
             ],
             [
              0.4444444444444444,
              "#bd3786"
             ],
             [
              0.5555555555555556,
              "#d8576b"
             ],
             [
              0.6666666666666666,
              "#ed7953"
             ],
             [
              0.7777777777777778,
              "#fb9f3a"
             ],
             [
              0.8888888888888888,
              "#fdca26"
             ],
             [
              1,
              "#f0f921"
             ]
            ]
           }
          ],
          "contourcarpet": [
           {
            "type": "contourcarpet",
            "colorbar": {
             "outlinewidth": 0,
             "ticks": ""
            }
           }
          ],
          "contour": [
           {
            "type": "contour",
            "colorbar": {
             "outlinewidth": 0,
             "ticks": ""
            },
            "colorscale": [
             [
              0,
              "#0d0887"
             ],
             [
              0.1111111111111111,
              "#46039f"
             ],
             [
              0.2222222222222222,
              "#7201a8"
             ],
             [
              0.3333333333333333,
              "#9c179e"
             ],
             [
              0.4444444444444444,
              "#bd3786"
             ],
             [
              0.5555555555555556,
              "#d8576b"
             ],
             [
              0.6666666666666666,
              "#ed7953"
             ],
             [
              0.7777777777777778,
              "#fb9f3a"
             ],
             [
              0.8888888888888888,
              "#fdca26"
             ],
             [
              1,
              "#f0f921"
             ]
            ]
           }
          ],
          "surface": [
           {
            "type": "surface",
            "colorbar": {
             "outlinewidth": 0,
             "ticks": ""
            },
            "colorscale": [
             [
              0,
              "#0d0887"
             ],
             [
              0.1111111111111111,
              "#46039f"
             ],
             [
              0.2222222222222222,
              "#7201a8"
             ],
             [
              0.3333333333333333,
              "#9c179e"
             ],
             [
              0.4444444444444444,
              "#bd3786"
             ],
             [
              0.5555555555555556,
              "#d8576b"
             ],
             [
              0.6666666666666666,
              "#ed7953"
             ],
             [
              0.7777777777777778,
              "#fb9f3a"
             ],
             [
              0.8888888888888888,
              "#fdca26"
             ],
             [
              1,
              "#f0f921"
             ]
            ]
           }
          ],
          "mesh3d": [
           {
            "type": "mesh3d",
            "colorbar": {
             "outlinewidth": 0,
             "ticks": ""
            }
           }
          ],
          "scatter": [
           {
            "fillpattern": {
             "fillmode": "overlay",
             "size": 10,
             "solidity": 0.2
            },
            "type": "scatter"
           }
          ],
          "parcoords": [
           {
            "type": "parcoords",
            "line": {
             "colorbar": {
              "outlinewidth": 0,
              "ticks": ""
             }
            }
           }
          ],
          "scatterpolargl": [
           {
            "type": "scatterpolargl",
            "marker": {
             "colorbar": {
              "outlinewidth": 0,
              "ticks": ""
             }
            }
           }
          ],
          "bar": [
           {
            "error_x": {
             "color": "#2a3f5f"
            },
            "error_y": {
             "color": "#2a3f5f"
            },
            "marker": {
             "line": {
              "color": "#E5ECF6",
              "width": 0.5
             },
             "pattern": {
              "fillmode": "overlay",
              "size": 10,
              "solidity": 0.2
             }
            },
            "type": "bar"
           }
          ],
          "scattergeo": [
           {
            "type": "scattergeo",
            "marker": {
             "colorbar": {
              "outlinewidth": 0,
              "ticks": ""
             }
            }
           }
          ],
          "scatterpolar": [
           {
            "type": "scatterpolar",
            "marker": {
             "colorbar": {
              "outlinewidth": 0,
              "ticks": ""
             }
            }
           }
          ],
          "histogram": [
           {
            "marker": {
             "pattern": {
              "fillmode": "overlay",
              "size": 10,
              "solidity": 0.2
             }
            },
            "type": "histogram"
           }
          ],
          "scattergl": [
           {
            "type": "scattergl",
            "marker": {
             "colorbar": {
              "outlinewidth": 0,
              "ticks": ""
             }
            }
           }
          ],
          "scatter3d": [
           {
            "type": "scatter3d",
            "line": {
             "colorbar": {
              "outlinewidth": 0,
              "ticks": ""
             }
            },
            "marker": {
             "colorbar": {
              "outlinewidth": 0,
              "ticks": ""
             }
            }
           }
          ],
          "scattermapbox": [
           {
            "type": "scattermapbox",
            "marker": {
             "colorbar": {
              "outlinewidth": 0,
              "ticks": ""
             }
            }
           }
          ],
          "scatterternary": [
           {
            "type": "scatterternary",
            "marker": {
             "colorbar": {
              "outlinewidth": 0,
              "ticks": ""
             }
            }
           }
          ],
          "scattercarpet": [
           {
            "type": "scattercarpet",
            "marker": {
             "colorbar": {
              "outlinewidth": 0,
              "ticks": ""
             }
            }
           }
          ],
          "carpet": [
           {
            "aaxis": {
             "endlinecolor": "#2a3f5f",
             "gridcolor": "white",
             "linecolor": "white",
             "minorgridcolor": "white",
             "startlinecolor": "#2a3f5f"
            },
            "baxis": {
             "endlinecolor": "#2a3f5f",
             "gridcolor": "white",
             "linecolor": "white",
             "minorgridcolor": "white",
             "startlinecolor": "#2a3f5f"
            },
            "type": "carpet"
           }
          ],
          "table": [
           {
            "cells": {
             "fill": {
              "color": "#EBF0F8"
             },
             "line": {
              "color": "white"
             }
            },
            "header": {
             "fill": {
              "color": "#C8D4E3"
             },
             "line": {
              "color": "white"
             }
            },
            "type": "table"
           }
          ],
          "barpolar": [
           {
            "marker": {
             "line": {
              "color": "#E5ECF6",
              "width": 0.5
             },
             "pattern": {
              "fillmode": "overlay",
              "size": 10,
              "solidity": 0.2
             }
            },
            "type": "barpolar"
           }
          ],
          "pie": [
           {
            "automargin": true,
            "type": "pie"
           }
          ]
         },
         "layout": {
          "autotypenumbers": "strict",
          "colorway": [
           "#636efa",
           "#EF553B",
           "#00cc96",
           "#ab63fa",
           "#FFA15A",
           "#19d3f3",
           "#FF6692",
           "#B6E880",
           "#FF97FF",
           "#FECB52"
          ],
          "font": {
           "color": "#2a3f5f"
          },
          "hovermode": "closest",
          "hoverlabel": {
           "align": "left"
          },
          "paper_bgcolor": "white",
          "plot_bgcolor": "#E5ECF6",
          "polar": {
           "bgcolor": "#E5ECF6",
           "angularaxis": {
            "gridcolor": "white",
            "linecolor": "white",
            "ticks": ""
           },
           "radialaxis": {
            "gridcolor": "white",
            "linecolor": "white",
            "ticks": ""
           }
          },
          "ternary": {
           "bgcolor": "#E5ECF6",
           "aaxis": {
            "gridcolor": "white",
            "linecolor": "white",
            "ticks": ""
           },
           "baxis": {
            "gridcolor": "white",
            "linecolor": "white",
            "ticks": ""
           },
           "caxis": {
            "gridcolor": "white",
            "linecolor": "white",
            "ticks": ""
           }
          },
          "coloraxis": {
           "colorbar": {
            "outlinewidth": 0,
            "ticks": ""
           }
          },
          "colorscale": {
           "sequential": [
            [
             0,
             "#0d0887"
            ],
            [
             0.1111111111111111,
             "#46039f"
            ],
            [
             0.2222222222222222,
             "#7201a8"
            ],
            [
             0.3333333333333333,
             "#9c179e"
            ],
            [
             0.4444444444444444,
             "#bd3786"
            ],
            [
             0.5555555555555556,
             "#d8576b"
            ],
            [
             0.6666666666666666,
             "#ed7953"
            ],
            [
             0.7777777777777778,
             "#fb9f3a"
            ],
            [
             0.8888888888888888,
             "#fdca26"
            ],
            [
             1,
             "#f0f921"
            ]
           ],
           "sequentialminus": [
            [
             0,
             "#0d0887"
            ],
            [
             0.1111111111111111,
             "#46039f"
            ],
            [
             0.2222222222222222,
             "#7201a8"
            ],
            [
             0.3333333333333333,
             "#9c179e"
            ],
            [
             0.4444444444444444,
             "#bd3786"
            ],
            [
             0.5555555555555556,
             "#d8576b"
            ],
            [
             0.6666666666666666,
             "#ed7953"
            ],
            [
             0.7777777777777778,
             "#fb9f3a"
            ],
            [
             0.8888888888888888,
             "#fdca26"
            ],
            [
             1,
             "#f0f921"
            ]
           ],
           "diverging": [
            [
             0,
             "#8e0152"
            ],
            [
             0.1,
             "#c51b7d"
            ],
            [
             0.2,
             "#de77ae"
            ],
            [
             0.3,
             "#f1b6da"
            ],
            [
             0.4,
             "#fde0ef"
            ],
            [
             0.5,
             "#f7f7f7"
            ],
            [
             0.6,
             "#e6f5d0"
            ],
            [
             0.7,
             "#b8e186"
            ],
            [
             0.8,
             "#7fbc41"
            ],
            [
             0.9,
             "#4d9221"
            ],
            [
             1,
             "#276419"
            ]
           ]
          },
          "xaxis": {
           "gridcolor": "white",
           "linecolor": "white",
           "ticks": "",
           "title": {
            "standoff": 15
           },
           "zerolinecolor": "white",
           "automargin": true,
           "zerolinewidth": 2
          },
          "yaxis": {
           "gridcolor": "white",
           "linecolor": "white",
           "ticks": "",
           "title": {
            "standoff": 15
           },
           "zerolinecolor": "white",
           "automargin": true,
           "zerolinewidth": 2
          },
          "scene": {
           "xaxis": {
            "backgroundcolor": "#E5ECF6",
            "gridcolor": "white",
            "linecolor": "white",
            "showbackground": true,
            "ticks": "",
            "zerolinecolor": "white",
            "gridwidth": 2
           },
           "yaxis": {
            "backgroundcolor": "#E5ECF6",
            "gridcolor": "white",
            "linecolor": "white",
            "showbackground": true,
            "ticks": "",
            "zerolinecolor": "white",
            "gridwidth": 2
           },
           "zaxis": {
            "backgroundcolor": "#E5ECF6",
            "gridcolor": "white",
            "linecolor": "white",
            "showbackground": true,
            "ticks": "",
            "zerolinecolor": "white",
            "gridwidth": 2
           }
          },
          "shapedefaults": {
           "line": {
            "color": "#2a3f5f"
           }
          },
          "annotationdefaults": {
           "arrowcolor": "#2a3f5f",
           "arrowhead": 0,
           "arrowwidth": 1
          },
          "geo": {
           "bgcolor": "white",
           "landcolor": "#E5ECF6",
           "subunitcolor": "white",
           "showland": true,
           "showlakes": true,
           "lakecolor": "white"
          },
          "title": {
           "x": 0.05
          },
          "mapbox": {
           "style": "light"
          }
         }
        },
        "xaxis": {
         "anchor": "y",
         "domain": [
          0,
          1
         ],
         "title": {
          "text": "Date"
         }
        },
        "yaxis": {
         "anchor": "x",
         "domain": [
          0,
          1
         ],
         "title": {
          "text": "Marketcap"
         }
        },
        "legend": {
         "tracegroupgap": 0
        },
        "margin": {
         "t": 60
        }
       },
       "config": {
        "plotlyServerURL": "https://plot.ly"
       }
      }
     },
     "metadata": {}
    }
   ],
   "metadata": {}
  },
  {
   "cell_type": "code",
   "execution_count": 14,
   "source": [
    "fig = px.line(data, x='Date', y=\"Difference\")\n",
    "fig.show();"
   ],
   "outputs": [
    {
     "output_type": "display_data",
     "data": {
      "application/vnd.plotly.v1+json": {
       "data": [
        {
         "hovertemplate": "Date=%{x}<br>Difference=%{y}<extra></extra>",
         "legendgroup": "",
         "line": {
          "color": "#636efa",
          "dash": "solid"
         },
         "marker": {
          "symbol": "circle"
         },
         "mode": "lines",
         "name": "",
         "orientation": "v",
         "showlegend": false,
         "x": [
          "2020-04-11T23:59:59",
          "2020-04-12T23:59:59",
          "2020-04-13T23:59:59",
          "2020-04-14T23:59:59",
          "2020-04-15T23:59:59",
          "2020-04-16T23:59:59",
          "2020-04-17T23:59:59",
          "2020-04-18T23:59:59",
          "2020-04-19T23:59:59",
          "2020-04-20T23:59:59",
          "2020-04-21T23:59:59",
          "2020-04-22T23:59:59",
          "2020-04-23T23:59:59",
          "2020-04-24T23:59:59",
          "2020-04-25T23:59:59",
          "2020-04-26T23:59:59",
          "2020-04-27T23:59:59",
          "2020-04-28T23:59:59",
          "2020-04-29T23:59:59",
          "2020-04-30T23:59:59",
          "2020-05-01T23:59:59",
          "2020-05-02T23:59:59",
          "2020-05-03T23:59:59",
          "2020-05-04T23:59:59",
          "2020-05-05T23:59:59",
          "2020-05-06T23:59:59",
          "2020-05-07T23:59:59",
          "2020-05-08T23:59:59",
          "2020-05-09T23:59:59",
          "2020-05-10T23:59:59",
          "2020-05-11T23:59:59",
          "2020-05-12T23:59:59",
          "2020-05-13T23:59:59",
          "2020-05-14T23:59:59",
          "2020-05-15T23:59:59",
          "2020-05-16T23:59:59",
          "2020-05-17T23:59:59",
          "2020-05-18T23:59:59",
          "2020-05-19T23:59:59",
          "2020-05-20T23:59:59",
          "2020-05-21T23:59:59",
          "2020-05-22T23:59:59",
          "2020-05-23T23:59:59",
          "2020-05-24T23:59:59",
          "2020-05-25T23:59:59",
          "2020-05-26T23:59:59",
          "2020-05-27T23:59:59",
          "2020-05-28T23:59:59",
          "2020-05-29T23:59:59",
          "2020-05-30T23:59:59",
          "2020-05-31T23:59:59",
          "2020-06-01T23:59:59",
          "2020-06-02T23:59:59",
          "2020-06-03T23:59:59",
          "2020-06-04T23:59:59",
          "2020-06-05T23:59:59",
          "2020-06-06T23:59:59",
          "2020-06-07T23:59:59",
          "2020-06-08T23:59:59",
          "2020-06-09T23:59:59",
          "2020-06-10T23:59:59",
          "2020-06-11T23:59:59",
          "2020-06-12T23:59:59",
          "2020-06-13T23:59:59",
          "2020-06-14T23:59:59",
          "2020-06-15T23:59:59",
          "2020-06-16T23:59:59",
          "2020-06-17T23:59:59",
          "2020-06-18T23:59:59",
          "2020-06-19T23:59:59",
          "2020-06-20T23:59:59",
          "2020-06-21T23:59:59",
          "2020-06-22T23:59:59",
          "2020-06-23T23:59:59",
          "2020-06-24T23:59:59",
          "2020-06-25T23:59:59",
          "2020-06-26T23:59:59",
          "2020-06-27T23:59:59",
          "2020-06-28T23:59:59",
          "2020-06-29T23:59:59",
          "2020-06-30T23:59:59",
          "2020-07-01T23:59:59",
          "2020-07-02T23:59:59",
          "2020-07-03T23:59:59",
          "2020-07-04T23:59:59",
          "2020-07-05T23:59:59",
          "2020-07-06T23:59:59",
          "2020-07-07T23:59:59",
          "2020-07-08T23:59:59",
          "2020-07-09T23:59:59",
          "2020-07-10T23:59:59",
          "2020-07-11T23:59:59",
          "2020-07-12T23:59:59",
          "2020-07-13T23:59:59",
          "2020-07-14T23:59:59",
          "2020-07-15T23:59:59",
          "2020-07-16T23:59:59",
          "2020-07-17T23:59:59",
          "2020-07-18T23:59:59",
          "2020-07-19T23:59:59",
          "2020-07-20T23:59:59",
          "2020-07-21T23:59:59",
          "2020-07-22T23:59:59",
          "2020-07-23T23:59:59",
          "2020-07-24T23:59:59",
          "2020-07-25T23:59:59",
          "2020-07-26T23:59:59",
          "2020-07-27T23:59:59",
          "2020-07-28T23:59:59",
          "2020-07-29T23:59:59",
          "2020-07-30T23:59:59",
          "2020-07-31T23:59:59",
          "2020-08-01T23:59:59",
          "2020-08-02T23:59:59",
          "2020-08-03T23:59:59",
          "2020-08-04T23:59:59",
          "2020-08-05T23:59:59",
          "2020-08-06T23:59:59",
          "2020-08-07T23:59:59",
          "2020-08-08T23:59:59",
          "2020-08-09T23:59:59",
          "2020-08-10T23:59:59",
          "2020-08-11T23:59:59",
          "2020-08-12T23:59:59",
          "2020-08-13T23:59:59",
          "2020-08-14T23:59:59",
          "2020-08-15T23:59:59",
          "2020-08-16T23:59:59",
          "2020-08-17T23:59:59",
          "2020-08-18T23:59:59",
          "2020-08-19T23:59:59",
          "2020-08-20T23:59:59",
          "2020-08-21T23:59:59",
          "2020-08-22T23:59:59",
          "2020-08-23T23:59:59",
          "2020-08-24T23:59:59",
          "2020-08-25T23:59:59",
          "2020-08-26T23:59:59",
          "2020-08-27T23:59:59",
          "2020-08-28T23:59:59",
          "2020-08-29T23:59:59",
          "2020-08-30T23:59:59",
          "2020-08-31T23:59:59",
          "2020-09-01T23:59:59",
          "2020-09-02T23:59:59",
          "2020-09-03T23:59:59",
          "2020-09-04T23:59:59",
          "2020-09-05T23:59:59",
          "2020-09-06T23:59:59",
          "2020-09-07T23:59:59",
          "2020-09-08T23:59:59",
          "2020-09-09T23:59:59",
          "2020-09-10T23:59:59",
          "2020-09-11T23:59:59",
          "2020-09-12T23:59:59",
          "2020-09-13T23:59:59",
          "2020-09-14T23:59:59",
          "2020-09-15T23:59:59",
          "2020-09-16T23:59:59",
          "2020-09-17T23:59:59",
          "2020-09-18T23:59:59",
          "2020-09-19T23:59:59",
          "2020-09-20T23:59:59",
          "2020-09-21T23:59:59",
          "2020-09-22T23:59:59",
          "2020-09-23T23:59:59",
          "2020-09-24T23:59:59",
          "2020-09-25T23:59:59",
          "2020-09-26T23:59:59",
          "2020-09-27T23:59:59",
          "2020-09-28T23:59:59",
          "2020-09-29T23:59:59",
          "2020-09-30T23:59:59",
          "2020-10-01T23:59:59",
          "2020-10-02T23:59:59",
          "2020-10-03T23:59:59",
          "2020-10-04T23:59:59",
          "2020-10-05T23:59:59",
          "2020-10-06T23:59:59",
          "2020-10-07T23:59:59",
          "2020-10-08T23:59:59",
          "2020-10-09T23:59:59",
          "2020-10-10T23:59:59",
          "2020-10-11T23:59:59",
          "2020-10-12T23:59:59",
          "2020-10-13T23:59:59",
          "2020-10-14T23:59:59",
          "2020-10-15T23:59:59",
          "2020-10-16T23:59:59",
          "2020-10-17T23:59:59",
          "2020-10-18T23:59:59",
          "2020-10-19T23:59:59",
          "2020-10-20T23:59:59",
          "2020-10-21T23:59:59",
          "2020-10-22T23:59:59",
          "2020-10-23T23:59:59",
          "2020-10-24T23:59:59",
          "2020-10-25T23:59:59",
          "2020-10-26T23:59:59",
          "2020-10-27T23:59:59",
          "2020-10-28T23:59:59",
          "2020-10-29T23:59:59",
          "2020-10-30T23:59:59",
          "2020-10-31T23:59:59",
          "2020-11-01T23:59:59",
          "2020-11-02T23:59:59",
          "2020-11-03T23:59:59",
          "2020-11-04T23:59:59",
          "2020-11-05T23:59:59",
          "2020-11-06T23:59:59",
          "2020-11-07T23:59:59",
          "2020-11-08T23:59:59",
          "2020-11-09T23:59:59",
          "2020-11-10T23:59:59",
          "2020-11-11T23:59:59",
          "2020-11-12T23:59:59",
          "2020-11-13T23:59:59",
          "2020-11-14T23:59:59",
          "2020-11-15T23:59:59",
          "2020-11-16T23:59:59",
          "2020-11-17T23:59:59",
          "2020-11-18T23:59:59",
          "2020-11-19T23:59:59",
          "2020-11-20T23:59:59",
          "2020-11-21T23:59:59",
          "2020-11-22T23:59:59",
          "2020-11-23T23:59:59",
          "2020-11-24T23:59:59",
          "2020-11-25T23:59:59",
          "2020-11-26T23:59:59",
          "2020-11-27T23:59:59",
          "2020-11-28T23:59:59",
          "2020-11-29T23:59:59",
          "2020-11-30T23:59:59",
          "2020-12-01T23:59:59",
          "2020-12-02T23:59:59",
          "2020-12-03T23:59:59",
          "2020-12-04T23:59:59",
          "2020-12-05T23:59:59",
          "2020-12-06T23:59:59",
          "2020-12-07T23:59:59",
          "2020-12-08T23:59:59",
          "2020-12-09T23:59:59",
          "2020-12-10T23:59:59",
          "2020-12-11T23:59:59",
          "2020-12-12T23:59:59",
          "2020-12-13T23:59:59",
          "2020-12-14T23:59:59",
          "2020-12-15T23:59:59",
          "2020-12-16T23:59:59",
          "2020-12-17T23:59:59",
          "2020-12-18T23:59:59",
          "2020-12-19T23:59:59",
          "2020-12-20T23:59:59",
          "2020-12-21T23:59:59",
          "2020-12-22T23:59:59",
          "2020-12-23T23:59:59",
          "2020-12-24T23:59:59",
          "2020-12-25T23:59:59",
          "2020-12-26T23:59:59",
          "2020-12-27T23:59:59",
          "2020-12-28T23:59:59",
          "2020-12-29T23:59:59",
          "2020-12-30T23:59:59",
          "2020-12-31T23:59:59",
          "2021-01-01T23:59:59",
          "2021-01-02T23:59:59",
          "2021-01-03T23:59:59",
          "2021-01-04T23:59:59",
          "2021-01-05T23:59:59",
          "2021-01-06T23:59:59",
          "2021-01-07T23:59:59",
          "2021-01-08T23:59:59",
          "2021-01-09T23:59:59",
          "2021-01-10T23:59:59",
          "2021-01-11T23:59:59",
          "2021-01-12T23:59:59",
          "2021-01-13T23:59:59",
          "2021-01-14T23:59:59",
          "2021-01-15T23:59:59",
          "2021-01-16T23:59:59",
          "2021-01-17T23:59:59",
          "2021-01-18T23:59:59",
          "2021-01-19T23:59:59",
          "2021-01-20T23:59:59",
          "2021-01-21T23:59:59",
          "2021-01-22T23:59:59",
          "2021-01-23T23:59:59",
          "2021-01-24T23:59:59",
          "2021-01-25T23:59:59",
          "2021-01-26T23:59:59",
          "2021-01-27T23:59:59",
          "2021-01-28T23:59:59",
          "2021-01-29T23:59:59",
          "2021-01-30T23:59:59",
          "2021-01-31T23:59:59",
          "2021-02-01T23:59:59",
          "2021-02-02T23:59:59",
          "2021-02-03T23:59:59",
          "2021-02-04T23:59:59",
          "2021-02-05T23:59:59",
          "2021-02-06T23:59:59",
          "2021-02-07T23:59:59",
          "2021-02-08T23:59:59",
          "2021-02-09T23:59:59",
          "2021-02-10T23:59:59",
          "2021-02-11T23:59:59",
          "2021-02-12T23:59:59",
          "2021-02-13T23:59:59",
          "2021-02-14T23:59:59",
          "2021-02-15T23:59:59",
          "2021-02-16T23:59:59",
          "2021-02-17T23:59:59",
          "2021-02-18T23:59:59",
          "2021-02-19T23:59:59",
          "2021-02-20T23:59:59",
          "2021-02-21T23:59:59",
          "2021-02-22T23:59:59",
          "2021-02-23T23:59:59",
          "2021-02-24T23:59:59",
          "2021-02-25T23:59:59",
          "2021-02-26T23:59:59",
          "2021-02-27T23:59:59",
          "2021-02-28T23:59:59",
          "2021-03-01T23:59:59",
          "2021-03-02T23:59:59",
          "2021-03-03T23:59:59",
          "2021-03-04T23:59:59",
          "2021-03-05T23:59:59",
          "2021-03-06T23:59:59",
          "2021-03-07T23:59:59",
          "2021-03-08T23:59:59",
          "2021-03-09T23:59:59",
          "2021-03-10T23:59:59",
          "2021-03-11T23:59:59",
          "2021-03-12T23:59:59",
          "2021-03-13T23:59:59",
          "2021-03-14T23:59:59",
          "2021-03-15T23:59:59",
          "2021-03-16T23:59:59",
          "2021-03-17T23:59:59",
          "2021-03-18T23:59:59",
          "2021-03-19T23:59:59",
          "2021-03-20T23:59:59",
          "2021-03-21T23:59:59",
          "2021-03-22T23:59:59",
          "2021-03-23T23:59:59",
          "2021-03-24T23:59:59",
          "2021-03-25T23:59:59",
          "2021-03-26T23:59:59",
          "2021-03-27T23:59:59",
          "2021-03-28T23:59:59",
          "2021-03-29T23:59:59",
          "2021-03-30T23:59:59",
          "2021-03-31T23:59:59",
          "2021-04-01T23:59:59",
          "2021-04-02T23:59:59",
          "2021-04-03T23:59:59",
          "2021-04-04T23:59:59",
          "2021-04-05T23:59:59",
          "2021-04-06T23:59:59",
          "2021-04-07T23:59:59",
          "2021-04-08T23:59:59",
          "2021-04-09T23:59:59",
          "2021-04-10T23:59:59",
          "2021-04-11T23:59:59",
          "2021-04-12T23:59:59",
          "2021-04-13T23:59:59",
          "2021-04-14T23:59:59",
          "2021-04-15T23:59:59",
          "2021-04-16T23:59:59",
          "2021-04-17T23:59:59",
          "2021-04-18T23:59:59",
          "2021-04-19T23:59:59",
          "2021-04-20T23:59:59",
          "2021-04-21T23:59:59",
          "2021-04-22T23:59:59",
          "2021-04-23T23:59:59",
          "2021-04-24T23:59:59",
          "2021-04-25T23:59:59",
          "2021-04-26T23:59:59",
          "2021-04-27T23:59:59",
          "2021-04-28T23:59:59",
          "2021-04-29T23:59:59",
          "2021-04-30T23:59:59",
          "2021-05-01T23:59:59",
          "2021-05-02T23:59:59",
          "2021-05-03T23:59:59",
          "2021-05-04T23:59:59",
          "2021-05-05T23:59:59",
          "2021-05-06T23:59:59",
          "2021-05-07T23:59:59",
          "2021-05-08T23:59:59",
          "2021-05-09T23:59:59",
          "2021-05-10T23:59:59",
          "2021-05-11T23:59:59",
          "2021-05-12T23:59:59",
          "2021-05-13T23:59:59",
          "2021-05-14T23:59:59",
          "2021-05-15T23:59:59",
          "2021-05-16T23:59:59",
          "2021-05-17T23:59:59",
          "2021-05-18T23:59:59",
          "2021-05-19T23:59:59",
          "2021-05-20T23:59:59",
          "2021-05-21T23:59:59",
          "2021-05-22T23:59:59",
          "2021-05-23T23:59:59",
          "2021-05-24T23:59:59",
          "2021-05-25T23:59:59",
          "2021-05-26T23:59:59",
          "2021-05-27T23:59:59",
          "2021-05-28T23:59:59",
          "2021-05-29T23:59:59",
          "2021-05-30T23:59:59",
          "2021-05-31T23:59:59",
          "2021-06-01T23:59:59",
          "2021-06-02T23:59:59",
          "2021-06-03T23:59:59",
          "2021-06-04T23:59:59",
          "2021-06-05T23:59:59",
          "2021-06-06T23:59:59",
          "2021-06-07T23:59:59",
          "2021-06-08T23:59:59",
          "2021-06-09T23:59:59",
          "2021-06-10T23:59:59",
          "2021-06-11T23:59:59",
          "2021-06-12T23:59:59",
          "2021-06-13T23:59:59",
          "2021-06-14T23:59:59",
          "2021-06-15T23:59:59",
          "2021-06-16T23:59:59",
          "2021-06-17T23:59:59",
          "2021-06-18T23:59:59",
          "2021-06-19T23:59:59",
          "2021-06-20T23:59:59",
          "2021-06-21T23:59:59",
          "2021-06-22T23:59:59",
          "2021-06-23T23:59:59",
          "2021-06-24T23:59:59",
          "2021-06-25T23:59:59",
          "2021-06-26T23:59:59",
          "2021-06-27T23:59:59",
          "2021-06-28T23:59:59",
          "2021-06-29T23:59:59",
          "2021-06-30T23:59:59",
          "2021-07-01T23:59:59",
          "2021-07-02T23:59:59",
          "2021-07-03T23:59:59",
          "2021-07-04T23:59:59",
          "2021-07-05T23:59:59",
          "2021-07-06T23:59:59"
         ],
         "xaxis": "x",
         "y": [
          -0.17423537460299998,
          0.09705921407399998,
          -0.11292804739399998,
          -0.11590674034100001,
          -0.022638247234999964,
          0.05993705933999993,
          -0.028584483372999903,
          0.02036836374099993,
          -0.07454670912900008,
          -0.07413545191000004,
          0.046272446117999966,
          0.11043482603699994,
          -0.057889989852,
          0.01022104873000007,
          0.012801243328000034,
          -0.017708691704000024,
          -0.06334191192299998,
          0.08303978472200002,
          0.083554771902,
          -0.05614911610999995,
          0.03774854843200004,
          -0.011391191654000044,
          -0.03526118252999999,
          -0.012134401153999996,
          -0.03160309392900007,
          -0.019870589252000026,
          -0.009605641599999992,
          -0.00805583617099992,
          0.0004858907250000488,
          -0.067426818424,
          -0.020982221227999975,
          0.025185122457999976,
          0.012160087700999966,
          0.018585952751000057,
          -0.009441332705000027,
          0.040139384829000035,
          0.017760527294999995,
          0.03998775705699997,
          -0.02652009503899999,
          -0.04331943781899994,
          0.029223787082999997,
          0.033636355615,
          -0.02438321139599997,
          -0.06423578211699998,
          0.052287074064999994,
          -0.02579768964699991,
          0.017677966674000012,
          -0.015728163564999953,
          0.004716628659000022,
          0.00657772879000007,
          -0.01788071753999998,
          0.004022796917000027,
          -0.01247274554900002,
          0.021951188504999997,
          0.0004322393250000278,
          0.07385514890799993,
          -0.03862879954100007,
          -0.00586484086700001,
          0.05323510573000001,
          -0.009781736365000016,
          -0.013171658020999955,
          -0.07114681521599997,
          0.01981017493799997,
          0.014995647567000003,
          -0.023850042165000085,
          -0.01773381578799993,
          0.014997567940999934,
          -0.0039347568499999985,
          0.03937370525499995,
          0.061925142913,
          -0.03893147411099995,
          0.027014689960000005,
          0.054270475856999956,
          -0.018475934450000064,
          0.028464149099999947,
          -0.023906283591,
          0.02861306800800001,
          -0.026048826297999983,
          0.08494723261000003,
          0.05395897146499995,
          0.007071535057999956,
          -0.03072239372200003,
          -0.05189694889200003,
          -0.013942688088000033,
          0.012430728953000014,
          -0.08843766258800001,
          0.01624444713499995,
          0.04519013550599993,
          0.04366540701900001,
          0.059435075763,
          0.06025586892500001,
          0.011064652765999994,
          0.09285989513000004,
          0.15901814345999998,
          -0.024401076810000033,
          0.14207481706000014,
          -0.41159750081300006,
          0.10707632185000004,
          -0.010931952512999943,
          -0.04765460156299994,
          -0.04742576783399999,
          0.104237730749,
          0.06688929635399998,
          0.0036885696799999756,
          -0.054498075734999984,
          0.256782378364,
          0.32038156532999995,
          0.21353765134000002,
          -0.00004327578999996362,
          -0.12737246552999992,
          0.02851762146000003,
          -0.1486294479800001,
          -0.0061492772900000325,
          0.21290056200999996,
          0.07032090021000004,
          0.07162684193000013,
          -0.11618596024000016,
          0.4517985114600003,
          -0.11726302513999975,
          0.3897355021500002,
          0.19367171259000004,
          0.46656579831,
          0.17237694357000022,
          0.4617930652700002,
          -0.01473195233000002,
          -0.35078028420999985,
          -0.22876024277999996,
          0.20024676872000002,
          -0.28704506505000005,
          0.22550679484000025,
          -0.4296553520499997,
          0.3092264327299996,
          -0.2660492188900001,
          0.07557869756000013,
          0.30156774231000005,
          0.0327645368099998,
          -0.0848139253200002,
          0.2923340648499999,
          -0.11278395228000004,
          0.5588978754,
          -0.045406893079999566,
          0.46581161572999985,
          0.36036669520000064,
          -0.43653430099,
          -0.18822154883999964,
          -0.6414326248200002,
          0.022404456289999874,
          -0.9530680904,
          0.4857259171999999,
          -0.15755620329999998,
          -0.4586524706799997,
          1.16519967802,
          -0.1665409846200001,
          -0.039907137190000164,
          -0.08644200060999996,
          -0.1105415211699996,
          0.03760768611999987,
          -0.3300125328800001,
          -0.3939086570799999,
          0.34647501057999985,
          0.21606628089000024,
          -0.08285568427000012,
          -0.1601250890400001,
          -0.08839397897000012,
          0.14183136852999967,
          -0.09359781999999983,
          0.2945941300000001,
          0.04306813999999992,
          -0.05332767000000027,
          0.019109269999999956,
          -0.19602668000000012,
          -0.011927460000000334,
          -0.05119768999999996,
          -0.03713414000000004,
          -0.2381143299999997,
          -0.08003231,
          -0.027017750000000174,
          0.1385091100000002,
          -0.4789495800000001,
          0.11598693000000004,
          0.06523864999999995,
          0.17211653000000027,
          -0.13084324999999986,
          0.019210880000000152,
          0.1609579499999998,
          -0.17998122000000016,
          -0.09356103999999998,
          -0.04836388000000014,
          -0.11581420999999992,
          0.056207549999999884,
          0.011517709999999681,
          -0.1552925300000001,
          -0.1694300099999999,
          0.0017665299999998219,
          0.06528035999999982,
          0.0029674399999999324,
          -0.048207139999999926,
          -0.12436859,
          -0.10199317000000008,
          0.024766150000000042,
          -0.22017896000000015,
          -0.061117069999999885,
          0.012399499999999897,
          0.09936370000000005,
          0.059140710000000096,
          -0.12576805000000002,
          -0.061838290000000073,
          -0.01997902000000007,
          0.012963110000000055,
          0.50852195,
          0.11822385999999985,
          0.12463427000000005,
          -0.12794596999999985,
          0.21933486000000002,
          -0.24586254000000007,
          -0.10298690999999982,
          0.12165457999999996,
          -0.10377659000000006,
          0.1262183699999999,
          0.21212151000000024,
          -0.07889880999999965,
          -0.08715275,
          -0.03826003,
          0.018622989999999895,
          0.2868136699999999,
          -0.23736053999999962,
          0.13153212000000014,
          -0.009273560000000014,
          0.000548929999999892,
          -0.36349677999999996,
          -0.04538587000000005,
          0.02910948999999996,
          0.02724199999999999,
          0.05174914000000008,
          0.007986979999999866,
          0.13813530000000007,
          -0.016746330000000142,
          -0.2426492899999999,
          0.12280537000000002,
          -0.12440949000000012,
          -0.02227847999999999,
          -0.16587039999999997,
          -0.0023189300000001634,
          -0.08826363999999987,
          -0.12778134000000008,
          0.049322520000000036,
          0.07474115999999986,
          0.023677080000000128,
          0.16964122000000015,
          0.023505679999999973,
          -0.10525819999999997,
          0.019776210000000072,
          -0.03061645000000013,
          -0.10713828999999997,
          -0.021859450000000002,
          -0.04932329999999996,
          -0.2845281599999998,
          0.15470376000000008,
          0.08390673999999998,
          -0.12177543000000002,
          -0.022032300000000005,
          0.2116916299999998,
          0.15888316999999996,
          -0.1342369699999999,
          -0.024708309999999845,
          0.33230899,
          -0.04631092000000003,
          0.36185022999999994,
          0.32268529999999984,
          -0.33376501000000003,
          -0.2304093199999997,
          0.43615914999999994,
          0.8511478799999996,
          0.16184124000000022,
          0.07608428999999983,
          -0.3529747600000004,
          0.5097105100000001,
          -0.11460113999999999,
          -0.23787125999999992,
          -0.030237929999999746,
          0.19812059999999976,
          0.3832694799999996,
          -0.02661617000000005,
          -0.15017769000000003,
          0.08800288000000034,
          -0.7311338900000002,
          0.3563085899999998,
          0.16307622000000022,
          0.12730140999999984,
          0.0653354300000002,
          0.34839069,
          -0.3580430899999998,
          0.1357019399999997,
          -0.0269049400000001,
          0.3865938199999994,
          0.026830190000000087,
          0.3503504899999994,
          0.6537664000000003,
          0.46939834999999963,
          0.69431669,
          0.2463505399999999,
          -0.5764942100000008,
          0.5828181399999997,
          1.1808023199999997,
          -0.05300250999999978,
          1.2536616600000006,
          0.1349956100000007,
          0.032221970000000155,
          -0.5035781200000002,
          -0.0040936800000004325,
          0.13747298000000008,
          -0.5628807299999998,
          -0.07611193999999877,
          0.7475813000000002,
          2.4856827999999993,
          -1.4754230699999997,
          1.0979625900000016,
          3.3817489,
          0.7799125500000006,
          2.0888649899999976,
          -3.4141692399999997,
          -0.2779498,
          -0.4004068200000006,
          -0.1185197200000001,
          1.8471522899999986,
          -1.0079234899999996,
          0.15205069999999843,
          -0.9968837699999984,
          -0.45586297999999914,
          0.4665205400000012,
          0.8338052199999986,
          -0.22462754000000018,
          1.23101999,
          -0.6198452999999997,
          1.7724418699999998,
          -1.4687768699999992,
          0.7449999700000003,
          -0.7933151899999995,
          -0.2904652399999996,
          -0.5411386799999995,
          0.5852388099999999,
          0.019348190000000542,
          -0.027853750000000232,
          0.01615549000000094,
          0.11387808000000099,
          0.5690149099999999,
          -0.6437886099999997,
          -0.5290984099999996,
          -0.6255015900000007,
          1.7598934499999999,
          1.7220758600000003,
          1.53681044,
          0.7715053500000018,
          0.34252236000000025,
          0.36354558000000026,
          -0.33078011000000274,
          0.7255912799999997,
          2.75582554,
          1.5339524100000013,
          -0.9445565099999982,
          1.9793050699999988,
          1.3325199199999993,
          0.519393400000002,
          0.7924704499999997,
          -0.8083080799999998,
          1.1238397100000022,
          0.5937568300000002,
          -1.105458989999999,
          -0.9248943500000024,
          1.3814705699999976,
          -2.4229565000000015,
          -0.2693316600000024,
          7.167417239999999,
          -0.6636278399999966,
          0.293764920000001,
          0.831506319999999,
          6.196328550000004,
          -1.9207616700000045,
          3.4798191900000006,
          6.522156169999995,
          -3.5653396599999994,
          -0.6545670299999955,
          1.6645448099999953,
          -2.3894097000000016,
          0.4559551799999966,
          6.614684459999999,
          -2.609817149999998,
          -0.9702889100000007,
          -3.2538042000000047,
          2.2863392000000005,
          -1.5183766099999971,
          -0.34763620999999745,
          2.409463499999994,
          -1.2874355300000033,
          -1.4324587700000038,
          1.7051951100000053,
          -2.1342149999999975,
          -2.2372325500000017,
          1.6833463799999961,
          0.761362290000001,
          3.799133299999994,
          -0.0348168999999956,
          9.250542539999998,
          -20.982073460000002,
          9.699701529999999,
          -5.634400710000001,
          -7.672796250000005,
          -6.537018749999998,
          6.785250810000001,
          -1.3992697300000003,
          5.491824749999999,
          -1.897856240000003,
          -4.636248439999999,
          -1.6267090100000026,
          1.1943439399999995,
          4.2120044499999985,
          -1.7856264999999993,
          3.021078520000003,
          5.452191060000004,
          -2.166232960000002,
          2.1680218500000024,
          2.5592533200000034,
          -3.991345620000004,
          3.2665448499999954,
          0.7519848299999978,
          -0.9253625500000027,
          -5.064068079999998,
          0.2773368499999975,
          2.255727710000002,
          0.00853280000000467,
          0.6178070500000032,
          0.15826773999999943,
          -0.42467749999999427,
          -2.6179882299999946,
          -1.4656708999999992,
          0.08498593000000199,
          -8.604035249999995,
          0.17902439000000214,
          3.1359455599999997,
          0.3349563499999988,
          -2.46966819,
          1.1049578499999981,
          2.1767504700000018,
          1.0469516599999977,
          0.8570155199999974,
          1.5934336400000007,
          -2.1016198199999963,
          0.7141720800000044,
          0.4632406499999959,
          -0.1845158799999993,
          -1.2979629800000012,
          1.3388331399999984
         ],
         "yaxis": "y",
         "type": "scatter"
        }
       ],
       "layout": {
        "template": {
         "data": {
          "histogram2dcontour": [
           {
            "type": "histogram2dcontour",
            "colorbar": {
             "outlinewidth": 0,
             "ticks": ""
            },
            "colorscale": [
             [
              0,
              "#0d0887"
             ],
             [
              0.1111111111111111,
              "#46039f"
             ],
             [
              0.2222222222222222,
              "#7201a8"
             ],
             [
              0.3333333333333333,
              "#9c179e"
             ],
             [
              0.4444444444444444,
              "#bd3786"
             ],
             [
              0.5555555555555556,
              "#d8576b"
             ],
             [
              0.6666666666666666,
              "#ed7953"
             ],
             [
              0.7777777777777778,
              "#fb9f3a"
             ],
             [
              0.8888888888888888,
              "#fdca26"
             ],
             [
              1,
              "#f0f921"
             ]
            ]
           }
          ],
          "choropleth": [
           {
            "type": "choropleth",
            "colorbar": {
             "outlinewidth": 0,
             "ticks": ""
            }
           }
          ],
          "histogram2d": [
           {
            "type": "histogram2d",
            "colorbar": {
             "outlinewidth": 0,
             "ticks": ""
            },
            "colorscale": [
             [
              0,
              "#0d0887"
             ],
             [
              0.1111111111111111,
              "#46039f"
             ],
             [
              0.2222222222222222,
              "#7201a8"
             ],
             [
              0.3333333333333333,
              "#9c179e"
             ],
             [
              0.4444444444444444,
              "#bd3786"
             ],
             [
              0.5555555555555556,
              "#d8576b"
             ],
             [
              0.6666666666666666,
              "#ed7953"
             ],
             [
              0.7777777777777778,
              "#fb9f3a"
             ],
             [
              0.8888888888888888,
              "#fdca26"
             ],
             [
              1,
              "#f0f921"
             ]
            ]
           }
          ],
          "heatmap": [
           {
            "type": "heatmap",
            "colorbar": {
             "outlinewidth": 0,
             "ticks": ""
            },
            "colorscale": [
             [
              0,
              "#0d0887"
             ],
             [
              0.1111111111111111,
              "#46039f"
             ],
             [
              0.2222222222222222,
              "#7201a8"
             ],
             [
              0.3333333333333333,
              "#9c179e"
             ],
             [
              0.4444444444444444,
              "#bd3786"
             ],
             [
              0.5555555555555556,
              "#d8576b"
             ],
             [
              0.6666666666666666,
              "#ed7953"
             ],
             [
              0.7777777777777778,
              "#fb9f3a"
             ],
             [
              0.8888888888888888,
              "#fdca26"
             ],
             [
              1,
              "#f0f921"
             ]
            ]
           }
          ],
          "heatmapgl": [
           {
            "type": "heatmapgl",
            "colorbar": {
             "outlinewidth": 0,
             "ticks": ""
            },
            "colorscale": [
             [
              0,
              "#0d0887"
             ],
             [
              0.1111111111111111,
              "#46039f"
             ],
             [
              0.2222222222222222,
              "#7201a8"
             ],
             [
              0.3333333333333333,
              "#9c179e"
             ],
             [
              0.4444444444444444,
              "#bd3786"
             ],
             [
              0.5555555555555556,
              "#d8576b"
             ],
             [
              0.6666666666666666,
              "#ed7953"
             ],
             [
              0.7777777777777778,
              "#fb9f3a"
             ],
             [
              0.8888888888888888,
              "#fdca26"
             ],
             [
              1,
              "#f0f921"
             ]
            ]
           }
          ],
          "contourcarpet": [
           {
            "type": "contourcarpet",
            "colorbar": {
             "outlinewidth": 0,
             "ticks": ""
            }
           }
          ],
          "contour": [
           {
            "type": "contour",
            "colorbar": {
             "outlinewidth": 0,
             "ticks": ""
            },
            "colorscale": [
             [
              0,
              "#0d0887"
             ],
             [
              0.1111111111111111,
              "#46039f"
             ],
             [
              0.2222222222222222,
              "#7201a8"
             ],
             [
              0.3333333333333333,
              "#9c179e"
             ],
             [
              0.4444444444444444,
              "#bd3786"
             ],
             [
              0.5555555555555556,
              "#d8576b"
             ],
             [
              0.6666666666666666,
              "#ed7953"
             ],
             [
              0.7777777777777778,
              "#fb9f3a"
             ],
             [
              0.8888888888888888,
              "#fdca26"
             ],
             [
              1,
              "#f0f921"
             ]
            ]
           }
          ],
          "surface": [
           {
            "type": "surface",
            "colorbar": {
             "outlinewidth": 0,
             "ticks": ""
            },
            "colorscale": [
             [
              0,
              "#0d0887"
             ],
             [
              0.1111111111111111,
              "#46039f"
             ],
             [
              0.2222222222222222,
              "#7201a8"
             ],
             [
              0.3333333333333333,
              "#9c179e"
             ],
             [
              0.4444444444444444,
              "#bd3786"
             ],
             [
              0.5555555555555556,
              "#d8576b"
             ],
             [
              0.6666666666666666,
              "#ed7953"
             ],
             [
              0.7777777777777778,
              "#fb9f3a"
             ],
             [
              0.8888888888888888,
              "#fdca26"
             ],
             [
              1,
              "#f0f921"
             ]
            ]
           }
          ],
          "mesh3d": [
           {
            "type": "mesh3d",
            "colorbar": {
             "outlinewidth": 0,
             "ticks": ""
            }
           }
          ],
          "scatter": [
           {
            "fillpattern": {
             "fillmode": "overlay",
             "size": 10,
             "solidity": 0.2
            },
            "type": "scatter"
           }
          ],
          "parcoords": [
           {
            "type": "parcoords",
            "line": {
             "colorbar": {
              "outlinewidth": 0,
              "ticks": ""
             }
            }
           }
          ],
          "scatterpolargl": [
           {
            "type": "scatterpolargl",
            "marker": {
             "colorbar": {
              "outlinewidth": 0,
              "ticks": ""
             }
            }
           }
          ],
          "bar": [
           {
            "error_x": {
             "color": "#2a3f5f"
            },
            "error_y": {
             "color": "#2a3f5f"
            },
            "marker": {
             "line": {
              "color": "#E5ECF6",
              "width": 0.5
             },
             "pattern": {
              "fillmode": "overlay",
              "size": 10,
              "solidity": 0.2
             }
            },
            "type": "bar"
           }
          ],
          "scattergeo": [
           {
            "type": "scattergeo",
            "marker": {
             "colorbar": {
              "outlinewidth": 0,
              "ticks": ""
             }
            }
           }
          ],
          "scatterpolar": [
           {
            "type": "scatterpolar",
            "marker": {
             "colorbar": {
              "outlinewidth": 0,
              "ticks": ""
             }
            }
           }
          ],
          "histogram": [
           {
            "marker": {
             "pattern": {
              "fillmode": "overlay",
              "size": 10,
              "solidity": 0.2
             }
            },
            "type": "histogram"
           }
          ],
          "scattergl": [
           {
            "type": "scattergl",
            "marker": {
             "colorbar": {
              "outlinewidth": 0,
              "ticks": ""
             }
            }
           }
          ],
          "scatter3d": [
           {
            "type": "scatter3d",
            "line": {
             "colorbar": {
              "outlinewidth": 0,
              "ticks": ""
             }
            },
            "marker": {
             "colorbar": {
              "outlinewidth": 0,
              "ticks": ""
             }
            }
           }
          ],
          "scattermapbox": [
           {
            "type": "scattermapbox",
            "marker": {
             "colorbar": {
              "outlinewidth": 0,
              "ticks": ""
             }
            }
           }
          ],
          "scatterternary": [
           {
            "type": "scatterternary",
            "marker": {
             "colorbar": {
              "outlinewidth": 0,
              "ticks": ""
             }
            }
           }
          ],
          "scattercarpet": [
           {
            "type": "scattercarpet",
            "marker": {
             "colorbar": {
              "outlinewidth": 0,
              "ticks": ""
             }
            }
           }
          ],
          "carpet": [
           {
            "aaxis": {
             "endlinecolor": "#2a3f5f",
             "gridcolor": "white",
             "linecolor": "white",
             "minorgridcolor": "white",
             "startlinecolor": "#2a3f5f"
            },
            "baxis": {
             "endlinecolor": "#2a3f5f",
             "gridcolor": "white",
             "linecolor": "white",
             "minorgridcolor": "white",
             "startlinecolor": "#2a3f5f"
            },
            "type": "carpet"
           }
          ],
          "table": [
           {
            "cells": {
             "fill": {
              "color": "#EBF0F8"
             },
             "line": {
              "color": "white"
             }
            },
            "header": {
             "fill": {
              "color": "#C8D4E3"
             },
             "line": {
              "color": "white"
             }
            },
            "type": "table"
           }
          ],
          "barpolar": [
           {
            "marker": {
             "line": {
              "color": "#E5ECF6",
              "width": 0.5
             },
             "pattern": {
              "fillmode": "overlay",
              "size": 10,
              "solidity": 0.2
             }
            },
            "type": "barpolar"
           }
          ],
          "pie": [
           {
            "automargin": true,
            "type": "pie"
           }
          ]
         },
         "layout": {
          "autotypenumbers": "strict",
          "colorway": [
           "#636efa",
           "#EF553B",
           "#00cc96",
           "#ab63fa",
           "#FFA15A",
           "#19d3f3",
           "#FF6692",
           "#B6E880",
           "#FF97FF",
           "#FECB52"
          ],
          "font": {
           "color": "#2a3f5f"
          },
          "hovermode": "closest",
          "hoverlabel": {
           "align": "left"
          },
          "paper_bgcolor": "white",
          "plot_bgcolor": "#E5ECF6",
          "polar": {
           "bgcolor": "#E5ECF6",
           "angularaxis": {
            "gridcolor": "white",
            "linecolor": "white",
            "ticks": ""
           },
           "radialaxis": {
            "gridcolor": "white",
            "linecolor": "white",
            "ticks": ""
           }
          },
          "ternary": {
           "bgcolor": "#E5ECF6",
           "aaxis": {
            "gridcolor": "white",
            "linecolor": "white",
            "ticks": ""
           },
           "baxis": {
            "gridcolor": "white",
            "linecolor": "white",
            "ticks": ""
           },
           "caxis": {
            "gridcolor": "white",
            "linecolor": "white",
            "ticks": ""
           }
          },
          "coloraxis": {
           "colorbar": {
            "outlinewidth": 0,
            "ticks": ""
           }
          },
          "colorscale": {
           "sequential": [
            [
             0,
             "#0d0887"
            ],
            [
             0.1111111111111111,
             "#46039f"
            ],
            [
             0.2222222222222222,
             "#7201a8"
            ],
            [
             0.3333333333333333,
             "#9c179e"
            ],
            [
             0.4444444444444444,
             "#bd3786"
            ],
            [
             0.5555555555555556,
             "#d8576b"
            ],
            [
             0.6666666666666666,
             "#ed7953"
            ],
            [
             0.7777777777777778,
             "#fb9f3a"
            ],
            [
             0.8888888888888888,
             "#fdca26"
            ],
            [
             1,
             "#f0f921"
            ]
           ],
           "sequentialminus": [
            [
             0,
             "#0d0887"
            ],
            [
             0.1111111111111111,
             "#46039f"
            ],
            [
             0.2222222222222222,
             "#7201a8"
            ],
            [
             0.3333333333333333,
             "#9c179e"
            ],
            [
             0.4444444444444444,
             "#bd3786"
            ],
            [
             0.5555555555555556,
             "#d8576b"
            ],
            [
             0.6666666666666666,
             "#ed7953"
            ],
            [
             0.7777777777777778,
             "#fb9f3a"
            ],
            [
             0.8888888888888888,
             "#fdca26"
            ],
            [
             1,
             "#f0f921"
            ]
           ],
           "diverging": [
            [
             0,
             "#8e0152"
            ],
            [
             0.1,
             "#c51b7d"
            ],
            [
             0.2,
             "#de77ae"
            ],
            [
             0.3,
             "#f1b6da"
            ],
            [
             0.4,
             "#fde0ef"
            ],
            [
             0.5,
             "#f7f7f7"
            ],
            [
             0.6,
             "#e6f5d0"
            ],
            [
             0.7,
             "#b8e186"
            ],
            [
             0.8,
             "#7fbc41"
            ],
            [
             0.9,
             "#4d9221"
            ],
            [
             1,
             "#276419"
            ]
           ]
          },
          "xaxis": {
           "gridcolor": "white",
           "linecolor": "white",
           "ticks": "",
           "title": {
            "standoff": 15
           },
           "zerolinecolor": "white",
           "automargin": true,
           "zerolinewidth": 2
          },
          "yaxis": {
           "gridcolor": "white",
           "linecolor": "white",
           "ticks": "",
           "title": {
            "standoff": 15
           },
           "zerolinecolor": "white",
           "automargin": true,
           "zerolinewidth": 2
          },
          "scene": {
           "xaxis": {
            "backgroundcolor": "#E5ECF6",
            "gridcolor": "white",
            "linecolor": "white",
            "showbackground": true,
            "ticks": "",
            "zerolinecolor": "white",
            "gridwidth": 2
           },
           "yaxis": {
            "backgroundcolor": "#E5ECF6",
            "gridcolor": "white",
            "linecolor": "white",
            "showbackground": true,
            "ticks": "",
            "zerolinecolor": "white",
            "gridwidth": 2
           },
           "zaxis": {
            "backgroundcolor": "#E5ECF6",
            "gridcolor": "white",
            "linecolor": "white",
            "showbackground": true,
            "ticks": "",
            "zerolinecolor": "white",
            "gridwidth": 2
           }
          },
          "shapedefaults": {
           "line": {
            "color": "#2a3f5f"
           }
          },
          "annotationdefaults": {
           "arrowcolor": "#2a3f5f",
           "arrowhead": 0,
           "arrowwidth": 1
          },
          "geo": {
           "bgcolor": "white",
           "landcolor": "#E5ECF6",
           "subunitcolor": "white",
           "showland": true,
           "showlakes": true,
           "lakecolor": "white"
          },
          "title": {
           "x": 0.05
          },
          "mapbox": {
           "style": "light"
          }
         }
        },
        "xaxis": {
         "anchor": "y",
         "domain": [
          0,
          1
         ],
         "title": {
          "text": "Date"
         }
        },
        "yaxis": {
         "anchor": "x",
         "domain": [
          0,
          1
         ],
         "title": {
          "text": "Difference"
         }
        },
        "legend": {
         "tracegroupgap": 0
        },
        "margin": {
         "t": 60
        }
       },
       "config": {
        "plotlyServerURL": "https://plot.ly"
       }
      }
     },
     "metadata": {}
    }
   ],
   "metadata": {}
  },
  {
   "cell_type": "code",
   "execution_count": 15,
   "source": [
    "sns.pairplot(data,height=4);\n"
   ],
   "outputs": [
    {
     "output_type": "display_data",
     "data": {
      "image/png": "[encoded data removed]",
      "text/plain": [
       "<Figure size 2304x2304 with 72 Axes>"
      ]
     },
     "metadata": {
      "needs_background": "light"
     }
    }
   ],
   "metadata": {}
  },
  {
   "cell_type": "code",
   "execution_count": null,
   "source": [],
   "outputs": [],
   "metadata": {}
  },
  {
   "cell_type": "code",
   "execution_count": null,
   "source": [],
   "outputs": [],
   "metadata": {}
  }
 ],
 "metadata": {
  "orig_nbformat": 4,
  "language_info": {
   "name": "python",
   "version": "3.7.11",
   "mimetype": "text/x-python",
   "codemirror_mode": {
    "name": "ipython",
    "version": 3
   },
   "pygments_lexer": "ipython3",
   "nbconvert_exporter": "python",
   "file_extension": ".py"
  },
  "kernelspec": {
   "name": "python3",
   "display_name": "Python 3.7.11 64-bit ('ih_final_project': conda)"
  },
  "interpreter": {
   "hash": "e1d7778ce60d21d945d58d36373d70956fd987987f0ca548e053d2a38b9d8628"
  }
 },
 "nbformat": 4,
 "nbformat_minor": 2
}