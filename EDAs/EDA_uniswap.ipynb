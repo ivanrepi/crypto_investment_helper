{
 "cells": [
  {
   "cell_type": "code",
   "execution_count": 1,
   "source": [
    "import pandas as pd\n",
    "import numpy as np\n",
    "import matplotlib.pyplot as plt\n",
    "import plotly.express as px\n",
    "import seaborn as sns\n"
   ],
   "outputs": [],
   "metadata": {}
  },
  {
   "cell_type": "code",
   "execution_count": 2,
   "source": [
    "import sqlite3\n",
    "conn = sqlite3.connect('../data/hist_prices.db')\n",
    "c = conn.cursor()"
   ],
   "outputs": [],
   "metadata": {}
  },
  {
   "cell_type": "code",
   "execution_count": 3,
   "source": [
    "data = pd.read_sql('''SELECT * FROM uniswap''', conn)\n",
    "data.head()"
   ],
   "outputs": [
    {
     "output_type": "execute_result",
     "data": {
      "text/html": [
       "<div>\n",
       "<style scoped>\n",
       "    .dataframe tbody tr th:only-of-type {\n",
       "        vertical-align: middle;\n",
       "    }\n",
       "\n",
       "    .dataframe tbody tr th {\n",
       "        vertical-align: top;\n",
       "    }\n",
       "\n",
       "    .dataframe thead th {\n",
       "        text-align: right;\n",
       "    }\n",
       "</style>\n",
       "<table border=\"1\" class=\"dataframe\">\n",
       "  <thead>\n",
       "    <tr style=\"text-align: right;\">\n",
       "      <th></th>\n",
       "      <th>SNo</th>\n",
       "      <th>Name</th>\n",
       "      <th>Symbol</th>\n",
       "      <th>Date</th>\n",
       "      <th>High</th>\n",
       "      <th>Low</th>\n",
       "      <th>Open</th>\n",
       "      <th>Close</th>\n",
       "      <th>Volume</th>\n",
       "      <th>Marketcap</th>\n",
       "    </tr>\n",
       "  </thead>\n",
       "  <tbody>\n",
       "    <tr>\n",
       "      <th>0</th>\n",
       "      <td>1</td>\n",
       "      <td>Uniswap</td>\n",
       "      <td>UNI</td>\n",
       "      <td>2020-09-18 23:59:59</td>\n",
       "      <td>8.438537</td>\n",
       "      <td>3.261757</td>\n",
       "      <td>3.488153</td>\n",
       "      <td>6.897257</td>\n",
       "      <td>6.061110e+09</td>\n",
       "      <td>6.681116e+08</td>\n",
       "    </tr>\n",
       "    <tr>\n",
       "      <th>1</th>\n",
       "      <td>2</td>\n",
       "      <td>Uniswap</td>\n",
       "      <td>UNI</td>\n",
       "      <td>2020-09-19 23:59:59</td>\n",
       "      <td>7.443275</td>\n",
       "      <td>5.321795</td>\n",
       "      <td>6.945577</td>\n",
       "      <td>5.724464</td>\n",
       "      <td>2.447471e+09</td>\n",
       "      <td>5.545076e+08</td>\n",
       "    </tr>\n",
       "    <tr>\n",
       "      <th>2</th>\n",
       "      <td>3</td>\n",
       "      <td>Uniswap</td>\n",
       "      <td>UNI</td>\n",
       "      <td>2020-09-20 23:59:59</td>\n",
       "      <td>6.050326</td>\n",
       "      <td>4.720210</td>\n",
       "      <td>5.720515</td>\n",
       "      <td>5.244195</td>\n",
       "      <td>1.554144e+09</td>\n",
       "      <td>5.079857e+08</td>\n",
       "    </tr>\n",
       "    <tr>\n",
       "      <th>3</th>\n",
       "      <td>4</td>\n",
       "      <td>Uniswap</td>\n",
       "      <td>UNI</td>\n",
       "      <td>2020-09-21 23:59:59</td>\n",
       "      <td>5.622155</td>\n",
       "      <td>4.160743</td>\n",
       "      <td>5.244195</td>\n",
       "      <td>4.266079</td>\n",
       "      <td>1.329464e+09</td>\n",
       "      <td>4.132392e+08</td>\n",
       "    </tr>\n",
       "    <tr>\n",
       "      <th>4</th>\n",
       "      <td>5</td>\n",
       "      <td>Uniswap</td>\n",
       "      <td>UNI</td>\n",
       "      <td>2020-09-22 23:59:59</td>\n",
       "      <td>4.554092</td>\n",
       "      <td>3.755040</td>\n",
       "      <td>4.275014</td>\n",
       "      <td>3.905138</td>\n",
       "      <td>8.162827e+08</td>\n",
       "      <td>3.782762e+08</td>\n",
       "    </tr>\n",
       "  </tbody>\n",
       "</table>\n",
       "</div>"
      ],
      "text/plain": [
       "   SNo     Name Symbol                 Date      High       Low      Open  \\\n",
       "0    1  Uniswap    UNI  2020-09-18 23:59:59  8.438537  3.261757  3.488153   \n",
       "1    2  Uniswap    UNI  2020-09-19 23:59:59  7.443275  5.321795  6.945577   \n",
       "2    3  Uniswap    UNI  2020-09-20 23:59:59  6.050326  4.720210  5.720515   \n",
       "3    4  Uniswap    UNI  2020-09-21 23:59:59  5.622155  4.160743  5.244195   \n",
       "4    5  Uniswap    UNI  2020-09-22 23:59:59  4.554092  3.755040  4.275014   \n",
       "\n",
       "      Close        Volume     Marketcap  \n",
       "0  6.897257  6.061110e+09  6.681116e+08  \n",
       "1  5.724464  2.447471e+09  5.545076e+08  \n",
       "2  5.244195  1.554144e+09  5.079857e+08  \n",
       "3  4.266079  1.329464e+09  4.132392e+08  \n",
       "4  3.905138  8.162827e+08  3.782762e+08  "
      ]
     },
     "metadata": {},
     "execution_count": 3
    }
   ],
   "metadata": {}
  },
  {
   "cell_type": "code",
   "execution_count": 4,
   "source": [
    "# Add some more features derived from the exiting ones\n",
    "data['Range'] = data.High - data.Low\n",
    "data['Difference'] = data.Close - data.Open"
   ],
   "outputs": [],
   "metadata": {}
  },
  {
   "cell_type": "code",
   "execution_count": 5,
   "source": [
    "data.drop(labels='SNo', axis=1, inplace=True)\n",
    "data.info()"
   ],
   "outputs": [
    {
     "output_type": "stream",
     "name": "stdout",
     "text": [
      "<class 'pandas.core.frame.DataFrame'>\n",
      "RangeIndex: 292 entries, 0 to 291\n",
      "Data columns (total 11 columns):\n",
      " #   Column      Non-Null Count  Dtype  \n",
      "---  ------      --------------  -----  \n",
      " 0   Name        292 non-null    object \n",
      " 1   Symbol      292 non-null    object \n",
      " 2   Date        292 non-null    object \n",
      " 3   High        292 non-null    float64\n",
      " 4   Low         292 non-null    float64\n",
      " 5   Open        292 non-null    float64\n",
      " 6   Close       292 non-null    float64\n",
      " 7   Volume      292 non-null    float64\n",
      " 8   Marketcap   292 non-null    float64\n",
      " 9   Range       292 non-null    float64\n",
      " 10  Difference  292 non-null    float64\n",
      "dtypes: float64(8), object(3)\n",
      "memory usage: 25.2+ KB\n"
     ]
    }
   ],
   "metadata": {}
  },
  {
   "cell_type": "code",
   "execution_count": 6,
   "source": [
    "#Converting Date column to Datetime\n",
    "data['Date'] = pd.to_datetime(data['Date'])"
   ],
   "outputs": [],
   "metadata": {}
  },
  {
   "cell_type": "code",
   "execution_count": 7,
   "source": [
    "data.info()"
   ],
   "outputs": [
    {
     "output_type": "stream",
     "name": "stdout",
     "text": [
      "<class 'pandas.core.frame.DataFrame'>\n",
      "RangeIndex: 292 entries, 0 to 291\n",
      "Data columns (total 11 columns):\n",
      " #   Column      Non-Null Count  Dtype         \n",
      "---  ------      --------------  -----         \n",
      " 0   Name        292 non-null    object        \n",
      " 1   Symbol      292 non-null    object        \n",
      " 2   Date        292 non-null    datetime64[ns]\n",
      " 3   High        292 non-null    float64       \n",
      " 4   Low         292 non-null    float64       \n",
      " 5   Open        292 non-null    float64       \n",
      " 6   Close       292 non-null    float64       \n",
      " 7   Volume      292 non-null    float64       \n",
      " 8   Marketcap   292 non-null    float64       \n",
      " 9   Range       292 non-null    float64       \n",
      " 10  Difference  292 non-null    float64       \n",
      "dtypes: datetime64[ns](1), float64(8), object(2)\n",
      "memory usage: 25.2+ KB\n"
     ]
    }
   ],
   "metadata": {}
  },
  {
   "cell_type": "code",
   "execution_count": 8,
   "source": [
    "data.describe()"
   ],
   "outputs": [
    {
     "output_type": "execute_result",
     "data": {
      "text/html": [
       "<div>\n",
       "<style scoped>\n",
       "    .dataframe tbody tr th:only-of-type {\n",
       "        vertical-align: middle;\n",
       "    }\n",
       "\n",
       "    .dataframe tbody tr th {\n",
       "        vertical-align: top;\n",
       "    }\n",
       "\n",
       "    .dataframe thead th {\n",
       "        text-align: right;\n",
       "    }\n",
       "</style>\n",
       "<table border=\"1\" class=\"dataframe\">\n",
       "  <thead>\n",
       "    <tr style=\"text-align: right;\">\n",
       "      <th></th>\n",
       "      <th>High</th>\n",
       "      <th>Low</th>\n",
       "      <th>Open</th>\n",
       "      <th>Close</th>\n",
       "      <th>Volume</th>\n",
       "      <th>Marketcap</th>\n",
       "      <th>Range</th>\n",
       "      <th>Difference</th>\n",
       "    </tr>\n",
       "  </thead>\n",
       "  <tbody>\n",
       "    <tr>\n",
       "      <th>count</th>\n",
       "      <td>292.000000</td>\n",
       "      <td>292.000000</td>\n",
       "      <td>292.000000</td>\n",
       "      <td>292.000000</td>\n",
       "      <td>2.920000e+02</td>\n",
       "      <td>2.920000e+02</td>\n",
       "      <td>292.000000</td>\n",
       "      <td>292.000000</td>\n",
       "    </tr>\n",
       "    <tr>\n",
       "      <th>mean</th>\n",
       "      <td>18.091303</td>\n",
       "      <td>15.934440</td>\n",
       "      <td>17.014778</td>\n",
       "      <td>17.077256</td>\n",
       "      <td>1.061551e+09</td>\n",
       "      <td>7.950668e+09</td>\n",
       "      <td>2.156863</td>\n",
       "      <td>0.062478</td>\n",
       "    </tr>\n",
       "    <tr>\n",
       "      <th>std</th>\n",
       "      <td>13.471833</td>\n",
       "      <td>12.092454</td>\n",
       "      <td>12.802318</td>\n",
       "      <td>12.775789</td>\n",
       "      <td>9.518486e+08</td>\n",
       "      <td>7.319259e+09</td>\n",
       "      <td>2.214079</td>\n",
       "      <td>1.723834</td>\n",
       "    </tr>\n",
       "    <tr>\n",
       "      <th>min</th>\n",
       "      <td>2.160387</td>\n",
       "      <td>1.763817</td>\n",
       "      <td>1.930123</td>\n",
       "      <td>1.930119</td>\n",
       "      <td>1.893552e+08</td>\n",
       "      <td>2.712318e+08</td>\n",
       "      <td>0.125148</td>\n",
       "      <td>-11.643256</td>\n",
       "    </tr>\n",
       "    <tr>\n",
       "      <th>25%</th>\n",
       "      <td>3.931123</td>\n",
       "      <td>3.529418</td>\n",
       "      <td>3.762985</td>\n",
       "      <td>3.765402</td>\n",
       "      <td>5.059416e+08</td>\n",
       "      <td>8.483064e+08</td>\n",
       "      <td>0.526558</td>\n",
       "      <td>-0.477049</td>\n",
       "    </tr>\n",
       "    <tr>\n",
       "      <th>50%</th>\n",
       "      <td>19.537960</td>\n",
       "      <td>16.803973</td>\n",
       "      <td>18.144702</td>\n",
       "      <td>18.398028</td>\n",
       "      <td>7.634183e+08</td>\n",
       "      <td>6.104860e+09</td>\n",
       "      <td>1.680823</td>\n",
       "      <td>0.012941</td>\n",
       "    </tr>\n",
       "    <tr>\n",
       "      <th>75%</th>\n",
       "      <td>29.421740</td>\n",
       "      <td>26.685689</td>\n",
       "      <td>28.477360</td>\n",
       "      <td>28.397028</td>\n",
       "      <td>1.234958e+09</td>\n",
       "      <td>1.494493e+10</td>\n",
       "      <td>2.961048</td>\n",
       "      <td>0.546674</td>\n",
       "    </tr>\n",
       "    <tr>\n",
       "      <th>max</th>\n",
       "      <td>44.974063</td>\n",
       "      <td>41.576133</td>\n",
       "      <td>43.083324</td>\n",
       "      <td>43.164506</td>\n",
       "      <td>6.372858e+09</td>\n",
       "      <td>2.259162e+10</td>\n",
       "      <td>18.818770</td>\n",
       "      <td>9.067741</td>\n",
       "    </tr>\n",
       "  </tbody>\n",
       "</table>\n",
       "</div>"
      ],
      "text/plain": [
       "             High         Low        Open       Close        Volume  \\\n",
       "count  292.000000  292.000000  292.000000  292.000000  2.920000e+02   \n",
       "mean    18.091303   15.934440   17.014778   17.077256  1.061551e+09   \n",
       "std     13.471833   12.092454   12.802318   12.775789  9.518486e+08   \n",
       "min      2.160387    1.763817    1.930123    1.930119  1.893552e+08   \n",
       "25%      3.931123    3.529418    3.762985    3.765402  5.059416e+08   \n",
       "50%     19.537960   16.803973   18.144702   18.398028  7.634183e+08   \n",
       "75%     29.421740   26.685689   28.477360   28.397028  1.234958e+09   \n",
       "max     44.974063   41.576133   43.083324   43.164506  6.372858e+09   \n",
       "\n",
       "          Marketcap       Range  Difference  \n",
       "count  2.920000e+02  292.000000  292.000000  \n",
       "mean   7.950668e+09    2.156863    0.062478  \n",
       "std    7.319259e+09    2.214079    1.723834  \n",
       "min    2.712318e+08    0.125148  -11.643256  \n",
       "25%    8.483064e+08    0.526558   -0.477049  \n",
       "50%    6.104860e+09    1.680823    0.012941  \n",
       "75%    1.494493e+10    2.961048    0.546674  \n",
       "max    2.259162e+10   18.818770    9.067741  "
      ]
     },
     "metadata": {},
     "execution_count": 8
    }
   ],
   "metadata": {}
  },
  {
   "cell_type": "code",
   "execution_count": 9,
   "source": [
    "data[['High','Low','Open','Close','Volume','Marketcap','Range','Difference']].hist(bins=50, figsize = (20, 15))\n",
    "plt.show();"
   ],
   "outputs": [
    {
     "output_type": "display_data",
     "data": {
      "image/png": "[encoded data removed]",
      "text/plain": [
       "<Figure size 1440x1080 with 9 Axes>"
      ]
     },
     "metadata": {
      "needs_background": "light"
     }
    }
   ],
   "metadata": {}
  },
  {
   "cell_type": "code",
   "execution_count": 10,
   "source": [
    "#Days with the biggest price loss\n",
    "data[['Date', 'Difference']].sort_values(by='Difference').head(10).T"
   ],
   "outputs": [
    {
     "output_type": "execute_result",
     "data": {
      "text/html": [
       "<div>\n",
       "<style scoped>\n",
       "    .dataframe tbody tr th:only-of-type {\n",
       "        vertical-align: middle;\n",
       "    }\n",
       "\n",
       "    .dataframe tbody tr th {\n",
       "        vertical-align: top;\n",
       "    }\n",
       "\n",
       "    .dataframe thead th {\n",
       "        text-align: right;\n",
       "    }\n",
       "</style>\n",
       "<table border=\"1\" class=\"dataframe\">\n",
       "  <thead>\n",
       "    <tr style=\"text-align: right;\">\n",
       "      <th></th>\n",
       "      <th>243</th>\n",
       "      <th>276</th>\n",
       "      <th>245</th>\n",
       "      <th>239</th>\n",
       "      <th>247</th>\n",
       "      <th>187</th>\n",
       "      <th>212</th>\n",
       "      <th>241</th>\n",
       "      <th>158</th>\n",
       "      <th>234</th>\n",
       "    </tr>\n",
       "  </thead>\n",
       "  <tbody>\n",
       "    <tr>\n",
       "      <th>Date</th>\n",
       "      <td>2021-05-19 23:59:59</td>\n",
       "      <td>2021-06-21 23:59:59</td>\n",
       "      <td>2021-05-21 23:59:59</td>\n",
       "      <td>2021-05-15 23:59:59</td>\n",
       "      <td>2021-05-23 23:59:59</td>\n",
       "      <td>2021-03-24 23:59:59</td>\n",
       "      <td>2021-04-18 23:59:59</td>\n",
       "      <td>2021-05-17 23:59:59</td>\n",
       "      <td>2021-02-23 23:59:59</td>\n",
       "      <td>2021-05-10 23:59:59</td>\n",
       "    </tr>\n",
       "    <tr>\n",
       "      <th>Difference</th>\n",
       "      <td>-11.643256</td>\n",
       "      <td>-4.890868</td>\n",
       "      <td>-4.45425</td>\n",
       "      <td>-3.823182</td>\n",
       "      <td>-3.544252</td>\n",
       "      <td>-3.458939</td>\n",
       "      <td>-3.405849</td>\n",
       "      <td>-3.277327</td>\n",
       "      <td>-3.131569</td>\n",
       "      <td>-3.034453</td>\n",
       "    </tr>\n",
       "  </tbody>\n",
       "</table>\n",
       "</div>"
      ],
      "text/plain": [
       "                            243                  276                  245  \\\n",
       "Date        2021-05-19 23:59:59  2021-06-21 23:59:59  2021-05-21 23:59:59   \n",
       "Difference           -11.643256            -4.890868             -4.45425   \n",
       "\n",
       "                            239                  247                  187  \\\n",
       "Date        2021-05-15 23:59:59  2021-05-23 23:59:59  2021-03-24 23:59:59   \n",
       "Difference            -3.823182            -3.544252            -3.458939   \n",
       "\n",
       "                            212                  241                  158  \\\n",
       "Date        2021-04-18 23:59:59  2021-05-17 23:59:59  2021-02-23 23:59:59   \n",
       "Difference            -3.405849            -3.277327            -3.131569   \n",
       "\n",
       "                            234  \n",
       "Date        2021-05-10 23:59:59  \n",
       "Difference            -3.034453  "
      ]
     },
     "metadata": {},
     "execution_count": 10
    }
   ],
   "metadata": {}
  },
  {
   "cell_type": "code",
   "execution_count": 11,
   "source": [
    "# Days with the biggest price gain\n",
    "data[['Date', 'Difference']].sort_values(by='Difference', ascending=False).head(10).T"
   ],
   "outputs": [
    {
     "output_type": "execute_result",
     "data": {
      "text/html": [
       "<div>\n",
       "<style scoped>\n",
       "    .dataframe tbody tr th:only-of-type {\n",
       "        vertical-align: middle;\n",
       "    }\n",
       "\n",
       "    .dataframe tbody tr th {\n",
       "        vertical-align: top;\n",
       "    }\n",
       "\n",
       "    .dataframe thead th {\n",
       "        text-align: right;\n",
       "    }\n",
       "</style>\n",
       "<table border=\"1\" class=\"dataframe\">\n",
       "  <thead>\n",
       "    <tr style=\"text-align: right;\">\n",
       "      <th></th>\n",
       "      <th>155</th>\n",
       "      <th>248</th>\n",
       "      <th>206</th>\n",
       "      <th>170</th>\n",
       "      <th>250</th>\n",
       "      <th>134</th>\n",
       "      <th>219</th>\n",
       "      <th>220</th>\n",
       "      <th>0</th>\n",
       "      <th>182</th>\n",
       "    </tr>\n",
       "  </thead>\n",
       "  <tbody>\n",
       "    <tr>\n",
       "      <th>Date</th>\n",
       "      <td>2021-02-20 23:59:59</td>\n",
       "      <td>2021-05-24 23:59:59</td>\n",
       "      <td>2021-04-12 23:59:59</td>\n",
       "      <td>2021-03-07 23:59:59</td>\n",
       "      <td>2021-05-26 23:59:59</td>\n",
       "      <td>2021-01-30 23:59:59</td>\n",
       "      <td>2021-04-25 23:59:59</td>\n",
       "      <td>2021-04-26 23:59:59</td>\n",
       "      <td>2020-09-18 23:59:59</td>\n",
       "      <td>2021-03-19 23:59:59</td>\n",
       "    </tr>\n",
       "    <tr>\n",
       "      <th>Difference</th>\n",
       "      <td>9.067741</td>\n",
       "      <td>7.891316</td>\n",
       "      <td>6.786365</td>\n",
       "      <td>5.762162</td>\n",
       "      <td>4.204756</td>\n",
       "      <td>3.784885</td>\n",
       "      <td>3.754664</td>\n",
       "      <td>3.607493</td>\n",
       "      <td>3.409104</td>\n",
       "      <td>3.245462</td>\n",
       "    </tr>\n",
       "  </tbody>\n",
       "</table>\n",
       "</div>"
      ],
      "text/plain": [
       "                            155                  248                  206  \\\n",
       "Date        2021-02-20 23:59:59  2021-05-24 23:59:59  2021-04-12 23:59:59   \n",
       "Difference             9.067741             7.891316             6.786365   \n",
       "\n",
       "                            170                  250                  134  \\\n",
       "Date        2021-03-07 23:59:59  2021-05-26 23:59:59  2021-01-30 23:59:59   \n",
       "Difference             5.762162             4.204756             3.784885   \n",
       "\n",
       "                            219                  220                  0    \\\n",
       "Date        2021-04-25 23:59:59  2021-04-26 23:59:59  2020-09-18 23:59:59   \n",
       "Difference             3.754664             3.607493             3.409104   \n",
       "\n",
       "                            182  \n",
       "Date        2021-03-19 23:59:59  \n",
       "Difference             3.245462  "
      ]
     },
     "metadata": {},
     "execution_count": 11
    }
   ],
   "metadata": {}
  },
  {
   "cell_type": "code",
   "execution_count": 12,
   "source": [
    "fig = px.line(data, x='Date', y=\"Close\")\n",
    "fig.show();"
   ],
   "outputs": [
    {
     "output_type": "display_data",
     "data": {
      "application/vnd.plotly.v1+json": {
       "data": [
        {
         "hovertemplate": "Date=%{x}<br>Close=%{y}<extra></extra>",
         "legendgroup": "",
         "line": {
          "color": "#636efa",
          "dash": "solid"
         },
         "marker": {
          "symbol": "circle"
         },
         "mode": "lines",
         "name": "",
         "orientation": "v",
         "showlegend": false,
         "x": [
          "2020-09-18T23:59:59",
          "2020-09-19T23:59:59",
          "2020-09-20T23:59:59",
          "2020-09-21T23:59:59",
          "2020-09-22T23:59:59",
          "2020-09-23T23:59:59",
          "2020-09-24T23:59:59",
          "2020-09-25T23:59:59",
          "2020-09-26T23:59:59",
          "2020-09-27T23:59:59",
          "2020-09-28T23:59:59",
          "2020-09-29T23:59:59",
          "2020-09-30T23:59:59",
          "2020-10-01T23:59:59",
          "2020-10-02T23:59:59",
          "2020-10-03T23:59:59",
          "2020-10-04T23:59:59",
          "2020-10-05T23:59:59",
          "2020-10-06T23:59:59",
          "2020-10-07T23:59:59",
          "2020-10-08T23:59:59",
          "2020-10-09T23:59:59",
          "2020-10-10T23:59:59",
          "2020-10-11T23:59:59",
          "2020-10-12T23:59:59",
          "2020-10-13T23:59:59",
          "2020-10-14T23:59:59",
          "2020-10-15T23:59:59",
          "2020-10-16T23:59:59",
          "2020-10-17T23:59:59",
          "2020-10-18T23:59:59",
          "2020-10-19T23:59:59",
          "2020-10-20T23:59:59",
          "2020-10-21T23:59:59",
          "2020-10-22T23:59:59",
          "2020-10-23T23:59:59",
          "2020-10-24T23:59:59",
          "2020-10-25T23:59:59",
          "2020-10-26T23:59:59",
          "2020-10-27T23:59:59",
          "2020-10-28T23:59:59",
          "2020-10-29T23:59:59",
          "2020-10-30T23:59:59",
          "2020-10-31T23:59:59",
          "2020-11-01T23:59:59",
          "2020-11-02T23:59:59",
          "2020-11-03T23:59:59",
          "2020-11-04T23:59:59",
          "2020-11-05T23:59:59",
          "2020-11-06T23:59:59",
          "2020-11-07T23:59:59",
          "2020-11-08T23:59:59",
          "2020-11-09T23:59:59",
          "2020-11-10T23:59:59",
          "2020-11-11T23:59:59",
          "2020-11-12T23:59:59",
          "2020-11-13T23:59:59",
          "2020-11-14T23:59:59",
          "2020-11-15T23:59:59",
          "2020-11-16T23:59:59",
          "2020-11-17T23:59:59",
          "2020-11-18T23:59:59",
          "2020-11-19T23:59:59",
          "2020-11-20T23:59:59",
          "2020-11-21T23:59:59",
          "2020-11-22T23:59:59",
          "2020-11-23T23:59:59",
          "2020-11-24T23:59:59",
          "2020-11-25T23:59:59",
          "2020-11-26T23:59:59",
          "2020-11-27T23:59:59",
          "2020-11-28T23:59:59",
          "2020-11-29T23:59:59",
          "2020-11-30T23:59:59",
          "2020-12-01T23:59:59",
          "2020-12-02T23:59:59",
          "2020-12-03T23:59:59",
          "2020-12-04T23:59:59",
          "2020-12-05T23:59:59",
          "2020-12-06T23:59:59",
          "2020-12-07T23:59:59",
          "2020-12-08T23:59:59",
          "2020-12-09T23:59:59",
          "2020-12-10T23:59:59",
          "2020-12-11T23:59:59",
          "2020-12-12T23:59:59",
          "2020-12-13T23:59:59",
          "2020-12-14T23:59:59",
          "2020-12-15T23:59:59",
          "2020-12-16T23:59:59",
          "2020-12-17T23:59:59",
          "2020-12-18T23:59:59",
          "2020-12-19T23:59:59",
          "2020-12-20T23:59:59",
          "2020-12-21T23:59:59",
          "2020-12-22T23:59:59",
          "2020-12-23T23:59:59",
          "2020-12-24T23:59:59",
          "2020-12-25T23:59:59",
          "2020-12-26T23:59:59",
          "2020-12-27T23:59:59",
          "2020-12-28T23:59:59",
          "2020-12-29T23:59:59",
          "2020-12-30T23:59:59",
          "2020-12-31T23:59:59",
          "2021-01-01T23:59:59",
          "2021-01-02T23:59:59",
          "2021-01-03T23:59:59",
          "2021-01-04T23:59:59",
          "2021-01-05T23:59:59",
          "2021-01-06T23:59:59",
          "2021-01-07T23:59:59",
          "2021-01-08T23:59:59",
          "2021-01-09T23:59:59",
          "2021-01-10T23:59:59",
          "2021-01-11T23:59:59",
          "2021-01-12T23:59:59",
          "2021-01-13T23:59:59",
          "2021-01-14T23:59:59",
          "2021-01-15T23:59:59",
          "2021-01-16T23:59:59",
          "2021-01-17T23:59:59",
          "2021-01-18T23:59:59",
          "2021-01-19T23:59:59",
          "2021-01-20T23:59:59",
          "2021-01-21T23:59:59",
          "2021-01-22T23:59:59",
          "2021-01-23T23:59:59",
          "2021-01-24T23:59:59",
          "2021-01-25T23:59:59",
          "2021-01-26T23:59:59",
          "2021-01-27T23:59:59",
          "2021-01-28T23:59:59",
          "2021-01-29T23:59:59",
          "2021-01-30T23:59:59",
          "2021-01-31T23:59:59",
          "2021-02-01T23:59:59",
          "2021-02-02T23:59:59",
          "2021-02-03T23:59:59",
          "2021-02-04T23:59:59",
          "2021-02-05T23:59:59",
          "2021-02-06T23:59:59",
          "2021-02-07T23:59:59",
          "2021-02-08T23:59:59",
          "2021-02-09T23:59:59",
          "2021-02-10T23:59:59",
          "2021-02-11T23:59:59",
          "2021-02-12T23:59:59",
          "2021-02-13T23:59:59",
          "2021-02-14T23:59:59",
          "2021-02-15T23:59:59",
          "2021-02-16T23:59:59",
          "2021-02-17T23:59:59",
          "2021-02-18T23:59:59",
          "2021-02-19T23:59:59",
          "2021-02-20T23:59:59",
          "2021-02-21T23:59:59",
          "2021-02-22T23:59:59",
          "2021-02-23T23:59:59",
          "2021-02-24T23:59:59",
          "2021-02-25T23:59:59",
          "2021-02-26T23:59:59",
          "2021-02-27T23:59:59",
          "2021-02-28T23:59:59",
          "2021-03-01T23:59:59",
          "2021-03-02T23:59:59",
          "2021-03-03T23:59:59",
          "2021-03-04T23:59:59",
          "2021-03-05T23:59:59",
          "2021-03-06T23:59:59",
          "2021-03-07T23:59:59",
          "2021-03-08T23:59:59",
          "2021-03-09T23:59:59",
          "2021-03-10T23:59:59",
          "2021-03-11T23:59:59",
          "2021-03-12T23:59:59",
          "2021-03-13T23:59:59",
          "2021-03-14T23:59:59",
          "2021-03-15T23:59:59",
          "2021-03-16T23:59:59",
          "2021-03-17T23:59:59",
          "2021-03-18T23:59:59",
          "2021-03-19T23:59:59",
          "2021-03-20T23:59:59",
          "2021-03-21T23:59:59",
          "2021-03-22T23:59:59",
          "2021-03-23T23:59:59",
          "2021-03-24T23:59:59",
          "2021-03-25T23:59:59",
          "2021-03-26T23:59:59",
          "2021-03-27T23:59:59",
          "2021-03-28T23:59:59",
          "2021-03-29T23:59:59",
          "2021-03-30T23:59:59",
          "2021-03-31T23:59:59",
          "2021-04-01T23:59:59",
          "2021-04-02T23:59:59",
          "2021-04-03T23:59:59",
          "2021-04-04T23:59:59",
          "2021-04-05T23:59:59",
          "2021-04-06T23:59:59",
          "2021-04-07T23:59:59",
          "2021-04-08T23:59:59",
          "2021-04-09T23:59:59",
          "2021-04-10T23:59:59",
          "2021-04-11T23:59:59",
          "2021-04-12T23:59:59",
          "2021-04-13T23:59:59",
          "2021-04-14T23:59:59",
          "2021-04-15T23:59:59",
          "2021-04-16T23:59:59",
          "2021-04-17T23:59:59",
          "2021-04-18T23:59:59",
          "2021-04-19T23:59:59",
          "2021-04-20T23:59:59",
          "2021-04-21T23:59:59",
          "2021-04-22T23:59:59",
          "2021-04-23T23:59:59",
          "2021-04-24T23:59:59",
          "2021-04-25T23:59:59",
          "2021-04-26T23:59:59",
          "2021-04-27T23:59:59",
          "2021-04-28T23:59:59",
          "2021-04-29T23:59:59",
          "2021-04-30T23:59:59",
          "2021-05-01T23:59:59",
          "2021-05-02T23:59:59",
          "2021-05-03T23:59:59",
          "2021-05-04T23:59:59",
          "2021-05-05T23:59:59",
          "2021-05-06T23:59:59",
          "2021-05-07T23:59:59",
          "2021-05-08T23:59:59",
          "2021-05-09T23:59:59",
          "2021-05-10T23:59:59",
          "2021-05-11T23:59:59",
          "2021-05-12T23:59:59",
          "2021-05-13T23:59:59",
          "2021-05-14T23:59:59",
          "2021-05-15T23:59:59",
          "2021-05-16T23:59:59",
          "2021-05-17T23:59:59",
          "2021-05-18T23:59:59",
          "2021-05-19T23:59:59",
          "2021-05-20T23:59:59",
          "2021-05-21T23:59:59",
          "2021-05-22T23:59:59",
          "2021-05-23T23:59:59",
          "2021-05-24T23:59:59",
          "2021-05-25T23:59:59",
          "2021-05-26T23:59:59",
          "2021-05-27T23:59:59",
          "2021-05-28T23:59:59",
          "2021-05-29T23:59:59",
          "2021-05-30T23:59:59",
          "2021-05-31T23:59:59",
          "2021-06-01T23:59:59",
          "2021-06-02T23:59:59",
          "2021-06-03T23:59:59",
          "2021-06-04T23:59:59",
          "2021-06-05T23:59:59",
          "2021-06-06T23:59:59",
          "2021-06-07T23:59:59",
          "2021-06-08T23:59:59",
          "2021-06-09T23:59:59",
          "2021-06-10T23:59:59",
          "2021-06-11T23:59:59",
          "2021-06-12T23:59:59",
          "2021-06-13T23:59:59",
          "2021-06-14T23:59:59",
          "2021-06-15T23:59:59",
          "2021-06-16T23:59:59",
          "2021-06-17T23:59:59",
          "2021-06-18T23:59:59",
          "2021-06-19T23:59:59",
          "2021-06-20T23:59:59",
          "2021-06-21T23:59:59",
          "2021-06-22T23:59:59",
          "2021-06-23T23:59:59",
          "2021-06-24T23:59:59",
          "2021-06-25T23:59:59",
          "2021-06-26T23:59:59",
          "2021-06-27T23:59:59",
          "2021-06-28T23:59:59",
          "2021-06-29T23:59:59",
          "2021-06-30T23:59:59",
          "2021-07-01T23:59:59",
          "2021-07-02T23:59:59",
          "2021-07-03T23:59:59",
          "2021-07-04T23:59:59",
          "2021-07-05T23:59:59",
          "2021-07-06T23:59:59"
         ],
         "xaxis": "x",
         "y": [
          6.89725682185,
          5.72446418076,
          5.24419548938,
          4.26607855983,
          3.90513786535,
          4.6532649,
          5.13726606,
          5.0129515,
          4.80588085,
          4.78089893,
          4.18797912,
          4.41737989,
          4.01301477,
          4.25986485,
          3.78589829,
          3.79161411,
          3.6689251,
          3.41920528,
          2.83424131,
          2.80006352,
          3.27030556,
          3.09736689,
          3.33152713,
          3.38724035,
          3.26026136,
          3.49726586,
          3.08202347,
          2.90694874,
          3.03497654,
          3.0006826,
          3.26685888,
          3.17766422,
          2.86980023,
          2.94137384,
          3.03945049,
          3.01219005,
          2.943257,
          2.77574688,
          2.72590258,
          2.82239855,
          2.67611603,
          2.54161629,
          2.41416755,
          2.26642787,
          2.37930546,
          2.25425989,
          2.13431874,
          1.93011859,
          2.20612935,
          2.5507954,
          2.46649654,
          2.84861707,
          2.67686302,
          3.00754392,
          2.91237512,
          2.93014159,
          3.8796593,
          3.80910701,
          3.86200742,
          3.6040116,
          3.80348089,
          3.46366504,
          3.7330601,
          3.84091406,
          3.81223005,
          3.65905312,
          4.18887791,
          4.06707338,
          3.68375432,
          3.43149857,
          3.31672524,
          3.46967137,
          3.55205527,
          3.76907441,
          3.55541263,
          3.93694029,
          3.89198201,
          3.52813216,
          3.68167397,
          3.6531076,
          3.7645407,
          3.28498568,
          3.35541723,
          3.24360991,
          2.97210942,
          3.12253386,
          3.33782159,
          3.48526339,
          3.33150942,
          3.52855053,
          3.69151096,
          3.76731462,
          3.96389255,
          3.76568859,
          3.52324575,
          3.73061416,
          3.31396994,
          3.52143239,
          3.50369878,
          3.40696394,
          3.59463998,
          3.72836028,
          3.6708054,
          4.14055831,
          5.16833732,
          4.7362491,
          4.84521386,
          5.44703128,
          5.40656561,
          6.27929137,
          6.40937474,
          6.26771472,
          5.88761164,
          6.25130035,
          5.99116286,
          5.25150553,
          5.5453677,
          6.32484939,
          6.87152013,
          7.36007632,
          8.41865743,
          8.6620615,
          9.21562851,
          8.64135045,
          8.9825195,
          7.60239984,
          8.71697842,
          9.30468023,
          12.04650866,
          11.35221143,
          13.84000205,
          14.83348352,
          14.20477366,
          15.71157817,
          19.46233967,
          17.6662939,
          20.4156725,
          19.08366191,
          19.7659071,
          20.14545504,
          21.18557362,
          19.30009871,
          18.68686418,
          19.34528104,
          19.53385822,
          20.74179976,
          21.55499681,
          22.74602037,
          21.80675402,
          20.93077401,
          20.06204541,
          20.45751915,
          21.4885262,
          21.16178597,
          20.07491187,
          29.14038501,
          28.82971549,
          27.71704643,
          24.5766447,
          25.25514648,
          23.2711704,
          23.07451171,
          23.45471967,
          22.18955961,
          25.44464301,
          25.60691279,
          25.4664093,
          28.26248115,
          28.34505432,
          28.477107,
          34.27825427,
          33.29326699,
          32.86460519,
          30.9670982,
          31.02901176,
          31.00783836,
          32.52656862,
          30.7960226,
          29.81665621,
          29.93006336,
          31.33999408,
          30.02918318,
          33.25638035,
          32.19557077,
          32.68374904,
          32.96406372,
          31.10017847,
          27.59833762,
          26.67650097,
          28.96528846,
          28.13306028,
          27.84012417,
          29.12337236,
          28.48761617,
          27.98652266,
          28.73943227,
          30.1756456,
          29.54988535,
          31.06555543,
          30.79484599,
          31.32274785,
          28.59392519,
          30.22243116,
          29.56221964,
          29.79238981,
          29.97910154,
          36.7548148,
          35.32225973,
          36.15106629,
          37.84837046,
          36.27966064,
          35.09549297,
          31.74631832,
          31.44609719,
          31.96318937,
          33.60399021,
          34.13132198,
          32.88169163,
          30.11583815,
          33.88875065,
          37.94541273,
          39.61473184,
          42.80321249,
          41.03312655,
          40.69766537,
          40.19977427,
          42.32731437,
          42.31752885,
          43.16450615,
          42.49618733,
          40.22020652,
          39.78305305,
          40.40708818,
          39.43003307,
          36.38795258,
          38.4899796,
          36.03806779,
          37.36915995,
          40.32621293,
          36.57718291,
          36.56150503,
          33.28563801,
          35.07203032,
          23.42795801,
          26.39457361,
          21.90126016,
          20.38345517,
          16.83633451,
          24.62764998,
          25.1950171,
          29.36829573,
          28.37033434,
          25.92494516,
          23.17946491,
          25.74251926,
          28.36971009,
          27.3952343,
          27.63148036,
          28.63080951,
          26.44299507,
          25.60755124,
          25.91248083,
          24.19516632,
          23.5302181,
          25.12730308,
          23.5971588,
          21.85097044,
          21.32251526,
          23.27432047,
          23.40723795,
          24.18085206,
          21.832226,
          22.15489122,
          20.39336123,
          19.91080622,
          20.80651277,
          15.85063849,
          16.3802756,
          17.8716959,
          18.0547136,
          15.90518993,
          16.10042424,
          17.09566736,
          17.6838602,
          18.55432976,
          19.27835826,
          17.87039878,
          18.24172609,
          19.52475708,
          20.77187449,
          20.09518102,
          22.40018588
         ],
         "yaxis": "y",
         "type": "scatter"
        }
       ],
       "layout": {
        "template": {
         "data": {
          "histogram2dcontour": [
           {
            "type": "histogram2dcontour",
            "colorbar": {
             "outlinewidth": 0,
             "ticks": ""
            },
            "colorscale": [
             [
              0,
              "#0d0887"
             ],
             [
              0.1111111111111111,
              "#46039f"
             ],
             [
              0.2222222222222222,
              "#7201a8"
             ],
             [
              0.3333333333333333,
              "#9c179e"
             ],
             [
              0.4444444444444444,
              "#bd3786"
             ],
             [
              0.5555555555555556,
              "#d8576b"
             ],
             [
              0.6666666666666666,
              "#ed7953"
             ],
             [
              0.7777777777777778,
              "#fb9f3a"
             ],
             [
              0.8888888888888888,
              "#fdca26"
             ],
             [
              1,
              "#f0f921"
             ]
            ]
           }
          ],
          "choropleth": [
           {
            "type": "choropleth",
            "colorbar": {
             "outlinewidth": 0,
             "ticks": ""
            }
           }
          ],
          "histogram2d": [
           {
            "type": "histogram2d",
            "colorbar": {
             "outlinewidth": 0,
             "ticks": ""
            },
            "colorscale": [
             [
              0,
              "#0d0887"
             ],
             [
              0.1111111111111111,
              "#46039f"
             ],
             [
              0.2222222222222222,
              "#7201a8"
             ],
             [
              0.3333333333333333,
              "#9c179e"
             ],
             [
              0.4444444444444444,
              "#bd3786"
             ],
             [
              0.5555555555555556,
              "#d8576b"
             ],
             [
              0.6666666666666666,
              "#ed7953"
             ],
             [
              0.7777777777777778,
              "#fb9f3a"
             ],
             [
              0.8888888888888888,
              "#fdca26"
             ],
             [
              1,
              "#f0f921"
             ]
            ]
           }
          ],
          "heatmap": [
           {
            "type": "heatmap",
            "colorbar": {
             "outlinewidth": 0,
             "ticks": ""
            },
            "colorscale": [
             [
              0,
              "#0d0887"
             ],
             [
              0.1111111111111111,
              "#46039f"
             ],
             [
              0.2222222222222222,
              "#7201a8"
             ],
             [
              0.3333333333333333,
              "#9c179e"
             ],
             [
              0.4444444444444444,
              "#bd3786"
             ],
             [
              0.5555555555555556,
              "#d8576b"
             ],
             [
              0.6666666666666666,
              "#ed7953"
             ],
             [
              0.7777777777777778,
              "#fb9f3a"
             ],
             [
              0.8888888888888888,
              "#fdca26"
             ],
             [
              1,
              "#f0f921"
             ]
            ]
           }
          ],
          "heatmapgl": [
           {
            "type": "heatmapgl",
            "colorbar": {
             "outlinewidth": 0,
             "ticks": ""
            },
            "colorscale": [
             [
              0,
              "#0d0887"
             ],
             [
              0.1111111111111111,
              "#46039f"
             ],
             [
              0.2222222222222222,
              "#7201a8"
             ],
             [
              0.3333333333333333,
              "#9c179e"
             ],
             [
              0.4444444444444444,
              "#bd3786"
             ],
             [
              0.5555555555555556,
              "#d8576b"
             ],
             [
              0.6666666666666666,
              "#ed7953"
             ],
             [
              0.7777777777777778,
              "#fb9f3a"
             ],
             [
              0.8888888888888888,
              "#fdca26"
             ],
             [
              1,
              "#f0f921"
             ]
            ]
           }
          ],
          "contourcarpet": [
           {
            "type": "contourcarpet",
            "colorbar": {
             "outlinewidth": 0,
             "ticks": ""
            }
           }
          ],
          "contour": [
           {
            "type": "contour",
            "colorbar": {
             "outlinewidth": 0,
             "ticks": ""
            },
            "colorscale": [
             [
              0,
              "#0d0887"
             ],
             [
              0.1111111111111111,
              "#46039f"
             ],
             [
              0.2222222222222222,
              "#7201a8"
             ],
             [
              0.3333333333333333,
              "#9c179e"
             ],
             [
              0.4444444444444444,
              "#bd3786"
             ],
             [
              0.5555555555555556,
              "#d8576b"
             ],
             [
              0.6666666666666666,
              "#ed7953"
             ],
             [
              0.7777777777777778,
              "#fb9f3a"
             ],
             [
              0.8888888888888888,
              "#fdca26"
             ],
             [
              1,
              "#f0f921"
             ]
            ]
           }
          ],
          "surface": [
           {
            "type": "surface",
            "colorbar": {
             "outlinewidth": 0,
             "ticks": ""
            },
            "colorscale": [
             [
              0,
              "#0d0887"
             ],
             [
              0.1111111111111111,
              "#46039f"
             ],
             [
              0.2222222222222222,
              "#7201a8"
             ],
             [
              0.3333333333333333,
              "#9c179e"
             ],
             [
              0.4444444444444444,
              "#bd3786"
             ],
             [
              0.5555555555555556,
              "#d8576b"
             ],
             [
              0.6666666666666666,
              "#ed7953"
             ],
             [
              0.7777777777777778,
              "#fb9f3a"
             ],
             [
              0.8888888888888888,
              "#fdca26"
             ],
             [
              1,
              "#f0f921"
             ]
            ]
           }
          ],
          "mesh3d": [
           {
            "type": "mesh3d",
            "colorbar": {
             "outlinewidth": 0,
             "ticks": ""
            }
           }
          ],
          "scatter": [
           {
            "fillpattern": {
             "fillmode": "overlay",
             "size": 10,
             "solidity": 0.2
            },
            "type": "scatter"
           }
          ],
          "parcoords": [
           {
            "type": "parcoords",
            "line": {
             "colorbar": {
              "outlinewidth": 0,
              "ticks": ""
             }
            }
           }
          ],
          "scatterpolargl": [
           {
            "type": "scatterpolargl",
            "marker": {
             "colorbar": {
              "outlinewidth": 0,
              "ticks": ""
             }
            }
           }
          ],
          "bar": [
           {
            "error_x": {
             "color": "#2a3f5f"
            },
            "error_y": {
             "color": "#2a3f5f"
            },
            "marker": {
             "line": {
              "color": "#E5ECF6",
              "width": 0.5
             },
             "pattern": {
              "fillmode": "overlay",
              "size": 10,
              "solidity": 0.2
             }
            },
            "type": "bar"
           }
          ],
          "scattergeo": [
           {
            "type": "scattergeo",
            "marker": {
             "colorbar": {
              "outlinewidth": 0,
              "ticks": ""
             }
            }
           }
          ],
          "scatterpolar": [
           {
            "type": "scatterpolar",
            "marker": {
             "colorbar": {
              "outlinewidth": 0,
              "ticks": ""
             }
            }
           }
          ],
          "histogram": [
           {
            "marker": {
             "pattern": {
              "fillmode": "overlay",
              "size": 10,
              "solidity": 0.2
             }
            },
            "type": "histogram"
           }
          ],
          "scattergl": [
           {
            "type": "scattergl",
            "marker": {
             "colorbar": {
              "outlinewidth": 0,
              "ticks": ""
             }
            }
           }
          ],
          "scatter3d": [
           {
            "type": "scatter3d",
            "line": {
             "colorbar": {
              "outlinewidth": 0,
              "ticks": ""
             }
            },
            "marker": {
             "colorbar": {
              "outlinewidth": 0,
              "ticks": ""
             }
            }
           }
          ],
          "scattermapbox": [
           {
            "type": "scattermapbox",
            "marker": {
             "colorbar": {
              "outlinewidth": 0,
              "ticks": ""
             }
            }
           }
          ],
          "scatterternary": [
           {
            "type": "scatterternary",
            "marker": {
             "colorbar": {
              "outlinewidth": 0,
              "ticks": ""
             }
            }
           }
          ],
          "scattercarpet": [
           {
            "type": "scattercarpet",
            "marker": {
             "colorbar": {
              "outlinewidth": 0,
              "ticks": ""
             }
            }
           }
          ],
          "carpet": [
           {
            "aaxis": {
             "endlinecolor": "#2a3f5f",
             "gridcolor": "white",
             "linecolor": "white",
             "minorgridcolor": "white",
             "startlinecolor": "#2a3f5f"
            },
            "baxis": {
             "endlinecolor": "#2a3f5f",
             "gridcolor": "white",
             "linecolor": "white",
             "minorgridcolor": "white",
             "startlinecolor": "#2a3f5f"
            },
            "type": "carpet"
           }
          ],
          "table": [
           {
            "cells": {
             "fill": {
              "color": "#EBF0F8"
             },
             "line": {
              "color": "white"
             }
            },
            "header": {
             "fill": {
              "color": "#C8D4E3"
             },
             "line": {
              "color": "white"
             }
            },
            "type": "table"
           }
          ],
          "barpolar": [
           {
            "marker": {
             "line": {
              "color": "#E5ECF6",
              "width": 0.5
             },
             "pattern": {
              "fillmode": "overlay",
              "size": 10,
              "solidity": 0.2
             }
            },
            "type": "barpolar"
           }
          ],
          "pie": [
           {
            "automargin": true,
            "type": "pie"
           }
          ]
         },
         "layout": {
          "autotypenumbers": "strict",
          "colorway": [
           "#636efa",
           "#EF553B",
           "#00cc96",
           "#ab63fa",
           "#FFA15A",
           "#19d3f3",
           "#FF6692",
           "#B6E880",
           "#FF97FF",
           "#FECB52"
          ],
          "font": {
           "color": "#2a3f5f"
          },
          "hovermode": "closest",
          "hoverlabel": {
           "align": "left"
          },
          "paper_bgcolor": "white",
          "plot_bgcolor": "#E5ECF6",
          "polar": {
           "bgcolor": "#E5ECF6",
           "angularaxis": {
            "gridcolor": "white",
            "linecolor": "white",
            "ticks": ""
           },
           "radialaxis": {
            "gridcolor": "white",
            "linecolor": "white",
            "ticks": ""
           }
          },
          "ternary": {
           "bgcolor": "#E5ECF6",
           "aaxis": {
            "gridcolor": "white",
            "linecolor": "white",
            "ticks": ""
           },
           "baxis": {
            "gridcolor": "white",
            "linecolor": "white",
            "ticks": ""
           },
           "caxis": {
            "gridcolor": "white",
            "linecolor": "white",
            "ticks": ""
           }
          },
          "coloraxis": {
           "colorbar": {
            "outlinewidth": 0,
            "ticks": ""
           }
          },
          "colorscale": {
           "sequential": [
            [
             0,
             "#0d0887"
            ],
            [
             0.1111111111111111,
             "#46039f"
            ],
            [
             0.2222222222222222,
             "#7201a8"
            ],
            [
             0.3333333333333333,
             "#9c179e"
            ],
            [
             0.4444444444444444,
             "#bd3786"
            ],
            [
             0.5555555555555556,
             "#d8576b"
            ],
            [
             0.6666666666666666,
             "#ed7953"
            ],
            [
             0.7777777777777778,
             "#fb9f3a"
            ],
            [
             0.8888888888888888,
             "#fdca26"
            ],
            [
             1,
             "#f0f921"
            ]
           ],
           "sequentialminus": [
            [
             0,
             "#0d0887"
            ],
            [
             0.1111111111111111,
             "#46039f"
            ],
            [
             0.2222222222222222,
             "#7201a8"
            ],
            [
             0.3333333333333333,
             "#9c179e"
            ],
            [
             0.4444444444444444,
             "#bd3786"
            ],
            [
             0.5555555555555556,
             "#d8576b"
            ],
            [
             0.6666666666666666,
             "#ed7953"
            ],
            [
             0.7777777777777778,
             "#fb9f3a"
            ],
            [
             0.8888888888888888,
             "#fdca26"
            ],
            [
             1,
             "#f0f921"
            ]
           ],
           "diverging": [
            [
             0,
             "#8e0152"
            ],
            [
             0.1,
             "#c51b7d"
            ],
            [
             0.2,
             "#de77ae"
            ],
            [
             0.3,
             "#f1b6da"
            ],
            [
             0.4,
             "#fde0ef"
            ],
            [
             0.5,
             "#f7f7f7"
            ],
            [
             0.6,
             "#e6f5d0"
            ],
            [
             0.7,
             "#b8e186"
            ],
            [
             0.8,
             "#7fbc41"
            ],
            [
             0.9,
             "#4d9221"
            ],
            [
             1,
             "#276419"
            ]
           ]
          },
          "xaxis": {
           "gridcolor": "white",
           "linecolor": "white",
           "ticks": "",
           "title": {
            "standoff": 15
           },
           "zerolinecolor": "white",
           "automargin": true,
           "zerolinewidth": 2
          },
          "yaxis": {
           "gridcolor": "white",
           "linecolor": "white",
           "ticks": "",
           "title": {
            "standoff": 15
           },
           "zerolinecolor": "white",
           "automargin": true,
           "zerolinewidth": 2
          },
          "scene": {
           "xaxis": {
            "backgroundcolor": "#E5ECF6",
            "gridcolor": "white",
            "linecolor": "white",
            "showbackground": true,
            "ticks": "",
            "zerolinecolor": "white",
            "gridwidth": 2
           },
           "yaxis": {
            "backgroundcolor": "#E5ECF6",
            "gridcolor": "white",
            "linecolor": "white",
            "showbackground": true,
            "ticks": "",
            "zerolinecolor": "white",
            "gridwidth": 2
           },
           "zaxis": {
            "backgroundcolor": "#E5ECF6",
            "gridcolor": "white",
            "linecolor": "white",
            "showbackground": true,
            "ticks": "",
            "zerolinecolor": "white",
            "gridwidth": 2
           }
          },
          "shapedefaults": {
           "line": {
            "color": "#2a3f5f"
           }
          },
          "annotationdefaults": {
           "arrowcolor": "#2a3f5f",
           "arrowhead": 0,
           "arrowwidth": 1
          },
          "geo": {
           "bgcolor": "white",
           "landcolor": "#E5ECF6",
           "subunitcolor": "white",
           "showland": true,
           "showlakes": true,
           "lakecolor": "white"
          },
          "title": {
           "x": 0.05
          },
          "mapbox": {
           "style": "light"
          }
         }
        },
        "xaxis": {
         "anchor": "y",
         "domain": [
          0,
          1
         ],
         "title": {
          "text": "Date"
         }
        },
        "yaxis": {
         "anchor": "x",
         "domain": [
          0,
          1
         ],
         "title": {
          "text": "Close"
         }
        },
        "legend": {
         "tracegroupgap": 0
        },
        "margin": {
         "t": 60
        }
       },
       "config": {
        "plotlyServerURL": "https://plot.ly"
       }
      }
     },
     "metadata": {}
    }
   ],
   "metadata": {}
  },
  {
   "cell_type": "code",
   "execution_count": 13,
   "source": [
    "fig = px.line(data, x='Date', y=\"Marketcap\")\n",
    "fig.show();"
   ],
   "outputs": [
    {
     "output_type": "display_data",
     "data": {
      "application/vnd.plotly.v1+json": {
       "data": [
        {
         "hovertemplate": "Date=%{x}<br>Marketcap=%{y}<extra></extra>",
         "legendgroup": "",
         "line": {
          "color": "#636efa",
          "dash": "solid"
         },
         "marker": {
          "symbol": "circle"
         },
         "mode": "lines",
         "name": "",
         "orientation": "v",
         "showlegend": false,
         "x": [
          "2020-09-18T23:59:59",
          "2020-09-19T23:59:59",
          "2020-09-20T23:59:59",
          "2020-09-21T23:59:59",
          "2020-09-22T23:59:59",
          "2020-09-23T23:59:59",
          "2020-09-24T23:59:59",
          "2020-09-25T23:59:59",
          "2020-09-26T23:59:59",
          "2020-09-27T23:59:59",
          "2020-09-28T23:59:59",
          "2020-09-29T23:59:59",
          "2020-09-30T23:59:59",
          "2020-10-01T23:59:59",
          "2020-10-02T23:59:59",
          "2020-10-03T23:59:59",
          "2020-10-04T23:59:59",
          "2020-10-05T23:59:59",
          "2020-10-06T23:59:59",
          "2020-10-07T23:59:59",
          "2020-10-08T23:59:59",
          "2020-10-09T23:59:59",
          "2020-10-10T23:59:59",
          "2020-10-11T23:59:59",
          "2020-10-12T23:59:59",
          "2020-10-13T23:59:59",
          "2020-10-14T23:59:59",
          "2020-10-15T23:59:59",
          "2020-10-16T23:59:59",
          "2020-10-17T23:59:59",
          "2020-10-18T23:59:59",
          "2020-10-19T23:59:59",
          "2020-10-20T23:59:59",
          "2020-10-21T23:59:59",
          "2020-10-22T23:59:59",
          "2020-10-23T23:59:59",
          "2020-10-24T23:59:59",
          "2020-10-25T23:59:59",
          "2020-10-26T23:59:59",
          "2020-10-27T23:59:59",
          "2020-10-28T23:59:59",
          "2020-10-29T23:59:59",
          "2020-10-30T23:59:59",
          "2020-10-31T23:59:59",
          "2020-11-01T23:59:59",
          "2020-11-02T23:59:59",
          "2020-11-03T23:59:59",
          "2020-11-04T23:59:59",
          "2020-11-05T23:59:59",
          "2020-11-06T23:59:59",
          "2020-11-07T23:59:59",
          "2020-11-08T23:59:59",
          "2020-11-09T23:59:59",
          "2020-11-10T23:59:59",
          "2020-11-11T23:59:59",
          "2020-11-12T23:59:59",
          "2020-11-13T23:59:59",
          "2020-11-14T23:59:59",
          "2020-11-15T23:59:59",
          "2020-11-16T23:59:59",
          "2020-11-17T23:59:59",
          "2020-11-18T23:59:59",
          "2020-11-19T23:59:59",
          "2020-11-20T23:59:59",
          "2020-11-21T23:59:59",
          "2020-11-22T23:59:59",
          "2020-11-23T23:59:59",
          "2020-11-24T23:59:59",
          "2020-11-25T23:59:59",
          "2020-11-26T23:59:59",
          "2020-11-27T23:59:59",
          "2020-11-28T23:59:59",
          "2020-11-29T23:59:59",
          "2020-11-30T23:59:59",
          "2020-12-01T23:59:59",
          "2020-12-02T23:59:59",
          "2020-12-03T23:59:59",
          "2020-12-04T23:59:59",
          "2020-12-05T23:59:59",
          "2020-12-06T23:59:59",
          "2020-12-07T23:59:59",
          "2020-12-08T23:59:59",
          "2020-12-09T23:59:59",
          "2020-12-10T23:59:59",
          "2020-12-11T23:59:59",
          "2020-12-12T23:59:59",
          "2020-12-13T23:59:59",
          "2020-12-14T23:59:59",
          "2020-12-15T23:59:59",
          "2020-12-16T23:59:59",
          "2020-12-17T23:59:59",
          "2020-12-18T23:59:59",
          "2020-12-19T23:59:59",
          "2020-12-20T23:59:59",
          "2020-12-21T23:59:59",
          "2020-12-22T23:59:59",
          "2020-12-23T23:59:59",
          "2020-12-24T23:59:59",
          "2020-12-25T23:59:59",
          "2020-12-26T23:59:59",
          "2020-12-27T23:59:59",
          "2020-12-28T23:59:59",
          "2020-12-29T23:59:59",
          "2020-12-30T23:59:59",
          "2020-12-31T23:59:59",
          "2021-01-01T23:59:59",
          "2021-01-02T23:59:59",
          "2021-01-03T23:59:59",
          "2021-01-04T23:59:59",
          "2021-01-05T23:59:59",
          "2021-01-06T23:59:59",
          "2021-01-07T23:59:59",
          "2021-01-08T23:59:59",
          "2021-01-09T23:59:59",
          "2021-01-10T23:59:59",
          "2021-01-11T23:59:59",
          "2021-01-12T23:59:59",
          "2021-01-13T23:59:59",
          "2021-01-14T23:59:59",
          "2021-01-15T23:59:59",
          "2021-01-16T23:59:59",
          "2021-01-17T23:59:59",
          "2021-01-18T23:59:59",
          "2021-01-19T23:59:59",
          "2021-01-20T23:59:59",
          "2021-01-21T23:59:59",
          "2021-01-22T23:59:59",
          "2021-01-23T23:59:59",
          "2021-01-24T23:59:59",
          "2021-01-25T23:59:59",
          "2021-01-26T23:59:59",
          "2021-01-27T23:59:59",
          "2021-01-28T23:59:59",
          "2021-01-29T23:59:59",
          "2021-01-30T23:59:59",
          "2021-01-31T23:59:59",
          "2021-02-01T23:59:59",
          "2021-02-02T23:59:59",
          "2021-02-03T23:59:59",
          "2021-02-04T23:59:59",
          "2021-02-05T23:59:59",
          "2021-02-06T23:59:59",
          "2021-02-07T23:59:59",
          "2021-02-08T23:59:59",
          "2021-02-09T23:59:59",
          "2021-02-10T23:59:59",
          "2021-02-11T23:59:59",
          "2021-02-12T23:59:59",
          "2021-02-13T23:59:59",
          "2021-02-14T23:59:59",
          "2021-02-15T23:59:59",
          "2021-02-16T23:59:59",
          "2021-02-17T23:59:59",
          "2021-02-18T23:59:59",
          "2021-02-19T23:59:59",
          "2021-02-20T23:59:59",
          "2021-02-21T23:59:59",
          "2021-02-22T23:59:59",
          "2021-02-23T23:59:59",
          "2021-02-24T23:59:59",
          "2021-02-25T23:59:59",
          "2021-02-26T23:59:59",
          "2021-02-27T23:59:59",
          "2021-02-28T23:59:59",
          "2021-03-01T23:59:59",
          "2021-03-02T23:59:59",
          "2021-03-03T23:59:59",
          "2021-03-04T23:59:59",
          "2021-03-05T23:59:59",
          "2021-03-06T23:59:59",
          "2021-03-07T23:59:59",
          "2021-03-08T23:59:59",
          "2021-03-09T23:59:59",
          "2021-03-10T23:59:59",
          "2021-03-11T23:59:59",
          "2021-03-12T23:59:59",
          "2021-03-13T23:59:59",
          "2021-03-14T23:59:59",
          "2021-03-15T23:59:59",
          "2021-03-16T23:59:59",
          "2021-03-17T23:59:59",
          "2021-03-18T23:59:59",
          "2021-03-19T23:59:59",
          "2021-03-20T23:59:59",
          "2021-03-21T23:59:59",
          "2021-03-22T23:59:59",
          "2021-03-23T23:59:59",
          "2021-03-24T23:59:59",
          "2021-03-25T23:59:59",
          "2021-03-26T23:59:59",
          "2021-03-27T23:59:59",
          "2021-03-28T23:59:59",
          "2021-03-29T23:59:59",
          "2021-03-30T23:59:59",
          "2021-03-31T23:59:59",
          "2021-04-01T23:59:59",
          "2021-04-02T23:59:59",
          "2021-04-03T23:59:59",
          "2021-04-04T23:59:59",
          "2021-04-05T23:59:59",
          "2021-04-06T23:59:59",
          "2021-04-07T23:59:59",
          "2021-04-08T23:59:59",
          "2021-04-09T23:59:59",
          "2021-04-10T23:59:59",
          "2021-04-11T23:59:59",
          "2021-04-12T23:59:59",
          "2021-04-13T23:59:59",
          "2021-04-14T23:59:59",
          "2021-04-15T23:59:59",
          "2021-04-16T23:59:59",
          "2021-04-17T23:59:59",
          "2021-04-18T23:59:59",
          "2021-04-19T23:59:59",
          "2021-04-20T23:59:59",
          "2021-04-21T23:59:59",
          "2021-04-22T23:59:59",
          "2021-04-23T23:59:59",
          "2021-04-24T23:59:59",
          "2021-04-25T23:59:59",
          "2021-04-26T23:59:59",
          "2021-04-27T23:59:59",
          "2021-04-28T23:59:59",
          "2021-04-29T23:59:59",
          "2021-04-30T23:59:59",
          "2021-05-01T23:59:59",
          "2021-05-02T23:59:59",
          "2021-05-03T23:59:59",
          "2021-05-04T23:59:59",
          "2021-05-05T23:59:59",
          "2021-05-06T23:59:59",
          "2021-05-07T23:59:59",
          "2021-05-08T23:59:59",
          "2021-05-09T23:59:59",
          "2021-05-10T23:59:59",
          "2021-05-11T23:59:59",
          "2021-05-12T23:59:59",
          "2021-05-13T23:59:59",
          "2021-05-14T23:59:59",
          "2021-05-15T23:59:59",
          "2021-05-16T23:59:59",
          "2021-05-17T23:59:59",
          "2021-05-18T23:59:59",
          "2021-05-19T23:59:59",
          "2021-05-20T23:59:59",
          "2021-05-21T23:59:59",
          "2021-05-22T23:59:59",
          "2021-05-23T23:59:59",
          "2021-05-24T23:59:59",
          "2021-05-25T23:59:59",
          "2021-05-26T23:59:59",
          "2021-05-27T23:59:59",
          "2021-05-28T23:59:59",
          "2021-05-29T23:59:59",
          "2021-05-30T23:59:59",
          "2021-05-31T23:59:59",
          "2021-06-01T23:59:59",
          "2021-06-02T23:59:59",
          "2021-06-03T23:59:59",
          "2021-06-04T23:59:59",
          "2021-06-05T23:59:59",
          "2021-06-06T23:59:59",
          "2021-06-07T23:59:59",
          "2021-06-08T23:59:59",
          "2021-06-09T23:59:59",
          "2021-06-10T23:59:59",
          "2021-06-11T23:59:59",
          "2021-06-12T23:59:59",
          "2021-06-13T23:59:59",
          "2021-06-14T23:59:59",
          "2021-06-15T23:59:59",
          "2021-06-16T23:59:59",
          "2021-06-17T23:59:59",
          "2021-06-18T23:59:59",
          "2021-06-19T23:59:59",
          "2021-06-20T23:59:59",
          "2021-06-21T23:59:59",
          "2021-06-22T23:59:59",
          "2021-06-23T23:59:59",
          "2021-06-24T23:59:59",
          "2021-06-25T23:59:59",
          "2021-06-26T23:59:59",
          "2021-06-27T23:59:59",
          "2021-06-28T23:59:59",
          "2021-06-29T23:59:59",
          "2021-06-30T23:59:59",
          "2021-07-01T23:59:59",
          "2021-07-02T23:59:59",
          "2021-07-03T23:59:59",
          "2021-07-04T23:59:59",
          "2021-07-05T23:59:59",
          "2021-07-06T23:59:59"
         ],
         "xaxis": "x",
         "y": [
          668111645.023516,
          554507578.80579,
          507985734.869998,
          413239181.608882,
          378276197.429285,
          450744484.21021295,
          497627878.46547896,
          485585988.6782823,
          465527823.6737845,
          463107918.5720507,
          405673978.9361568,
          427895179.2095708,
          388725832.1770539,
          412637282.2459784,
          366725902.6041601,
          367279572.93126136,
          355395144.4481529,
          331205713.42270654,
          274542426.7050082,
          271231751.18131524,
          316782350.84644824,
          300030423.7594074,
          322712656.47065043,
          328109389.42903274,
          315809405.88573736,
          338767151.10857934,
          298544164.02639323,
          541141642.9031625,
          566018740.9886383,
          560759317.8628457,
          658804132.0498519,
          642198931.2594732,
          595506496.7879803,
          610958556.284688,
          631330250.4628034,
          629314884.2756435,
          616104225.8426412,
          582448679.857583,
          572875510.6687803,
          595071764.8665643,
          564790634.9580132,
          537048830.213098,
          511147587.4136733,
          480662058.457911,
          507214061.622942,
          481565079.28856176,
          456747205.28593296,
          413703375.8057868,
          473798080.6251046,
          548667148.8368093,
          533591764.2474856,
          617187405.5768973,
          580875958.2696799,
          654437541.490111,
          634810552.6298693,
          639623667.6424993,
          848630742.4362862,
          834021635.9941027,
          847333503.5986902,
          795818601.8057162,
          845413000.0836904,
          772306793.537774,
          833239658.3074241,
          857827146.1419846,
          851948496.5303949,
          819231644.5148652,
          938456080.8413752,
          911812852.1763512,
          891341395.8819656,
          833454266.6049309,
          805742238.6120679,
          843069227.6235335,
          867998169.6988827,
          921271091.8213736,
          872773158.2148857,
          968265196.0554484,
          957378950.1253784,
          868063348.8634834,
          906044647.7016336,
          904844016.4904616,
          932617585.9439664,
          813930076.8511748,
          844381631.4283338,
          816330299.5193958,
          748056657.7925676,
          785986751.615319,
          840323057.8884748,
          877520702.0692979,
          838880372.7142152,
          897415957.1746562,
          938974378.487191,
          967792773.2319348,
          1018410462.9465004,
          967631324.6613728,
          905433508.5809996,
          958801028.8768184,
          851816812.9726367,
          905198426.2303164,
          900828920.9527804,
          876098440.141036,
          924485286.1780283,
          959011053.1619704,
          985107448.8832926,
          1111315023.9393563,
          1387373840.4002287,
          1273682447.7946596,
          1303181237.0459082,
          1465283748.264174,
          1454876039.815416,
          1689967870.7867787,
          1725353569.6704693,
          1687547648.1585357,
          1585532826.449155,
          1683749401.422958,
          1616235372.1915743,
          1448673258.4285564,
          1529887354.2062104,
          1753053644.244708,
          1904871781.9527924,
          2040530747.519591,
          2334383897.245174,
          2402396385.2501936,
          2556450474.3179173,
          2464938778.409669,
          2562614948.792108,
          2169155158.163901,
          2487322101.063074,
          2655407773.1684203,
          3450685058.9016585,
          3252431411.725396,
          3965776568.042117,
          4251157620.010167,
          4071492900.34,
          4543750886.54,
          5629704206.08,
          5111402819.64,
          5907917256.91,
          5523529702.82,
          5723881390.91,
          5839080530.46,
          6373378133.21,
          5806814611.23,
          5623224621.63,
          5822309467.53,
          5880281975.94,
          6245125353.04,
          6490772819.01,
          6850114250.31,
          6568455013.66,
          6305047039.79,
          6043357017.33,
          6162486894.17,
          6473060596.54,
          6374635543.1,
          6047232824.3,
          8785103362.33,
          8692883303.31,
          8358512592.87,
          7411839335.72,
          7617271888.99,
          7018879586.77,
          6960566064.49,
          7310011683.65,
          6916197524.34,
          7931306354.44,
          7982338224.68,
          7938845765.34,
          8811275414.72,
          14771381030.29,
          14840891541.7,
          17864556536.13,
          17352294772.83,
          17143384075.92,
          16154301007.82,
          16187185269.99,
          16176859354.19,
          16969706699.11,
          16067786777.56,
          15557340462.37,
          15617039803.19,
          16353287148.46,
          15669652211.65,
          17354345782.55,
          16801490992.96,
          17056448840.77,
          17203476180.68,
          16231474954.73,
          14403963942.14,
          13923601359.67,
          15118637692.54,
          14684711618.74,
          14532441592.39,
          15202459124.24,
          14871243020.87,
          14609704547.19,
          15003733934.99,
          15753767687.38,
          15427822429.75,
          16219657547.09,
          16113294040.08,
          16389842575.25,
          14962402066.1,
          15815006290.35,
          15469952724.16,
          15590603698.47,
          15689099387.8,
          19235064187.86,
          18486374482.66,
          18920565234.2,
          19809286775.1,
          18988246867.1,
          18368470725.72,
          16615561411.87,
          16458430038.56,
          16729068565.75,
          17587839868.02,
          17863796137.61,
          17209759302.21,
          15762155172.43,
          17736838127.64,
          19860031140.37,
          20733726460.68,
          22402526993.54,
          21476091903.91,
          21300516809.39,
          21039928450.68,
          22153449417.45,
          22148327830.66,
          22591622401.48,
          22241834863.93,
          21050622368.63,
          20821823127.81,
          21148433285.97,
          20637058034.89,
          19044881037.52,
          20145048858.4,
          20165651659.01,
          20910665137.05,
          22565343610.55,
          20468517877.81,
          20459744565.42,
          18627184853.91,
          19626879067.07,
          13232347121.75,
          14907921549.92,
          12370229171.06,
          11529596762.74,
          9523322177.03,
          13930831717.66,
          14251999516.2,
          16612979708.58,
          16048671759.85,
          14665351852.26,
          13112600565.13,
          14562759375.84,
          16049165497.74,
          15498319588.84,
          15632142981.9,
          16174756432.64,
          14939106880.87,
          14467273503.29,
          14639766964.58,
          13669613801.54,
          13532527082.56,
          14451165013.82,
          13571246337.08,
          12567169058.45,
          12263500330.4,
          13386217336,
          13462664780.19,
          13907887559.04,
          12557267750.66,
          12742855496.02,
          11729674168.28,
          11452122423.17,
          11967307035.92,
          9116830854.33,
          9421462865.16,
          10279845500.49,
          10384060768.91,
          9148938768.41,
          9261318436.36,
          9833906939.68,
          10172315635.89,
          10673136671.32,
          11089771197.49,
          10279957542.38,
          10493637024.79,
          11466088852.75,
          12198611170.77,
          11801301166.91,
          13155007434.09
         ],
         "yaxis": "y",
         "type": "scatter"
        }
       ],
       "layout": {
        "template": {
         "data": {
          "histogram2dcontour": [
           {
            "type": "histogram2dcontour",
            "colorbar": {
             "outlinewidth": 0,
             "ticks": ""
            },
            "colorscale": [
             [
              0,
              "#0d0887"
             ],
             [
              0.1111111111111111,
              "#46039f"
             ],
             [
              0.2222222222222222,
              "#7201a8"
             ],
             [
              0.3333333333333333,
              "#9c179e"
             ],
             [
              0.4444444444444444,
              "#bd3786"
             ],
             [
              0.5555555555555556,
              "#d8576b"
             ],
             [
              0.6666666666666666,
              "#ed7953"
             ],
             [
              0.7777777777777778,
              "#fb9f3a"
             ],
             [
              0.8888888888888888,
              "#fdca26"
             ],
             [
              1,
              "#f0f921"
             ]
            ]
           }
          ],
          "choropleth": [
           {
            "type": "choropleth",
            "colorbar": {
             "outlinewidth": 0,
             "ticks": ""
            }
           }
          ],
          "histogram2d": [
           {
            "type": "histogram2d",
            "colorbar": {
             "outlinewidth": 0,
             "ticks": ""
            },
            "colorscale": [
             [
              0,
              "#0d0887"
             ],
             [
              0.1111111111111111,
              "#46039f"
             ],
             [
              0.2222222222222222,
              "#7201a8"
             ],
             [
              0.3333333333333333,
              "#9c179e"
             ],
             [
              0.4444444444444444,
              "#bd3786"
             ],
             [
              0.5555555555555556,
              "#d8576b"
             ],
             [
              0.6666666666666666,
              "#ed7953"
             ],
             [
              0.7777777777777778,
              "#fb9f3a"
             ],
             [
              0.8888888888888888,
              "#fdca26"
             ],
             [
              1,
              "#f0f921"
             ]
            ]
           }
          ],
          "heatmap": [
           {
            "type": "heatmap",
            "colorbar": {
             "outlinewidth": 0,
             "ticks": ""
            },
            "colorscale": [
             [
              0,
              "#0d0887"
             ],
             [
              0.1111111111111111,
              "#46039f"
             ],
             [
              0.2222222222222222,
              "#7201a8"
             ],
             [
              0.3333333333333333,
              "#9c179e"
             ],
             [
              0.4444444444444444,
              "#bd3786"
             ],
             [
              0.5555555555555556,
              "#d8576b"
             ],
             [
              0.6666666666666666,
              "#ed7953"
             ],
             [
              0.7777777777777778,
              "#fb9f3a"
             ],
             [
              0.8888888888888888,
              "#fdca26"
             ],
             [
              1,
              "#f0f921"
             ]
            ]
           }
          ],
          "heatmapgl": [
           {
            "type": "heatmapgl",
            "colorbar": {
             "outlinewidth": 0,
             "ticks": ""
            },
            "colorscale": [
             [
              0,
              "#0d0887"
             ],
             [
              0.1111111111111111,
              "#46039f"
             ],
             [
              0.2222222222222222,
              "#7201a8"
             ],
             [
              0.3333333333333333,
              "#9c179e"
             ],
             [
              0.4444444444444444,
              "#bd3786"
             ],
             [
              0.5555555555555556,
              "#d8576b"
             ],
             [
              0.6666666666666666,
              "#ed7953"
             ],
             [
              0.7777777777777778,
              "#fb9f3a"
             ],
             [
              0.8888888888888888,
              "#fdca26"
             ],
             [
              1,
              "#f0f921"
             ]
            ]
           }
          ],
          "contourcarpet": [
           {
            "type": "contourcarpet",
            "colorbar": {
             "outlinewidth": 0,
             "ticks": ""
            }
           }
          ],
          "contour": [
           {
            "type": "contour",
            "colorbar": {
             "outlinewidth": 0,
             "ticks": ""
            },
            "colorscale": [
             [
              0,
              "#0d0887"
             ],
             [
              0.1111111111111111,
              "#46039f"
             ],
             [
              0.2222222222222222,
              "#7201a8"
             ],
             [
              0.3333333333333333,
              "#9c179e"
             ],
             [
              0.4444444444444444,
              "#bd3786"
             ],
             [
              0.5555555555555556,
              "#d8576b"
             ],
             [
              0.6666666666666666,
              "#ed7953"
             ],
             [
              0.7777777777777778,
              "#fb9f3a"
             ],
             [
              0.8888888888888888,
              "#fdca26"
             ],
             [
              1,
              "#f0f921"
             ]
            ]
           }
          ],
          "surface": [
           {
            "type": "surface",
            "colorbar": {
             "outlinewidth": 0,
             "ticks": ""
            },
            "colorscale": [
             [
              0,
              "#0d0887"
             ],
             [
              0.1111111111111111,
              "#46039f"
             ],
             [
              0.2222222222222222,
              "#7201a8"
             ],
             [
              0.3333333333333333,
              "#9c179e"
             ],
             [
              0.4444444444444444,
              "#bd3786"
             ],
             [
              0.5555555555555556,
              "#d8576b"
             ],
             [
              0.6666666666666666,
              "#ed7953"
             ],
             [
              0.7777777777777778,
              "#fb9f3a"
             ],
             [
              0.8888888888888888,
              "#fdca26"
             ],
             [
              1,
              "#f0f921"
             ]
            ]
           }
          ],
          "mesh3d": [
           {
            "type": "mesh3d",
            "colorbar": {
             "outlinewidth": 0,
             "ticks": ""
            }
           }
          ],
          "scatter": [
           {
            "fillpattern": {
             "fillmode": "overlay",
             "size": 10,
             "solidity": 0.2
            },
            "type": "scatter"
           }
          ],
          "parcoords": [
           {
            "type": "parcoords",
            "line": {
             "colorbar": {
              "outlinewidth": 0,
              "ticks": ""
             }
            }
           }
          ],
          "scatterpolargl": [
           {
            "type": "scatterpolargl",
            "marker": {
             "colorbar": {
              "outlinewidth": 0,
              "ticks": ""
             }
            }
           }
          ],
          "bar": [
           {
            "error_x": {
             "color": "#2a3f5f"
            },
            "error_y": {
             "color": "#2a3f5f"
            },
            "marker": {
             "line": {
              "color": "#E5ECF6",
              "width": 0.5
             },
             "pattern": {
              "fillmode": "overlay",
              "size": 10,
              "solidity": 0.2
             }
            },
            "type": "bar"
           }
          ],
          "scattergeo": [
           {
            "type": "scattergeo",
            "marker": {
             "colorbar": {
              "outlinewidth": 0,
              "ticks": ""
             }
            }
           }
          ],
          "scatterpolar": [
           {
            "type": "scatterpolar",
            "marker": {
             "colorbar": {
              "outlinewidth": 0,
              "ticks": ""
             }
            }
           }
          ],
          "histogram": [
           {
            "marker": {
             "pattern": {
              "fillmode": "overlay",
              "size": 10,
              "solidity": 0.2
             }
            },
            "type": "histogram"
           }
          ],
          "scattergl": [
           {
            "type": "scattergl",
            "marker": {
             "colorbar": {
              "outlinewidth": 0,
              "ticks": ""
             }
            }
           }
          ],
          "scatter3d": [
           {
            "type": "scatter3d",
            "line": {
             "colorbar": {
              "outlinewidth": 0,
              "ticks": ""
             }
            },
            "marker": {
             "colorbar": {
              "outlinewidth": 0,
              "ticks": ""
             }
            }
           }
          ],
          "scattermapbox": [
           {
            "type": "scattermapbox",
            "marker": {
             "colorbar": {
              "outlinewidth": 0,
              "ticks": ""
             }
            }
           }
          ],
          "scatterternary": [
           {
            "type": "scatterternary",
            "marker": {
             "colorbar": {
              "outlinewidth": 0,
              "ticks": ""
             }
            }
           }
          ],
          "scattercarpet": [
           {
            "type": "scattercarpet",
            "marker": {
             "colorbar": {
              "outlinewidth": 0,
              "ticks": ""
             }
            }
           }
          ],
          "carpet": [
           {
            "aaxis": {
             "endlinecolor": "#2a3f5f",
             "gridcolor": "white",
             "linecolor": "white",
             "minorgridcolor": "white",
             "startlinecolor": "#2a3f5f"
            },
            "baxis": {
             "endlinecolor": "#2a3f5f",
             "gridcolor": "white",
             "linecolor": "white",
             "minorgridcolor": "white",
             "startlinecolor": "#2a3f5f"
            },
            "type": "carpet"
           }
          ],
          "table": [
           {
            "cells": {
             "fill": {
              "color": "#EBF0F8"
             },
             "line": {
              "color": "white"
             }
            },
            "header": {
             "fill": {
              "color": "#C8D4E3"
             },
             "line": {
              "color": "white"
             }
            },
            "type": "table"
           }
          ],
          "barpolar": [
           {
            "marker": {
             "line": {
              "color": "#E5ECF6",
              "width": 0.5
             },
             "pattern": {
              "fillmode": "overlay",
              "size": 10,
              "solidity": 0.2
             }
            },
            "type": "barpolar"
           }
          ],
          "pie": [
           {
            "automargin": true,
            "type": "pie"
           }
          ]
         },
         "layout": {
          "autotypenumbers": "strict",
          "colorway": [
           "#636efa",
           "#EF553B",
           "#00cc96",
           "#ab63fa",
           "#FFA15A",
           "#19d3f3",
           "#FF6692",
           "#B6E880",
           "#FF97FF",
           "#FECB52"
          ],
          "font": {
           "color": "#2a3f5f"
          },
          "hovermode": "closest",
          "hoverlabel": {
           "align": "left"
          },
          "paper_bgcolor": "white",
          "plot_bgcolor": "#E5ECF6",
          "polar": {
           "bgcolor": "#E5ECF6",
           "angularaxis": {
            "gridcolor": "white",
            "linecolor": "white",
            "ticks": ""
           },
           "radialaxis": {
            "gridcolor": "white",
            "linecolor": "white",
            "ticks": ""
           }
          },
          "ternary": {
           "bgcolor": "#E5ECF6",
           "aaxis": {
            "gridcolor": "white",
            "linecolor": "white",
            "ticks": ""
           },
           "baxis": {
            "gridcolor": "white",
            "linecolor": "white",
            "ticks": ""
           },
           "caxis": {
            "gridcolor": "white",
            "linecolor": "white",
            "ticks": ""
           }
          },
          "coloraxis": {
           "colorbar": {
            "outlinewidth": 0,
            "ticks": ""
           }
          },
          "colorscale": {
           "sequential": [
            [
             0,
             "#0d0887"
            ],
            [
             0.1111111111111111,
             "#46039f"
            ],
            [
             0.2222222222222222,
             "#7201a8"
            ],
            [
             0.3333333333333333,
             "#9c179e"
            ],
            [
             0.4444444444444444,
             "#bd3786"
            ],
            [
             0.5555555555555556,
             "#d8576b"
            ],
            [
             0.6666666666666666,
             "#ed7953"
            ],
            [
             0.7777777777777778,
             "#fb9f3a"
            ],
            [
             0.8888888888888888,
             "#fdca26"
            ],
            [
             1,
             "#f0f921"
            ]
           ],
           "sequentialminus": [
            [
             0,
             "#0d0887"
            ],
            [
             0.1111111111111111,
             "#46039f"
            ],
            [
             0.2222222222222222,
             "#7201a8"
            ],
            [
             0.3333333333333333,
             "#9c179e"
            ],
            [
             0.4444444444444444,
             "#bd3786"
            ],
            [
             0.5555555555555556,
             "#d8576b"
            ],
            [
             0.6666666666666666,
             "#ed7953"
            ],
            [
             0.7777777777777778,
             "#fb9f3a"
            ],
            [
             0.8888888888888888,
             "#fdca26"
            ],
            [
             1,
             "#f0f921"
            ]
           ],
           "diverging": [
            [
             0,
             "#8e0152"
            ],
            [
             0.1,
             "#c51b7d"
            ],
            [
             0.2,
             "#de77ae"
            ],
            [
             0.3,
             "#f1b6da"
            ],
            [
             0.4,
             "#fde0ef"
            ],
            [
             0.5,
             "#f7f7f7"
            ],
            [
             0.6,
             "#e6f5d0"
            ],
            [
             0.7,
             "#b8e186"
            ],
            [
             0.8,
             "#7fbc41"
            ],
            [
             0.9,
             "#4d9221"
            ],
            [
             1,
             "#276419"
            ]
           ]
          },
          "xaxis": {
           "gridcolor": "white",
           "linecolor": "white",
           "ticks": "",
           "title": {
            "standoff": 15
           },
           "zerolinecolor": "white",
           "automargin": true,
           "zerolinewidth": 2
          },
          "yaxis": {
           "gridcolor": "white",
           "linecolor": "white",
           "ticks": "",
           "title": {
            "standoff": 15
           },
           "zerolinecolor": "white",
           "automargin": true,
           "zerolinewidth": 2
          },
          "scene": {
           "xaxis": {
            "backgroundcolor": "#E5ECF6",
            "gridcolor": "white",
            "linecolor": "white",
            "showbackground": true,
            "ticks": "",
            "zerolinecolor": "white",
            "gridwidth": 2
           },
           "yaxis": {
            "backgroundcolor": "#E5ECF6",
            "gridcolor": "white",
            "linecolor": "white",
            "showbackground": true,
            "ticks": "",
            "zerolinecolor": "white",
            "gridwidth": 2
           },
           "zaxis": {
            "backgroundcolor": "#E5ECF6",
            "gridcolor": "white",
            "linecolor": "white",
            "showbackground": true,
            "ticks": "",
            "zerolinecolor": "white",
            "gridwidth": 2
           }
          },
          "shapedefaults": {
           "line": {
            "color": "#2a3f5f"
           }
          },
          "annotationdefaults": {
           "arrowcolor": "#2a3f5f",
           "arrowhead": 0,
           "arrowwidth": 1
          },
          "geo": {
           "bgcolor": "white",
           "landcolor": "#E5ECF6",
           "subunitcolor": "white",
           "showland": true,
           "showlakes": true,
           "lakecolor": "white"
          },
          "title": {
           "x": 0.05
          },
          "mapbox": {
           "style": "light"
          }
         }
        },
        "xaxis": {
         "anchor": "y",
         "domain": [
          0,
          1
         ],
         "title": {
          "text": "Date"
         }
        },
        "yaxis": {
         "anchor": "x",
         "domain": [
          0,
          1
         ],
         "title": {
          "text": "Marketcap"
         }
        },
        "legend": {
         "tracegroupgap": 0
        },
        "margin": {
         "t": 60
        }
       },
       "config": {
        "plotlyServerURL": "https://plot.ly"
       }
      }
     },
     "metadata": {}
    }
   ],
   "metadata": {}
  },
  {
   "cell_type": "code",
   "execution_count": 14,
   "source": [
    "fig = px.line(data, x='Date', y=\"Difference\")\n",
    "fig.show();"
   ],
   "outputs": [
    {
     "output_type": "display_data",
     "data": {
      "application/vnd.plotly.v1+json": {
       "data": [
        {
         "hovertemplate": "Date=%{x}<br>Difference=%{y}<extra></extra>",
         "legendgroup": "",
         "line": {
          "color": "#636efa",
          "dash": "solid"
         },
         "marker": {
          "symbol": "circle"
         },
         "mode": "lines",
         "name": "",
         "orientation": "v",
         "showlegend": false,
         "x": [
          "2020-09-18T23:59:59",
          "2020-09-19T23:59:59",
          "2020-09-20T23:59:59",
          "2020-09-21T23:59:59",
          "2020-09-22T23:59:59",
          "2020-09-23T23:59:59",
          "2020-09-24T23:59:59",
          "2020-09-25T23:59:59",
          "2020-09-26T23:59:59",
          "2020-09-27T23:59:59",
          "2020-09-28T23:59:59",
          "2020-09-29T23:59:59",
          "2020-09-30T23:59:59",
          "2020-10-01T23:59:59",
          "2020-10-02T23:59:59",
          "2020-10-03T23:59:59",
          "2020-10-04T23:59:59",
          "2020-10-05T23:59:59",
          "2020-10-06T23:59:59",
          "2020-10-07T23:59:59",
          "2020-10-08T23:59:59",
          "2020-10-09T23:59:59",
          "2020-10-10T23:59:59",
          "2020-10-11T23:59:59",
          "2020-10-12T23:59:59",
          "2020-10-13T23:59:59",
          "2020-10-14T23:59:59",
          "2020-10-15T23:59:59",
          "2020-10-16T23:59:59",
          "2020-10-17T23:59:59",
          "2020-10-18T23:59:59",
          "2020-10-19T23:59:59",
          "2020-10-20T23:59:59",
          "2020-10-21T23:59:59",
          "2020-10-22T23:59:59",
          "2020-10-23T23:59:59",
          "2020-10-24T23:59:59",
          "2020-10-25T23:59:59",
          "2020-10-26T23:59:59",
          "2020-10-27T23:59:59",
          "2020-10-28T23:59:59",
          "2020-10-29T23:59:59",
          "2020-10-30T23:59:59",
          "2020-10-31T23:59:59",
          "2020-11-01T23:59:59",
          "2020-11-02T23:59:59",
          "2020-11-03T23:59:59",
          "2020-11-04T23:59:59",
          "2020-11-05T23:59:59",
          "2020-11-06T23:59:59",
          "2020-11-07T23:59:59",
          "2020-11-08T23:59:59",
          "2020-11-09T23:59:59",
          "2020-11-10T23:59:59",
          "2020-11-11T23:59:59",
          "2020-11-12T23:59:59",
          "2020-11-13T23:59:59",
          "2020-11-14T23:59:59",
          "2020-11-15T23:59:59",
          "2020-11-16T23:59:59",
          "2020-11-17T23:59:59",
          "2020-11-18T23:59:59",
          "2020-11-19T23:59:59",
          "2020-11-20T23:59:59",
          "2020-11-21T23:59:59",
          "2020-11-22T23:59:59",
          "2020-11-23T23:59:59",
          "2020-11-24T23:59:59",
          "2020-11-25T23:59:59",
          "2020-11-26T23:59:59",
          "2020-11-27T23:59:59",
          "2020-11-28T23:59:59",
          "2020-11-29T23:59:59",
          "2020-11-30T23:59:59",
          "2020-12-01T23:59:59",
          "2020-12-02T23:59:59",
          "2020-12-03T23:59:59",
          "2020-12-04T23:59:59",
          "2020-12-05T23:59:59",
          "2020-12-06T23:59:59",
          "2020-12-07T23:59:59",
          "2020-12-08T23:59:59",
          "2020-12-09T23:59:59",
          "2020-12-10T23:59:59",
          "2020-12-11T23:59:59",
          "2020-12-12T23:59:59",
          "2020-12-13T23:59:59",
          "2020-12-14T23:59:59",
          "2020-12-15T23:59:59",
          "2020-12-16T23:59:59",
          "2020-12-17T23:59:59",
          "2020-12-18T23:59:59",
          "2020-12-19T23:59:59",
          "2020-12-20T23:59:59",
          "2020-12-21T23:59:59",
          "2020-12-22T23:59:59",
          "2020-12-23T23:59:59",
          "2020-12-24T23:59:59",
          "2020-12-25T23:59:59",
          "2020-12-26T23:59:59",
          "2020-12-27T23:59:59",
          "2020-12-28T23:59:59",
          "2020-12-29T23:59:59",
          "2020-12-30T23:59:59",
          "2020-12-31T23:59:59",
          "2021-01-01T23:59:59",
          "2021-01-02T23:59:59",
          "2021-01-03T23:59:59",
          "2021-01-04T23:59:59",
          "2021-01-05T23:59:59",
          "2021-01-06T23:59:59",
          "2021-01-07T23:59:59",
          "2021-01-08T23:59:59",
          "2021-01-09T23:59:59",
          "2021-01-10T23:59:59",
          "2021-01-11T23:59:59",
          "2021-01-12T23:59:59",
          "2021-01-13T23:59:59",
          "2021-01-14T23:59:59",
          "2021-01-15T23:59:59",
          "2021-01-16T23:59:59",
          "2021-01-17T23:59:59",
          "2021-01-18T23:59:59",
          "2021-01-19T23:59:59",
          "2021-01-20T23:59:59",
          "2021-01-21T23:59:59",
          "2021-01-22T23:59:59",
          "2021-01-23T23:59:59",
          "2021-01-24T23:59:59",
          "2021-01-25T23:59:59",
          "2021-01-26T23:59:59",
          "2021-01-27T23:59:59",
          "2021-01-28T23:59:59",
          "2021-01-29T23:59:59",
          "2021-01-30T23:59:59",
          "2021-01-31T23:59:59",
          "2021-02-01T23:59:59",
          "2021-02-02T23:59:59",
          "2021-02-03T23:59:59",
          "2021-02-04T23:59:59",
          "2021-02-05T23:59:59",
          "2021-02-06T23:59:59",
          "2021-02-07T23:59:59",
          "2021-02-08T23:59:59",
          "2021-02-09T23:59:59",
          "2021-02-10T23:59:59",
          "2021-02-11T23:59:59",
          "2021-02-12T23:59:59",
          "2021-02-13T23:59:59",
          "2021-02-14T23:59:59",
          "2021-02-15T23:59:59",
          "2021-02-16T23:59:59",
          "2021-02-17T23:59:59",
          "2021-02-18T23:59:59",
          "2021-02-19T23:59:59",
          "2021-02-20T23:59:59",
          "2021-02-21T23:59:59",
          "2021-02-22T23:59:59",
          "2021-02-23T23:59:59",
          "2021-02-24T23:59:59",
          "2021-02-25T23:59:59",
          "2021-02-26T23:59:59",
          "2021-02-27T23:59:59",
          "2021-02-28T23:59:59",
          "2021-03-01T23:59:59",
          "2021-03-02T23:59:59",
          "2021-03-03T23:59:59",
          "2021-03-04T23:59:59",
          "2021-03-05T23:59:59",
          "2021-03-06T23:59:59",
          "2021-03-07T23:59:59",
          "2021-03-08T23:59:59",
          "2021-03-09T23:59:59",
          "2021-03-10T23:59:59",
          "2021-03-11T23:59:59",
          "2021-03-12T23:59:59",
          "2021-03-13T23:59:59",
          "2021-03-14T23:59:59",
          "2021-03-15T23:59:59",
          "2021-03-16T23:59:59",
          "2021-03-17T23:59:59",
          "2021-03-18T23:59:59",
          "2021-03-19T23:59:59",
          "2021-03-20T23:59:59",
          "2021-03-21T23:59:59",
          "2021-03-22T23:59:59",
          "2021-03-23T23:59:59",
          "2021-03-24T23:59:59",
          "2021-03-25T23:59:59",
          "2021-03-26T23:59:59",
          "2021-03-27T23:59:59",
          "2021-03-28T23:59:59",
          "2021-03-29T23:59:59",
          "2021-03-30T23:59:59",
          "2021-03-31T23:59:59",
          "2021-04-01T23:59:59",
          "2021-04-02T23:59:59",
          "2021-04-03T23:59:59",
          "2021-04-04T23:59:59",
          "2021-04-05T23:59:59",
          "2021-04-06T23:59:59",
          "2021-04-07T23:59:59",
          "2021-04-08T23:59:59",
          "2021-04-09T23:59:59",
          "2021-04-10T23:59:59",
          "2021-04-11T23:59:59",
          "2021-04-12T23:59:59",
          "2021-04-13T23:59:59",
          "2021-04-14T23:59:59",
          "2021-04-15T23:59:59",
          "2021-04-16T23:59:59",
          "2021-04-17T23:59:59",
          "2021-04-18T23:59:59",
          "2021-04-19T23:59:59",
          "2021-04-20T23:59:59",
          "2021-04-21T23:59:59",
          "2021-04-22T23:59:59",
          "2021-04-23T23:59:59",
          "2021-04-24T23:59:59",
          "2021-04-25T23:59:59",
          "2021-04-26T23:59:59",
          "2021-04-27T23:59:59",
          "2021-04-28T23:59:59",
          "2021-04-29T23:59:59",
          "2021-04-30T23:59:59",
          "2021-05-01T23:59:59",
          "2021-05-02T23:59:59",
          "2021-05-03T23:59:59",
          "2021-05-04T23:59:59",
          "2021-05-05T23:59:59",
          "2021-05-06T23:59:59",
          "2021-05-07T23:59:59",
          "2021-05-08T23:59:59",
          "2021-05-09T23:59:59",
          "2021-05-10T23:59:59",
          "2021-05-11T23:59:59",
          "2021-05-12T23:59:59",
          "2021-05-13T23:59:59",
          "2021-05-14T23:59:59",
          "2021-05-15T23:59:59",
          "2021-05-16T23:59:59",
          "2021-05-17T23:59:59",
          "2021-05-18T23:59:59",
          "2021-05-19T23:59:59",
          "2021-05-20T23:59:59",
          "2021-05-21T23:59:59",
          "2021-05-22T23:59:59",
          "2021-05-23T23:59:59",
          "2021-05-24T23:59:59",
          "2021-05-25T23:59:59",
          "2021-05-26T23:59:59",
          "2021-05-27T23:59:59",
          "2021-05-28T23:59:59",
          "2021-05-29T23:59:59",
          "2021-05-30T23:59:59",
          "2021-05-31T23:59:59",
          "2021-06-01T23:59:59",
          "2021-06-02T23:59:59",
          "2021-06-03T23:59:59",
          "2021-06-04T23:59:59",
          "2021-06-05T23:59:59",
          "2021-06-06T23:59:59",
          "2021-06-07T23:59:59",
          "2021-06-08T23:59:59",
          "2021-06-09T23:59:59",
          "2021-06-10T23:59:59",
          "2021-06-11T23:59:59",
          "2021-06-12T23:59:59",
          "2021-06-13T23:59:59",
          "2021-06-14T23:59:59",
          "2021-06-15T23:59:59",
          "2021-06-16T23:59:59",
          "2021-06-17T23:59:59",
          "2021-06-18T23:59:59",
          "2021-06-19T23:59:59",
          "2021-06-20T23:59:59",
          "2021-06-21T23:59:59",
          "2021-06-22T23:59:59",
          "2021-06-23T23:59:59",
          "2021-06-24T23:59:59",
          "2021-06-25T23:59:59",
          "2021-06-26T23:59:59",
          "2021-06-27T23:59:59",
          "2021-06-28T23:59:59",
          "2021-06-29T23:59:59",
          "2021-06-30T23:59:59",
          "2021-07-01T23:59:59",
          "2021-07-02T23:59:59",
          "2021-07-03T23:59:59",
          "2021-07-04T23:59:59",
          "2021-07-05T23:59:59",
          "2021-07-06T23:59:59"
         ],
         "xaxis": "x",
         "y": [
          3.40910386037,
          -1.22111279833,
          -0.4763193226800002,
          -0.9781169295499996,
          -0.3698757972200002,
          0.7353207999999998,
          0.6886901500000002,
          -0.14749429999999997,
          -0.20546788999999954,
          -0.02137046999999992,
          -0.5934509000000006,
          0.2294063900000003,
          -0.4351670600000004,
          0.2458124099999992,
          -0.4759014899999996,
          0.00801003999999983,
          -0.12872210000000006,
          -0.24972000999999988,
          -0.5826421900000001,
          -0.04225859999999981,
          0.47297988,
          -0.18829269999999987,
          0.24971524,
          0.056001009999999685,
          -0.11875917000000014,
          0.2355927200000001,
          -0.4181552799999997,
          -0.17039976,
          0.12659385000000034,
          -0.03669080999999963,
          0.27177865999999984,
          -0.09701125999999993,
          -0.30378266,
          0.07947636999999963,
          0.0986022000000002,
          -0.03188271000000009,
          -0.06893305999999999,
          -0.1675101200000002,
          -0.04984444999999971,
          0.09649598999999975,
          -0.14628284999999996,
          -0.13449990000000023,
          -0.1274495899999999,
          -0.14773968000000037,
          0.1128775799999997,
          -0.12504545999999994,
          -0.1199408700000002,
          -0.20420605999999997,
          0.27600590999999985,
          0.3446795800000002,
          -0.08429886000000009,
          0.3821205299999999,
          -0.1717538700000003,
          0.3306795199999999,
          -0.09516886999999974,
          0.017767089999999985,
          0.9495172600000004,
          -0.07055230000000012,
          0.05290041999999984,
          -0.25799581999999965,
          0.04421968999999981,
          -0.33978920000000024,
          0.2693800399999997,
          0.10785370999999966,
          -0.02868402999999997,
          -0.15317692000000038,
          0.5298246100000004,
          -0.12227531000000003,
          -0.3815298899999999,
          -0.25051837,
          -0.11711120000000008,
          0.1527244699999999,
          0.08179066999999973,
          0.21713064000000015,
          -0.21719909999999976,
          0.38188237999999997,
          -0.048087830000000054,
          -0.36413597,
          0.15353856999999982,
          -0.028762160000000314,
          0.11151328999999999,
          -0.47923994999999975,
          0.07001080999999987,
          -0.11222224999999986,
          -0.2717554400000002,
          0.15238422000000007,
          0.2148850099999997,
          0.14670442000000028,
          -0.15279253999999964,
          0.19737063999999993,
          0.16278570000000014,
          0.07459685000000027,
          0.19841684000000015,
          -0.19791058000000028,
          -0.24296698999999977,
          0.2104187500000001,
          -0.4153837800000004,
          0.2058946500000003,
          -0.017783749999999987,
          -0.0965972100000001,
          0.18774837,
          0.1334909999999998,
          -0.056741249999999965,
          0.47022739000000024,
          1.03111628,
          -0.4306120299999998,
          0.11061110000000074,
          0.6003768100000002,
          -0.06725679000000007,
          0.8602136800000002,
          0.1254520699999997,
          -0.14306973000000056,
          -0.37879987999999987,
          0.3625707700000005,
          -0.25848358000000005,
          -0.7407984399999998,
          0.30042495,
          0.7801063499999996,
          0.5455220000000001,
          0.4620619699999997,
          1.0605104,
          0.23180194999999948,
          0.5501303600000007,
          -0.5662328300000006,
          0.3593400400000011,
          -1.3836257799999991,
          1.1265197699999998,
          0.5988378300000008,
          2.73708519,
          -0.6756464099999988,
          2.5005329200000013,
          0.973356149999999,
          -0.6203084699999994,
          1.5179290699999992,
          3.784885369999998,
          -1.8203767699999993,
          2.716317059999998,
          -1.3477293800000005,
          0.7034740900000003,
          0.36995496000000117,
          1.0457809900000008,
          -1.87749144,
          -0.5954756299999993,
          0.6745759800000002,
          0.18281252999999964,
          1.219647590000001,
          0.8305682899999987,
          1.2050263500000007,
          -0.92507582,
          -0.875549079999999,
          -0.8385447100000007,
          0.41318311999999935,
          1.0246787399999988,
          -0.32633480999999875,
          -1.1082705999999973,
          9.06774094,
          -0.08083543999999776,
          -1.0990832700000013,
          -3.1315686900000017,
          0.6032665799999997,
          -1.9743812300000023,
          -0.3417933899999994,
          0.3557286099999999,
          -1.3184675500000012,
          3.2261396200000014,
          0.11577403000000075,
          -0.1200286900000016,
          2.8334918400000006,
          0.09386290999999858,
          0.16592494000000002,
          5.762161739999996,
          -0.9899645799999988,
          -0.42615155000000016,
          -1.9090854999999998,
          0.12057619999999858,
          -0.03380828999999963,
          1.54795674,
          -1.7131476799999987,
          -0.9374907199999996,
          0.09932589999999664,
          1.39625676,
          -1.2203956500000004,
          3.245462100000001,
          -1.13088956,
          0.46968751,
          0.2397832500000021,
          -1.82821504,
          -3.458939430000001,
          -0.7610500000000009,
          2.3185020399999985,
          -0.7947967300000016,
          -0.2956816800000013,
          1.2830785900000024,
          -0.6310573800000014,
          -0.4994752499999997,
          0.7545759999999966,
          1.4388416900000003,
          -0.613365899999998,
          1.5286194500000008,
          -0.27706022000000274,
          0.5045752099999987,
          -2.6981844499999994,
          1.608733260000001,
          -0.6570155300000025,
          0.23797434999999822,
          0.20916811999999751,
          6.786364559999999,
          -1.354205399999998,
          0.7474364900000054,
          1.7077931999999976,
          -1.4843330100000003,
          -1.1388516299999978,
          -3.405848640000002,
          -0.1879033200000002,
          0.5762206699999979,
          1.6194438499999997,
          0.7091842499999998,
          -1.1223811300000008,
          -2.823211160000003,
          3.7546639199999987,
          3.6074932100000012,
          1.4268494499999989,
          3.174896310000001,
          -1.8160515400000037,
          -0.34266252999999836,
          -0.4421787899999998,
          1.9979690300000001,
          -0.23978233999999787,
          0.8748309899999995,
          -0.5871370500000026,
          -2.2247319599999997,
          -0.4507253800000015,
          0.646344599999999,
          -1.0444174300000029,
          -3.0344533600000005,
          2.138385029999995,
          -2.4785969400000027,
          0.4079325999999952,
          2.9876983799999977,
          -3.8231816900000055,
          0.00811567000000224,
          -3.27732692,
          1.8258208100000033,
          -11.643256159999996,
          3.2317311399999973,
          -4.454249900000001,
          -1.5811364099999992,
          -3.5442522399999987,
          7.891315670000001,
          0.5378531899999999,
          4.204755599999999,
          -1.08132363,
          -2.5495349900000015,
          -2.7180820499999996,
          2.566841710000002,
          2.6520667600000003,
          -0.8794136700000017,
          0.2180353100000012,
          0.98862162,
          -2.2349388100000027,
          -0.8538833799999992,
          0.2662550099999983,
          -1.708058710000003,
          -0.7469575299999995,
          1.6881895600000014,
          -1.5220604400000006,
          -1.757951509999998,
          -0.5523358800000011,
          1.96572909,
          0.14554099999999792,
          0.0744676300000009,
          -1.6258682400000026,
          0.3022037399999995,
          -1.793172460000001,
          -0.5106089999999988,
          0.962621470000002,
          -4.890867649999999,
          0.5774637900000013,
          1.467902389999999,
          0.24019540000000106,
          -2.156874759999999,
          0.23349780999999936,
          0.9453853099999989,
          0.587648650000002,
          0.819080360000001,
          0.6339850000000027,
          -1.4074992300000027,
          0.4086541700000019,
          1.2974182499999998,
          1.2919385599999984,
          -0.6722377500000007,
          2.311795659999998
         ],
         "yaxis": "y",
         "type": "scatter"
        }
       ],
       "layout": {
        "template": {
         "data": {
          "histogram2dcontour": [
           {
            "type": "histogram2dcontour",
            "colorbar": {
             "outlinewidth": 0,
             "ticks": ""
            },
            "colorscale": [
             [
              0,
              "#0d0887"
             ],
             [
              0.1111111111111111,
              "#46039f"
             ],
             [
              0.2222222222222222,
              "#7201a8"
             ],
             [
              0.3333333333333333,
              "#9c179e"
             ],
             [
              0.4444444444444444,
              "#bd3786"
             ],
             [
              0.5555555555555556,
              "#d8576b"
             ],
             [
              0.6666666666666666,
              "#ed7953"
             ],
             [
              0.7777777777777778,
              "#fb9f3a"
             ],
             [
              0.8888888888888888,
              "#fdca26"
             ],
             [
              1,
              "#f0f921"
             ]
            ]
           }
          ],
          "choropleth": [
           {
            "type": "choropleth",
            "colorbar": {
             "outlinewidth": 0,
             "ticks": ""
            }
           }
          ],
          "histogram2d": [
           {
            "type": "histogram2d",
            "colorbar": {
             "outlinewidth": 0,
             "ticks": ""
            },
            "colorscale": [
             [
              0,
              "#0d0887"
             ],
             [
              0.1111111111111111,
              "#46039f"
             ],
             [
              0.2222222222222222,
              "#7201a8"
             ],
             [
              0.3333333333333333,
              "#9c179e"
             ],
             [
              0.4444444444444444,
              "#bd3786"
             ],
             [
              0.5555555555555556,
              "#d8576b"
             ],
             [
              0.6666666666666666,
              "#ed7953"
             ],
             [
              0.7777777777777778,
              "#fb9f3a"
             ],
             [
              0.8888888888888888,
              "#fdca26"
             ],
             [
              1,
              "#f0f921"
             ]
            ]
           }
          ],
          "heatmap": [
           {
            "type": "heatmap",
            "colorbar": {
             "outlinewidth": 0,
             "ticks": ""
            },
            "colorscale": [
             [
              0,
              "#0d0887"
             ],
             [
              0.1111111111111111,
              "#46039f"
             ],
             [
              0.2222222222222222,
              "#7201a8"
             ],
             [
              0.3333333333333333,
              "#9c179e"
             ],
             [
              0.4444444444444444,
              "#bd3786"
             ],
             [
              0.5555555555555556,
              "#d8576b"
             ],
             [
              0.6666666666666666,
              "#ed7953"
             ],
             [
              0.7777777777777778,
              "#fb9f3a"
             ],
             [
              0.8888888888888888,
              "#fdca26"
             ],
             [
              1,
              "#f0f921"
             ]
            ]
           }
          ],
          "heatmapgl": [
           {
            "type": "heatmapgl",
            "colorbar": {
             "outlinewidth": 0,
             "ticks": ""
            },
            "colorscale": [
             [
              0,
              "#0d0887"
             ],
             [
              0.1111111111111111,
              "#46039f"
             ],
             [
              0.2222222222222222,
              "#7201a8"
             ],
             [
              0.3333333333333333,
              "#9c179e"
             ],
             [
              0.4444444444444444,
              "#bd3786"
             ],
             [
              0.5555555555555556,
              "#d8576b"
             ],
             [
              0.6666666666666666,
              "#ed7953"
             ],
             [
              0.7777777777777778,
              "#fb9f3a"
             ],
             [
              0.8888888888888888,
              "#fdca26"
             ],
             [
              1,
              "#f0f921"
             ]
            ]
           }
          ],
          "contourcarpet": [
           {
            "type": "contourcarpet",
            "colorbar": {
             "outlinewidth": 0,
             "ticks": ""
            }
           }
          ],
          "contour": [
           {
            "type": "contour",
            "colorbar": {
             "outlinewidth": 0,
             "ticks": ""
            },
            "colorscale": [
             [
              0,
              "#0d0887"
             ],
             [
              0.1111111111111111,
              "#46039f"
             ],
             [
              0.2222222222222222,
              "#7201a8"
             ],
             [
              0.3333333333333333,
              "#9c179e"
             ],
             [
              0.4444444444444444,
              "#bd3786"
             ],
             [
              0.5555555555555556,
              "#d8576b"
             ],
             [
              0.6666666666666666,
              "#ed7953"
             ],
             [
              0.7777777777777778,
              "#fb9f3a"
             ],
             [
              0.8888888888888888,
              "#fdca26"
             ],
             [
              1,
              "#f0f921"
             ]
            ]
           }
          ],
          "surface": [
           {
            "type": "surface",
            "colorbar": {
             "outlinewidth": 0,
             "ticks": ""
            },
            "colorscale": [
             [
              0,
              "#0d0887"
             ],
             [
              0.1111111111111111,
              "#46039f"
             ],
             [
              0.2222222222222222,
              "#7201a8"
             ],
             [
              0.3333333333333333,
              "#9c179e"
             ],
             [
              0.4444444444444444,
              "#bd3786"
             ],
             [
              0.5555555555555556,
              "#d8576b"
             ],
             [
              0.6666666666666666,
              "#ed7953"
             ],
             [
              0.7777777777777778,
              "#fb9f3a"
             ],
             [
              0.8888888888888888,
              "#fdca26"
             ],
             [
              1,
              "#f0f921"
             ]
            ]
           }
          ],
          "mesh3d": [
           {
            "type": "mesh3d",
            "colorbar": {
             "outlinewidth": 0,
             "ticks": ""
            }
           }
          ],
          "scatter": [
           {
            "fillpattern": {
             "fillmode": "overlay",
             "size": 10,
             "solidity": 0.2
            },
            "type": "scatter"
           }
          ],
          "parcoords": [
           {
            "type": "parcoords",
            "line": {
             "colorbar": {
              "outlinewidth": 0,
              "ticks": ""
             }
            }
           }
          ],
          "scatterpolargl": [
           {
            "type": "scatterpolargl",
            "marker": {
             "colorbar": {
              "outlinewidth": 0,
              "ticks": ""
             }
            }
           }
          ],
          "bar": [
           {
            "error_x": {
             "color": "#2a3f5f"
            },
            "error_y": {
             "color": "#2a3f5f"
            },
            "marker": {
             "line": {
              "color": "#E5ECF6",
              "width": 0.5
             },
             "pattern": {
              "fillmode": "overlay",
              "size": 10,
              "solidity": 0.2
             }
            },
            "type": "bar"
           }
          ],
          "scattergeo": [
           {
            "type": "scattergeo",
            "marker": {
             "colorbar": {
              "outlinewidth": 0,
              "ticks": ""
             }
            }
           }
          ],
          "scatterpolar": [
           {
            "type": "scatterpolar",
            "marker": {
             "colorbar": {
              "outlinewidth": 0,
              "ticks": ""
             }
            }
           }
          ],
          "histogram": [
           {
            "marker": {
             "pattern": {
              "fillmode": "overlay",
              "size": 10,
              "solidity": 0.2
             }
            },
            "type": "histogram"
           }
          ],
          "scattergl": [
           {
            "type": "scattergl",
            "marker": {
             "colorbar": {
              "outlinewidth": 0,
              "ticks": ""
             }
            }
           }
          ],
          "scatter3d": [
           {
            "type": "scatter3d",
            "line": {
             "colorbar": {
              "outlinewidth": 0,
              "ticks": ""
             }
            },
            "marker": {
             "colorbar": {
              "outlinewidth": 0,
              "ticks": ""
             }
            }
           }
          ],
          "scattermapbox": [
           {
            "type": "scattermapbox",
            "marker": {
             "colorbar": {
              "outlinewidth": 0,
              "ticks": ""
             }
            }
           }
          ],
          "scatterternary": [
           {
            "type": "scatterternary",
            "marker": {
             "colorbar": {
              "outlinewidth": 0,
              "ticks": ""
             }
            }
           }
          ],
          "scattercarpet": [
           {
            "type": "scattercarpet",
            "marker": {
             "colorbar": {
              "outlinewidth": 0,
              "ticks": ""
             }
            }
           }
          ],
          "carpet": [
           {
            "aaxis": {
             "endlinecolor": "#2a3f5f",
             "gridcolor": "white",
             "linecolor": "white",
             "minorgridcolor": "white",
             "startlinecolor": "#2a3f5f"
            },
            "baxis": {
             "endlinecolor": "#2a3f5f",
             "gridcolor": "white",
             "linecolor": "white",
             "minorgridcolor": "white",
             "startlinecolor": "#2a3f5f"
            },
            "type": "carpet"
           }
          ],
          "table": [
           {
            "cells": {
             "fill": {
              "color": "#EBF0F8"
             },
             "line": {
              "color": "white"
             }
            },
            "header": {
             "fill": {
              "color": "#C8D4E3"
             },
             "line": {
              "color": "white"
             }
            },
            "type": "table"
           }
          ],
          "barpolar": [
           {
            "marker": {
             "line": {
              "color": "#E5ECF6",
              "width": 0.5
             },
             "pattern": {
              "fillmode": "overlay",
              "size": 10,
              "solidity": 0.2
             }
            },
            "type": "barpolar"
           }
          ],
          "pie": [
           {
            "automargin": true,
            "type": "pie"
           }
          ]
         },
         "layout": {
          "autotypenumbers": "strict",
          "colorway": [
           "#636efa",
           "#EF553B",
           "#00cc96",
           "#ab63fa",
           "#FFA15A",
           "#19d3f3",
           "#FF6692",
           "#B6E880",
           "#FF97FF",
           "#FECB52"
          ],
          "font": {
           "color": "#2a3f5f"
          },
          "hovermode": "closest",
          "hoverlabel": {
           "align": "left"
          },
          "paper_bgcolor": "white",
          "plot_bgcolor": "#E5ECF6",
          "polar": {
           "bgcolor": "#E5ECF6",
           "angularaxis": {
            "gridcolor": "white",
            "linecolor": "white",
            "ticks": ""
           },
           "radialaxis": {
            "gridcolor": "white",
            "linecolor": "white",
            "ticks": ""
           }
          },
          "ternary": {
           "bgcolor": "#E5ECF6",
           "aaxis": {
            "gridcolor": "white",
            "linecolor": "white",
            "ticks": ""
           },
           "baxis": {
            "gridcolor": "white",
            "linecolor": "white",
            "ticks": ""
           },
           "caxis": {
            "gridcolor": "white",
            "linecolor": "white",
            "ticks": ""
           }
          },
          "coloraxis": {
           "colorbar": {
            "outlinewidth": 0,
            "ticks": ""
           }
          },
          "colorscale": {
           "sequential": [
            [
             0,
             "#0d0887"
            ],
            [
             0.1111111111111111,
             "#46039f"
            ],
            [
             0.2222222222222222,
             "#7201a8"
            ],
            [
             0.3333333333333333,
             "#9c179e"
            ],
            [
             0.4444444444444444,
             "#bd3786"
            ],
            [
             0.5555555555555556,
             "#d8576b"
            ],
            [
             0.6666666666666666,
             "#ed7953"
            ],
            [
             0.7777777777777778,
             "#fb9f3a"
            ],
            [
             0.8888888888888888,
             "#fdca26"
            ],
            [
             1,
             "#f0f921"
            ]
           ],
           "sequentialminus": [
            [
             0,
             "#0d0887"
            ],
            [
             0.1111111111111111,
             "#46039f"
            ],
            [
             0.2222222222222222,
             "#7201a8"
            ],
            [
             0.3333333333333333,
             "#9c179e"
            ],
            [
             0.4444444444444444,
             "#bd3786"
            ],
            [
             0.5555555555555556,
             "#d8576b"
            ],
            [
             0.6666666666666666,
             "#ed7953"
            ],
            [
             0.7777777777777778,
             "#fb9f3a"
            ],
            [
             0.8888888888888888,
             "#fdca26"
            ],
            [
             1,
             "#f0f921"
            ]
           ],
           "diverging": [
            [
             0,
             "#8e0152"
            ],
            [
             0.1,
             "#c51b7d"
            ],
            [
             0.2,
             "#de77ae"
            ],
            [
             0.3,
             "#f1b6da"
            ],
            [
             0.4,
             "#fde0ef"
            ],
            [
             0.5,
             "#f7f7f7"
            ],
            [
             0.6,
             "#e6f5d0"
            ],
            [
             0.7,
             "#b8e186"
            ],
            [
             0.8,
             "#7fbc41"
            ],
            [
             0.9,
             "#4d9221"
            ],
            [
             1,
             "#276419"
            ]
           ]
          },
          "xaxis": {
           "gridcolor": "white",
           "linecolor": "white",
           "ticks": "",
           "title": {
            "standoff": 15
           },
           "zerolinecolor": "white",
           "automargin": true,
           "zerolinewidth": 2
          },
          "yaxis": {
           "gridcolor": "white",
           "linecolor": "white",
           "ticks": "",
           "title": {
            "standoff": 15
           },
           "zerolinecolor": "white",
           "automargin": true,
           "zerolinewidth": 2
          },
          "scene": {
           "xaxis": {
            "backgroundcolor": "#E5ECF6",
            "gridcolor": "white",
            "linecolor": "white",
            "showbackground": true,
            "ticks": "",
            "zerolinecolor": "white",
            "gridwidth": 2
           },
           "yaxis": {
            "backgroundcolor": "#E5ECF6",
            "gridcolor": "white",
            "linecolor": "white",
            "showbackground": true,
            "ticks": "",
            "zerolinecolor": "white",
            "gridwidth": 2
           },
           "zaxis": {
            "backgroundcolor": "#E5ECF6",
            "gridcolor": "white",
            "linecolor": "white",
            "showbackground": true,
            "ticks": "",
            "zerolinecolor": "white",
            "gridwidth": 2
           }
          },
          "shapedefaults": {
           "line": {
            "color": "#2a3f5f"
           }
          },
          "annotationdefaults": {
           "arrowcolor": "#2a3f5f",
           "arrowhead": 0,
           "arrowwidth": 1
          },
          "geo": {
           "bgcolor": "white",
           "landcolor": "#E5ECF6",
           "subunitcolor": "white",
           "showland": true,
           "showlakes": true,
           "lakecolor": "white"
          },
          "title": {
           "x": 0.05
          },
          "mapbox": {
           "style": "light"
          }
         }
        },
        "xaxis": {
         "anchor": "y",
         "domain": [
          0,
          1
         ],
         "title": {
          "text": "Date"
         }
        },
        "yaxis": {
         "anchor": "x",
         "domain": [
          0,
          1
         ],
         "title": {
          "text": "Difference"
         }
        },
        "legend": {
         "tracegroupgap": 0
        },
        "margin": {
         "t": 60
        }
       },
       "config": {
        "plotlyServerURL": "https://plot.ly"
       }
      }
     },
     "metadata": {}
    }
   ],
   "metadata": {}
  },
  {
   "cell_type": "code",
   "execution_count": 15,
   "source": [
    "sns.pairplot(data,height=4);\n"
   ],
   "outputs": [
    {
     "output_type": "display_data",
     "data": {
      "image/png": "[encoded data removed]",
      "text/plain": [
       "<Figure size 2304x2304 with 72 Axes>"
      ]
     },
     "metadata": {
      "needs_background": "light"
     }
    }
   ],
   "metadata": {}
  },
  {
   "cell_type": "code",
   "execution_count": null,
   "source": [],
   "outputs": [],
   "metadata": {}
  },
  {
   "cell_type": "code",
   "execution_count": null,
   "source": [],
   "outputs": [],
   "metadata": {}
  }
 ],
 "metadata": {
  "orig_nbformat": 4,
  "language_info": {
   "name": "python",
   "version": "3.7.11",
   "mimetype": "text/x-python",
   "codemirror_mode": {
    "name": "ipython",
    "version": 3
   },
   "pygments_lexer": "ipython3",
   "nbconvert_exporter": "python",
   "file_extension": ".py"
  },
  "kernelspec": {
   "name": "python3",
   "display_name": "Python 3.7.11 64-bit ('ih_final_project': conda)"
  },
  "interpreter": {
   "hash": "e1d7778ce60d21d945d58d36373d70956fd987987f0ca548e053d2a38b9d8628"
  }
 },
 "nbformat": 4,
 "nbformat_minor": 2
}