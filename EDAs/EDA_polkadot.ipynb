{
 "cells": [
  {
   "cell_type": "code",
   "execution_count": 1,
   "source": [
    "import pandas as pd\n",
    "import numpy as np\n",
    "import matplotlib.pyplot as plt\n",
    "import plotly.express as px\n",
    "import seaborn as sns\n"
   ],
   "outputs": [],
   "metadata": {}
  },
  {
   "cell_type": "code",
   "execution_count": 2,
   "source": [
    "import sqlite3\n",
    "conn = sqlite3.connect('../data/hist_prices.db')\n",
    "c = conn.cursor()"
   ],
   "outputs": [],
   "metadata": {}
  },
  {
   "cell_type": "code",
   "execution_count": 3,
   "source": [
    "data = pd.read_sql('''SELECT * FROM polkadot''', conn)\n",
    "data.head()"
   ],
   "outputs": [
    {
     "output_type": "execute_result",
     "data": {
      "text/html": [
       "<div>\n",
       "<style scoped>\n",
       "    .dataframe tbody tr th:only-of-type {\n",
       "        vertical-align: middle;\n",
       "    }\n",
       "\n",
       "    .dataframe tbody tr th {\n",
       "        vertical-align: top;\n",
       "    }\n",
       "\n",
       "    .dataframe thead th {\n",
       "        text-align: right;\n",
       "    }\n",
       "</style>\n",
       "<table border=\"1\" class=\"dataframe\">\n",
       "  <thead>\n",
       "    <tr style=\"text-align: right;\">\n",
       "      <th></th>\n",
       "      <th>SNo</th>\n",
       "      <th>Name</th>\n",
       "      <th>Symbol</th>\n",
       "      <th>Date</th>\n",
       "      <th>High</th>\n",
       "      <th>Low</th>\n",
       "      <th>Open</th>\n",
       "      <th>Close</th>\n",
       "      <th>Volume</th>\n",
       "      <th>Marketcap</th>\n",
       "    </tr>\n",
       "  </thead>\n",
       "  <tbody>\n",
       "    <tr>\n",
       "      <th>0</th>\n",
       "      <td>1</td>\n",
       "      <td>Polkadot</td>\n",
       "      <td>DOT</td>\n",
       "      <td>2020-08-21 23:59:59</td>\n",
       "      <td>3.090093</td>\n",
       "      <td>2.730919</td>\n",
       "      <td>2.896923</td>\n",
       "      <td>2.875028</td>\n",
       "      <td>4.931314e+07</td>\n",
       "      <td>0.0</td>\n",
       "    </tr>\n",
       "    <tr>\n",
       "      <th>1</th>\n",
       "      <td>2</td>\n",
       "      <td>Polkadot</td>\n",
       "      <td>DOT</td>\n",
       "      <td>2020-08-22 23:59:59</td>\n",
       "      <td>4.510613</td>\n",
       "      <td>2.816762</td>\n",
       "      <td>2.878570</td>\n",
       "      <td>4.484690</td>\n",
       "      <td>4.858011e+08</td>\n",
       "      <td>0.0</td>\n",
       "    </tr>\n",
       "    <tr>\n",
       "      <th>2</th>\n",
       "      <td>3</td>\n",
       "      <td>Polkadot</td>\n",
       "      <td>DOT</td>\n",
       "      <td>2020-08-23 23:59:59</td>\n",
       "      <td>4.487058</td>\n",
       "      <td>3.716271</td>\n",
       "      <td>4.487058</td>\n",
       "      <td>3.967066</td>\n",
       "      <td>3.207495e+08</td>\n",
       "      <td>0.0</td>\n",
       "    </tr>\n",
       "    <tr>\n",
       "      <th>3</th>\n",
       "      <td>4</td>\n",
       "      <td>Polkadot</td>\n",
       "      <td>DOT</td>\n",
       "      <td>2020-08-24 23:59:59</td>\n",
       "      <td>4.783158</td>\n",
       "      <td>3.812670</td>\n",
       "      <td>3.987413</td>\n",
       "      <td>4.602614</td>\n",
       "      <td>4.076902e+08</td>\n",
       "      <td>0.0</td>\n",
       "    </tr>\n",
       "    <tr>\n",
       "      <th>4</th>\n",
       "      <td>5</td>\n",
       "      <td>Polkadot</td>\n",
       "      <td>DOT</td>\n",
       "      <td>2020-08-25 23:59:59</td>\n",
       "      <td>5.760775</td>\n",
       "      <td>4.501223</td>\n",
       "      <td>4.584953</td>\n",
       "      <td>5.523393</td>\n",
       "      <td>8.988475e+08</td>\n",
       "      <td>0.0</td>\n",
       "    </tr>\n",
       "  </tbody>\n",
       "</table>\n",
       "</div>"
      ],
      "text/plain": [
       "   SNo      Name Symbol                 Date      High       Low      Open  \\\n",
       "0    1  Polkadot    DOT  2020-08-21 23:59:59  3.090093  2.730919  2.896923   \n",
       "1    2  Polkadot    DOT  2020-08-22 23:59:59  4.510613  2.816762  2.878570   \n",
       "2    3  Polkadot    DOT  2020-08-23 23:59:59  4.487058  3.716271  4.487058   \n",
       "3    4  Polkadot    DOT  2020-08-24 23:59:59  4.783158  3.812670  3.987413   \n",
       "4    5  Polkadot    DOT  2020-08-25 23:59:59  5.760775  4.501223  4.584953   \n",
       "\n",
       "      Close        Volume  Marketcap  \n",
       "0  2.875028  4.931314e+07        0.0  \n",
       "1  4.484690  4.858011e+08        0.0  \n",
       "2  3.967066  3.207495e+08        0.0  \n",
       "3  4.602614  4.076902e+08        0.0  \n",
       "4  5.523393  8.988475e+08        0.0  "
      ]
     },
     "metadata": {},
     "execution_count": 3
    }
   ],
   "metadata": {}
  },
  {
   "cell_type": "code",
   "execution_count": 4,
   "source": [
    "# Add some more features derived from the exiting ones\n",
    "data['Range'] = data.High - data.Low\n",
    "data['Difference'] = data.Close - data.Open"
   ],
   "outputs": [],
   "metadata": {}
  },
  {
   "cell_type": "code",
   "execution_count": 5,
   "source": [
    "data.drop(labels='SNo', axis=1, inplace=True)\n",
    "data.info()"
   ],
   "outputs": [
    {
     "output_type": "stream",
     "name": "stdout",
     "text": [
      "<class 'pandas.core.frame.DataFrame'>\n",
      "RangeIndex: 320 entries, 0 to 319\n",
      "Data columns (total 11 columns):\n",
      " #   Column      Non-Null Count  Dtype  \n",
      "---  ------      --------------  -----  \n",
      " 0   Name        320 non-null    object \n",
      " 1   Symbol      320 non-null    object \n",
      " 2   Date        320 non-null    object \n",
      " 3   High        320 non-null    float64\n",
      " 4   Low         320 non-null    float64\n",
      " 5   Open        320 non-null    float64\n",
      " 6   Close       320 non-null    float64\n",
      " 7   Volume      320 non-null    float64\n",
      " 8   Marketcap   320 non-null    float64\n",
      " 9   Range       320 non-null    float64\n",
      " 10  Difference  320 non-null    float64\n",
      "dtypes: float64(8), object(3)\n",
      "memory usage: 27.6+ KB\n"
     ]
    }
   ],
   "metadata": {}
  },
  {
   "cell_type": "code",
   "execution_count": 6,
   "source": [
    "#Converting Date column to Datetime\n",
    "data['Date'] = pd.to_datetime(data['Date'])"
   ],
   "outputs": [],
   "metadata": {}
  },
  {
   "cell_type": "code",
   "execution_count": 7,
   "source": [
    "data.info()"
   ],
   "outputs": [
    {
     "output_type": "stream",
     "name": "stdout",
     "text": [
      "<class 'pandas.core.frame.DataFrame'>\n",
      "RangeIndex: 320 entries, 0 to 319\n",
      "Data columns (total 11 columns):\n",
      " #   Column      Non-Null Count  Dtype         \n",
      "---  ------      --------------  -----         \n",
      " 0   Name        320 non-null    object        \n",
      " 1   Symbol      320 non-null    object        \n",
      " 2   Date        320 non-null    datetime64[ns]\n",
      " 3   High        320 non-null    float64       \n",
      " 4   Low         320 non-null    float64       \n",
      " 5   Open        320 non-null    float64       \n",
      " 6   Close       320 non-null    float64       \n",
      " 7   Volume      320 non-null    float64       \n",
      " 8   Marketcap   320 non-null    float64       \n",
      " 9   Range       320 non-null    float64       \n",
      " 10  Difference  320 non-null    float64       \n",
      "dtypes: datetime64[ns](1), float64(8), object(2)\n",
      "memory usage: 27.6+ KB\n"
     ]
    }
   ],
   "metadata": {}
  },
  {
   "cell_type": "code",
   "execution_count": 8,
   "source": [
    "data.describe()"
   ],
   "outputs": [
    {
     "output_type": "execute_result",
     "data": {
      "text/html": [
       "<div>\n",
       "<style scoped>\n",
       "    .dataframe tbody tr th:only-of-type {\n",
       "        vertical-align: middle;\n",
       "    }\n",
       "\n",
       "    .dataframe tbody tr th {\n",
       "        vertical-align: top;\n",
       "    }\n",
       "\n",
       "    .dataframe thead th {\n",
       "        text-align: right;\n",
       "    }\n",
       "</style>\n",
       "<table border=\"1\" class=\"dataframe\">\n",
       "  <thead>\n",
       "    <tr style=\"text-align: right;\">\n",
       "      <th></th>\n",
       "      <th>High</th>\n",
       "      <th>Low</th>\n",
       "      <th>Open</th>\n",
       "      <th>Close</th>\n",
       "      <th>Volume</th>\n",
       "      <th>Marketcap</th>\n",
       "      <th>Range</th>\n",
       "      <th>Difference</th>\n",
       "    </tr>\n",
       "  </thead>\n",
       "  <tbody>\n",
       "    <tr>\n",
       "      <th>count</th>\n",
       "      <td>320.000000</td>\n",
       "      <td>320.000000</td>\n",
       "      <td>320.000000</td>\n",
       "      <td>320.000000</td>\n",
       "      <td>3.200000e+02</td>\n",
       "      <td>3.200000e+02</td>\n",
       "      <td>320.000000</td>\n",
       "      <td>320.000000</td>\n",
       "    </tr>\n",
       "    <tr>\n",
       "      <th>mean</th>\n",
       "      <td>19.131720</td>\n",
       "      <td>16.957486</td>\n",
       "      <td>18.107145</td>\n",
       "      <td>18.143080</td>\n",
       "      <td>2.006507e+09</td>\n",
       "      <td>1.653354e+10</td>\n",
       "      <td>2.174233</td>\n",
       "      <td>0.035935</td>\n",
       "    </tr>\n",
       "    <tr>\n",
       "      <th>std</th>\n",
       "      <td>14.481531</td>\n",
       "      <td>12.917678</td>\n",
       "      <td>13.762707</td>\n",
       "      <td>13.735707</td>\n",
       "      <td>1.692224e+09</td>\n",
       "      <td>1.305124e+10</td>\n",
       "      <td>2.437638</td>\n",
       "      <td>1.812524</td>\n",
       "    </tr>\n",
       "    <tr>\n",
       "      <th>min</th>\n",
       "      <td>3.090093</td>\n",
       "      <td>2.730919</td>\n",
       "      <td>2.878570</td>\n",
       "      <td>2.875028</td>\n",
       "      <td>4.931314e+07</td>\n",
       "      <td>0.000000e+00</td>\n",
       "      <td>0.093394</td>\n",
       "      <td>-15.461676</td>\n",
       "    </tr>\n",
       "    <tr>\n",
       "      <th>25%</th>\n",
       "      <td>5.132771</td>\n",
       "      <td>4.648561</td>\n",
       "      <td>4.858942</td>\n",
       "      <td>4.883383</td>\n",
       "      <td>6.073563e+08</td>\n",
       "      <td>4.191878e+09</td>\n",
       "      <td>0.427919</td>\n",
       "      <td>-0.484597</td>\n",
       "    </tr>\n",
       "    <tr>\n",
       "      <th>50%</th>\n",
       "      <td>16.671923</td>\n",
       "      <td>14.862697</td>\n",
       "      <td>15.793144</td>\n",
       "      <td>15.979432</td>\n",
       "      <td>1.605773e+09</td>\n",
       "      <td>1.487376e+10</td>\n",
       "      <td>1.547449</td>\n",
       "      <td>-0.007782</td>\n",
       "    </tr>\n",
       "    <tr>\n",
       "      <th>75%</th>\n",
       "      <td>34.267825</td>\n",
       "      <td>29.942827</td>\n",
       "      <td>32.720427</td>\n",
       "      <td>32.742904</td>\n",
       "      <td>2.942210e+09</td>\n",
       "      <td>3.027253e+10</td>\n",
       "      <td>3.059609</td>\n",
       "      <td>0.479611</td>\n",
       "    </tr>\n",
       "    <tr>\n",
       "      <th>max</th>\n",
       "      <td>49.692960</td>\n",
       "      <td>42.976323</td>\n",
       "      <td>47.959780</td>\n",
       "      <td>47.945940</td>\n",
       "      <td>1.007000e+10</td>\n",
       "      <td>4.497358e+10</td>\n",
       "      <td>22.705206</td>\n",
       "      <td>7.978388</td>\n",
       "    </tr>\n",
       "  </tbody>\n",
       "</table>\n",
       "</div>"
      ],
      "text/plain": [
       "             High         Low        Open       Close        Volume  \\\n",
       "count  320.000000  320.000000  320.000000  320.000000  3.200000e+02   \n",
       "mean    19.131720   16.957486   18.107145   18.143080  2.006507e+09   \n",
       "std     14.481531   12.917678   13.762707   13.735707  1.692224e+09   \n",
       "min      3.090093    2.730919    2.878570    2.875028  4.931314e+07   \n",
       "25%      5.132771    4.648561    4.858942    4.883383  6.073563e+08   \n",
       "50%     16.671923   14.862697   15.793144   15.979432  1.605773e+09   \n",
       "75%     34.267825   29.942827   32.720427   32.742904  2.942210e+09   \n",
       "max     49.692960   42.976323   47.959780   47.945940  1.007000e+10   \n",
       "\n",
       "          Marketcap       Range  Difference  \n",
       "count  3.200000e+02  320.000000  320.000000  \n",
       "mean   1.653354e+10    2.174233    0.035935  \n",
       "std    1.305124e+10    2.437638    1.812524  \n",
       "min    0.000000e+00    0.093394  -15.461676  \n",
       "25%    4.191878e+09    0.427919   -0.484597  \n",
       "50%    1.487376e+10    1.547449   -0.007782  \n",
       "75%    3.027253e+10    3.059609    0.479611  \n",
       "max    4.497358e+10   22.705206    7.978388  "
      ]
     },
     "metadata": {},
     "execution_count": 8
    }
   ],
   "metadata": {}
  },
  {
   "cell_type": "code",
   "execution_count": 9,
   "source": [
    "data[['High','Low','Open','Close','Volume','Marketcap','Range','Difference']].hist(bins=50, figsize = (20, 15))\n",
    "plt.show();"
   ],
   "outputs": [
    {
     "output_type": "display_data",
     "data": {
      "image/png": "[encoded data removed]",
      "text/plain": [
       "<Figure size 1440x1080 with 9 Axes>"
      ]
     },
     "metadata": {
      "needs_background": "light"
     }
    }
   ],
   "metadata": {}
  },
  {
   "cell_type": "code",
   "execution_count": 10,
   "source": [
    "#Days with the biggest price loss\n",
    "data[['Date', 'Difference']].sort_values(by='Difference').head(10).T"
   ],
   "outputs": [
    {
     "output_type": "execute_result",
     "data": {
      "text/html": [
       "<div>\n",
       "<style scoped>\n",
       "    .dataframe tbody tr th:only-of-type {\n",
       "        vertical-align: middle;\n",
       "    }\n",
       "\n",
       "    .dataframe tbody tr th {\n",
       "        vertical-align: top;\n",
       "    }\n",
       "\n",
       "    .dataframe thead th {\n",
       "        text-align: right;\n",
       "    }\n",
       "</style>\n",
       "<table border=\"1\" class=\"dataframe\">\n",
       "  <thead>\n",
       "    <tr style=\"text-align: right;\">\n",
       "      <th></th>\n",
       "      <th>271</th>\n",
       "      <th>240</th>\n",
       "      <th>304</th>\n",
       "      <th>264</th>\n",
       "      <th>273</th>\n",
       "      <th>267</th>\n",
       "      <th>275</th>\n",
       "      <th>215</th>\n",
       "      <th>229</th>\n",
       "      <th>262</th>\n",
       "    </tr>\n",
       "  </thead>\n",
       "  <tbody>\n",
       "    <tr>\n",
       "      <th>Date</th>\n",
       "      <td>2021-05-19 23:59:59</td>\n",
       "      <td>2021-04-18 23:59:59</td>\n",
       "      <td>2021-06-21 23:59:59</td>\n",
       "      <td>2021-05-12 23:59:59</td>\n",
       "      <td>2021-05-21 23:59:59</td>\n",
       "      <td>2021-05-15 23:59:59</td>\n",
       "      <td>2021-05-23 23:59:59</td>\n",
       "      <td>2021-03-24 23:59:59</td>\n",
       "      <td>2021-04-07 23:59:59</td>\n",
       "      <td>2021-05-10 23:59:59</td>\n",
       "    </tr>\n",
       "    <tr>\n",
       "      <th>Difference</th>\n",
       "      <td>-15.461676</td>\n",
       "      <td>-5.2146</td>\n",
       "      <td>-4.868336</td>\n",
       "      <td>-4.61983</td>\n",
       "      <td>-4.551854</td>\n",
       "      <td>-4.421149</td>\n",
       "      <td>-4.040235</td>\n",
       "      <td>-4.015834</td>\n",
       "      <td>-3.826695</td>\n",
       "      <td>-3.758451</td>\n",
       "    </tr>\n",
       "  </tbody>\n",
       "</table>\n",
       "</div>"
      ],
      "text/plain": [
       "                            271                  240                  304  \\\n",
       "Date        2021-05-19 23:59:59  2021-04-18 23:59:59  2021-06-21 23:59:59   \n",
       "Difference           -15.461676              -5.2146            -4.868336   \n",
       "\n",
       "                            264                  273                  267  \\\n",
       "Date        2021-05-12 23:59:59  2021-05-21 23:59:59  2021-05-15 23:59:59   \n",
       "Difference             -4.61983            -4.551854            -4.421149   \n",
       "\n",
       "                            275                  215                  229  \\\n",
       "Date        2021-05-23 23:59:59  2021-03-24 23:59:59  2021-04-07 23:59:59   \n",
       "Difference            -4.040235            -4.015834            -3.826695   \n",
       "\n",
       "                            262  \n",
       "Date        2021-05-10 23:59:59  \n",
       "Difference            -3.758451  "
      ]
     },
     "metadata": {},
     "execution_count": 10
    }
   ],
   "metadata": {}
  },
  {
   "cell_type": "code",
   "execution_count": 11,
   "source": [
    "# Days with the biggest price gain\n",
    "data[['Date', 'Difference']].sort_values(by='Difference', ascending=False).head(10).T"
   ],
   "outputs": [
    {
     "output_type": "execute_result",
     "data": {
      "text/html": [
       "<div>\n",
       "<style scoped>\n",
       "    .dataframe tbody tr th:only-of-type {\n",
       "        vertical-align: middle;\n",
       "    }\n",
       "\n",
       "    .dataframe tbody tr th {\n",
       "        vertical-align: top;\n",
       "    }\n",
       "\n",
       "    .dataframe thead th {\n",
       "        text-align: right;\n",
       "    }\n",
       "</style>\n",
       "<table border=\"1\" class=\"dataframe\">\n",
       "  <thead>\n",
       "    <tr style=\"text-align: right;\">\n",
       "      <th></th>\n",
       "      <th>266</th>\n",
       "      <th>257</th>\n",
       "      <th>276</th>\n",
       "      <th>148</th>\n",
       "      <th>265</th>\n",
       "      <th>183</th>\n",
       "      <th>272</th>\n",
       "      <th>182</th>\n",
       "      <th>248</th>\n",
       "      <th>146</th>\n",
       "    </tr>\n",
       "  </thead>\n",
       "  <tbody>\n",
       "    <tr>\n",
       "      <th>Date</th>\n",
       "      <td>2021-05-14 23:59:59</td>\n",
       "      <td>2021-05-05 23:59:59</td>\n",
       "      <td>2021-05-24 23:59:59</td>\n",
       "      <td>2021-01-16 23:59:59</td>\n",
       "      <td>2021-05-13 23:59:59</td>\n",
       "      <td>2021-02-20 23:59:59</td>\n",
       "      <td>2021-05-20 23:59:59</td>\n",
       "      <td>2021-02-19 23:59:59</td>\n",
       "      <td>2021-04-26 23:59:59</td>\n",
       "      <td>2021-01-14 23:59:59</td>\n",
       "    </tr>\n",
       "    <tr>\n",
       "      <th>Difference</th>\n",
       "      <td>7.978388</td>\n",
       "      <td>5.727232</td>\n",
       "      <td>5.276589</td>\n",
       "      <td>4.982374</td>\n",
       "      <td>4.974787</td>\n",
       "      <td>4.445064</td>\n",
       "      <td>4.090074</td>\n",
       "      <td>3.604071</td>\n",
       "      <td>3.592969</td>\n",
       "      <td>3.591174</td>\n",
       "    </tr>\n",
       "  </tbody>\n",
       "</table>\n",
       "</div>"
      ],
      "text/plain": [
       "                            266                  257                  276  \\\n",
       "Date        2021-05-14 23:59:59  2021-05-05 23:59:59  2021-05-24 23:59:59   \n",
       "Difference             7.978388             5.727232             5.276589   \n",
       "\n",
       "                            148                  265                  183  \\\n",
       "Date        2021-01-16 23:59:59  2021-05-13 23:59:59  2021-02-20 23:59:59   \n",
       "Difference             4.982374             4.974787             4.445064   \n",
       "\n",
       "                            272                  182                  248  \\\n",
       "Date        2021-05-20 23:59:59  2021-02-19 23:59:59  2021-04-26 23:59:59   \n",
       "Difference             4.090074             3.604071             3.592969   \n",
       "\n",
       "                            146  \n",
       "Date        2021-01-14 23:59:59  \n",
       "Difference             3.591174  "
      ]
     },
     "metadata": {},
     "execution_count": 11
    }
   ],
   "metadata": {}
  },
  {
   "cell_type": "code",
   "execution_count": 12,
   "source": [
    "fig = px.line(data, x='Date', y=\"Close\")\n",
    "fig.show();"
   ],
   "outputs": [
    {
     "output_type": "display_data",
     "data": {
      "application/vnd.plotly.v1+json": {
       "data": [
        {
         "hovertemplate": "Date=%{x}<br>Close=%{y}<extra></extra>",
         "legendgroup": "",
         "line": {
          "color": "#636efa",
          "dash": "solid"
         },
         "marker": {
          "symbol": "circle"
         },
         "mode": "lines",
         "name": "",
         "orientation": "v",
         "showlegend": false,
         "x": [
          "2020-08-21T23:59:59",
          "2020-08-22T23:59:59",
          "2020-08-23T23:59:59",
          "2020-08-24T23:59:59",
          "2020-08-25T23:59:59",
          "2020-08-26T23:59:59",
          "2020-08-27T23:59:59",
          "2020-08-28T23:59:59",
          "2020-08-29T23:59:59",
          "2020-08-30T23:59:59",
          "2020-08-31T23:59:59",
          "2020-09-01T23:59:59",
          "2020-09-02T23:59:59",
          "2020-09-03T23:59:59",
          "2020-09-04T23:59:59",
          "2020-09-05T23:59:59",
          "2020-09-06T23:59:59",
          "2020-09-07T23:59:59",
          "2020-09-08T23:59:59",
          "2020-09-09T23:59:59",
          "2020-09-10T23:59:59",
          "2020-09-11T23:59:59",
          "2020-09-12T23:59:59",
          "2020-09-13T23:59:59",
          "2020-09-14T23:59:59",
          "2020-09-15T23:59:59",
          "2020-09-16T23:59:59",
          "2020-09-17T23:59:59",
          "2020-09-18T23:59:59",
          "2020-09-19T23:59:59",
          "2020-09-20T23:59:59",
          "2020-09-21T23:59:59",
          "2020-09-22T23:59:59",
          "2020-09-23T23:59:59",
          "2020-09-24T23:59:59",
          "2020-09-25T23:59:59",
          "2020-09-26T23:59:59",
          "2020-09-27T23:59:59",
          "2020-09-28T23:59:59",
          "2020-09-29T23:59:59",
          "2020-09-30T23:59:59",
          "2020-10-01T23:59:59",
          "2020-10-02T23:59:59",
          "2020-10-03T23:59:59",
          "2020-10-04T23:59:59",
          "2020-10-05T23:59:59",
          "2020-10-06T23:59:59",
          "2020-10-07T23:59:59",
          "2020-10-08T23:59:59",
          "2020-10-09T23:59:59",
          "2020-10-10T23:59:59",
          "2020-10-11T23:59:59",
          "2020-10-12T23:59:59",
          "2020-10-13T23:59:59",
          "2020-10-14T23:59:59",
          "2020-10-15T23:59:59",
          "2020-10-16T23:59:59",
          "2020-10-17T23:59:59",
          "2020-10-18T23:59:59",
          "2020-10-19T23:59:59",
          "2020-10-20T23:59:59",
          "2020-10-21T23:59:59",
          "2020-10-22T23:59:59",
          "2020-10-23T23:59:59",
          "2020-10-24T23:59:59",
          "2020-10-25T23:59:59",
          "2020-10-26T23:59:59",
          "2020-10-27T23:59:59",
          "2020-10-28T23:59:59",
          "2020-10-29T23:59:59",
          "2020-10-30T23:59:59",
          "2020-10-31T23:59:59",
          "2020-11-01T23:59:59",
          "2020-11-02T23:59:59",
          "2020-11-03T23:59:59",
          "2020-11-04T23:59:59",
          "2020-11-05T23:59:59",
          "2020-11-06T23:59:59",
          "2020-11-07T23:59:59",
          "2020-11-08T23:59:59",
          "2020-11-09T23:59:59",
          "2020-11-10T23:59:59",
          "2020-11-11T23:59:59",
          "2020-11-12T23:59:59",
          "2020-11-13T23:59:59",
          "2020-11-14T23:59:59",
          "2020-11-15T23:59:59",
          "2020-11-16T23:59:59",
          "2020-11-17T23:59:59",
          "2020-11-18T23:59:59",
          "2020-11-19T23:59:59",
          "2020-11-20T23:59:59",
          "2020-11-21T23:59:59",
          "2020-11-22T23:59:59",
          "2020-11-23T23:59:59",
          "2020-11-24T23:59:59",
          "2020-11-25T23:59:59",
          "2020-11-26T23:59:59",
          "2020-11-27T23:59:59",
          "2020-11-28T23:59:59",
          "2020-11-29T23:59:59",
          "2020-11-30T23:59:59",
          "2020-12-01T23:59:59",
          "2020-12-02T23:59:59",
          "2020-12-03T23:59:59",
          "2020-12-04T23:59:59",
          "2020-12-05T23:59:59",
          "2020-12-06T23:59:59",
          "2020-12-07T23:59:59",
          "2020-12-08T23:59:59",
          "2020-12-09T23:59:59",
          "2020-12-10T23:59:59",
          "2020-12-11T23:59:59",
          "2020-12-12T23:59:59",
          "2020-12-13T23:59:59",
          "2020-12-14T23:59:59",
          "2020-12-15T23:59:59",
          "2020-12-16T23:59:59",
          "2020-12-17T23:59:59",
          "2020-12-18T23:59:59",
          "2020-12-19T23:59:59",
          "2020-12-20T23:59:59",
          "2020-12-21T23:59:59",
          "2020-12-22T23:59:59",
          "2020-12-23T23:59:59",
          "2020-12-24T23:59:59",
          "2020-12-25T23:59:59",
          "2020-12-26T23:59:59",
          "2020-12-27T23:59:59",
          "2020-12-28T23:59:59",
          "2020-12-29T23:59:59",
          "2020-12-30T23:59:59",
          "2020-12-31T23:59:59",
          "2021-01-01T23:59:59",
          "2021-01-02T23:59:59",
          "2021-01-03T23:59:59",
          "2021-01-04T23:59:59",
          "2021-01-05T23:59:59",
          "2021-01-06T23:59:59",
          "2021-01-07T23:59:59",
          "2021-01-08T23:59:59",
          "2021-01-09T23:59:59",
          "2021-01-10T23:59:59",
          "2021-01-11T23:59:59",
          "2021-01-12T23:59:59",
          "2021-01-13T23:59:59",
          "2021-01-14T23:59:59",
          "2021-01-15T23:59:59",
          "2021-01-16T23:59:59",
          "2021-01-17T23:59:59",
          "2021-01-18T23:59:59",
          "2021-01-19T23:59:59",
          "2021-01-20T23:59:59",
          "2021-01-21T23:59:59",
          "2021-01-22T23:59:59",
          "2021-01-23T23:59:59",
          "2021-01-24T23:59:59",
          "2021-01-25T23:59:59",
          "2021-01-26T23:59:59",
          "2021-01-27T23:59:59",
          "2021-01-28T23:59:59",
          "2021-01-29T23:59:59",
          "2021-01-30T23:59:59",
          "2021-01-31T23:59:59",
          "2021-02-01T23:59:59",
          "2021-02-02T23:59:59",
          "2021-02-03T23:59:59",
          "2021-02-04T23:59:59",
          "2021-02-05T23:59:59",
          "2021-02-06T23:59:59",
          "2021-02-07T23:59:59",
          "2021-02-08T23:59:59",
          "2021-02-09T23:59:59",
          "2021-02-10T23:59:59",
          "2021-02-11T23:59:59",
          "2021-02-12T23:59:59",
          "2021-02-13T23:59:59",
          "2021-02-14T23:59:59",
          "2021-02-15T23:59:59",
          "2021-02-16T23:59:59",
          "2021-02-17T23:59:59",
          "2021-02-18T23:59:59",
          "2021-02-19T23:59:59",
          "2021-02-20T23:59:59",
          "2021-02-21T23:59:59",
          "2021-02-22T23:59:59",
          "2021-02-23T23:59:59",
          "2021-02-24T23:59:59",
          "2021-02-25T23:59:59",
          "2021-02-26T23:59:59",
          "2021-02-27T23:59:59",
          "2021-02-28T23:59:59",
          "2021-03-01T23:59:59",
          "2021-03-02T23:59:59",
          "2021-03-03T23:59:59",
          "2021-03-04T23:59:59",
          "2021-03-05T23:59:59",
          "2021-03-06T23:59:59",
          "2021-03-07T23:59:59",
          "2021-03-08T23:59:59",
          "2021-03-09T23:59:59",
          "2021-03-10T23:59:59",
          "2021-03-11T23:59:59",
          "2021-03-12T23:59:59",
          "2021-03-13T23:59:59",
          "2021-03-14T23:59:59",
          "2021-03-15T23:59:59",
          "2021-03-16T23:59:59",
          "2021-03-17T23:59:59",
          "2021-03-18T23:59:59",
          "2021-03-19T23:59:59",
          "2021-03-20T23:59:59",
          "2021-03-21T23:59:59",
          "2021-03-22T23:59:59",
          "2021-03-23T23:59:59",
          "2021-03-24T23:59:59",
          "2021-03-25T23:59:59",
          "2021-03-26T23:59:59",
          "2021-03-27T23:59:59",
          "2021-03-28T23:59:59",
          "2021-03-29T23:59:59",
          "2021-03-30T23:59:59",
          "2021-03-31T23:59:59",
          "2021-04-01T23:59:59",
          "2021-04-02T23:59:59",
          "2021-04-03T23:59:59",
          "2021-04-04T23:59:59",
          "2021-04-05T23:59:59",
          "2021-04-06T23:59:59",
          "2021-04-07T23:59:59",
          "2021-04-08T23:59:59",
          "2021-04-09T23:59:59",
          "2021-04-10T23:59:59",
          "2021-04-11T23:59:59",
          "2021-04-12T23:59:59",
          "2021-04-13T23:59:59",
          "2021-04-14T23:59:59",
          "2021-04-15T23:59:59",
          "2021-04-16T23:59:59",
          "2021-04-17T23:59:59",
          "2021-04-18T23:59:59",
          "2021-04-19T23:59:59",
          "2021-04-20T23:59:59",
          "2021-04-21T23:59:59",
          "2021-04-22T23:59:59",
          "2021-04-23T23:59:59",
          "2021-04-24T23:59:59",
          "2021-04-25T23:59:59",
          "2021-04-26T23:59:59",
          "2021-04-27T23:59:59",
          "2021-04-28T23:59:59",
          "2021-04-29T23:59:59",
          "2021-04-30T23:59:59",
          "2021-05-01T23:59:59",
          "2021-05-02T23:59:59",
          "2021-05-03T23:59:59",
          "2021-05-04T23:59:59",
          "2021-05-05T23:59:59",
          "2021-05-06T23:59:59",
          "2021-05-07T23:59:59",
          "2021-05-08T23:59:59",
          "2021-05-09T23:59:59",
          "2021-05-10T23:59:59",
          "2021-05-11T23:59:59",
          "2021-05-12T23:59:59",
          "2021-05-13T23:59:59",
          "2021-05-14T23:59:59",
          "2021-05-15T23:59:59",
          "2021-05-16T23:59:59",
          "2021-05-17T23:59:59",
          "2021-05-18T23:59:59",
          "2021-05-19T23:59:59",
          "2021-05-20T23:59:59",
          "2021-05-21T23:59:59",
          "2021-05-22T23:59:59",
          "2021-05-23T23:59:59",
          "2021-05-24T23:59:59",
          "2021-05-25T23:59:59",
          "2021-05-26T23:59:59",
          "2021-05-27T23:59:59",
          "2021-05-28T23:59:59",
          "2021-05-29T23:59:59",
          "2021-05-30T23:59:59",
          "2021-05-31T23:59:59",
          "2021-06-01T23:59:59",
          "2021-06-02T23:59:59",
          "2021-06-03T23:59:59",
          "2021-06-04T23:59:59",
          "2021-06-05T23:59:59",
          "2021-06-06T23:59:59",
          "2021-06-07T23:59:59",
          "2021-06-08T23:59:59",
          "2021-06-09T23:59:59",
          "2021-06-10T23:59:59",
          "2021-06-11T23:59:59",
          "2021-06-12T23:59:59",
          "2021-06-13T23:59:59",
          "2021-06-14T23:59:59",
          "2021-06-15T23:59:59",
          "2021-06-16T23:59:59",
          "2021-06-17T23:59:59",
          "2021-06-18T23:59:59",
          "2021-06-19T23:59:59",
          "2021-06-20T23:59:59",
          "2021-06-21T23:59:59",
          "2021-06-22T23:59:59",
          "2021-06-23T23:59:59",
          "2021-06-24T23:59:59",
          "2021-06-25T23:59:59",
          "2021-06-26T23:59:59",
          "2021-06-27T23:59:59",
          "2021-06-28T23:59:59",
          "2021-06-29T23:59:59",
          "2021-06-30T23:59:59",
          "2021-07-01T23:59:59",
          "2021-07-02T23:59:59",
          "2021-07-03T23:59:59",
          "2021-07-04T23:59:59",
          "2021-07-05T23:59:59",
          "2021-07-06T23:59:59"
         ],
         "xaxis": "x",
         "y": [
          2.8750282692,
          4.48469014343,
          3.96706569209,
          4.60261415178,
          5.52339300736,
          6.08171646879,
          5.62833735301,
          6.15995475836,
          6.15914322499,
          5.86988080945,
          6.30002021459,
          6.28876657493,
          6.13946524066,
          5.74786775393,
          5.14603789173,
          4.12231259687,
          4.79946793988,
          4.59466864471,
          4.27432445417,
          4.7089389523,
          4.58158432405,
          4.64556662846,
          5.13703693238,
          5.29795089208,
          5.34870930493,
          5.09570589956,
          5.08032210406,
          5.33630111171,
          5.24576354638,
          4.92541065463,
          4.67244901762,
          4.09459740125,
          4.17446304487,
          4.03141516,
          4.38197305,
          4.42095446,
          4.34766168,
          4.31028125,
          4.39786057,
          4.50045212,
          4.34978056,
          4.34383142,
          4.12317927,
          4.07004647,
          4.17391126,
          4.17269979,
          3.75616173,
          3.85879757,
          4.10264234,
          4.26246761,
          4.25295528,
          4.26216216,
          4.31994798,
          4.24940015,
          4.19911439,
          4.09681088,
          3.90952943,
          3.96725217,
          4.1046509,
          3.99059237,
          3.91034337,
          4.14111972,
          4.26894964,
          4.2668497,
          4.35534397,
          4.33523061,
          4.72701624,
          4.68395195,
          4.36509669,
          4.05334477,
          4.08811312,
          4.18176751,
          4.22561493,
          4.0302315,
          4.02546848,
          4.09808333,
          4.23519485,
          4.57965191,
          4.24195952,
          4.37209313,
          4.34676728,
          4.41501638,
          4.4572018,
          4.39924024,
          4.5401198,
          4.4656222,
          4.37998835,
          4.48549978,
          4.84466572,
          4.67966267,
          4.7567662,
          5.23343571,
          5.75192122,
          5.48185289,
          5.9069321,
          5.72944635,
          5.30985986,
          4.80457692,
          4.78279012,
          4.90047564,
          5.19035218,
          5.37643011,
          5.09356673,
          5.46415704,
          5.41036865,
          5.03271351,
          5.18890299,
          5.135868,
          5.06032011,
          4.73334726,
          4.8618969,
          4.7975962,
          4.62105182,
          4.74045424,
          4.89121198,
          4.89808222,
          5.24960699,
          5.35931366,
          5.34396751,
          5.36764091,
          5.33894511,
          5.18847554,
          4.89054553,
          5.15482991,
          4.71061346,
          5.12882058,
          5.21421049,
          5.18218102,
          5.13619073,
          6.5888218,
          7.51925703,
          7.25430008,
          9.29250771,
          8.30681869,
          9.20883657,
          10.03328252,
          9.46961118,
          9.70165565,
          10.09606799,
          9.64458538,
          9.30713511,
          9.77776543,
          9.30504759,
          8.27643995,
          8.26414763,
          10.95771005,
          14.5390503,
          13.21238089,
          18.18042437,
          16.98425436,
          16.51292725,
          16.46850969,
          17.94893082,
          15.94483794,
          17.16144057,
          18.59819899,
          17.99964968,
          17.25045506,
          17.11776161,
          15.50486144,
          16.9449327,
          16.8416124,
          16.50690794,
          16.12131511,
          16.37577622,
          17.26325602,
          20.73365167,
          19.7021819,
          20.90267541,
          20.39547912,
          19.793615,
          23.03189853,
          23.12996524,
          23.58505148,
          25.23029476,
          28.6912576,
          28.01672488,
          27.09573509,
          27.78089328,
          30.15991114,
          31.98665846,
          31.18063869,
          34.79221729,
          39.24217734,
          39.69622868,
          37.68948023,
          34.30077361,
          33.63354631,
          31.08065968,
          31.34609002,
          33.44936632,
          33.60725607,
          35.58492774,
          36.15311759,
          37.04332,
          35.33031248,
          33.72447211,
          33.43369173,
          35.18865962,
          34.91375165,
          38.1941911,
          37.56694449,
          36.8824972,
          35.98695422,
          37.15781161,
          36.57925054,
          34.35751567,
          35.43083163,
          36.1413638,
          35.51722321,
          38.27268979,
          37.35047923,
          36.79361002,
          35.53754338,
          34.46046617,
          30.43643479,
          29.9822075,
          33.2003874,
          32.6610468,
          32.29789284,
          34.37360543,
          34.06686061,
          37.0270117,
          37.67287759,
          41.16428269,
          41.64603202,
          44.65221029,
          45.79722903,
          43.43019764,
          39.59401474,
          41.36595051,
          40.84930674,
          41.62615053,
          41.42339827,
          40.4974979,
          42.94790898,
          42.64084196,
          43.51597027,
          41.53797586,
          42.53594924,
          37.34743111,
          34.81667125,
          35.44443611,
          33.87103012,
          32.98847419,
          32.22798449,
          28.93283285,
          29.76249034,
          33.40662676,
          34.70315875,
          33.967554,
          35.96815555,
          36.54066328,
          36.92968465,
          36.65453024,
          37.2552079,
          34.85350908,
          40.49504611,
          41.53346783,
          39.92985068,
          39.83269154,
          40.31284249,
          36.54177226,
          38.64228338,
          34.0313921,
          40.03165509,
          47.94594002,
          43.53863138,
          42.6315128,
          38.71015867,
          40.64535668,
          25.2271421,
          29.15056918,
          24.46397045,
          22.01452423,
          18.02944198,
          23.1990897,
          22.13013035,
          24.54968784,
          23.85298245,
          21.41009275,
          19.86337513,
          20.47398745,
          23.43092808,
          22.81084573,
          25.95772798,
          27.01345782,
          25.00829946,
          23.81677127,
          24.20159944,
          21.62695835,
          21.74526987,
          23.18493857,
          22.68481641,
          20.9858573,
          20.77703646,
          22.07633422,
          22.2053555,
          24.76083633,
          22.97217496,
          22.51145401,
          21.39889603,
          20.35594177,
          20.6723643,
          15.76990391,
          14.65241199,
          16.14248997,
          16.25365762,
          14.46769563,
          14.49961244,
          15.01559423,
          15.74037753,
          16.2533695,
          16.40219483,
          15.2789639,
          15.34077444,
          15.5537163,
          16.01402627,
          15.23558237,
          16.14356433
         ],
         "yaxis": "y",
         "type": "scatter"
        }
       ],
       "layout": {
        "template": {
         "data": {
          "histogram2dcontour": [
           {
            "type": "histogram2dcontour",
            "colorbar": {
             "outlinewidth": 0,
             "ticks": ""
            },
            "colorscale": [
             [
              0,
              "#0d0887"
             ],
             [
              0.1111111111111111,
              "#46039f"
             ],
             [
              0.2222222222222222,
              "#7201a8"
             ],
             [
              0.3333333333333333,
              "#9c179e"
             ],
             [
              0.4444444444444444,
              "#bd3786"
             ],
             [
              0.5555555555555556,
              "#d8576b"
             ],
             [
              0.6666666666666666,
              "#ed7953"
             ],
             [
              0.7777777777777778,
              "#fb9f3a"
             ],
             [
              0.8888888888888888,
              "#fdca26"
             ],
             [
              1,
              "#f0f921"
             ]
            ]
           }
          ],
          "choropleth": [
           {
            "type": "choropleth",
            "colorbar": {
             "outlinewidth": 0,
             "ticks": ""
            }
           }
          ],
          "histogram2d": [
           {
            "type": "histogram2d",
            "colorbar": {
             "outlinewidth": 0,
             "ticks": ""
            },
            "colorscale": [
             [
              0,
              "#0d0887"
             ],
             [
              0.1111111111111111,
              "#46039f"
             ],
             [
              0.2222222222222222,
              "#7201a8"
             ],
             [
              0.3333333333333333,
              "#9c179e"
             ],
             [
              0.4444444444444444,
              "#bd3786"
             ],
             [
              0.5555555555555556,
              "#d8576b"
             ],
             [
              0.6666666666666666,
              "#ed7953"
             ],
             [
              0.7777777777777778,
              "#fb9f3a"
             ],
             [
              0.8888888888888888,
              "#fdca26"
             ],
             [
              1,
              "#f0f921"
             ]
            ]
           }
          ],
          "heatmap": [
           {
            "type": "heatmap",
            "colorbar": {
             "outlinewidth": 0,
             "ticks": ""
            },
            "colorscale": [
             [
              0,
              "#0d0887"
             ],
             [
              0.1111111111111111,
              "#46039f"
             ],
             [
              0.2222222222222222,
              "#7201a8"
             ],
             [
              0.3333333333333333,
              "#9c179e"
             ],
             [
              0.4444444444444444,
              "#bd3786"
             ],
             [
              0.5555555555555556,
              "#d8576b"
             ],
             [
              0.6666666666666666,
              "#ed7953"
             ],
             [
              0.7777777777777778,
              "#fb9f3a"
             ],
             [
              0.8888888888888888,
              "#fdca26"
             ],
             [
              1,
              "#f0f921"
             ]
            ]
           }
          ],
          "heatmapgl": [
           {
            "type": "heatmapgl",
            "colorbar": {
             "outlinewidth": 0,
             "ticks": ""
            },
            "colorscale": [
             [
              0,
              "#0d0887"
             ],
             [
              0.1111111111111111,
              "#46039f"
             ],
             [
              0.2222222222222222,
              "#7201a8"
             ],
             [
              0.3333333333333333,
              "#9c179e"
             ],
             [
              0.4444444444444444,
              "#bd3786"
             ],
             [
              0.5555555555555556,
              "#d8576b"
             ],
             [
              0.6666666666666666,
              "#ed7953"
             ],
             [
              0.7777777777777778,
              "#fb9f3a"
             ],
             [
              0.8888888888888888,
              "#fdca26"
             ],
             [
              1,
              "#f0f921"
             ]
            ]
           }
          ],
          "contourcarpet": [
           {
            "type": "contourcarpet",
            "colorbar": {
             "outlinewidth": 0,
             "ticks": ""
            }
           }
          ],
          "contour": [
           {
            "type": "contour",
            "colorbar": {
             "outlinewidth": 0,
             "ticks": ""
            },
            "colorscale": [
             [
              0,
              "#0d0887"
             ],
             [
              0.1111111111111111,
              "#46039f"
             ],
             [
              0.2222222222222222,
              "#7201a8"
             ],
             [
              0.3333333333333333,
              "#9c179e"
             ],
             [
              0.4444444444444444,
              "#bd3786"
             ],
             [
              0.5555555555555556,
              "#d8576b"
             ],
             [
              0.6666666666666666,
              "#ed7953"
             ],
             [
              0.7777777777777778,
              "#fb9f3a"
             ],
             [
              0.8888888888888888,
              "#fdca26"
             ],
             [
              1,
              "#f0f921"
             ]
            ]
           }
          ],
          "surface": [
           {
            "type": "surface",
            "colorbar": {
             "outlinewidth": 0,
             "ticks": ""
            },
            "colorscale": [
             [
              0,
              "#0d0887"
             ],
             [
              0.1111111111111111,
              "#46039f"
             ],
             [
              0.2222222222222222,
              "#7201a8"
             ],
             [
              0.3333333333333333,
              "#9c179e"
             ],
             [
              0.4444444444444444,
              "#bd3786"
             ],
             [
              0.5555555555555556,
              "#d8576b"
             ],
             [
              0.6666666666666666,
              "#ed7953"
             ],
             [
              0.7777777777777778,
              "#fb9f3a"
             ],
             [
              0.8888888888888888,
              "#fdca26"
             ],
             [
              1,
              "#f0f921"
             ]
            ]
           }
          ],
          "mesh3d": [
           {
            "type": "mesh3d",
            "colorbar": {
             "outlinewidth": 0,
             "ticks": ""
            }
           }
          ],
          "scatter": [
           {
            "fillpattern": {
             "fillmode": "overlay",
             "size": 10,
             "solidity": 0.2
            },
            "type": "scatter"
           }
          ],
          "parcoords": [
           {
            "type": "parcoords",
            "line": {
             "colorbar": {
              "outlinewidth": 0,
              "ticks": ""
             }
            }
           }
          ],
          "scatterpolargl": [
           {
            "type": "scatterpolargl",
            "marker": {
             "colorbar": {
              "outlinewidth": 0,
              "ticks": ""
             }
            }
           }
          ],
          "bar": [
           {
            "error_x": {
             "color": "#2a3f5f"
            },
            "error_y": {
             "color": "#2a3f5f"
            },
            "marker": {
             "line": {
              "color": "#E5ECF6",
              "width": 0.5
             },
             "pattern": {
              "fillmode": "overlay",
              "size": 10,
              "solidity": 0.2
             }
            },
            "type": "bar"
           }
          ],
          "scattergeo": [
           {
            "type": "scattergeo",
            "marker": {
             "colorbar": {
              "outlinewidth": 0,
              "ticks": ""
             }
            }
           }
          ],
          "scatterpolar": [
           {
            "type": "scatterpolar",
            "marker": {
             "colorbar": {
              "outlinewidth": 0,
              "ticks": ""
             }
            }
           }
          ],
          "histogram": [
           {
            "marker": {
             "pattern": {
              "fillmode": "overlay",
              "size": 10,
              "solidity": 0.2
             }
            },
            "type": "histogram"
           }
          ],
          "scattergl": [
           {
            "type": "scattergl",
            "marker": {
             "colorbar": {
              "outlinewidth": 0,
              "ticks": ""
             }
            }
           }
          ],
          "scatter3d": [
           {
            "type": "scatter3d",
            "line": {
             "colorbar": {
              "outlinewidth": 0,
              "ticks": ""
             }
            },
            "marker": {
             "colorbar": {
              "outlinewidth": 0,
              "ticks": ""
             }
            }
           }
          ],
          "scattermapbox": [
           {
            "type": "scattermapbox",
            "marker": {
             "colorbar": {
              "outlinewidth": 0,
              "ticks": ""
             }
            }
           }
          ],
          "scatterternary": [
           {
            "type": "scatterternary",
            "marker": {
             "colorbar": {
              "outlinewidth": 0,
              "ticks": ""
             }
            }
           }
          ],
          "scattercarpet": [
           {
            "type": "scattercarpet",
            "marker": {
             "colorbar": {
              "outlinewidth": 0,
              "ticks": ""
             }
            }
           }
          ],
          "carpet": [
           {
            "aaxis": {
             "endlinecolor": "#2a3f5f",
             "gridcolor": "white",
             "linecolor": "white",
             "minorgridcolor": "white",
             "startlinecolor": "#2a3f5f"
            },
            "baxis": {
             "endlinecolor": "#2a3f5f",
             "gridcolor": "white",
             "linecolor": "white",
             "minorgridcolor": "white",
             "startlinecolor": "#2a3f5f"
            },
            "type": "carpet"
           }
          ],
          "table": [
           {
            "cells": {
             "fill": {
              "color": "#EBF0F8"
             },
             "line": {
              "color": "white"
             }
            },
            "header": {
             "fill": {
              "color": "#C8D4E3"
             },
             "line": {
              "color": "white"
             }
            },
            "type": "table"
           }
          ],
          "barpolar": [
           {
            "marker": {
             "line": {
              "color": "#E5ECF6",
              "width": 0.5
             },
             "pattern": {
              "fillmode": "overlay",
              "size": 10,
              "solidity": 0.2
             }
            },
            "type": "barpolar"
           }
          ],
          "pie": [
           {
            "automargin": true,
            "type": "pie"
           }
          ]
         },
         "layout": {
          "autotypenumbers": "strict",
          "colorway": [
           "#636efa",
           "#EF553B",
           "#00cc96",
           "#ab63fa",
           "#FFA15A",
           "#19d3f3",
           "#FF6692",
           "#B6E880",
           "#FF97FF",
           "#FECB52"
          ],
          "font": {
           "color": "#2a3f5f"
          },
          "hovermode": "closest",
          "hoverlabel": {
           "align": "left"
          },
          "paper_bgcolor": "white",
          "plot_bgcolor": "#E5ECF6",
          "polar": {
           "bgcolor": "#E5ECF6",
           "angularaxis": {
            "gridcolor": "white",
            "linecolor": "white",
            "ticks": ""
           },
           "radialaxis": {
            "gridcolor": "white",
            "linecolor": "white",
            "ticks": ""
           }
          },
          "ternary": {
           "bgcolor": "#E5ECF6",
           "aaxis": {
            "gridcolor": "white",
            "linecolor": "white",
            "ticks": ""
           },
           "baxis": {
            "gridcolor": "white",
            "linecolor": "white",
            "ticks": ""
           },
           "caxis": {
            "gridcolor": "white",
            "linecolor": "white",
            "ticks": ""
           }
          },
          "coloraxis": {
           "colorbar": {
            "outlinewidth": 0,
            "ticks": ""
           }
          },
          "colorscale": {
           "sequential": [
            [
             0,
             "#0d0887"
            ],
            [
             0.1111111111111111,
             "#46039f"
            ],
            [
             0.2222222222222222,
             "#7201a8"
            ],
            [
             0.3333333333333333,
             "#9c179e"
            ],
            [
             0.4444444444444444,
             "#bd3786"
            ],
            [
             0.5555555555555556,
             "#d8576b"
            ],
            [
             0.6666666666666666,
             "#ed7953"
            ],
            [
             0.7777777777777778,
             "#fb9f3a"
            ],
            [
             0.8888888888888888,
             "#fdca26"
            ],
            [
             1,
             "#f0f921"
            ]
           ],
           "sequentialminus": [
            [
             0,
             "#0d0887"
            ],
            [
             0.1111111111111111,
             "#46039f"
            ],
            [
             0.2222222222222222,
             "#7201a8"
            ],
            [
             0.3333333333333333,
             "#9c179e"
            ],
            [
             0.4444444444444444,
             "#bd3786"
            ],
            [
             0.5555555555555556,
             "#d8576b"
            ],
            [
             0.6666666666666666,
             "#ed7953"
            ],
            [
             0.7777777777777778,
             "#fb9f3a"
            ],
            [
             0.8888888888888888,
             "#fdca26"
            ],
            [
             1,
             "#f0f921"
            ]
           ],
           "diverging": [
            [
             0,
             "#8e0152"
            ],
            [
             0.1,
             "#c51b7d"
            ],
            [
             0.2,
             "#de77ae"
            ],
            [
             0.3,
             "#f1b6da"
            ],
            [
             0.4,
             "#fde0ef"
            ],
            [
             0.5,
             "#f7f7f7"
            ],
            [
             0.6,
             "#e6f5d0"
            ],
            [
             0.7,
             "#b8e186"
            ],
            [
             0.8,
             "#7fbc41"
            ],
            [
             0.9,
             "#4d9221"
            ],
            [
             1,
             "#276419"
            ]
           ]
          },
          "xaxis": {
           "gridcolor": "white",
           "linecolor": "white",
           "ticks": "",
           "title": {
            "standoff": 15
           },
           "zerolinecolor": "white",
           "automargin": true,
           "zerolinewidth": 2
          },
          "yaxis": {
           "gridcolor": "white",
           "linecolor": "white",
           "ticks": "",
           "title": {
            "standoff": 15
           },
           "zerolinecolor": "white",
           "automargin": true,
           "zerolinewidth": 2
          },
          "scene": {
           "xaxis": {
            "backgroundcolor": "#E5ECF6",
            "gridcolor": "white",
            "linecolor": "white",
            "showbackground": true,
            "ticks": "",
            "zerolinecolor": "white",
            "gridwidth": 2
           },
           "yaxis": {
            "backgroundcolor": "#E5ECF6",
            "gridcolor": "white",
            "linecolor": "white",
            "showbackground": true,
            "ticks": "",
            "zerolinecolor": "white",
            "gridwidth": 2
           },
           "zaxis": {
            "backgroundcolor": "#E5ECF6",
            "gridcolor": "white",
            "linecolor": "white",
            "showbackground": true,
            "ticks": "",
            "zerolinecolor": "white",
            "gridwidth": 2
           }
          },
          "shapedefaults": {
           "line": {
            "color": "#2a3f5f"
           }
          },
          "annotationdefaults": {
           "arrowcolor": "#2a3f5f",
           "arrowhead": 0,
           "arrowwidth": 1
          },
          "geo": {
           "bgcolor": "white",
           "landcolor": "#E5ECF6",
           "subunitcolor": "white",
           "showland": true,
           "showlakes": true,
           "lakecolor": "white"
          },
          "title": {
           "x": 0.05
          },
          "mapbox": {
           "style": "light"
          }
         }
        },
        "xaxis": {
         "anchor": "y",
         "domain": [
          0,
          1
         ],
         "title": {
          "text": "Date"
         }
        },
        "yaxis": {
         "anchor": "x",
         "domain": [
          0,
          1
         ],
         "title": {
          "text": "Close"
         }
        },
        "legend": {
         "tracegroupgap": 0
        },
        "margin": {
         "t": 60
        }
       },
       "config": {
        "plotlyServerURL": "https://plot.ly"
       }
      }
     },
     "metadata": {}
    }
   ],
   "metadata": {}
  },
  {
   "cell_type": "code",
   "execution_count": 13,
   "source": [
    "fig = px.line(data, x='Date', y=\"Marketcap\")\n",
    "fig.show();"
   ],
   "outputs": [
    {
     "output_type": "display_data",
     "data": {
      "application/vnd.plotly.v1+json": {
       "data": [
        {
         "hovertemplate": "Date=%{x}<br>Marketcap=%{y}<extra></extra>",
         "legendgroup": "",
         "line": {
          "color": "#636efa",
          "dash": "solid"
         },
         "marker": {
          "symbol": "circle"
         },
         "mode": "lines",
         "name": "",
         "orientation": "v",
         "showlegend": false,
         "x": [
          "2020-08-21T23:59:59",
          "2020-08-22T23:59:59",
          "2020-08-23T23:59:59",
          "2020-08-24T23:59:59",
          "2020-08-25T23:59:59",
          "2020-08-26T23:59:59",
          "2020-08-27T23:59:59",
          "2020-08-28T23:59:59",
          "2020-08-29T23:59:59",
          "2020-08-30T23:59:59",
          "2020-08-31T23:59:59",
          "2020-09-01T23:59:59",
          "2020-09-02T23:59:59",
          "2020-09-03T23:59:59",
          "2020-09-04T23:59:59",
          "2020-09-05T23:59:59",
          "2020-09-06T23:59:59",
          "2020-09-07T23:59:59",
          "2020-09-08T23:59:59",
          "2020-09-09T23:59:59",
          "2020-09-10T23:59:59",
          "2020-09-11T23:59:59",
          "2020-09-12T23:59:59",
          "2020-09-13T23:59:59",
          "2020-09-14T23:59:59",
          "2020-09-15T23:59:59",
          "2020-09-16T23:59:59",
          "2020-09-17T23:59:59",
          "2020-09-18T23:59:59",
          "2020-09-19T23:59:59",
          "2020-09-20T23:59:59",
          "2020-09-21T23:59:59",
          "2020-09-22T23:59:59",
          "2020-09-23T23:59:59",
          "2020-09-24T23:59:59",
          "2020-09-25T23:59:59",
          "2020-09-26T23:59:59",
          "2020-09-27T23:59:59",
          "2020-09-28T23:59:59",
          "2020-09-29T23:59:59",
          "2020-09-30T23:59:59",
          "2020-10-01T23:59:59",
          "2020-10-02T23:59:59",
          "2020-10-03T23:59:59",
          "2020-10-04T23:59:59",
          "2020-10-05T23:59:59",
          "2020-10-06T23:59:59",
          "2020-10-07T23:59:59",
          "2020-10-08T23:59:59",
          "2020-10-09T23:59:59",
          "2020-10-10T23:59:59",
          "2020-10-11T23:59:59",
          "2020-10-12T23:59:59",
          "2020-10-13T23:59:59",
          "2020-10-14T23:59:59",
          "2020-10-15T23:59:59",
          "2020-10-16T23:59:59",
          "2020-10-17T23:59:59",
          "2020-10-18T23:59:59",
          "2020-10-19T23:59:59",
          "2020-10-20T23:59:59",
          "2020-10-21T23:59:59",
          "2020-10-22T23:59:59",
          "2020-10-23T23:59:59",
          "2020-10-24T23:59:59",
          "2020-10-25T23:59:59",
          "2020-10-26T23:59:59",
          "2020-10-27T23:59:59",
          "2020-10-28T23:59:59",
          "2020-10-29T23:59:59",
          "2020-10-30T23:59:59",
          "2020-10-31T23:59:59",
          "2020-11-01T23:59:59",
          "2020-11-02T23:59:59",
          "2020-11-03T23:59:59",
          "2020-11-04T23:59:59",
          "2020-11-05T23:59:59",
          "2020-11-06T23:59:59",
          "2020-11-07T23:59:59",
          "2020-11-08T23:59:59",
          "2020-11-09T23:59:59",
          "2020-11-10T23:59:59",
          "2020-11-11T23:59:59",
          "2020-11-12T23:59:59",
          "2020-11-13T23:59:59",
          "2020-11-14T23:59:59",
          "2020-11-15T23:59:59",
          "2020-11-16T23:59:59",
          "2020-11-17T23:59:59",
          "2020-11-18T23:59:59",
          "2020-11-19T23:59:59",
          "2020-11-20T23:59:59",
          "2020-11-21T23:59:59",
          "2020-11-22T23:59:59",
          "2020-11-23T23:59:59",
          "2020-11-24T23:59:59",
          "2020-11-25T23:59:59",
          "2020-11-26T23:59:59",
          "2020-11-27T23:59:59",
          "2020-11-28T23:59:59",
          "2020-11-29T23:59:59",
          "2020-11-30T23:59:59",
          "2020-12-01T23:59:59",
          "2020-12-02T23:59:59",
          "2020-12-03T23:59:59",
          "2020-12-04T23:59:59",
          "2020-12-05T23:59:59",
          "2020-12-06T23:59:59",
          "2020-12-07T23:59:59",
          "2020-12-08T23:59:59",
          "2020-12-09T23:59:59",
          "2020-12-10T23:59:59",
          "2020-12-11T23:59:59",
          "2020-12-12T23:59:59",
          "2020-12-13T23:59:59",
          "2020-12-14T23:59:59",
          "2020-12-15T23:59:59",
          "2020-12-16T23:59:59",
          "2020-12-17T23:59:59",
          "2020-12-18T23:59:59",
          "2020-12-19T23:59:59",
          "2020-12-20T23:59:59",
          "2020-12-21T23:59:59",
          "2020-12-22T23:59:59",
          "2020-12-23T23:59:59",
          "2020-12-24T23:59:59",
          "2020-12-25T23:59:59",
          "2020-12-26T23:59:59",
          "2020-12-27T23:59:59",
          "2020-12-28T23:59:59",
          "2020-12-29T23:59:59",
          "2020-12-30T23:59:59",
          "2020-12-31T23:59:59",
          "2021-01-01T23:59:59",
          "2021-01-02T23:59:59",
          "2021-01-03T23:59:59",
          "2021-01-04T23:59:59",
          "2021-01-05T23:59:59",
          "2021-01-06T23:59:59",
          "2021-01-07T23:59:59",
          "2021-01-08T23:59:59",
          "2021-01-09T23:59:59",
          "2021-01-10T23:59:59",
          "2021-01-11T23:59:59",
          "2021-01-12T23:59:59",
          "2021-01-13T23:59:59",
          "2021-01-14T23:59:59",
          "2021-01-15T23:59:59",
          "2021-01-16T23:59:59",
          "2021-01-17T23:59:59",
          "2021-01-18T23:59:59",
          "2021-01-19T23:59:59",
          "2021-01-20T23:59:59",
          "2021-01-21T23:59:59",
          "2021-01-22T23:59:59",
          "2021-01-23T23:59:59",
          "2021-01-24T23:59:59",
          "2021-01-25T23:59:59",
          "2021-01-26T23:59:59",
          "2021-01-27T23:59:59",
          "2021-01-28T23:59:59",
          "2021-01-29T23:59:59",
          "2021-01-30T23:59:59",
          "2021-01-31T23:59:59",
          "2021-02-01T23:59:59",
          "2021-02-02T23:59:59",
          "2021-02-03T23:59:59",
          "2021-02-04T23:59:59",
          "2021-02-05T23:59:59",
          "2021-02-06T23:59:59",
          "2021-02-07T23:59:59",
          "2021-02-08T23:59:59",
          "2021-02-09T23:59:59",
          "2021-02-10T23:59:59",
          "2021-02-11T23:59:59",
          "2021-02-12T23:59:59",
          "2021-02-13T23:59:59",
          "2021-02-14T23:59:59",
          "2021-02-15T23:59:59",
          "2021-02-16T23:59:59",
          "2021-02-17T23:59:59",
          "2021-02-18T23:59:59",
          "2021-02-19T23:59:59",
          "2021-02-20T23:59:59",
          "2021-02-21T23:59:59",
          "2021-02-22T23:59:59",
          "2021-02-23T23:59:59",
          "2021-02-24T23:59:59",
          "2021-02-25T23:59:59",
          "2021-02-26T23:59:59",
          "2021-02-27T23:59:59",
          "2021-02-28T23:59:59",
          "2021-03-01T23:59:59",
          "2021-03-02T23:59:59",
          "2021-03-03T23:59:59",
          "2021-03-04T23:59:59",
          "2021-03-05T23:59:59",
          "2021-03-06T23:59:59",
          "2021-03-07T23:59:59",
          "2021-03-08T23:59:59",
          "2021-03-09T23:59:59",
          "2021-03-10T23:59:59",
          "2021-03-11T23:59:59",
          "2021-03-12T23:59:59",
          "2021-03-13T23:59:59",
          "2021-03-14T23:59:59",
          "2021-03-15T23:59:59",
          "2021-03-16T23:59:59",
          "2021-03-17T23:59:59",
          "2021-03-18T23:59:59",
          "2021-03-19T23:59:59",
          "2021-03-20T23:59:59",
          "2021-03-21T23:59:59",
          "2021-03-22T23:59:59",
          "2021-03-23T23:59:59",
          "2021-03-24T23:59:59",
          "2021-03-25T23:59:59",
          "2021-03-26T23:59:59",
          "2021-03-27T23:59:59",
          "2021-03-28T23:59:59",
          "2021-03-29T23:59:59",
          "2021-03-30T23:59:59",
          "2021-03-31T23:59:59",
          "2021-04-01T23:59:59",
          "2021-04-02T23:59:59",
          "2021-04-03T23:59:59",
          "2021-04-04T23:59:59",
          "2021-04-05T23:59:59",
          "2021-04-06T23:59:59",
          "2021-04-07T23:59:59",
          "2021-04-08T23:59:59",
          "2021-04-09T23:59:59",
          "2021-04-10T23:59:59",
          "2021-04-11T23:59:59",
          "2021-04-12T23:59:59",
          "2021-04-13T23:59:59",
          "2021-04-14T23:59:59",
          "2021-04-15T23:59:59",
          "2021-04-16T23:59:59",
          "2021-04-17T23:59:59",
          "2021-04-18T23:59:59",
          "2021-04-19T23:59:59",
          "2021-04-20T23:59:59",
          "2021-04-21T23:59:59",
          "2021-04-22T23:59:59",
          "2021-04-23T23:59:59",
          "2021-04-24T23:59:59",
          "2021-04-25T23:59:59",
          "2021-04-26T23:59:59",
          "2021-04-27T23:59:59",
          "2021-04-28T23:59:59",
          "2021-04-29T23:59:59",
          "2021-04-30T23:59:59",
          "2021-05-01T23:59:59",
          "2021-05-02T23:59:59",
          "2021-05-03T23:59:59",
          "2021-05-04T23:59:59",
          "2021-05-05T23:59:59",
          "2021-05-06T23:59:59",
          "2021-05-07T23:59:59",
          "2021-05-08T23:59:59",
          "2021-05-09T23:59:59",
          "2021-05-10T23:59:59",
          "2021-05-11T23:59:59",
          "2021-05-12T23:59:59",
          "2021-05-13T23:59:59",
          "2021-05-14T23:59:59",
          "2021-05-15T23:59:59",
          "2021-05-16T23:59:59",
          "2021-05-17T23:59:59",
          "2021-05-18T23:59:59",
          "2021-05-19T23:59:59",
          "2021-05-20T23:59:59",
          "2021-05-21T23:59:59",
          "2021-05-22T23:59:59",
          "2021-05-23T23:59:59",
          "2021-05-24T23:59:59",
          "2021-05-25T23:59:59",
          "2021-05-26T23:59:59",
          "2021-05-27T23:59:59",
          "2021-05-28T23:59:59",
          "2021-05-29T23:59:59",
          "2021-05-30T23:59:59",
          "2021-05-31T23:59:59",
          "2021-06-01T23:59:59",
          "2021-06-02T23:59:59",
          "2021-06-03T23:59:59",
          "2021-06-04T23:59:59",
          "2021-06-05T23:59:59",
          "2021-06-06T23:59:59",
          "2021-06-07T23:59:59",
          "2021-06-08T23:59:59",
          "2021-06-09T23:59:59",
          "2021-06-10T23:59:59",
          "2021-06-11T23:59:59",
          "2021-06-12T23:59:59",
          "2021-06-13T23:59:59",
          "2021-06-14T23:59:59",
          "2021-06-15T23:59:59",
          "2021-06-16T23:59:59",
          "2021-06-17T23:59:59",
          "2021-06-18T23:59:59",
          "2021-06-19T23:59:59",
          "2021-06-20T23:59:59",
          "2021-06-21T23:59:59",
          "2021-06-22T23:59:59",
          "2021-06-23T23:59:59",
          "2021-06-24T23:59:59",
          "2021-06-25T23:59:59",
          "2021-06-26T23:59:59",
          "2021-06-27T23:59:59",
          "2021-06-28T23:59:59",
          "2021-06-29T23:59:59",
          "2021-06-30T23:59:59",
          "2021-07-01T23:59:59",
          "2021-07-02T23:59:59",
          "2021-07-03T23:59:59",
          "2021-07-04T23:59:59",
          "2021-07-05T23:59:59",
          "2021-07-06T23:59:59"
         ],
         "xaxis": "x",
         "y": [
          0,
          0,
          0,
          0,
          0,
          0,
          0,
          0,
          0,
          0,
          0,
          0,
          5234800947.37602,
          4900906249.03192,
          4387757398.22662,
          3514880375.0138,
          4092255324.15976,
          3917633675.14744,
          3644492936.27343,
          4015065990.6637,
          3906477359.16521,
          3961031724.18101,
          4380082750.89405,
          4517285669.33471,
          4560564713.56071,
          4344841940.61479,
          4331724982.68753,
          4549984896.08848,
          4472788248.79357,
          4199640090.85282,
          3983952931.6032,
          3491249077.07478,
          3559346334.81572,
          3437376885.779542,
          3736279268.464258,
          3769516670.958218,
          3707023756.035564,
          3675151411.956258,
          3749825720.83317,
          3837300168.0152,
          3708830409.386106,
          3703757887.077122,
          3515619342.004152,
          3470315783.6107564,
          3558875853.0090723,
          3557842898.4826026,
          3202682677.053952,
          3290194893.422914,
          3498108576.119667,
          3634383221.17195,
          3626272561.8142967,
          3634122785.454131,
          3683393732.5923753,
          3623241282.448153,
          3580365245.434826,
          3493136395.141141,
          3333451299.5383964,
          3382668460.784038,
          3499821171.101896,
          3402569424.4892354,
          3334145297.471872,
          3530916222.939353,
          3639910111.755866,
          3638119606.107328,
          3713574040.581557,
          3696424431.583325,
          4030479549.80599,
          3993760876.858368,
          3721889676.07034,
          3456075112.579127,
          3485720265.4840994,
          3565574466.3294506,
          3602960876.341059,
          3436367636.440123,
          3432306461.9563828,
          3494221350.355794,
          3611129170.01726,
          3904829691.876525,
          3616897050.2414966,
          3727855175.858209,
          3706261141.463343,
          3764453583.918308,
          3910436471.1621337,
          3860331526.226348,
          3985281155.54576,
          3921402330.1187606,
          3847021230.326702,
          3941257093.1834383,
          4257774181.934896,
          4113722907.908565,
          4182706632.093557,
          4602682307.35813,
          5060561831.851377,
          4825834134.067941,
          5201454892.916679,
          5046372834.729324,
          4677929616.075306,
          4234022690.903576,
          4215509965.685536,
          4319975483.845871,
          4576446420.02794,
          4741608245.812171,
          4497421388.966297,
          4829741979.228194,
          4783391737.298509,
          4453957345.832884,
          4592436805.221747,
          4547051375.878827,
          4483466813.143205,
          4194935616.25852,
          4309886799.19167,
          4253982260.623601,
          4098623897.765766,
          4205469339.999485,
          4339944731.179011,
          4348029101.381825,
          4672343779.188289,
          4771216325.541678,
          4758675487.440699,
          4785926664.190398,
          4761254336.880276,
          4628079243.349637,
          4365028372.702474,
          4603028363.423789,
          4207716404.036385,
          4582660903.824909,
          4659822224.3737335,
          4632413801.459907,
          4592307413.217551,
          5892566077.358182,
          6727781086.981858,
          6492175417.387,
          8318279231.475749,
          7442884317.763642,
          8254057307.292176,
          8995148461.427736,
          8492158902.707615,
          8704252438.124628,
          9059681059.621874,
          8658771899.86489,
          8357620978.68856,
          8783858937.66941,
          8361125118.441097,
          7438402688.140332,
          7431056432.33662,
          9857235821.227518,
          13082749822.921911,
          11892435979.896978,
          16377017837.68025,
          15306722569.889889,
          14889926542.950687,
          14857593596.490467,
          16197751625.083632,
          14394680975.864622,
          15498857927.951454,
          16800498069.750576,
          16268654954.280151,
          15598550884.44241,
          15487077234.508688,
          14031295906.80869,
          15338599024.46,
          15249211491.11,
          14948992533.58,
          14603207739.23,
          14839696019.15,
          15648346886.93,
          18799060618.55,
          17871050304.44,
          18965454795.63,
          18510385437.79,
          17972785450.44,
          20918997055.81,
          21013455489.63,
          21431620371.36,
          22891907598.05,
          26041864560.26,
          26570627680.92,
          24608750492.51,
          25240366452.94,
          27409464567.6,
          29077428853.21,
          29226703998.93,
          31650533003.03,
          35712761350.45,
          36134675189.95,
          34365198828.32,
          31292320713.93,
          30706882058.91,
          28386405741.51,
          28635864215.63,
          30567858010.02,
          30723422512.26,
          32539365963.27,
          33066586008.22,
          33889450251.91,
          32332933420.6,
          30877097836.37,
          30620375379.21,
          32235883114.93,
          31990861423.19,
          35076916391.58,
          34509354021.94,
          33892867857.74,
          33082975404.6,
          34191013935.63,
          33665914792.95,
          31628536887.08,
          32624297093.15,
          33288119794.46,
          32732241793.54,
          35283417850.39,
          34442160748.89,
          33936891287.49,
          32787171367.22,
          31800924930.32,
          28093491362.71,
          27682831355.53,
          30664937494.58,
          30174087038.95,
          29845818892.47,
          31772348772.06,
          31495837001.62,
          34243351177.28,
          34849767583.84,
          38097210601.74,
          38552114088.77,
          41344587411.56,
          42409475220.11,
          40227628838.66,
          36684028923.98,
          38338014017.9,
          37897731570.58,
          38627460963.69,
          38470489156.57,
          37621038919.43,
          39909308743.56,
          39634833631.78,
          40458356426.21,
          38632752998.71,
          39591399258.38,
          34770061976.39,
          32422222570.44,
          33018027788.65,
          31559858460.49,
          30745137196.67,
          30046816982.82,
          26981554376.45,
          27761506661.6,
          31171742685.98,
          32388898376.5,
          31710405661.86,
          33586658507,
          34134808696.64,
          34504880432.48,
          34253692068.17,
          34826556840.5,
          32587842120.81,
          37882863795.09,
          38870956123.36,
          37378618337.22,
          37295541911.07,
          37754263203.33,
          34235729960.94,
          36214689634.48,
          31900616639.49,
          37533419367.96,
          44973584932.56,
          40852130812.45,
          40009764155.33,
          36337830038.67,
          38165764961.84,
          23694720120.39,
          27386147608.95,
          22988002770.31,
          20693927990.93,
          16949899549.35,
          21843419360.24,
          20845054526.55,
          23128780886.66,
          22478683383.71,
          20182855365.03,
          18728941360.63,
          19308719941.87,
          22107873817.42,
          21534458659.28,
          24511128160.29,
          25520462772.6,
          23633978171.69,
          22512800467.3,
          22881676131.15,
          20452577185.29,
          20675304865.54,
          22049780788.7,
          21579027447.17,
          19969703628.11,
          19774962202.44,
          21016241301.27,
          21142757781.22,
          23583335075.99,
          21884961260.59,
          21451987222.9,
          20399261183.63,
          19409073661.48,
          19717389790.6,
          15045756871.51,
          13982696285.59,
          15406989339.54,
          15518435006.83,
          13818635589.55,
          13851821554.06,
          14348288115.64,
          15045474177.39,
          15539593420.46,
          15685335248.46,
          14620685887.86,
          14683488903.52,
          14890349403.41,
          15335470065.51,
          14593231500.31,
          15467724813.64
         ],
         "yaxis": "y",
         "type": "scatter"
        }
       ],
       "layout": {
        "template": {
         "data": {
          "histogram2dcontour": [
           {
            "type": "histogram2dcontour",
            "colorbar": {
             "outlinewidth": 0,
             "ticks": ""
            },
            "colorscale": [
             [
              0,
              "#0d0887"
             ],
             [
              0.1111111111111111,
              "#46039f"
             ],
             [
              0.2222222222222222,
              "#7201a8"
             ],
             [
              0.3333333333333333,
              "#9c179e"
             ],
             [
              0.4444444444444444,
              "#bd3786"
             ],
             [
              0.5555555555555556,
              "#d8576b"
             ],
             [
              0.6666666666666666,
              "#ed7953"
             ],
             [
              0.7777777777777778,
              "#fb9f3a"
             ],
             [
              0.8888888888888888,
              "#fdca26"
             ],
             [
              1,
              "#f0f921"
             ]
            ]
           }
          ],
          "choropleth": [
           {
            "type": "choropleth",
            "colorbar": {
             "outlinewidth": 0,
             "ticks": ""
            }
           }
          ],
          "histogram2d": [
           {
            "type": "histogram2d",
            "colorbar": {
             "outlinewidth": 0,
             "ticks": ""
            },
            "colorscale": [
             [
              0,
              "#0d0887"
             ],
             [
              0.1111111111111111,
              "#46039f"
             ],
             [
              0.2222222222222222,
              "#7201a8"
             ],
             [
              0.3333333333333333,
              "#9c179e"
             ],
             [
              0.4444444444444444,
              "#bd3786"
             ],
             [
              0.5555555555555556,
              "#d8576b"
             ],
             [
              0.6666666666666666,
              "#ed7953"
             ],
             [
              0.7777777777777778,
              "#fb9f3a"
             ],
             [
              0.8888888888888888,
              "#fdca26"
             ],
             [
              1,
              "#f0f921"
             ]
            ]
           }
          ],
          "heatmap": [
           {
            "type": "heatmap",
            "colorbar": {
             "outlinewidth": 0,
             "ticks": ""
            },
            "colorscale": [
             [
              0,
              "#0d0887"
             ],
             [
              0.1111111111111111,
              "#46039f"
             ],
             [
              0.2222222222222222,
              "#7201a8"
             ],
             [
              0.3333333333333333,
              "#9c179e"
             ],
             [
              0.4444444444444444,
              "#bd3786"
             ],
             [
              0.5555555555555556,
              "#d8576b"
             ],
             [
              0.6666666666666666,
              "#ed7953"
             ],
             [
              0.7777777777777778,
              "#fb9f3a"
             ],
             [
              0.8888888888888888,
              "#fdca26"
             ],
             [
              1,
              "#f0f921"
             ]
            ]
           }
          ],
          "heatmapgl": [
           {
            "type": "heatmapgl",
            "colorbar": {
             "outlinewidth": 0,
             "ticks": ""
            },
            "colorscale": [
             [
              0,
              "#0d0887"
             ],
             [
              0.1111111111111111,
              "#46039f"
             ],
             [
              0.2222222222222222,
              "#7201a8"
             ],
             [
              0.3333333333333333,
              "#9c179e"
             ],
             [
              0.4444444444444444,
              "#bd3786"
             ],
             [
              0.5555555555555556,
              "#d8576b"
             ],
             [
              0.6666666666666666,
              "#ed7953"
             ],
             [
              0.7777777777777778,
              "#fb9f3a"
             ],
             [
              0.8888888888888888,
              "#fdca26"
             ],
             [
              1,
              "#f0f921"
             ]
            ]
           }
          ],
          "contourcarpet": [
           {
            "type": "contourcarpet",
            "colorbar": {
             "outlinewidth": 0,
             "ticks": ""
            }
           }
          ],
          "contour": [
           {
            "type": "contour",
            "colorbar": {
             "outlinewidth": 0,
             "ticks": ""
            },
            "colorscale": [
             [
              0,
              "#0d0887"
             ],
             [
              0.1111111111111111,
              "#46039f"
             ],
             [
              0.2222222222222222,
              "#7201a8"
             ],
             [
              0.3333333333333333,
              "#9c179e"
             ],
             [
              0.4444444444444444,
              "#bd3786"
             ],
             [
              0.5555555555555556,
              "#d8576b"
             ],
             [
              0.6666666666666666,
              "#ed7953"
             ],
             [
              0.7777777777777778,
              "#fb9f3a"
             ],
             [
              0.8888888888888888,
              "#fdca26"
             ],
             [
              1,
              "#f0f921"
             ]
            ]
           }
          ],
          "surface": [
           {
            "type": "surface",
            "colorbar": {
             "outlinewidth": 0,
             "ticks": ""
            },
            "colorscale": [
             [
              0,
              "#0d0887"
             ],
             [
              0.1111111111111111,
              "#46039f"
             ],
             [
              0.2222222222222222,
              "#7201a8"
             ],
             [
              0.3333333333333333,
              "#9c179e"
             ],
             [
              0.4444444444444444,
              "#bd3786"
             ],
             [
              0.5555555555555556,
              "#d8576b"
             ],
             [
              0.6666666666666666,
              "#ed7953"
             ],
             [
              0.7777777777777778,
              "#fb9f3a"
             ],
             [
              0.8888888888888888,
              "#fdca26"
             ],
             [
              1,
              "#f0f921"
             ]
            ]
           }
          ],
          "mesh3d": [
           {
            "type": "mesh3d",
            "colorbar": {
             "outlinewidth": 0,
             "ticks": ""
            }
           }
          ],
          "scatter": [
           {
            "fillpattern": {
             "fillmode": "overlay",
             "size": 10,
             "solidity": 0.2
            },
            "type": "scatter"
           }
          ],
          "parcoords": [
           {
            "type": "parcoords",
            "line": {
             "colorbar": {
              "outlinewidth": 0,
              "ticks": ""
             }
            }
           }
          ],
          "scatterpolargl": [
           {
            "type": "scatterpolargl",
            "marker": {
             "colorbar": {
              "outlinewidth": 0,
              "ticks": ""
             }
            }
           }
          ],
          "bar": [
           {
            "error_x": {
             "color": "#2a3f5f"
            },
            "error_y": {
             "color": "#2a3f5f"
            },
            "marker": {
             "line": {
              "color": "#E5ECF6",
              "width": 0.5
             },
             "pattern": {
              "fillmode": "overlay",
              "size": 10,
              "solidity": 0.2
             }
            },
            "type": "bar"
           }
          ],
          "scattergeo": [
           {
            "type": "scattergeo",
            "marker": {
             "colorbar": {
              "outlinewidth": 0,
              "ticks": ""
             }
            }
           }
          ],
          "scatterpolar": [
           {
            "type": "scatterpolar",
            "marker": {
             "colorbar": {
              "outlinewidth": 0,
              "ticks": ""
             }
            }
           }
          ],
          "histogram": [
           {
            "marker": {
             "pattern": {
              "fillmode": "overlay",
              "size": 10,
              "solidity": 0.2
             }
            },
            "type": "histogram"
           }
          ],
          "scattergl": [
           {
            "type": "scattergl",
            "marker": {
             "colorbar": {
              "outlinewidth": 0,
              "ticks": ""
             }
            }
           }
          ],
          "scatter3d": [
           {
            "type": "scatter3d",
            "line": {
             "colorbar": {
              "outlinewidth": 0,
              "ticks": ""
             }
            },
            "marker": {
             "colorbar": {
              "outlinewidth": 0,
              "ticks": ""
             }
            }
           }
          ],
          "scattermapbox": [
           {
            "type": "scattermapbox",
            "marker": {
             "colorbar": {
              "outlinewidth": 0,
              "ticks": ""
             }
            }
           }
          ],
          "scatterternary": [
           {
            "type": "scatterternary",
            "marker": {
             "colorbar": {
              "outlinewidth": 0,
              "ticks": ""
             }
            }
           }
          ],
          "scattercarpet": [
           {
            "type": "scattercarpet",
            "marker": {
             "colorbar": {
              "outlinewidth": 0,
              "ticks": ""
             }
            }
           }
          ],
          "carpet": [
           {
            "aaxis": {
             "endlinecolor": "#2a3f5f",
             "gridcolor": "white",
             "linecolor": "white",
             "minorgridcolor": "white",
             "startlinecolor": "#2a3f5f"
            },
            "baxis": {
             "endlinecolor": "#2a3f5f",
             "gridcolor": "white",
             "linecolor": "white",
             "minorgridcolor": "white",
             "startlinecolor": "#2a3f5f"
            },
            "type": "carpet"
           }
          ],
          "table": [
           {
            "cells": {
             "fill": {
              "color": "#EBF0F8"
             },
             "line": {
              "color": "white"
             }
            },
            "header": {
             "fill": {
              "color": "#C8D4E3"
             },
             "line": {
              "color": "white"
             }
            },
            "type": "table"
           }
          ],
          "barpolar": [
           {
            "marker": {
             "line": {
              "color": "#E5ECF6",
              "width": 0.5
             },
             "pattern": {
              "fillmode": "overlay",
              "size": 10,
              "solidity": 0.2
             }
            },
            "type": "barpolar"
           }
          ],
          "pie": [
           {
            "automargin": true,
            "type": "pie"
           }
          ]
         },
         "layout": {
          "autotypenumbers": "strict",
          "colorway": [
           "#636efa",
           "#EF553B",
           "#00cc96",
           "#ab63fa",
           "#FFA15A",
           "#19d3f3",
           "#FF6692",
           "#B6E880",
           "#FF97FF",
           "#FECB52"
          ],
          "font": {
           "color": "#2a3f5f"
          },
          "hovermode": "closest",
          "hoverlabel": {
           "align": "left"
          },
          "paper_bgcolor": "white",
          "plot_bgcolor": "#E5ECF6",
          "polar": {
           "bgcolor": "#E5ECF6",
           "angularaxis": {
            "gridcolor": "white",
            "linecolor": "white",
            "ticks": ""
           },
           "radialaxis": {
            "gridcolor": "white",
            "linecolor": "white",
            "ticks": ""
           }
          },
          "ternary": {
           "bgcolor": "#E5ECF6",
           "aaxis": {
            "gridcolor": "white",
            "linecolor": "white",
            "ticks": ""
           },
           "baxis": {
            "gridcolor": "white",
            "linecolor": "white",
            "ticks": ""
           },
           "caxis": {
            "gridcolor": "white",
            "linecolor": "white",
            "ticks": ""
           }
          },
          "coloraxis": {
           "colorbar": {
            "outlinewidth": 0,
            "ticks": ""
           }
          },
          "colorscale": {
           "sequential": [
            [
             0,
             "#0d0887"
            ],
            [
             0.1111111111111111,
             "#46039f"
            ],
            [
             0.2222222222222222,
             "#7201a8"
            ],
            [
             0.3333333333333333,
             "#9c179e"
            ],
            [
             0.4444444444444444,
             "#bd3786"
            ],
            [
             0.5555555555555556,
             "#d8576b"
            ],
            [
             0.6666666666666666,
             "#ed7953"
            ],
            [
             0.7777777777777778,
             "#fb9f3a"
            ],
            [
             0.8888888888888888,
             "#fdca26"
            ],
            [
             1,
             "#f0f921"
            ]
           ],
           "sequentialminus": [
            [
             0,
             "#0d0887"
            ],
            [
             0.1111111111111111,
             "#46039f"
            ],
            [
             0.2222222222222222,
             "#7201a8"
            ],
            [
             0.3333333333333333,
             "#9c179e"
            ],
            [
             0.4444444444444444,
             "#bd3786"
            ],
            [
             0.5555555555555556,
             "#d8576b"
            ],
            [
             0.6666666666666666,
             "#ed7953"
            ],
            [
             0.7777777777777778,
             "#fb9f3a"
            ],
            [
             0.8888888888888888,
             "#fdca26"
            ],
            [
             1,
             "#f0f921"
            ]
           ],
           "diverging": [
            [
             0,
             "#8e0152"
            ],
            [
             0.1,
             "#c51b7d"
            ],
            [
             0.2,
             "#de77ae"
            ],
            [
             0.3,
             "#f1b6da"
            ],
            [
             0.4,
             "#fde0ef"
            ],
            [
             0.5,
             "#f7f7f7"
            ],
            [
             0.6,
             "#e6f5d0"
            ],
            [
             0.7,
             "#b8e186"
            ],
            [
             0.8,
             "#7fbc41"
            ],
            [
             0.9,
             "#4d9221"
            ],
            [
             1,
             "#276419"
            ]
           ]
          },
          "xaxis": {
           "gridcolor": "white",
           "linecolor": "white",
           "ticks": "",
           "title": {
            "standoff": 15
           },
           "zerolinecolor": "white",
           "automargin": true,
           "zerolinewidth": 2
          },
          "yaxis": {
           "gridcolor": "white",
           "linecolor": "white",
           "ticks": "",
           "title": {
            "standoff": 15
           },
           "zerolinecolor": "white",
           "automargin": true,
           "zerolinewidth": 2
          },
          "scene": {
           "xaxis": {
            "backgroundcolor": "#E5ECF6",
            "gridcolor": "white",
            "linecolor": "white",
            "showbackground": true,
            "ticks": "",
            "zerolinecolor": "white",
            "gridwidth": 2
           },
           "yaxis": {
            "backgroundcolor": "#E5ECF6",
            "gridcolor": "white",
            "linecolor": "white",
            "showbackground": true,
            "ticks": "",
            "zerolinecolor": "white",
            "gridwidth": 2
           },
           "zaxis": {
            "backgroundcolor": "#E5ECF6",
            "gridcolor": "white",
            "linecolor": "white",
            "showbackground": true,
            "ticks": "",
            "zerolinecolor": "white",
            "gridwidth": 2
           }
          },
          "shapedefaults": {
           "line": {
            "color": "#2a3f5f"
           }
          },
          "annotationdefaults": {
           "arrowcolor": "#2a3f5f",
           "arrowhead": 0,
           "arrowwidth": 1
          },
          "geo": {
           "bgcolor": "white",
           "landcolor": "#E5ECF6",
           "subunitcolor": "white",
           "showland": true,
           "showlakes": true,
           "lakecolor": "white"
          },
          "title": {
           "x": 0.05
          },
          "mapbox": {
           "style": "light"
          }
         }
        },
        "xaxis": {
         "anchor": "y",
         "domain": [
          0,
          1
         ],
         "title": {
          "text": "Date"
         }
        },
        "yaxis": {
         "anchor": "x",
         "domain": [
          0,
          1
         ],
         "title": {
          "text": "Marketcap"
         }
        },
        "legend": {
         "tracegroupgap": 0
        },
        "margin": {
         "t": 60
        }
       },
       "config": {
        "plotlyServerURL": "https://plot.ly"
       }
      }
     },
     "metadata": {}
    }
   ],
   "metadata": {}
  },
  {
   "cell_type": "code",
   "execution_count": 14,
   "source": [
    "fig = px.line(data, x='Date', y=\"Difference\")\n",
    "fig.show();"
   ],
   "outputs": [
    {
     "output_type": "display_data",
     "data": {
      "application/vnd.plotly.v1+json": {
       "data": [
        {
         "hovertemplate": "Date=%{x}<br>Difference=%{y}<extra></extra>",
         "legendgroup": "",
         "line": {
          "color": "#636efa",
          "dash": "solid"
         },
         "marker": {
          "symbol": "circle"
         },
         "mode": "lines",
         "name": "",
         "orientation": "v",
         "showlegend": false,
         "x": [
          "2020-08-21T23:59:59",
          "2020-08-22T23:59:59",
          "2020-08-23T23:59:59",
          "2020-08-24T23:59:59",
          "2020-08-25T23:59:59",
          "2020-08-26T23:59:59",
          "2020-08-27T23:59:59",
          "2020-08-28T23:59:59",
          "2020-08-29T23:59:59",
          "2020-08-30T23:59:59",
          "2020-08-31T23:59:59",
          "2020-09-01T23:59:59",
          "2020-09-02T23:59:59",
          "2020-09-03T23:59:59",
          "2020-09-04T23:59:59",
          "2020-09-05T23:59:59",
          "2020-09-06T23:59:59",
          "2020-09-07T23:59:59",
          "2020-09-08T23:59:59",
          "2020-09-09T23:59:59",
          "2020-09-10T23:59:59",
          "2020-09-11T23:59:59",
          "2020-09-12T23:59:59",
          "2020-09-13T23:59:59",
          "2020-09-14T23:59:59",
          "2020-09-15T23:59:59",
          "2020-09-16T23:59:59",
          "2020-09-17T23:59:59",
          "2020-09-18T23:59:59",
          "2020-09-19T23:59:59",
          "2020-09-20T23:59:59",
          "2020-09-21T23:59:59",
          "2020-09-22T23:59:59",
          "2020-09-23T23:59:59",
          "2020-09-24T23:59:59",
          "2020-09-25T23:59:59",
          "2020-09-26T23:59:59",
          "2020-09-27T23:59:59",
          "2020-09-28T23:59:59",
          "2020-09-29T23:59:59",
          "2020-09-30T23:59:59",
          "2020-10-01T23:59:59",
          "2020-10-02T23:59:59",
          "2020-10-03T23:59:59",
          "2020-10-04T23:59:59",
          "2020-10-05T23:59:59",
          "2020-10-06T23:59:59",
          "2020-10-07T23:59:59",
          "2020-10-08T23:59:59",
          "2020-10-09T23:59:59",
          "2020-10-10T23:59:59",
          "2020-10-11T23:59:59",
          "2020-10-12T23:59:59",
          "2020-10-13T23:59:59",
          "2020-10-14T23:59:59",
          "2020-10-15T23:59:59",
          "2020-10-16T23:59:59",
          "2020-10-17T23:59:59",
          "2020-10-18T23:59:59",
          "2020-10-19T23:59:59",
          "2020-10-20T23:59:59",
          "2020-10-21T23:59:59",
          "2020-10-22T23:59:59",
          "2020-10-23T23:59:59",
          "2020-10-24T23:59:59",
          "2020-10-25T23:59:59",
          "2020-10-26T23:59:59",
          "2020-10-27T23:59:59",
          "2020-10-28T23:59:59",
          "2020-10-29T23:59:59",
          "2020-10-30T23:59:59",
          "2020-10-31T23:59:59",
          "2020-11-01T23:59:59",
          "2020-11-02T23:59:59",
          "2020-11-03T23:59:59",
          "2020-11-04T23:59:59",
          "2020-11-05T23:59:59",
          "2020-11-06T23:59:59",
          "2020-11-07T23:59:59",
          "2020-11-08T23:59:59",
          "2020-11-09T23:59:59",
          "2020-11-10T23:59:59",
          "2020-11-11T23:59:59",
          "2020-11-12T23:59:59",
          "2020-11-13T23:59:59",
          "2020-11-14T23:59:59",
          "2020-11-15T23:59:59",
          "2020-11-16T23:59:59",
          "2020-11-17T23:59:59",
          "2020-11-18T23:59:59",
          "2020-11-19T23:59:59",
          "2020-11-20T23:59:59",
          "2020-11-21T23:59:59",
          "2020-11-22T23:59:59",
          "2020-11-23T23:59:59",
          "2020-11-24T23:59:59",
          "2020-11-25T23:59:59",
          "2020-11-26T23:59:59",
          "2020-11-27T23:59:59",
          "2020-11-28T23:59:59",
          "2020-11-29T23:59:59",
          "2020-11-30T23:59:59",
          "2020-12-01T23:59:59",
          "2020-12-02T23:59:59",
          "2020-12-03T23:59:59",
          "2020-12-04T23:59:59",
          "2020-12-05T23:59:59",
          "2020-12-06T23:59:59",
          "2020-12-07T23:59:59",
          "2020-12-08T23:59:59",
          "2020-12-09T23:59:59",
          "2020-12-10T23:59:59",
          "2020-12-11T23:59:59",
          "2020-12-12T23:59:59",
          "2020-12-13T23:59:59",
          "2020-12-14T23:59:59",
          "2020-12-15T23:59:59",
          "2020-12-16T23:59:59",
          "2020-12-17T23:59:59",
          "2020-12-18T23:59:59",
          "2020-12-19T23:59:59",
          "2020-12-20T23:59:59",
          "2020-12-21T23:59:59",
          "2020-12-22T23:59:59",
          "2020-12-23T23:59:59",
          "2020-12-24T23:59:59",
          "2020-12-25T23:59:59",
          "2020-12-26T23:59:59",
          "2020-12-27T23:59:59",
          "2020-12-28T23:59:59",
          "2020-12-29T23:59:59",
          "2020-12-30T23:59:59",
          "2020-12-31T23:59:59",
          "2021-01-01T23:59:59",
          "2021-01-02T23:59:59",
          "2021-01-03T23:59:59",
          "2021-01-04T23:59:59",
          "2021-01-05T23:59:59",
          "2021-01-06T23:59:59",
          "2021-01-07T23:59:59",
          "2021-01-08T23:59:59",
          "2021-01-09T23:59:59",
          "2021-01-10T23:59:59",
          "2021-01-11T23:59:59",
          "2021-01-12T23:59:59",
          "2021-01-13T23:59:59",
          "2021-01-14T23:59:59",
          "2021-01-15T23:59:59",
          "2021-01-16T23:59:59",
          "2021-01-17T23:59:59",
          "2021-01-18T23:59:59",
          "2021-01-19T23:59:59",
          "2021-01-20T23:59:59",
          "2021-01-21T23:59:59",
          "2021-01-22T23:59:59",
          "2021-01-23T23:59:59",
          "2021-01-24T23:59:59",
          "2021-01-25T23:59:59",
          "2021-01-26T23:59:59",
          "2021-01-27T23:59:59",
          "2021-01-28T23:59:59",
          "2021-01-29T23:59:59",
          "2021-01-30T23:59:59",
          "2021-01-31T23:59:59",
          "2021-02-01T23:59:59",
          "2021-02-02T23:59:59",
          "2021-02-03T23:59:59",
          "2021-02-04T23:59:59",
          "2021-02-05T23:59:59",
          "2021-02-06T23:59:59",
          "2021-02-07T23:59:59",
          "2021-02-08T23:59:59",
          "2021-02-09T23:59:59",
          "2021-02-10T23:59:59",
          "2021-02-11T23:59:59",
          "2021-02-12T23:59:59",
          "2021-02-13T23:59:59",
          "2021-02-14T23:59:59",
          "2021-02-15T23:59:59",
          "2021-02-16T23:59:59",
          "2021-02-17T23:59:59",
          "2021-02-18T23:59:59",
          "2021-02-19T23:59:59",
          "2021-02-20T23:59:59",
          "2021-02-21T23:59:59",
          "2021-02-22T23:59:59",
          "2021-02-23T23:59:59",
          "2021-02-24T23:59:59",
          "2021-02-25T23:59:59",
          "2021-02-26T23:59:59",
          "2021-02-27T23:59:59",
          "2021-02-28T23:59:59",
          "2021-03-01T23:59:59",
          "2021-03-02T23:59:59",
          "2021-03-03T23:59:59",
          "2021-03-04T23:59:59",
          "2021-03-05T23:59:59",
          "2021-03-06T23:59:59",
          "2021-03-07T23:59:59",
          "2021-03-08T23:59:59",
          "2021-03-09T23:59:59",
          "2021-03-10T23:59:59",
          "2021-03-11T23:59:59",
          "2021-03-12T23:59:59",
          "2021-03-13T23:59:59",
          "2021-03-14T23:59:59",
          "2021-03-15T23:59:59",
          "2021-03-16T23:59:59",
          "2021-03-17T23:59:59",
          "2021-03-18T23:59:59",
          "2021-03-19T23:59:59",
          "2021-03-20T23:59:59",
          "2021-03-21T23:59:59",
          "2021-03-22T23:59:59",
          "2021-03-23T23:59:59",
          "2021-03-24T23:59:59",
          "2021-03-25T23:59:59",
          "2021-03-26T23:59:59",
          "2021-03-27T23:59:59",
          "2021-03-28T23:59:59",
          "2021-03-29T23:59:59",
          "2021-03-30T23:59:59",
          "2021-03-31T23:59:59",
          "2021-04-01T23:59:59",
          "2021-04-02T23:59:59",
          "2021-04-03T23:59:59",
          "2021-04-04T23:59:59",
          "2021-04-05T23:59:59",
          "2021-04-06T23:59:59",
          "2021-04-07T23:59:59",
          "2021-04-08T23:59:59",
          "2021-04-09T23:59:59",
          "2021-04-10T23:59:59",
          "2021-04-11T23:59:59",
          "2021-04-12T23:59:59",
          "2021-04-13T23:59:59",
          "2021-04-14T23:59:59",
          "2021-04-15T23:59:59",
          "2021-04-16T23:59:59",
          "2021-04-17T23:59:59",
          "2021-04-18T23:59:59",
          "2021-04-19T23:59:59",
          "2021-04-20T23:59:59",
          "2021-04-21T23:59:59",
          "2021-04-22T23:59:59",
          "2021-04-23T23:59:59",
          "2021-04-24T23:59:59",
          "2021-04-25T23:59:59",
          "2021-04-26T23:59:59",
          "2021-04-27T23:59:59",
          "2021-04-28T23:59:59",
          "2021-04-29T23:59:59",
          "2021-04-30T23:59:59",
          "2021-05-01T23:59:59",
          "2021-05-02T23:59:59",
          "2021-05-03T23:59:59",
          "2021-05-04T23:59:59",
          "2021-05-05T23:59:59",
          "2021-05-06T23:59:59",
          "2021-05-07T23:59:59",
          "2021-05-08T23:59:59",
          "2021-05-09T23:59:59",
          "2021-05-10T23:59:59",
          "2021-05-11T23:59:59",
          "2021-05-12T23:59:59",
          "2021-05-13T23:59:59",
          "2021-05-14T23:59:59",
          "2021-05-15T23:59:59",
          "2021-05-16T23:59:59",
          "2021-05-17T23:59:59",
          "2021-05-18T23:59:59",
          "2021-05-19T23:59:59",
          "2021-05-20T23:59:59",
          "2021-05-21T23:59:59",
          "2021-05-22T23:59:59",
          "2021-05-23T23:59:59",
          "2021-05-24T23:59:59",
          "2021-05-25T23:59:59",
          "2021-05-26T23:59:59",
          "2021-05-27T23:59:59",
          "2021-05-28T23:59:59",
          "2021-05-29T23:59:59",
          "2021-05-30T23:59:59",
          "2021-05-31T23:59:59",
          "2021-06-01T23:59:59",
          "2021-06-02T23:59:59",
          "2021-06-03T23:59:59",
          "2021-06-04T23:59:59",
          "2021-06-05T23:59:59",
          "2021-06-06T23:59:59",
          "2021-06-07T23:59:59",
          "2021-06-08T23:59:59",
          "2021-06-09T23:59:59",
          "2021-06-10T23:59:59",
          "2021-06-11T23:59:59",
          "2021-06-12T23:59:59",
          "2021-06-13T23:59:59",
          "2021-06-14T23:59:59",
          "2021-06-15T23:59:59",
          "2021-06-16T23:59:59",
          "2021-06-17T23:59:59",
          "2021-06-18T23:59:59",
          "2021-06-19T23:59:59",
          "2021-06-20T23:59:59",
          "2021-06-21T23:59:59",
          "2021-06-22T23:59:59",
          "2021-06-23T23:59:59",
          "2021-06-24T23:59:59",
          "2021-06-25T23:59:59",
          "2021-06-26T23:59:59",
          "2021-06-27T23:59:59",
          "2021-06-28T23:59:59",
          "2021-06-29T23:59:59",
          "2021-06-30T23:59:59",
          "2021-07-01T23:59:59",
          "2021-07-02T23:59:59",
          "2021-07-03T23:59:59",
          "2021-07-04T23:59:59",
          "2021-07-05T23:59:59",
          "2021-07-06T23:59:59"
         ],
         "xaxis": "x",
         "y": [
          -0.021895016359999797,
          1.60612010017,
          -0.5199926728000004,
          0.6152006595200001,
          0.9384397612199997,
          0.5403106129399999,
          -0.4474348847299998,
          0.5204691860999997,
          -0.016781425369999603,
          -0.2835591225000007,
          0.3941026263999996,
          -0.010043329709999327,
          -0.14322097225999997,
          -0.3833115503200002,
          -0.5805722866499998,
          -1.0137207837700002,
          0.6624360140300007,
          -0.20137915371000048,
          -0.3146340251699993,
          0.42607085252999966,
          -0.12826511315000033,
          0.0657187443699998,
          0.48643488296000026,
          0.15290960716000068,
          0.05228937894999941,
          -0.27092007131999996,
          0.01135949690000082,
          0.2559790076499997,
          -0.09594576620999984,
          -0.3278263893899993,
          -0.25646612084999987,
          -0.5778516163700003,
          0.08906123055000048,
          -0.13713872000000027,
          0.36060530000000046,
          0.04468990999999978,
          -0.07458543999999989,
          -0.030101479999999903,
          0.09542393999999987,
          0.07869450000000011,
          -0.1531272399999999,
          -0.0071361400000000685,
          -0.22132469000000032,
          -0.05727514999999972,
          0.10627826999999979,
          -0.008572799999999603,
          -0.41310961999999973,
          0.10534188000000011,
          0.2450170100000002,
          0.1506150100000001,
          -0.007451670000000021,
          0.0034634999999996197,
          0.06420870000000001,
          -0.06667860000000037,
          -0.056416119999999736,
          -0.09548201000000045,
          -0.19049503000000012,
          0.0501239,
          0.13629079000000033,
          -0.1203725200000001,
          -0.07934625999999989,
          0.23511587,
          0.12803490999999934,
          -0.007059340000000525,
          0.08849098999999949,
          -0.020113359999999858,
          0.39178508999999995,
          -0.043064320000000045,
          -0.31885686000000035,
          -0.3117532600000006,
          0.034835280000000246,
          0.09358141000000053,
          0.043941859999999444,
          -0.19553770999999998,
          -0.004760510000000551,
          0.07260986999999997,
          0.13711079000000037,
          0.34445520999999957,
          -0.33769238999999995,
          0.13013360999999968,
          -0.02532553999999987,
          0.06825033999999963,
          0.04218394000000014,
          -0.05796099999999971,
          0.14087923000000036,
          -0.07449759999999994,
          -0.08563385000000068,
          0.1055114099999992,
          0.23614749000000046,
          -0.16500513999999988,
          0.0771083000000008,
          0.4766763300000001,
          0.5184854400000001,
          -0.27006832999999997,
          0.4250783999999994,
          -0.1784597400000001,
          -0.41947519,
          -0.5040475899999999,
          -0.02310970000000001,
          0.11692777000000021,
          0.2892733700000001,
          0.18612304999999996,
          -0.28368771999999964,
          0.37068968999999985,
          -0.05437580000000075,
          -0.3774333600000004,
          0.15919930000000004,
          -0.052091489999999574,
          -0.07466549000000011,
          -0.32728624999999933,
          0.1287475099999993,
          -0.06610365999999956,
          -0.17700812,
          0.12066864999999982,
          0.1504870399999998,
          0.006577140000000092,
          0.35169967000000035,
          0.11048905999999992,
          -0.015336330000000231,
          0.02344628000000082,
          -0.028114600000000323,
          -0.15040599000000032,
          -0.2976921500000005,
          0.2666689900000003,
          -0.4438600499999996,
          0.4168439700000004,
          0.08636467000000003,
          -0.03271417000000021,
          -0.0457686500000003,
          1.45243053,
          0.93650346,
          -0.26486012999999975,
          2.041939610000001,
          -0.9813614899999994,
          0.9033446500000011,
          0.8236347500000001,
          -0.59243691,
          0.2258540499999988,
          0.3889552999999992,
          -0.44942874999999916,
          -0.33799082999999897,
          0.47199215000000017,
          -0.4722703500000005,
          -1.0282142499999996,
          -0.008111800000000002,
          2.6925984599999992,
          3.5911744499999987,
          -1.3101391199999988,
          4.982374440000001,
          -1.1660877299999974,
          -0.4840882499999992,
          -0.052567969999998354,
          1.4964339800000026,
          -2.0345769800000006,
          1.23043251,
          1.438608460000001,
          -0.6009845499999997,
          -0.7471391899999986,
          -0.12688598000000084,
          -1.6112512799999994,
          1.4466957299999983,
          -0.26105676000000244,
          -0.3298413199999999,
          -0.3902636899999976,
          0.2527534799999991,
          0.8819209400000005,
          3.4864490600000018,
          -1.026113070000001,
          1.2140467800000003,
          -0.49663269999999926,
          -0.5970057700000027,
          3.25047906,
          0.09990836000000058,
          0.47203539000000205,
          1.639769649999998,
          3.517133829999999,
          -0.6703921299999998,
          -0.9177592799999985,
          0.7162592300000021,
          2.396382789999997,
          1.8223490200000008,
          -0.8007154100000022,
          3.604071450000003,
          4.445063789999999,
          0.5250276099999951,
          -2.006771299999997,
          -3.36415624,
          -0.6973142399999972,
          -2.540512179999997,
          0.20236048999999667,
          2.053113970000002,
          0.15278095000000036,
          1.9417690999999948,
          0.5643346900000026,
          0.8850106400000044,
          -1.7079405099999931,
          -1.5907820299999997,
          -0.2513491500000029,
          1.7548182000000025,
          -0.2658498300000005,
          3.2632715299999973,
          -0.6122169400000033,
          -0.6607235399999993,
          -0.9026508899999968,
          1.1691182700000056,
          -0.5908121400000041,
          -2.2035839899999985,
          1.0874527,
          0.7053548700000007,
          -0.5912976800000038,
          2.774570650000001,
          -0.9384776899999991,
          -0.5627388799999977,
          -1.2554359299999973,
          -1.04647164,
          -4.015834140000003,
          -0.38096953999999883,
          3.2313275999999966,
          -0.5407019099999957,
          -0.3443049499999944,
          2.07949584,
          -0.29772771000000375,
          2.951880410000001,
          0.5810898399999971,
          3.5302821200000025,
          0.4642578799999981,
          3.0394193699999974,
          1.131370099999998,
          -2.3796877699999968,
          -3.826694670000002,
          1.7392907199999996,
          -0.5027308399999981,
          0.7915677899999949,
          -0.18987861000000095,
          -0.9197951300000042,
          2.4987394899999984,
          -0.25673312999999354,
          0.9434427699999972,
          -1.9289848999999961,
          1.0227861600000026,
          -5.21460021,
          -2.5568041599999987,
          0.7288628800000012,
          -1.5907574299999965,
          -0.80524475,
          -0.7271282800000023,
          -3.3230999699999977,
          0.7937261199999988,
          3.5929692000000024,
          1.2842566400000024,
          -0.824491100000003,
          2.003181210000001,
          0.5627696499999999,
          0.4120128799999989,
          -0.2432509699999983,
          0.6160617300000055,
          -2.403261619999995,
          5.72723208,
          1.0910092299999974,
          -1.6469666599999968,
          -0.0457556100000005,
          0.4229553999999993,
          -3.75845073,
          2.132239410000004,
          -4.619829800000005,
          4.9747874700000025,
          7.978388340000002,
          -4.421149,
          -0.9001184299999991,
          -3.6760536700000017,
          2.013989129999999,
          -15.461676409999999,
          4.090074230000003,
          -4.551853569999999,
          -2.4544732099999997,
          -4.04023458,
          5.276588529999998,
          -1.1273012599999994,
          2.363988250000002,
          -0.6932359600000026,
          -2.566698819999999,
          -1.5042692599999974,
          0.6105675999999995,
          2.9537395500000017,
          -0.4861248600000003,
          3.1106038300000023,
          1.0718146299999987,
          -1.9790143700000016,
          -1.2046130099999992,
          0.40780567999999917,
          -2.5756743700000015,
          0.042016720000003005,
          1.5232162799999998,
          -0.5154333199999996,
          -1.6977691900000025,
          -0.1868597199999975,
          1.3206997300000012,
          0.16043407999999815,
          -0.4260557899999995,
          -0.9973290000000006,
          -0.5060765600000003,
          -1.1482943299999988,
          -1.0948329699999988,
          0.40869148000000166,
          -4.8683364000000005,
          -1.07075225,
          1.4826111799999993,
          0.44340282999999836,
          -1.76431747,
          0.05775376000000065,
          0.49656029999999873,
          0.7047912499999995,
          0.4773367800000017,
          0.09478585999999822,
          -1.135376879999999,
          0.12171372000000069,
          0.23178240999999922,
          0.4604423699999991,
          -0.76095735,
          0.9027793299999995
         ],
         "yaxis": "y",
         "type": "scatter"
        }
       ],
       "layout": {
        "template": {
         "data": {
          "histogram2dcontour": [
           {
            "type": "histogram2dcontour",
            "colorbar": {
             "outlinewidth": 0,
             "ticks": ""
            },
            "colorscale": [
             [
              0,
              "#0d0887"
             ],
             [
              0.1111111111111111,
              "#46039f"
             ],
             [
              0.2222222222222222,
              "#7201a8"
             ],
             [
              0.3333333333333333,
              "#9c179e"
             ],
             [
              0.4444444444444444,
              "#bd3786"
             ],
             [
              0.5555555555555556,
              "#d8576b"
             ],
             [
              0.6666666666666666,
              "#ed7953"
             ],
             [
              0.7777777777777778,
              "#fb9f3a"
             ],
             [
              0.8888888888888888,
              "#fdca26"
             ],
             [
              1,
              "#f0f921"
             ]
            ]
           }
          ],
          "choropleth": [
           {
            "type": "choropleth",
            "colorbar": {
             "outlinewidth": 0,
             "ticks": ""
            }
           }
          ],
          "histogram2d": [
           {
            "type": "histogram2d",
            "colorbar": {
             "outlinewidth": 0,
             "ticks": ""
            },
            "colorscale": [
             [
              0,
              "#0d0887"
             ],
             [
              0.1111111111111111,
              "#46039f"
             ],
             [
              0.2222222222222222,
              "#7201a8"
             ],
             [
              0.3333333333333333,
              "#9c179e"
             ],
             [
              0.4444444444444444,
              "#bd3786"
             ],
             [
              0.5555555555555556,
              "#d8576b"
             ],
             [
              0.6666666666666666,
              "#ed7953"
             ],
             [
              0.7777777777777778,
              "#fb9f3a"
             ],
             [
              0.8888888888888888,
              "#fdca26"
             ],
             [
              1,
              "#f0f921"
             ]
            ]
           }
          ],
          "heatmap": [
           {
            "type": "heatmap",
            "colorbar": {
             "outlinewidth": 0,
             "ticks": ""
            },
            "colorscale": [
             [
              0,
              "#0d0887"
             ],
             [
              0.1111111111111111,
              "#46039f"
             ],
             [
              0.2222222222222222,
              "#7201a8"
             ],
             [
              0.3333333333333333,
              "#9c179e"
             ],
             [
              0.4444444444444444,
              "#bd3786"
             ],
             [
              0.5555555555555556,
              "#d8576b"
             ],
             [
              0.6666666666666666,
              "#ed7953"
             ],
             [
              0.7777777777777778,
              "#fb9f3a"
             ],
             [
              0.8888888888888888,
              "#fdca26"
             ],
             [
              1,
              "#f0f921"
             ]
            ]
           }
          ],
          "heatmapgl": [
           {
            "type": "heatmapgl",
            "colorbar": {
             "outlinewidth": 0,
             "ticks": ""
            },
            "colorscale": [
             [
              0,
              "#0d0887"
             ],
             [
              0.1111111111111111,
              "#46039f"
             ],
             [
              0.2222222222222222,
              "#7201a8"
             ],
             [
              0.3333333333333333,
              "#9c179e"
             ],
             [
              0.4444444444444444,
              "#bd3786"
             ],
             [
              0.5555555555555556,
              "#d8576b"
             ],
             [
              0.6666666666666666,
              "#ed7953"
             ],
             [
              0.7777777777777778,
              "#fb9f3a"
             ],
             [
              0.8888888888888888,
              "#fdca26"
             ],
             [
              1,
              "#f0f921"
             ]
            ]
           }
          ],
          "contourcarpet": [
           {
            "type": "contourcarpet",
            "colorbar": {
             "outlinewidth": 0,
             "ticks": ""
            }
           }
          ],
          "contour": [
           {
            "type": "contour",
            "colorbar": {
             "outlinewidth": 0,
             "ticks": ""
            },
            "colorscale": [
             [
              0,
              "#0d0887"
             ],
             [
              0.1111111111111111,
              "#46039f"
             ],
             [
              0.2222222222222222,
              "#7201a8"
             ],
             [
              0.3333333333333333,
              "#9c179e"
             ],
             [
              0.4444444444444444,
              "#bd3786"
             ],
             [
              0.5555555555555556,
              "#d8576b"
             ],
             [
              0.6666666666666666,
              "#ed7953"
             ],
             [
              0.7777777777777778,
              "#fb9f3a"
             ],
             [
              0.8888888888888888,
              "#fdca26"
             ],
             [
              1,
              "#f0f921"
             ]
            ]
           }
          ],
          "surface": [
           {
            "type": "surface",
            "colorbar": {
             "outlinewidth": 0,
             "ticks": ""
            },
            "colorscale": [
             [
              0,
              "#0d0887"
             ],
             [
              0.1111111111111111,
              "#46039f"
             ],
             [
              0.2222222222222222,
              "#7201a8"
             ],
             [
              0.3333333333333333,
              "#9c179e"
             ],
             [
              0.4444444444444444,
              "#bd3786"
             ],
             [
              0.5555555555555556,
              "#d8576b"
             ],
             [
              0.6666666666666666,
              "#ed7953"
             ],
             [
              0.7777777777777778,
              "#fb9f3a"
             ],
             [
              0.8888888888888888,
              "#fdca26"
             ],
             [
              1,
              "#f0f921"
             ]
            ]
           }
          ],
          "mesh3d": [
           {
            "type": "mesh3d",
            "colorbar": {
             "outlinewidth": 0,
             "ticks": ""
            }
           }
          ],
          "scatter": [
           {
            "fillpattern": {
             "fillmode": "overlay",
             "size": 10,
             "solidity": 0.2
            },
            "type": "scatter"
           }
          ],
          "parcoords": [
           {
            "type": "parcoords",
            "line": {
             "colorbar": {
              "outlinewidth": 0,
              "ticks": ""
             }
            }
           }
          ],
          "scatterpolargl": [
           {
            "type": "scatterpolargl",
            "marker": {
             "colorbar": {
              "outlinewidth": 0,
              "ticks": ""
             }
            }
           }
          ],
          "bar": [
           {
            "error_x": {
             "color": "#2a3f5f"
            },
            "error_y": {
             "color": "#2a3f5f"
            },
            "marker": {
             "line": {
              "color": "#E5ECF6",
              "width": 0.5
             },
             "pattern": {
              "fillmode": "overlay",
              "size": 10,
              "solidity": 0.2
             }
            },
            "type": "bar"
           }
          ],
          "scattergeo": [
           {
            "type": "scattergeo",
            "marker": {
             "colorbar": {
              "outlinewidth": 0,
              "ticks": ""
             }
            }
           }
          ],
          "scatterpolar": [
           {
            "type": "scatterpolar",
            "marker": {
             "colorbar": {
              "outlinewidth": 0,
              "ticks": ""
             }
            }
           }
          ],
          "histogram": [
           {
            "marker": {
             "pattern": {
              "fillmode": "overlay",
              "size": 10,
              "solidity": 0.2
             }
            },
            "type": "histogram"
           }
          ],
          "scattergl": [
           {
            "type": "scattergl",
            "marker": {
             "colorbar": {
              "outlinewidth": 0,
              "ticks": ""
             }
            }
           }
          ],
          "scatter3d": [
           {
            "type": "scatter3d",
            "line": {
             "colorbar": {
              "outlinewidth": 0,
              "ticks": ""
             }
            },
            "marker": {
             "colorbar": {
              "outlinewidth": 0,
              "ticks": ""
             }
            }
           }
          ],
          "scattermapbox": [
           {
            "type": "scattermapbox",
            "marker": {
             "colorbar": {
              "outlinewidth": 0,
              "ticks": ""
             }
            }
           }
          ],
          "scatterternary": [
           {
            "type": "scatterternary",
            "marker": {
             "colorbar": {
              "outlinewidth": 0,
              "ticks": ""
             }
            }
           }
          ],
          "scattercarpet": [
           {
            "type": "scattercarpet",
            "marker": {
             "colorbar": {
              "outlinewidth": 0,
              "ticks": ""
             }
            }
           }
          ],
          "carpet": [
           {
            "aaxis": {
             "endlinecolor": "#2a3f5f",
             "gridcolor": "white",
             "linecolor": "white",
             "minorgridcolor": "white",
             "startlinecolor": "#2a3f5f"
            },
            "baxis": {
             "endlinecolor": "#2a3f5f",
             "gridcolor": "white",
             "linecolor": "white",
             "minorgridcolor": "white",
             "startlinecolor": "#2a3f5f"
            },
            "type": "carpet"
           }
          ],
          "table": [
           {
            "cells": {
             "fill": {
              "color": "#EBF0F8"
             },
             "line": {
              "color": "white"
             }
            },
            "header": {
             "fill": {
              "color": "#C8D4E3"
             },
             "line": {
              "color": "white"
             }
            },
            "type": "table"
           }
          ],
          "barpolar": [
           {
            "marker": {
             "line": {
              "color": "#E5ECF6",
              "width": 0.5
             },
             "pattern": {
              "fillmode": "overlay",
              "size": 10,
              "solidity": 0.2
             }
            },
            "type": "barpolar"
           }
          ],
          "pie": [
           {
            "automargin": true,
            "type": "pie"
           }
          ]
         },
         "layout": {
          "autotypenumbers": "strict",
          "colorway": [
           "#636efa",
           "#EF553B",
           "#00cc96",
           "#ab63fa",
           "#FFA15A",
           "#19d3f3",
           "#FF6692",
           "#B6E880",
           "#FF97FF",
           "#FECB52"
          ],
          "font": {
           "color": "#2a3f5f"
          },
          "hovermode": "closest",
          "hoverlabel": {
           "align": "left"
          },
          "paper_bgcolor": "white",
          "plot_bgcolor": "#E5ECF6",
          "polar": {
           "bgcolor": "#E5ECF6",
           "angularaxis": {
            "gridcolor": "white",
            "linecolor": "white",
            "ticks": ""
           },
           "radialaxis": {
            "gridcolor": "white",
            "linecolor": "white",
            "ticks": ""
           }
          },
          "ternary": {
           "bgcolor": "#E5ECF6",
           "aaxis": {
            "gridcolor": "white",
            "linecolor": "white",
            "ticks": ""
           },
           "baxis": {
            "gridcolor": "white",
            "linecolor": "white",
            "ticks": ""
           },
           "caxis": {
            "gridcolor": "white",
            "linecolor": "white",
            "ticks": ""
           }
          },
          "coloraxis": {
           "colorbar": {
            "outlinewidth": 0,
            "ticks": ""
           }
          },
          "colorscale": {
           "sequential": [
            [
             0,
             "#0d0887"
            ],
            [
             0.1111111111111111,
             "#46039f"
            ],
            [
             0.2222222222222222,
             "#7201a8"
            ],
            [
             0.3333333333333333,
             "#9c179e"
            ],
            [
             0.4444444444444444,
             "#bd3786"
            ],
            [
             0.5555555555555556,
             "#d8576b"
            ],
            [
             0.6666666666666666,
             "#ed7953"
            ],
            [
             0.7777777777777778,
             "#fb9f3a"
            ],
            [
             0.8888888888888888,
             "#fdca26"
            ],
            [
             1,
             "#f0f921"
            ]
           ],
           "sequentialminus": [
            [
             0,
             "#0d0887"
            ],
            [
             0.1111111111111111,
             "#46039f"
            ],
            [
             0.2222222222222222,
             "#7201a8"
            ],
            [
             0.3333333333333333,
             "#9c179e"
            ],
            [
             0.4444444444444444,
             "#bd3786"
            ],
            [
             0.5555555555555556,
             "#d8576b"
            ],
            [
             0.6666666666666666,
             "#ed7953"
            ],
            [
             0.7777777777777778,
             "#fb9f3a"
            ],
            [
             0.8888888888888888,
             "#fdca26"
            ],
            [
             1,
             "#f0f921"
            ]
           ],
           "diverging": [
            [
             0,
             "#8e0152"
            ],
            [
             0.1,
             "#c51b7d"
            ],
            [
             0.2,
             "#de77ae"
            ],
            [
             0.3,
             "#f1b6da"
            ],
            [
             0.4,
             "#fde0ef"
            ],
            [
             0.5,
             "#f7f7f7"
            ],
            [
             0.6,
             "#e6f5d0"
            ],
            [
             0.7,
             "#b8e186"
            ],
            [
             0.8,
             "#7fbc41"
            ],
            [
             0.9,
             "#4d9221"
            ],
            [
             1,
             "#276419"
            ]
           ]
          },
          "xaxis": {
           "gridcolor": "white",
           "linecolor": "white",
           "ticks": "",
           "title": {
            "standoff": 15
           },
           "zerolinecolor": "white",
           "automargin": true,
           "zerolinewidth": 2
          },
          "yaxis": {
           "gridcolor": "white",
           "linecolor": "white",
           "ticks": "",
           "title": {
            "standoff": 15
           },
           "zerolinecolor": "white",
           "automargin": true,
           "zerolinewidth": 2
          },
          "scene": {
           "xaxis": {
            "backgroundcolor": "#E5ECF6",
            "gridcolor": "white",
            "linecolor": "white",
            "showbackground": true,
            "ticks": "",
            "zerolinecolor": "white",
            "gridwidth": 2
           },
           "yaxis": {
            "backgroundcolor": "#E5ECF6",
            "gridcolor": "white",
            "linecolor": "white",
            "showbackground": true,
            "ticks": "",
            "zerolinecolor": "white",
            "gridwidth": 2
           },
           "zaxis": {
            "backgroundcolor": "#E5ECF6",
            "gridcolor": "white",
            "linecolor": "white",
            "showbackground": true,
            "ticks": "",
            "zerolinecolor": "white",
            "gridwidth": 2
           }
          },
          "shapedefaults": {
           "line": {
            "color": "#2a3f5f"
           }
          },
          "annotationdefaults": {
           "arrowcolor": "#2a3f5f",
           "arrowhead": 0,
           "arrowwidth": 1
          },
          "geo": {
           "bgcolor": "white",
           "landcolor": "#E5ECF6",
           "subunitcolor": "white",
           "showland": true,
           "showlakes": true,
           "lakecolor": "white"
          },
          "title": {
           "x": 0.05
          },
          "mapbox": {
           "style": "light"
          }
         }
        },
        "xaxis": {
         "anchor": "y",
         "domain": [
          0,
          1
         ],
         "title": {
          "text": "Date"
         }
        },
        "yaxis": {
         "anchor": "x",
         "domain": [
          0,
          1
         ],
         "title": {
          "text": "Difference"
         }
        },
        "legend": {
         "tracegroupgap": 0
        },
        "margin": {
         "t": 60
        }
       },
       "config": {
        "plotlyServerURL": "https://plot.ly"
       }
      }
     },
     "metadata": {}
    }
   ],
   "metadata": {}
  },
  {
   "cell_type": "code",
   "execution_count": 15,
   "source": [
    "sns.pairplot(data,height=4);\n"
   ],
   "outputs": [
    {
     "output_type": "display_data",
     "data": {
      "image/png": "[encoded data removed]",
      "text/plain": [
       "<Figure size 2304x2304 with 72 Axes>"
      ]
     },
     "metadata": {
      "needs_background": "light"
     }
    }
   ],
   "metadata": {}
  },
  {
   "cell_type": "code",
   "execution_count": null,
   "source": [],
   "outputs": [],
   "metadata": {}
  },
  {
   "cell_type": "code",
   "execution_count": null,
   "source": [],
   "outputs": [],
   "metadata": {}
  }
 ],
 "metadata": {
  "orig_nbformat": 4,
  "language_info": {
   "name": "python",
   "version": "3.7.11",
   "mimetype": "text/x-python",
   "codemirror_mode": {
    "name": "ipython",
    "version": 3
   },
   "pygments_lexer": "ipython3",
   "nbconvert_exporter": "python",
   "file_extension": ".py"
  },
  "kernelspec": {
   "name": "python3",
   "display_name": "Python 3.7.11 64-bit ('ih_final_project': conda)"
  },
  "interpreter": {
   "hash": "e1d7778ce60d21d945d58d36373d70956fd987987f0ca548e053d2a38b9d8628"
  }
 },
 "nbformat": 4,
 "nbformat_minor": 2
}